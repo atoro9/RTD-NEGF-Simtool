{
 "cells": [
  {
   "cell_type": "code",
   "execution_count": 1,
   "id": "a9051b19",
   "metadata": {
    "ExecuteTime": {
     "end_time": "2024-11-11T01:15:56.870885Z",
     "start_time": "2024-11-11T01:15:52.506596Z"
    }
   },
   "outputs": [],
   "source": [
    "import simtool\n",
    "import math\n",
    "%load_ext yamlmagic"
   ]
  },
  {
   "cell_type": "code",
   "execution_count": 2,
   "id": "bdb3501d",
   "metadata": {
    "ExecuteTime": {
     "end_time": "2024-11-11T01:15:56.888725Z",
     "start_time": "2024-11-11T01:15:56.873472Z"
    },
    "code_folding": []
   },
   "outputs": [
    {
     "data": {
      "application/javascript": [
       "\n",
       "            require(\n",
       "                [\n",
       "                    \"notebook/js/codecell\",\n",
       "                    \"codemirror/mode/yaml/yaml\"\n",
       "                ],\n",
       "                function(cc){\n",
       "                    cc.CodeCell.options_default.highlight_modes.magic_yaml = {\n",
       "                        reg: [\"^%%yaml\"]\n",
       "                    }\n",
       "                }\n",
       "            );\n",
       "            "
      ],
      "text/plain": [
       "<IPython.core.display.Javascript object>"
      ]
     },
     "metadata": {},
     "output_type": "display_data"
    }
   ],
   "source": [
    "%%yaml INPUTS\n",
    "\n",
    "point1x:\n",
    "    type : Number \n",
    "    description : \"This is the first point x\"\n",
    "    value : 5 \n",
    "\n",
    "point2x: \n",
    "    type : Number \n",
    "    description : \"This is the second point x\"\n",
    "    value : 6\n",
    "\n",
    "point1y:\n",
    "    type : Number \n",
    "    description : \"This is the first point y\"\n",
    "    value : 7\n",
    "\n",
    "point2y: \n",
    "    type : Number \n",
    "    description : \"This is the second point y\"\n",
    "    value : 5"
   ]
  },
  {
   "cell_type": "code",
   "execution_count": 3,
   "id": "ca860914",
   "metadata": {
    "ExecuteTime": {
     "end_time": "2024-11-11T01:15:56.894059Z",
     "start_time": "2024-11-11T01:15:56.890588Z"
    },
    "code_folding": [],
    "scrolled": true
   },
   "outputs": [],
   "source": [
    "parameters = simtool.utils.getValidatedInputs(INPUTS)\n",
    "if parameters:\n",
    "    globals().update(parameters)"
   ]
  },
  {
   "cell_type": "code",
   "execution_count": 4,
   "id": "8755582a",
   "metadata": {
    "ExecuteTime": {
     "end_time": "2024-11-11T01:15:56.904202Z",
     "start_time": "2024-11-11T01:15:56.895669Z"
    }
   },
   "outputs": [
    {
     "data": {
      "application/javascript": [
       "\n",
       "            require(\n",
       "                [\n",
       "                    \"notebook/js/codecell\",\n",
       "                    \"codemirror/mode/yaml/yaml\"\n",
       "                ],\n",
       "                function(cc){\n",
       "                    cc.CodeCell.options_default.highlight_modes.magic_yaml = {\n",
       "                        reg: [\"^%%yaml\"]\n",
       "                    }\n",
       "                }\n",
       "            );\n",
       "            "
      ],
      "text/plain": [
       "<IPython.core.display.Javascript object>"
      ]
     },
     "metadata": {},
     "output_type": "display_data"
    }
   ],
   "source": [
    "%%yaml OUTPUTS\n",
    "\n",
    "Distance:\n",
    "    type : Number \n",
    "    description : \"Distance between two points\"\n",
    "    "
   ]
  },
  {
   "cell_type": "code",
   "execution_count": 5,
   "id": "4a6fccc6",
   "metadata": {
    "ExecuteTime": {
     "end_time": "2024-11-11T01:15:56.917113Z",
     "start_time": "2024-11-11T01:15:56.905859Z"
    },
    "scrolled": true
   },
   "outputs": [
    {
     "data": {
      "application/scrapbook.scrap.text+json": {
       "data": "0",
       "encoder": "text",
       "name": "simToolSaveErrorOccurred",
       "version": 1
      }
     },
     "metadata": {
      "scrapbook": {
       "data": true,
       "display": false,
       "name": "simToolSaveErrorOccurred"
      }
     },
     "output_type": "display_data"
    },
    {
     "data": {
      "application/scrapbook.scrap.text+json": {
       "data": "0",
       "encoder": "text",
       "name": "simToolAllOutputsSaved",
       "version": 1
      }
     },
     "metadata": {
      "scrapbook": {
       "data": true,
       "display": false,
       "name": "simToolAllOutputsSaved"
      }
     },
     "output_type": "display_data"
    }
   ],
   "source": [
    "db = simtool.DB(OUTPUTS)"
   ]
  },
  {
   "cell_type": "code",
   "execution_count": 6,
   "id": "1eb2e7aa",
   "metadata": {
    "ExecuteTime": {
     "end_time": "2024-11-11T01:15:56.921505Z",
     "start_time": "2024-11-11T01:15:56.918740Z"
    }
   },
   "outputs": [],
   "source": [
    "def getDist(point1x,point1y,point2x,point2y):\n",
    "    return math.sqrt((point1x-point2x)**2 + (point1y - point2y)**2)\n"
   ]
  },
  {
   "cell_type": "code",
   "execution_count": 7,
   "id": "d2f73a2d",
   "metadata": {
    "ExecuteTime": {
     "end_time": "2024-11-11T01:15:56.936224Z",
     "start_time": "2024-11-11T01:15:56.924377Z"
    }
   },
   "outputs": [
    {
     "data": {
      "application/scrapbook.scrap.text+json": {
       "data": "2.23606797749979",
       "encoder": "text",
       "name": "Distance",
       "version": 1
      }
     },
     "metadata": {
      "scrapbook": {
       "data": true,
       "display": false,
       "name": "Distance"
      }
     },
     "output_type": "display_data"
    },
    {
     "data": {
      "application/scrapbook.scrap.text+json": {
       "data": "1",
       "encoder": "text",
       "name": "simToolAllOutputsSaved",
       "version": 1
      }
     },
     "metadata": {
      "scrapbook": {
       "data": true,
       "display": false,
       "name": "simToolAllOutputsSaved"
      }
     },
     "output_type": "display_data"
    }
   ],
   "source": [
    "dist=getDist(point1x,point1y,point2x,point2y)\n",
    "db.save('Distance',dist)"
   ]
  }
 ],
 "metadata": {
  "kernelspec": {
   "display_name": "Python 3.8",
   "language": "python",
   "name": "python3"
  },
  "language_info": {
   "codemirror_mode": {
    "name": "ipython",
    "version": 3
   },
   "file_extension": ".py",
   "mimetype": "text/x-python",
   "name": "python",
   "nbconvert_exporter": "python",
   "pygments_lexer": "ipython3",
   "version": "3.8.10"
  },
  "toc": {
   "base_numbering": 1,
   "nav_menu": {},
   "number_sections": true,
   "sideBar": true,
   "skip_h1_title": false,
   "title_cell": "Table of Contents",
   "title_sidebar": "Contents",
   "toc_cell": false,
   "toc_position": {},
   "toc_section_display": true,
   "toc_window_display": false
  },
  "varInspector": {
   "cols": {
    "lenName": 16,
    "lenType": 16,
    "lenVar": 40
   },
   "kernels_config": {
    "python": {
     "delete_cmd_postfix": "",
     "delete_cmd_prefix": "del ",
     "library": "var_list.py",
     "varRefreshCmd": "print(var_dic_list())"
    },
    "r": {
     "delete_cmd_postfix": ") ",
     "delete_cmd_prefix": "rm(",
     "library": "var_list.r",
     "varRefreshCmd": "cat(var_dic_list()) "
    }
   },
   "types_to_exclude": [
    "module",
    "function",
    "builtin_function_or_method",
    "instance",
    "_Feature"
   ],
   "window_display": false
  }
 },
 "nbformat": 4,
 "nbformat_minor": 5
}
