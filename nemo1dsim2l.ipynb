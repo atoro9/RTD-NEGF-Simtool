{
 "cells": [
  {
   "cell_type": "code",
   "execution_count": 1,
   "id": "971836d2",
   "metadata": {
    "ExecuteTime": {
     "end_time": "2024-12-04T23:03:28.299436Z",
     "start_time": "2024-12-04T23:03:28.297533Z"
    }
   },
   "outputs": [],
   "source": [
    "################## This code is a sim2l designed to be used with NEMO1d ##################\n",
    "#\n",
    "#  Version 0.0\n"
   ]
  },
  {
   "cell_type": "code",
   "execution_count": 2,
   "id": "a9051b19",
   "metadata": {
    "ExecuteTime": {
     "end_time": "2024-12-04T23:03:28.712574Z",
     "start_time": "2024-12-04T23:03:28.706717Z"
    }
   },
   "outputs": [
    {
     "name": "stderr",
     "output_type": "stream",
     "text": [
      "/apps/spack/negishi/apps/anaconda/2021.05-py38-gcc-8.5.0-rncymzu/lib/python3.8/site-packages/scipy/__init__.py:138: UserWarning: A NumPy version >=1.16.5 and <1.23.0 is required for this version of SciPy (detected version 1.24.4)\n",
      "  warnings.warn(f\"A NumPy version >={np_minversion} and <{np_maxversion} is required for this version of \"\n"
     ]
    }
   ],
   "source": [
    "import json\n",
    "from simtool import DB\n",
    "import math\n",
    "import simtool as st\n",
    "from hublib.cmd import runCommand  # type: ignore\n",
    "import uuid\n",
    "import os\n",
    "import shutil\n",
    "import nbformat # type: ignore \n",
    "import numpy as np # type: ignore\n",
    "import plotly.graph_objects as go # type: ignore\n",
    "import ipywidgets as w # type: ignore\n",
    "from ipywidgets import HBox, VBox, HTML, Image, Layout, Button, ButtonStyle, Tab, BoundedIntText, BoundedFloatText, Dropdown, ToggleButton, Output, Textarea, FloatLogSlider # type: ignore\n",
    "%load_ext yamlmagic"
   ]
  },
  {
   "cell_type": "code",
   "execution_count": null,
   "id": "96a703a4",
   "metadata": {},
   "outputs": [],
   "source": [
    "# Set debug mode: 1 to enable, 0 to disable\n",
    "# Debug mode will enable specific print statements and will only adjust the temperature input \n",
    "\n",
    "debug_mode = 1"
   ]
  },
  {
   "cell_type": "code",
   "execution_count": 4,
   "id": "bdb3501d",
   "metadata": {
    "ExecuteTime": {
     "end_time": "2024-12-04T23:07:46.413257Z",
     "start_time": "2024-12-04T23:07:46.396462Z"
    },
    "code_folding": []
   },
   "outputs": [
    {
     "data": {
      "application/javascript": "\n            require(\n                [\n                    \"notebook/js/codecell\",\n                    \"codemirror/mode/yaml/yaml\"\n                ],\n                function(cc){\n                    cc.CodeCell.options_default.highlight_modes.magic_yaml = {\n                        reg: [\"^%%yaml\"]\n                    }\n                }\n            );\n            ",
      "text/plain": [
       "<IPython.core.display.Javascript object>"
      ]
     },
     "metadata": {},
     "output_type": "display_data"
    }
   ],
   "source": [
    "%%yaml INPUTS\n",
    "Energy_Band_Model: # not needed\n",
    "    type: Choice\n",
    "    description: Energy Band Model\n",
    "    options: ['Effective Mass Model', 'Tight-Binding Sp3s* Model', 'Tight-Binding sp3d5s* Model']\n",
    "    value: Effective Mass Model\n",
    "\n",
    "Potential_model:\n",
    "    type: Choice\n",
    "    description: Potential Model\n",
    "    options: ['Thomas-Fermi', 'Hartree']\n",
    "    value: Thomas-Fermi\n",
    "\n",
    "Ending_Bias:\n",
    "    type: Number\n",
    "    description: Ending Bias\n",
    "    max: 1000\n",
    "    min: 0\n",
    "    value: 0\n",
    "\n",
    "Device:\n",
    "    type: Choice\n",
    "    description: Device Type\n",
    "    options: ['1-Barrier-Device', '2-Barrier-Device', '3-Barrier-Device', '6-Barrier-Device']\n",
    "    value: 2-Barrier-Device\n",
    "\n",
    "points:\n",
    "    type: Number\n",
    "    description: No. of Points\n",
    "    max: 100.0\n",
    "    min: 1.0\n",
    "    value: 6\n",
    "\n",
    "Starting_bias:\n",
    "    type: Number\n",
    "    description: Starting Bias\n",
    "    max: 100.0\n",
    "    min: 0.0\n",
    "    value: 0\n",
    "\n",
    "TEMPERATURE:\n",
    "    type: Number\n",
    "    description: Temperature\n",
    "    max: 500.0\n",
    "    min: 77.0\n",
    "\n",
    "\n",
    "SC_ChargeRegion: #min and max any place with regions\n",
    "    type: Number\n",
    "    description: Semiclassical Charge Region dSC (nm)\n",
    "    min: 0\n",
    "    value: 0\n",
    "\n",
    "EQ_Region:\n",
    "    type: Number\n",
    "    description: Equilibrium Region dEQ (nm)\n",
    "    min: 0\n",
    "    value: 0\n",
    "\n",
    "Quantum_charge:\n",
    "    type: Boolean\n",
    "    description: Quantum Charge\n",
    "    value: false\n",
    "\n",
    "Lattice_Constant:\n",
    "    type: Number\n",
    "    description: Lattice Constant (nm)\n",
    "    value: 0.283\n",
    "\n",
    "Not_Normalized_Current_Plot:\n",
    "    type: Boolean\n",
    "    description: Not-Normalized Current Plot\n",
    "    value: false\n",
    "\n",
    "Scatter_Plot:\n",
    "    type: Boolean\n",
    "    description: Scatter Plot\n",
    "    value: false\n",
    "\n",
    "Carrier_Surface_Distrubution_Plot:\n",
    "    type: Boolean\n",
    "    description: Carrier Surface Distribution Plot\n",
    "    value: false\n",
    "\n",
    "Resivoir_Relaxation_Model:\n",
    "    type: Choice\n",
    "    description: Reservoir Relaxation Model\n",
    "    options: ['Energy Independant', 'Exponentialy Damped', 'Lorentzian Damped']\n",
    "    value: Energy Independant\n",
    "\n",
    "Resivoir_Relaxation_Energy:\n",
    "    type: Number\n",
    "    description: Reservoir Relaxation Energy (meV)\n",
    "    min: 0\n",
    "    value: 0\n",
    "\n",
    "Decay_Length:\n",
    "    type: Number\n",
    "    description: Decay Length (meV)\n",
    "    min: 0\n",
    "    value: 0\n",
    "\n",
    "Resonance_Finder:\n",
    "    type: Boolean\n",
    "    description: Resonance Finder\n",
    "    value: false\n",
    "\n",
    "No_Homogenous_Grid_Points:\n",
    "    type: Number\n",
    "    description: No. Homogeneous Grid Points\n",
    "    min: 0\n",
    "    value: 0\n",
    "\n",
    "No_Points_per_res:\n",
    "    type: Number\n",
    "    description: No. Points Per Resonance\n",
    "    min: 0\n",
    "    value: 0\n",
    "\n",
    "No_Points_per_EC_EF:\n",
    "    type: Number\n",
    "    description: No. Points Per EC EF\n",
    "    min: 0\n",
    "    value: 0\n",
    "\n",
    "Lancos_Iteration_Step_Size:\n",
    "    type: Number\n",
    "    description: Lanczos Iteration Step Size (eV)\n",
    "    min: 0\n",
    "    value: 0\n",
    "\n",
    "Lancos_Iteration_Limit:\n",
    "    type: Number\n",
    "    description: Lanczos Iteration Limit\n",
    "    min: 0\n",
    "    value: 0\n",
    "\n",
    "Newton_Iteration_Step_Size:\n",
    "    type: Number\n",
    "    description: Newton Iteration Step Size (eV)\n",
    "    min: 0\n",
    "    value: 0\n",
    "\n",
    "Newton_Solver_Convergence_Condition:\n",
    "    type: Number\n",
    "    description: Newton Solver Convergence Condition (eV)\n",
    "    value: 0\n"
   ]
  },
  {
   "cell_type": "code",
   "execution_count": null,
   "id": "f1c373e0",
   "metadata": {
    "ExecuteTime": {
     "end_time": "2024-12-04T23:07:47.445380Z",
     "start_time": "2024-12-04T23:07:47.440676Z"
    },
    "code_folding": [],
    "scrolled": true,
    "tags": [
     "parameters"
    ]
   },
   "outputs": [],
   "source": [
    "# From the sim2l library \n",
    "# Ensures that the values passed are within specified range \n",
    "# Uses the default inputs if nothing is passed\n",
    "\n",
    "\n",
    "\n",
    "parameters = st.utils.getValidatedInputs(INPUTS)  #type= ignore \n",
    "\n",
    "\n",
    "if parameters:\n",
    "    globals().update(parameters)\n",
    "\n",
    "#print(parameters)\n",
    "    "
   ]
  },
  {
   "cell_type": "code",
   "execution_count": null,
   "id": "07bfb72f",
   "metadata": {},
   "outputs": [],
   "source": []
  },
  {
   "cell_type": "code",
   "execution_count": null,
   "id": "61b5cb3b",
   "metadata": {},
   "outputs": [],
   "source": [
    "\n",
    "\n"
   ]
  },
  {
   "cell_type": "code",
   "execution_count": 6,
   "id": "51464ce9",
   "metadata": {},
   "outputs": [],
   "source": [
    "# Takes injected parameters and converts it to a dictionary \n",
    "# looks through the notebook for a cell with tag injected-paramaters\n",
    "# Once found it converts the injected parameters to a dictionary and updates the parameters dictionary\n",
    "\n",
    "def convert_parameters_to_dict(tag):\n",
    "    # Get the current directory\n",
    "    current_directory = os.getcwd()\n",
    "    \n",
    "    # Define the notebook file name\n",
    "    notebook_file = os.path.join(current_directory, 'nemo1dsim2l.ipynb')\n",
    "\n",
    "    # Read the notebook file using nbformat \n",
    "    try:\n",
    "        with open(notebook_file, 'r', encoding='utf-8') as f:\n",
    "            notebook = nbformat.read(f, as_version=4)\n",
    "    except Exception as e:\n",
    "        print(f\"Error reading notebook file: {e}\")\n",
    "        return {}\n",
    "\n",
    "    # Initialize an empty dictionary to hold the parameters\n",
    "    parameters = {}\n",
    "\n",
    "    # Loop through each cell in the notebook\n",
    "    for cell in notebook.cells:\n",
    "        # Check if the cell has metadata and tags field\n",
    "        if 'metadata' in cell and 'tags' in cell.metadata:\n",
    "            # If the tag is in the cell's metadata, process the content\n",
    "            if tag in cell.metadata['tags']:\n",
    "                print(f\"Found cell with tag '{tag}':\")\n",
    "                print(cell.source)  # Print the content of the cell for debugging\n",
    "                \n",
    "                # Extract the content of the cell\n",
    "                cell_content = cell.source\n",
    "                \n",
    "                # Split the content into lines and parse each line\n",
    "                for line in cell_content.split('\\n'):\n",
    "                    if '=' in line:\n",
    "                        # Split each line into variable name and value\n",
    "                        var_name, var_value = line.split('=', 1)\n",
    "                        var_name = var_name.strip()\n",
    "                        var_value = var_value.strip()\n",
    "                        \n",
    "                        # Attempt to parse the value as an integer, float, or boolean\n",
    "                        if var_value.lower() in ['true', 'false']:\n",
    "                            parameters[var_name] = var_value.lower() == 'true'\n",
    "                        elif var_value.replace('.', '', 1).isdigit():  # Check if it's a float\n",
    "                            parameters[var_name] = float(var_value)\n",
    "                        else:\n",
    "                            parameters[var_name] = var_value.strip('\"')  # Remove quotes for strings\n",
    "\n",
    "    return parameters\n",
    "parameters = convert_parameters_to_dict('injected-parameters')\n"
   ]
  },
  {
   "cell_type": "code",
   "execution_count": null,
   "id": "4330f342",
   "metadata": {
    "ExecuteTime": {
     "end_time": "2024-12-04T23:07:47.850046Z",
     "start_time": "2024-12-04T23:07:47.843911Z"
    }
   },
   "outputs": [
    {
     "data": {
      "application/javascript": "\n            require(\n                [\n                    \"notebook/js/codecell\",\n                    \"codemirror/mode/yaml/yaml\"\n                ],\n                function(cc){\n                    cc.CodeCell.options_default.highlight_modes.magic_yaml = {\n                        reg: [\"^%%yaml\"]\n                    }\n                }\n            );\n            ",
      "text/plain": [
       "<IPython.core.display.Javascript object>"
      ]
     },
     "metadata": {},
     "output_type": "display_data"
    }
   ],
   "source": [
    "%%yaml OUTPUTS\n",
    "\n",
    "NEMO1D Input Deck:\n",
    "    type: File    \n",
    "    description : NEMO1D Input Deck\n",
    "IV:\n",
    "    type : Dict\n",
    "    description : IV output file\n",
    "Band:\n",
    "    type: Dict\n",
    "    description: Test\n",
    "    "
   ]
  },
  {
   "cell_type": "code",
   "execution_count": null,
   "id": "fa44ea23",
   "metadata": {
    "ExecuteTime": {
     "end_time": "2024-12-04T23:07:48.211596Z",
     "start_time": "2024-12-04T23:07:48.204095Z"
    }
   },
   "outputs": [
    {
     "data": {
      "application/scrapbook.scrap.text+json": {
       "data": "0",
       "encoder": "text",
       "name": "simToolSaveErrorOccurred",
       "version": 1
      }
     },
     "metadata": {
      "scrapbook": {
       "data": true,
       "display": false,
       "name": "simToolSaveErrorOccurred"
      }
     },
     "output_type": "display_data"
    },
    {
     "data": {
      "application/scrapbook.scrap.text+json": {
       "data": "0",
       "encoder": "text",
       "name": "simToolAllOutputsSaved",
       "version": 1
      }
     },
     "metadata": {
      "scrapbook": {
       "data": true,
       "display": false,
       "name": "simToolAllOutputsSaved"
      }
     },
     "output_type": "display_data"
    }
   ],
   "source": [
    "# Creates the data base for the outputs \n",
    "# Creates a unique identifer for each newinput deck\n",
    "\n",
    "db = DB(OUTPUTS)  #type: ignore\n",
    "\n",
    "\n",
    "Newinputdeck= str(uuid.uuid4().hex)"
   ]
  },
  {
   "cell_type": "code",
   "execution_count": null,
   "id": "3ab0fa0d",
   "metadata": {},
   "outputs": [
    {
     "name": "stdout",
     "output_type": "stream",
     "text": [
      "Debug Mode Active\n",
      "Parameters before input deck creation: {}\n"
     ]
    }
   ],
   "source": [
    "# Path to Material File and Input Deck\n",
    "# Needed for current implementation\n",
    "# In the future may need to have these in a local directory where the tool is hosted\n",
    "\n",
    "testfile = '/home/toro0/NEMO1D-RTD/simtool/test.nem'\n",
    "material_file = '/home/toro0/NEMO1D-RTD/simtool/GaAs.mat'\n",
    "band_file =  '/home/toro0/NEMO1D-RTD/simtool/test_AlGaAs_TFQ_Cgam.nd_bnd'\n",
    "IV_file =  '/home/toro0/NEMO1D-RTD/simtool/IVtest'\n",
    "\n",
    "\n",
    "if debug_mode == 1:\n",
    "    print(\"Debug Mode Active\")\n",
    "\n",
    "print(\"Parameters before input deck creation:\", parameters)"
   ]
  },
  {
   "cell_type": "code",
   "execution_count": 1,
   "id": "25caaf64",
   "metadata": {},
   "outputs": [
    {
     "name": "stdout",
     "output_type": "stream",
     "text": [
      "Data written to IV_single_point.json\n"
     ]
    }
   ],
   "source": [
    "import json\n",
    "import numpy as np\n",
    "\n",
    "# Define bias points (voltage range from 0 to 0.6V)\n",
    "bias_points = np.linspace(0, 0.6, num=10000)\n",
    "\n",
    "# Example RTD current model (voltage-dependent current)\n",
    "def rtd_current(voltage, V_peak=0.3, V_valley=0.4, I0=1e-3):\n",
    "    return I0 * (voltage / V_peak) * np.exp(-(voltage / V_valley))\n",
    "\n",
    "# Prepare the data structure for the JSON file\n",
    "data = {\"Bias\": {}}\n",
    "\n",
    "# For each bias, generate one voltage-current pair\n",
    "for bias in bias_points:\n",
    "    voltage = bias  # Assign the bias point as the voltage\n",
    "    current = rtd_current(voltage)  # Compute current for this voltage\n",
    "\n",
    "    # Store the single Voltage (V) and Current (A) pair\n",
    "    data[\"Bias\"][f\"{bias:.5f}\"] = {\n",
    "        \"Voltage\": voltage,  # Single voltage value\n",
    "        \"Current\": current   # Single current value\n",
    "    }\n",
    "\n",
    "# Specify the filename with extension\n",
    "filename = \"IV_single_point.json\"\n",
    "\n",
    "# Write the data to a JSON file\n",
    "with open(filename, 'w') as f:\n",
    "    json.dump(data, f, indent=4)\n",
    "\n",
    "print(f\"Data written to {filename}\")\n"
   ]
  },
  {
   "cell_type": "code",
   "execution_count": null,
   "id": "59fa5715",
   "metadata": {},
   "outputs": [
    {
     "name": "stdout",
     "output_type": "stream",
     "text": [
      "/home/toro0/NEMO1D-RTD/simtool/test_AlGaAs_TFQ_Cgam.nd_bnd already exists in /home/toro0/NEMO1D-RTD/simtool\n"
     ]
    }
   ],
   "source": [
    "def copy_Band_file(destination_dir): ### Remove in final iteration\n",
    "  \n",
    "    dest_material_file = os.path.join(destination_dir, os.path.basename(band_file))\n",
    "  \n",
    "    if not os.path.exists(dest_material_file):\n",
    "        shutil.copy2(band_file, dest_material_file)\n",
    "        print(f\"Copied {band_file} to {destination_dir}\")\n",
    "  \n",
    "    else:\n",
    "        print(f\"{band_file} already exists in {destination_dir}\")\n",
    "current_dir = os.getcwd()\n",
    "copy_Band_file(current_dir)"
   ]
  },
  {
   "cell_type": "code",
   "execution_count": null,
   "id": "aadf4fff",
   "metadata": {},
   "outputs": [],
   "source": [
    "# Copies the desired material file to the Directory where the sim2l is run\n",
    "# Takes the destination directory as an input \n",
    "# The material file is defined as a global variable above\n",
    "\n",
    "def copy_material_file(destination_dir):\n",
    "  \n",
    "    dest_material_file = os.path.join(destination_dir, os.path.basename(material_file))\n",
    "  \n",
    "    if not os.path.exists(dest_material_file):\n",
    "        shutil.copy2(material_file, dest_material_file)\n",
    "        print(f\"Copied {material_file} to {destination_dir}\")\n",
    "  \n",
    "    else:\n",
    "        print(f\"{material_file} already exists in {destination_dir}\")"
   ]
  },
  {
   "cell_type": "code",
   "execution_count": null,
   "id": "5531ccb5",
   "metadata": {},
   "outputs": [],
   "source": [
    "# Reads the input deck file given in the argument and reads it \n",
    "\n",
    "def read_input_deck(filepath):\n",
    "    \n",
    "    with open(filepath, 'r') as file:\n",
    "        return file.read()"
   ]
  },
  {
   "cell_type": "code",
   "execution_count": null,
   "id": "5e43fb6f",
   "metadata": {},
   "outputs": [
    {
     "name": "stdout",
     "output_type": "stream",
     "text": [
      "1\n"
     ]
    }
   ],
   "source": [
    "# Replaces the values from parameters and puts them in the new input deck\n",
    "# Debug mode makes it to wher only temperature is changed \n",
    "# To change the value affected change the key variable\n",
    "\n",
    "debug_mode == 1\n",
    "print(debug_mode)\n",
    "def replace_placeholders(content, parameters):\n",
    "    \"\"\n",
    "    if debug_mode == 1:\n",
    "        # Only replace the TEMPERATURE placeholder\n",
    "        key = \"TEMPERATURE\"\n",
    "        if key in parameters:\n",
    "            content = content.replace(key, str(parameters[key]))\n",
    "            print(f\"Replacing {key} with {parameters[key]}\")\n",
    "    else:\n",
    "        # Replace all placeholders\n",
    "        for key, value in parameters.items():\n",
    "            content = content.replace(key, str(value))\n",
    "            print(f\"Replacing {key} with {value}\")\n",
    "    return content"
   ]
  },
  {
   "cell_type": "code",
   "execution_count": null,
   "id": "19fe286f",
   "metadata": {},
   "outputs": [],
   "source": [
    "# Writes the new input deck with the values from the dictionary\n",
    "# Takes the new paraamters new_content and output file name as arguments \n",
    "# Returns the input deck with injected parameters\n",
    "\n",
    "def write_new_input_deck(new_content, output_filename):\n",
    "    with open(output_filename, 'w') as file:\n",
    "        file.write(new_content)\n",
    "    print(f\"New input deck written to {output_filename}\")\n",
    "    return output_filename"
   ]
  },
  {
   "cell_type": "code",
   "execution_count": null,
   "id": "4d8d39d0",
   "metadata": {},
   "outputs": [],
   "source": [
    "# Copies all the required files and returns a new input deck \n",
    "# This function combines other functions to generate a new input deck based on the injected parameters\n",
    "# Returns the new input deck\n",
    "\n",
    "def inputdeckCreator():\n",
    " \n",
    "    current_dir = os.getcwd()\n",
    "\n",
    "    copy_material_file(current_dir)\n",
    "\n",
    "    content = read_input_deck(testfile)\n",
    "\n",
    "    updated_content = replace_placeholders(content, parameters)\n",
    "    \n",
    "    new_input_deck_filename = 'new_input_deck.nem'\n",
    "\n",
    "    write_new_input_deck(updated_content, new_input_deck_filename)\n",
    "\n",
    "    if debug_mode == 1:\n",
    "        print(f\"Debug mode: Simulating with input deck {new_input_deck_filename}\")\n",
    "\n",
    "    return new_input_deck_filename\n"
   ]
  },
  {
   "cell_type": "code",
   "execution_count": null,
   "id": "40d6588d",
   "metadata": {},
   "outputs": [],
   "source": [
    "# Delete later this is a test\n",
    "# \n",
    "\n",
    "\n",
    "def generate_bjt_bandstructure_with_bands(filename):\n",
    "    # Generate synthetic data for BJT bandstructure\n",
    "    # x_values could represent the wave vector (k) ranging from -pi to pi\n",
    "    x_values = np.linspace(-np.pi, np.pi, 100)\n",
    "    \n",
    "    # Valence band (parabolic, lower energy)\n",
    "    y_values_valence = -0.1 * x_values**2 + 0.5  # Example for valence band (negative curvature)\n",
    "    \n",
    "    # Conduction band (parabolic, higher energy)\n",
    "    y_values_conduction = 0.1 * x_values**2 + 2.0  # Example for conduction band (positive curvature)\n",
    "    \n",
    "    # Fermi level (constant)\n",
    "    fermi_level = 1.5\n",
    "    \n",
    "    # Save the data to a file\n",
    "    with open(filename, 'w') as file:\n",
    "        # Write valence band data\n",
    "        for x, y in zip(x_values, y_values_valence):\n",
    "            file.write(f\"{x} {y} {fermi_level}\\n\")  # Add Fermi level for each point\n",
    "        \n",
    "        # Write conduction band data\n",
    "        for x, y in zip(x_values, y_values_conduction):\n",
    "            file.write(f\"{x} {y} {fermi_level}\\n\")  # Add Fermi level for each point\n",
    "\n",
    "    print(f\"Data saved to {filename}\")"
   ]
  },
  {
   "cell_type": "code",
   "execution_count": null,
   "id": "b730172a",
   "metadata": {},
   "outputs": [],
   "source": [
    "\n",
    "# Reads a JSON File output from NEMO1D\n",
    "# Returns a Dictionary containing the data\n",
    "\n",
    "def read_data_from_json_file(filename):\n",
    " \n",
    "\n",
    "    with open(filename, 'r') as file:\n",
    "        # Read the entire content of the file\n",
    "        content = file.read()\n",
    "    \n",
    "    # Parse the content using json.loads (expects valid JSON format)\n",
    "    try:\n",
    "        data = json.loads(content)\n",
    "        print(type(data))\n",
    "        return data\n",
    "    except json.JSONDecodeError as e:\n",
    "        print(f\"Error parsing JSON file: {e}\")\n",
    "        return None"
   ]
  },
  {
   "cell_type": "code",
   "execution_count": null,
   "id": "09d65747",
   "metadata": {},
   "outputs": [],
   "source": [
    "# Reads the data for the IV file will potentialy need to be renamed \n",
    "# Will be removed in final deployment \n",
    "# Use the read from JSON function instead\n",
    "\n",
    "def read_data_from_file(filename):\n",
    "    # Initialize lists to store X and Y values\n",
    "    x_values = []\n",
    "    y_values = []\n",
    "\n",
    "    # Read the file line by line\n",
    "    with open(filename, 'r') as file:\n",
    "        for line in file:\n",
    "            # Split each line into X and Y values based on space\n",
    "            parts = line.split()\n",
    "            if len(parts) == 2:\n",
    "                # Convert to float and store in the lists\n",
    "                x_values.append(float(parts[0]))\n",
    "                y_values.append(float(parts[1]))\n",
    "\n",
    "    return tuple(x_values), tuple(y_values)\n"
   ]
  },
  {
   "cell_type": "code",
   "execution_count": null,
   "id": "a941b175",
   "metadata": {},
   "outputs": [],
   "source": [
    "# Delete later\n",
    "# Test that will not be used in final deployment\n",
    "\n",
    "def read_data_from_bjtfile(filename):\n",
    "   \n",
    "    data_dict = {\n",
    "        'x_values': [],\n",
    "        'valence_band': [],\n",
    "        'conduction_band': [],\n",
    "        'fermi_level': []\n",
    "    }\n",
    "\n",
    "    # Read the file line by line\n",
    "    with open(filename, 'r') as file:\n",
    "        for line in file:\n",
    "            # Split each line into X, Y (energy), and Fermi level\n",
    "            parts = line.split()\n",
    "            if len(parts) == 3:\n",
    "                # Append data to the dictionary lists\n",
    "                data_dict['x_values'].append(float(parts[0]))\n",
    "                data_dict['valence_band'].append(float(parts[1]))\n",
    "                data_dict['conduction_band'].append(float(parts[2]))  # Fermi level\n",
    "                data_dict['fermi_level'].append(float(parts[2]))  # Same for both bands\n",
    "    \n",
    "    return data_dict"
   ]
  },
  {
   "cell_type": "code",
   "execution_count": null,
   "id": "dde724ff",
   "metadata": {},
   "outputs": [
    {
     "name": "stdout",
     "output_type": "stream",
     "text": [
      "/home/toro0/NEMO1D-RTD/simtool/GaAs.mat already exists in /home/toro0/NEMO1D-RTD/simtool\n",
      "New input deck written to new_input_deck.nem\n",
      "Debug mode: Simulating with input deck new_input_deck.nem\n"
     ]
    },
    {
     "data": {
      "application/scrapbook.scrap.text+json": {
       "data": "file://new_input_deck.nem",
       "encoder": "text",
       "name": "NEMO1D Input Deck",
       "version": 1
      }
     },
     "metadata": {
      "scrapbook": {
       "data": true,
       "display": false,
       "name": "NEMO1D Input Deck"
      }
     },
     "output_type": "display_data"
    }
   ],
   "source": [
    "# Calls the input deck creator to create the new input deck \n",
    "# Stores the input deck to the database\n",
    "\n",
    "inputdeckCreator()\n",
    "db.save(\"NEMO1D Input Deck\", file='new_input_deck.nem') "
   ]
  },
  {
   "cell_type": "code",
   "execution_count": null,
   "id": "95c1925f",
   "metadata": {},
   "outputs": [],
   "source": [
    "# Runs the simulation Engine  with the new input deck \n",
    "# Will need to replace path wiht directory of binary in final deployment\n",
    "\n",
    "#runCommand('/home/toro0/NEMO1D-RTD/simtool/negf new_input_deck.nem')\n"
   ]
  },
  {
   "cell_type": "code",
   "execution_count": 2,
   "id": "aeee2d80",
   "metadata": {},
   "outputs": [
    {
     "name": "stdout",
     "output_type": "stream",
     "text": [
      "Data written to IVtest\n"
     ]
    }
   ],
   "source": [
    "import json\n",
    "import numpy as np\n",
    "\n",
    "# Define the voltage range from 0 to 0.6V (no need for multiple bias points)\n",
    "voltages = np.linspace(0, 0.6, num=1000)\n",
    "\n",
    "# Example RTD current model (voltage-dependent current)\n",
    "def rtd_current(voltage, V_peak=0.3, V_valley=0.4, I0=1e-3):\n",
    "    \"\"\"\n",
    "    RTD current model with peak and valley behavior.\n",
    "    \"\"\"\n",
    "    if voltage < V_peak:\n",
    "        return I0 * np.exp(-(voltage - V_peak)**2 / (0.02))  # Sharp peak near V_peak\n",
    "    elif voltage < V_valley:\n",
    "        return I0 * np.exp(-(voltage - V_peak)**2 / (0.05))  # Decrease in current until valley\n",
    "    else:\n",
    "        return I0 * np.exp(-(voltage - V_valley)**2 / (0.05))  # Increased current after valley\n",
    "\n",
    "# Compute current for each voltage value\n",
    "currents = [rtd_current(v) for v in voltages]\n",
    "\n",
    "# Prepare the data structure for the JSON file\n",
    "data = {\n",
    "    \"Voltage\": list(voltages),  # Voltage values\n",
    "    \"Current\": list(currents)   # Current values\n",
    "}\n",
    "\n",
    "# Specify the filename\n",
    "filename = \"IVtest\"\n",
    "\n",
    "# Write the data to a JSON file\n",
    "with open(filename, 'w') as f:\n",
    "    json.dump(data, f, indent=4)\n",
    "\n",
    "print(f\"Data written to {filename}\")\n"
   ]
  },
  {
   "cell_type": "code",
   "execution_count": null,
   "id": "d09ebe9f",
   "metadata": {},
   "outputs": [
    {
     "name": "stdout",
     "output_type": "stream",
     "text": [
      "<class 'dict'>\n",
      "<class 'dict'>\n"
     ]
    },
    {
     "data": {
      "application/scrapbook.scrap.text+json": {
       "data": "{\"Voltage (V)\": {\"0.00000\": {\"Position (nm)\": [0, 0.2833, 0.5666, 0.8499, 1.1332, 1.4165, 1.6998, 1.9831, 2.2664, 2.5497, 2.833, 3.1163, 3.3996, 3.6829, 3.9662, 4.2495, 4.5328, 4.8161, 5.0994, 5.3827, 5.666, 5.9493, 6.2326, 6.5159, 6.7992, 7.0825, 7.3658, 7.6491, 7.9324, 8.2157, 8.499, 8.7823, 9.0656, 9.3489, 9.6322, 9.9155, 10.1988, 10.4821, 10.7654, 11.0487, 11.332, 11.6153, 11.8986, 12.1819, 12.4652, 12.7485, 13.0318, 13.3151, 13.5984, 13.8817, 14.165, 14.4483, 14.7316, 15.0149, 15.2982, 15.5815, 15.8648, 16.1481, 16.4314, 16.7147, 16.998, 17.2813, 17.5646, 17.8479, 18.1312, 18.4145, 18.6978, 18.9811, 19.2644, 19.5477, 19.831, 20.1143, 20.3976, 20.6809, 20.9642, 21.2475, 21.5308, 21.8141, 22.0974, 22.3807, 22.664, 22.9473, 23.2306, 23.5139, 23.7972, 24.0805, 24.3638, 24.6471, 24.9304, 25.2137, 25.497, 25.7803, 26.0636, 26.3469, 26.6302, 26.9135, 27.1968, 27.4801, 27.7634, 28.0467, 28.33, 28.6133, 28.8966, 29.1799, 29.4632, 29.7465, 30.0298, 30.3131, 30.5964, 30.8797, 31.163, 31.4463, 31.7296, 32.0129, 32.2962, 32.5795, 32.8628, 33.1461, 33.4294, 33.7127, 33.996, 34.2793, 34.5626, 34.8459, 35.1292, 35.4125, 35.6958, 35.9791, 36.2624, 36.5457, 36.829, 37.1123, 37.3956, 37.6789, 37.9622, 38.2455, 38.5288, 38.8121, 39.0954, 39.3787, 39.662, 39.9453, 40.2286, 40.5119, 40.7952, 41.0785, 41.3618, 41.6451, 41.9284, 42.2117, 42.495, 42.7783, 43.0616, 43.3449, 43.6282, 43.9115, 44.1948, 44.4781, 44.7614, 45.0447, 45.328, 45.6113, 45.8946, 46.1779, 46.4612, 46.7445, 47.0278, 47.3111, 47.5944, 47.8777, 48.161, 48.4443, 48.7276, 49.0109, 49.2942, 49.5775, 49.8608, 50.1441, 50.4274, 50.7107, 50.994, 51.2773, 51.5606, 51.8439, 52.1272, 52.4105, 52.6938, 52.9771, 53.2604, 53.5437, 53.827, 54.1103, 54.3936, 54.6769, 54.9602, 55.2435, 55.5268, 55.8101, 56.0934, 56.3767, 56.66, 56.9433, 57.2266, 57.5099, 57.7932, 58.0765, 58.3598, 58.6431, 58.9264, 59.2097, 59.493, 59.7763, 60.0596, 60.3429, 60.6262, 60.9095, 61.1928, 61.4761, 61.7594, 62.0427, 62.326, 62.6093, 62.8926, 63.1759, 63.4592, 63.7425, 64.0258, 64.3091, 64.5924, 64.8757, 65.159, 65.4423, 65.7256, 66.0089, 66.2922, 66.5755, 66.8588, 67.1421, 67.4254, 67.7087, 67.992, 68.2753, 68.5586, 68.8419, 69.1252, 69.4085, 69.6918, 69.9751, 70.2584, 70.5417, 70.825, 71.1083, 71.3916, 71.6749, 71.9582, 72.2415, 72.5248, 72.8081, 73.0914, 73.3747, 73.658, 73.9413, 74.2246, 74.5079, 74.7912, 75.0745, 75.3578, 75.6411, 75.9244, 76.2077, 76.491, 76.7743, 77.0576, 77.3409, 77.6242, 77.9075, 78.1908, 78.4741, 78.7574, 79.0407, 79.324, 79.6073, 79.8906, 80.1739, 80.4572, 80.7405, 81.0238, 81.3071, 81.5904, 81.8737, 82.157, 82.4403, 82.7236, 83.0069, 83.2902, 83.5735, 83.8568, 84.1401, 84.4234, 84.7067, 84.99, 85.2733, 85.5566, 85.8399, 86.1232, 86.4065, 86.6898, 86.9731, 87.2564, 87.5397, 87.823, 88.1063, 88.3896, 88.6729, 88.9562, 89.2395, 89.5228, 89.8061, 90.0894, 90.3727, 90.656, 90.9393, 91.2226, 91.5059, 91.7892, 92.0725, 92.3558, 92.6391, 92.9224, 93.2057, 93.489, 93.7723, 94.0556, 94.3389, 94.6222, 94.9055, 95.1888, 95.4721, 95.7554, 96.0387, 96.322, 96.6053, 96.8886, 97.1719, 97.4552, 97.7385, 98.0218, 98.3051, 98.5884, 98.8717, 99.155, 99.4383, 99.7216, 100.005, 100.288, 100.572, 100.855, 101.138, 101.421, 101.705, 101.988, 102.271, 102.555, 102.838, 103.121, 103.404, 103.688, 103.971, 104.254, 104.538, 104.821, 105.104, 105.388, 105.671, 105.954, 106.237, 106.521, 106.804, 107.087, 107.371, 107.654, 107.937, 108.221, 108.504, 108.787, 109.07, 109.354, 109.637, 109.92, 110.204, 110.487, 110.77, 111.054, 111.337, 111.62, 111.903, 112.187, 112.47, 112.753, 113.037, 113.32, 113.603, 113.887, 114.17, 114.453, 114.736, 115.02, 115.303, 115.586, 115.87, 116.153, 116.436, 116.72, 117.003, 117.286, 117.57, 117.853, 118.136, 118.419, 118.703, 118.986, 119.269, 119.553, 119.836, 120.119, 120.403, 120.686, 120.969, 121.252, 121.536, 121.819, 122.102, 122.386, 122.669, 122.952, 123.236, 123.519, 123.802, 124.085, 124.369, 124.652, 124.935, 125.219, 125.502, 125.785, 126.069, 126.352, 126.635, 126.918, 127.202, 127.485, 127.768, 128.052, 128.335, 128.618, 128.901, 129.185, 129.468, 129.751, 130.035, 130.318, 130.601, 130.885, 131.168, 131.451, 131.734, 132.018, 132.301, 132.584, 132.868, 133.151, 133.434, 133.718, 134.001, 134.284, 134.567, 134.851, 135.134, 135.417, 135.701, 135.984, 136.267, 136.551, 136.834, 137.117, 137.4, 137.684, 137.967, 138.25, 138.534, 138.817, 139.1, 139.384, 139.667, 139.95, 140.233, 140.517, 140.8, 141.083, 141.367, 141.65, 141.933, 142.217, 142.5, 142.783, 143.066, 143.35, 143.633, 143.916, 144.2, 144.483, 144.766, 145.05, 145.333], \"Energy (eV)\": [0, 1.57334e-05, 3.17029e-05, 4.79479e-05, 6.45087e-05, 8.14261e-05, 9.87419e-05, 0.000116499, 0.000134741, 0.000153513, 0.000172862, 0.000192835, 0.000213481, 0.000234852, 0.000257, 0.00027998, 0.000303847, 0.000328662, 0.000354486, 0.000381381, 0.000409414, 0.000438654, 0.000469174, 0.000501047, 0.000534352, 0.000569172, 0.000605591, 0.000643699, 0.00068359, 0.00072536, 0.000769114, 0.000814957, 0.000863003, 0.000913368, 0.000966175, 0.00102155, 0.00107964, 0.00114058, 0.00120451, 0.00127159, 0.00134199, 0.00141588, 0.00149344, 0.00157484, 0.00166031, 0.00175003, 0.00184422, 0.00194312, 0.00204697, 0.002156, 0.00227049, 0.00239071, 0.00251695, 0.00264951, 0.0027887, 0.00293486, 0.00308834, 0.00324951, 0.00341873, 0.00359642, 0.003783, 0.0039789, 0.00418458, 0.00440052, 0.00462724, 0.00486525, 0.00511511, 0.00537739, 0.00565271, 0.00594169, 0.00624499, 0.00656331, 0.00689736, 0.0072479, 0.00761571, 0.00800162, 0.00840648, 0.0088312, 0.00927669, 0.00974392, 0.0102339, 0.0107477, 0.0112865, 0.0118512, 0.0124432, 0.0130637, 0.0137139, 0.0143952, 0.0151089, 0.0158565, 0.0166394, 0.0174592, 0.0183174, 0.0192157, 0.0201556, 0.0211391, 0.0221677, 0.0232434, 0.0243679, 0.0255433, 0.0267714, 0.0280543, 0.029394, 0.0307925, 0.032252, 0.0337745, 0.0353623, 0.0369046, 0.0384034, 0.0398608, 0.0412784, 0.042658, 0.0440012, 0.0453093, 0.0465839, 0.0478262, 0.0490375, 0.050219, 0.0513718, 0.052497, 0.0535955, 0.0546683, 0.0557163, 0.0567403, 0.0577412, 0.0587196, 0.0596764, 0.0606123, 0.0615278, 0.0624236, 0.0633004, 0.0641586, 0.0649988, 0.0658216, 0.0666274, 0.0674167, 0.0681899, 0.0689475, 0.06969, 0.0704176, 0.0711308, 0.0718299, 0.0725153, 0.0731872, 0.0738462, 0.0744923, 0.075126, 0.0757475, 0.0763571, 0.076955, 0.0775415, 0.0781168, 0.0786812, 0.0792349, 0.0797781, 0.0803111, 0.0808339, 0.0813468, 0.0818501, 0.0823438, 0.0828281, 0.0833032, 0.0837694, 0.0842266, 0.0846751, 0.0851151, 0.0855466, 0.0859698, 0.0863848, 0.0867918, 0.0871908, 0.087582, 0.0879656, 0.0883416, 0.08871, 0.0890712, 0.089425, 0.0897717, 0.0901112, 0.0904438, 0.0907695, 0.0910884, 0.0914005, 0.091706, 0.0920049, 0.0922973, 0.0925832, 0.0928628, 0.0931361, 0.0934032, 0.0936641, 0.0939189, 0.0941677, 0.0944104, 0.0946473, 0.0948782, 0.0951033, 0.0953227, 0.0955363, 0.0957443, 0.0959466, 0.0961433, 0.0963345, 0.0965201, 0.0967003, 0.0968751, 0.0970444, 0.0972084, 0.0973671, 0.0975205, 0.0976687, 0.0978115, 0.0979492, 0.0980818, 0.0982091, 0.0983314, 0.0984486, 0.0985606, 0.0986677, 0.0987697, 0.0988667, 0.0989587, 0.0990457, 0.0991278, 0.0992049, 0.0992771, 0.0993444, 0.0994067, 0.0994642, 0.0995168, 0.377466, 0.377517, 0.377569, 0.377621, 0.377673, 0.377725, 0.377777, 0.37783, 0.377883, 0.377937, 0.37799, 0.378044, 0.378098, 0.378152, 0.378206, 0.378261, 0.100415, 0.100461, 0.100503, 0.10054, 0.100573, 0.100601, 0.100624, 0.100643, 0.100657, 0.100666, 0.100671, 0.100671, 0.100666, 0.100657, 0.100643, 0.100624, 0.100601, 0.100573, 0.10054, 0.100503, 0.100461, 0.100415, 0.378261, 0.378206, 0.378152, 0.378098, 0.378044, 0.37799, 0.377937, 0.377883, 0.37783, 0.377777, 0.377725, 0.377673, 0.377621, 0.377569, 0.377517, 0.377466, 0.0995168, 0.0994642, 0.0994067, 0.0993444, 0.0992771, 0.0992049, 0.0991278, 0.0990457, 0.0989587, 0.0988667, 0.0987697, 0.0986677, 0.0985606, 0.0984486, 0.0983314, 0.0982091, 0.0980818, 0.0979492, 0.0978115, 0.0976687, 0.0975205, 0.0973671, 0.0972084, 0.0970444, 0.0968751, 0.0967003, 0.0965201, 0.0963345, 0.0961433, 0.0959466, 0.0957443, 0.0955363, 0.0953227, 0.0951033, 0.0948782, 0.0946473, 0.0944104, 0.0941677, 0.0939189, 0.0936641, 0.0934032, 0.0931361, 0.0928628, 0.0925832, 0.0922973, 0.0920049, 0.091706, 0.0914005, 0.0910884, 0.0907695, 0.0904438, 0.0901112, 0.0897717, 0.089425, 0.0890712, 0.08871, 0.0883416, 0.0879656, 0.087582, 0.0871908, 0.0867918, 0.0863848, 0.0859698, 0.0855466, 0.0851151, 0.0846751, 0.0842266, 0.0837694, 0.0833032, 0.0828281, 0.0823438, 0.0818501, 0.0813468, 0.0808339, 0.0803111, 0.0797781, 0.0792349, 0.0786812, 0.0781168, 0.0775415, 0.076955, 0.0763571, 0.0757475, 0.075126, 0.0744923, 0.0738462, 0.0731872, 0.0725153, 0.0718299, 0.0711308, 0.0704176, 0.06969, 0.0689475, 0.0681899, 0.0674167, 0.0666274, 0.0658216, 0.0649988, 0.0641586, 0.0633004, 0.0624236, 0.0615278, 0.0606123, 0.0596764, 0.0587196, 0.0577412, 0.0567403, 0.0557163, 0.0546683, 0.0535955, 0.052497, 0.0513718, 0.050219, 0.0490375, 0.0478262, 0.0465839, 0.0453093, 0.0440012, 0.042658, 0.0412784, 0.0398608, 0.0384034, 0.0369046, 0.0353623, 0.0337745, 0.032252, 0.0307925, 0.029394, 0.0280543, 0.0267714, 0.0255433, 0.0243679, 0.0232434, 0.0221677, 0.0211391, 0.0201556, 0.0192157, 0.0183174, 0.0174592, 0.0166394, 0.0158565, 0.0151089, 0.0143952, 0.0137139, 0.0130637, 0.0124432, 0.0118512, 0.0112865, 0.0107477, 0.0102339, 0.00974392, 0.00927669, 0.0088312, 0.00840648, 0.00800162, 0.00761571, 0.0072479, 0.00689736, 0.00656331, 0.00624499, 0.00594169, 0.00565271, 0.00537739, 0.00511511, 0.00486525, 0.00462724, 0.00440052, 0.00418458, 0.0039789, 0.003783, 0.00359642, 0.00341873, 0.00324951, 0.00308834, 0.00293486, 0.0027887, 0.00264951, 0.00251695, 0.00239071, 0.00227049, 0.002156, 0.00204697, 0.00194312, 0.00184422, 0.00175003, 0.00166031, 0.00157484, 0.00149344, 0.00141588, 0.00134199, 0.00127159, 0.00120451, 0.00114058, 0.00107964, 0.00102155, 0.000966175, 0.000913368, 0.000863003, 0.000814957, 0.000769114, 0.00072536, 0.00068359, 0.000643699, 0.000605591, 0.000569172, 0.000534352, 0.000501047, 0.000469174, 0.000438654, 0.000409414, 0.000381381, 0.000354486, 0.000328662, 0.000303847, 0.00027998, 0.000257, 0.000234852, 0.000213481, 0.000192835, 0.000172862, 0.000153513, 0.000134741, 0.000116499, 9.87419e-05, 8.14261e-05, 6.45087e-05, 4.79479e-05, 3.17029e-05, 1.57334e-05, 0]}, \"0.10000\": {\"Position (nm)\": [0, 0.2833, 0.5666, 0.8499, 1.1332, 1.4165, 1.6998, 1.9831, 2.2664, 2.5497, 2.833, 3.1163, 3.3996, 3.6829, 3.9662, 4.2495, 4.5328, 4.8161, 5.0994, 5.3827, 5.666, 5.9493, 6.2326, 6.5159, 6.7992, 7.0825, 7.3658, 7.6491, 7.9324, 8.2157, 8.499, 8.7823, 9.0656, 9.3489, 9.6322, 9.9155, 10.1988, 10.4821, 10.7654, 11.0487, 11.332, 11.6153, 11.8986, 12.1819, 12.4652, 12.7485, 13.0318, 13.3151, 13.5984, 13.8817, 14.165, 14.4483, 14.7316, 15.0149, 15.2982, 15.5815, 15.8648, 16.1481, 16.4314, 16.7147, 16.998, 17.2813, 17.5646, 17.8479, 18.1312, 18.4145, 18.6978, 18.9811, 19.2644, 19.5477, 19.831, 20.1143, 20.3976, 20.6809, 20.9642, 21.2475, 21.5308, 21.8141, 22.0974, 22.3807, 22.664, 22.9473, 23.2306, 23.5139, 23.7972, 24.0805, 24.3638, 24.6471, 24.9304, 25.2137, 25.497, 25.7803, 26.0636, 26.3469, 26.6302, 26.9135, 27.1968, 27.4801, 27.7634, 28.0467, 28.33, 28.6133, 28.8966, 29.1799, 29.4632, 29.7465, 30.0298, 30.3131, 30.5964, 30.8797, 31.163, 31.4463, 31.7296, 32.0129, 32.2962, 32.5795, 32.8628, 33.1461, 33.4294, 33.7127, 33.996, 34.2793, 34.5626, 34.8459, 35.1292, 35.4125, 35.6958, 35.9791, 36.2624, 36.5457, 36.829, 37.1123, 37.3956, 37.6789, 37.9622, 38.2455, 38.5288, 38.8121, 39.0954, 39.3787, 39.662, 39.9453, 40.2286, 40.5119, 40.7952, 41.0785, 41.3618, 41.6451, 41.9284, 42.2117, 42.495, 42.7783, 43.0616, 43.3449, 43.6282, 43.9115, 44.1948, 44.4781, 44.7614, 45.0447, 45.328, 45.6113, 45.8946, 46.1779, 46.4612, 46.7445, 47.0278, 47.3111, 47.5944, 47.8777, 48.161, 48.4443, 48.7276, 49.0109, 49.2942, 49.5775, 49.8608, 50.1441, 50.4274, 50.7107, 50.994, 51.2773, 51.5606, 51.8439, 52.1272, 52.4105, 52.6938, 52.9771, 53.2604, 53.5437, 53.827, 54.1103, 54.3936, 54.6769, 54.9602, 55.2435, 55.5268, 55.8101, 56.0934, 56.3767, 56.66, 56.9433, 57.2266, 57.5099, 57.7932, 58.0765, 58.3598, 58.6431, 58.9264, 59.2097, 59.493, 59.7763, 60.0596, 60.3429, 60.6262, 60.9095, 61.1928, 61.4761, 61.7594, 62.0427, 62.326, 62.6093, 62.8926, 63.1759, 63.4592, 63.7425, 64.0258, 64.3091, 64.5924, 64.8757, 65.159, 65.4423, 65.7256, 66.0089, 66.2922, 66.5755, 66.8588, 67.1421, 67.4254, 67.7087, 67.992, 68.2753, 68.5586, 68.8419, 69.1252, 69.4085, 69.6918, 69.9751, 70.2584, 70.5417, 70.825, 71.1083, 71.3916, 71.6749, 71.9582, 72.2415, 72.5248, 72.8081, 73.0914, 73.3747, 73.658, 73.9413, 74.2246, 74.5079, 74.7912, 75.0745, 75.3578, 75.6411, 75.9244, 76.2077, 76.491, 76.7743, 77.0576, 77.3409, 77.6242, 77.9075, 78.1908, 78.4741, 78.7574, 79.0407, 79.324, 79.6073, 79.8906, 80.1739, 80.4572, 80.7405, 81.0238, 81.3071, 81.5904, 81.8737, 82.157, 82.4403, 82.7236, 83.0069, 83.2902, 83.5735, 83.8568, 84.1401, 84.4234, 84.7067, 84.99, 85.2733, 85.5566, 85.8399, 86.1232, 86.4065, 86.6898, 86.9731, 87.2564, 87.5397, 87.823, 88.1063, 88.3896, 88.6729, 88.9562, 89.2395, 89.5228, 89.8061, 90.0894, 90.3727, 90.656, 90.9393, 91.2226, 91.5059, 91.7892, 92.0725, 92.3558, 92.6391, 92.9224, 93.2057, 93.489, 93.7723, 94.0556, 94.3389, 94.6222, 94.9055, 95.1888, 95.4721, 95.7554, 96.0387, 96.322, 96.6053, 96.8886, 97.1719, 97.4552, 97.7385, 98.0218, 98.3051, 98.5884, 98.8717, 99.155, 99.4383, 99.7216, 100.005, 100.288, 100.572, 100.855, 101.138, 101.421, 101.705, 101.988, 102.271, 102.555, 102.838, 103.121, 103.404, 103.688, 103.971, 104.254, 104.538, 104.821, 105.104, 105.388, 105.671, 105.954, 106.237, 106.521, 106.804, 107.087, 107.371, 107.654, 107.937, 108.221, 108.504, 108.787, 109.07, 109.354, 109.637, 109.92, 110.204, 110.487, 110.77, 111.054, 111.337, 111.62, 111.903, 112.187, 112.47, 112.753, 113.037, 113.32, 113.603, 113.887, 114.17, 114.453, 114.736, 115.02, 115.303, 115.586, 115.87, 116.153, 116.436, 116.72, 117.003, 117.286, 117.57, 117.853, 118.136, 118.419, 118.703, 118.986, 119.269, 119.553, 119.836, 120.119, 120.403, 120.686, 120.969, 121.252, 121.536, 121.819, 122.102, 122.386, 122.669, 122.952, 123.236, 123.519, 123.802, 124.085, 124.369, 124.652, 124.935, 125.219, 125.502, 125.785, 126.069, 126.352, 126.635, 126.918, 127.202, 127.485, 127.768, 128.052, 128.335, 128.618, 128.901, 129.185, 129.468, 129.751, 130.035, 130.318, 130.601, 130.885, 131.168, 131.451, 131.734, 132.018, 132.301, 132.584, 132.868, 133.151, 133.434, 133.718, 134.001, 134.284, 134.567, 134.851, 135.134, 135.417, 135.701, 135.984, 136.267, 136.551, 136.834, 137.117, 137.4, 137.684, 137.967, 138.25, 138.534, 138.817, 139.1, 139.384, 139.667, 139.95, 140.233, 140.517, 140.8, 141.083, 141.367, 141.65, 141.933, 142.217, 142.5, 142.783, 143.066, 143.35, 143.633, 143.916, 144.2, 144.483, 144.766, 145.05, 145.333], \"Energy (eV)\": [0, 1.49306e-05, 3.00952e-05, 4.55314e-05, 6.12774e-05, 7.73721e-05, 9.38551e-05, 0.000110767, 0.00012815, 0.000146047, 0.000164502, 0.000183561, 0.00020327, 0.000223678, 0.000244836, 0.000266796, 0.000289612, 0.000313339, 0.000338037, 0.000363767, 0.000390591, 0.000418576, 0.00044779, 0.000478306, 0.000510198, 0.000543545, 0.000578428, 0.000614934, 0.000653152, 0.000693176, 0.000735103, 0.000779037, 0.000825085, 0.00087336, 0.00092398, 0.000977068, 0.00103275, 0.00109118, 0.00115247, 0.0012168, 0.0012843, 0.00135516, 0.00142953, 0.0015076, 0.00158956, 0.00167561, 0.00176596, 0.00186082, 0.00196042, 0.00206501, 0.00217483, 0.00229015, 0.00241125, 0.00253842, 0.00267196, 0.00281219, 0.00295944, 0.00311407, 0.00327645, 0.00344695, 0.00362598, 0.00381396, 0.00401135, 0.00421859, 0.00443617, 0.00466461, 0.00490443, 0.00515619, 0.00542047, 0.00569788, 0.00598905, 0.00629466, 0.00661539, 0.00695198, 0.00730518, 0.00767578, 0.00806461, 0.00847253, 0.00890045, 0.00934929, 0.00982004, 0.0103137, 0.0108314, 0.0113741, 0.0119431, 0.0125395, 0.0131646, 0.0138196, 0.0145059, 0.0152249, 0.015978, 0.0167666, 0.0175923, 0.0184567, 0.0193614, 0.0203082, 0.0212986, 0.0223345, 0.0234178, 0.0245502, 0.0257338, 0.0269705, 0.0282622, 0.029611, 0.031019, 0.0324883, 0.034021, 0.0355064, 0.0369465, 0.0383433, 0.0396985, 0.0410138, 0.0422907, 0.0435308, 0.0447353, 0.0459057, 0.0470431, 0.0481488, 0.0492237, 0.050269, 0.0512857, 0.0522746, 0.0532367, 0.0541728, 0.0550836, 0.05597, 0.0568326, 0.0576721, 0.0584892, 0.0592845, 0.0600585, 0.0608118, 0.0615449, 0.0622583, 0.0629526, 0.0636281, 0.0642852, 0.0649245, 0.0655463, 0.0661509, 0.0667388, 0.0673102, 0.0678655, 0.068405, 0.068929, 0.0694378, 0.0699316, 0.0704108, 0.0708755, 0.0713261, 0.0717626, 0.0721854, 0.0725947, 0.0729906, 0.0733733, 0.073743, 0.0741, 0.0744442, 0.074776, 0.0750955, 0.0754027, 0.0756979, 0.0759811, 0.0762525, 0.0765122, 0.0767603, 0.076997, 0.0772222, 0.0774361, 0.0776389, 0.0778305, 0.0780111, 0.0781806, 0.0783393, 0.0784872, 0.0786242, 0.0787505, 0.0788661, 0.0789711, 0.0790655, 0.0791494, 0.0792227, 0.0792855, 0.0793378, 0.0793797, 0.0794112, 0.0794322, 0.0794428, 0.079443, 0.0794327, 0.0794121, 0.079381, 0.0793395, 0.0792875, 0.0792251, 0.0791522, 0.0790687, 0.0789747, 0.07887, 0.0787548, 0.0786289, 0.0784922, 0.0783447, 0.0781864, 0.0780172, 0.0778371, 0.0776459, 0.0774435, 0.07723, 0.0770051, 0.0767689, 0.0765212, 0.0762619, 0.0759909, 0.0757081, 0.0754133, 0.0751065, 0.0747875, 0.0744562, 0.0741124, 0.0737559, 0.0733866, 0.0730043, 0.0726089, 0.0722001, 0.0717778, 0.0713417, 0.0708917, 0.0704275, 0.0699488, 0.347338, 0.346811, 0.346283, 0.345757, 0.34523, 0.344703, 0.344177, 0.343651, 0.343125, 0.3426, 0.342075, 0.34155, 0.341025, 0.3405, 0.339976, 0.339452, 0.0610456, 0.0605494, 0.060047, 0.0595387, 0.0590247, 0.0585055, 0.0579812, 0.0574521, 0.0569184, 0.0563803, 0.0558381, 0.055292, 0.0547421, 0.0541887, 0.0536319, 0.0530719, 0.0525089, 0.0519429, 0.0513742, 0.0508029, 0.0502291, 0.0496529, 0.326954, 0.326336, 0.325717, 0.3251, 0.324482, 0.323864, 0.323247, 0.32263, 0.322013, 0.321397, 0.320781, 0.320165, 0.319549, 0.318933, 0.318318, 0.317703, 0.0392086, 0.0386329, 0.0380563, 0.0374787, 0.0369001, 0.0363206, 0.03574, 0.0351583, 0.0345755, 0.0339917, 0.0334066, 0.0328204, 0.032233, 0.0316443, 0.0310544, 0.0304631, 0.0298705, 0.0292764, 0.028681, 0.0280841, 0.0274857, 0.0268857, 0.0262842, 0.025681, 0.0250762, 0.0244697, 0.0238614, 0.0232513, 0.0226393, 0.0220255, 0.0214097, 0.0207919, 0.020172, 0.01955, 0.0189259, 0.0182995, 0.0176709, 0.0170399, 0.0164065, 0.0157706, 0.0151322, 0.0144912, 0.0138475, 0.0132011, 0.0125518, 0.0118997, 0.0112446, 0.0105864, 0.00992513, 0.00926061, 0.00859278, 0.00792156, 0.00724685, 0.00656855, 0.00588657, 0.0052008, 0.00451114, 0.00381748, 0.00311971, 0.00241772, 0.00171138, 0.00100058, 0.000285182, -0.000434938, -0.00115992, -0.00188989, -0.00262501, -0.00336541, -0.00411127, -0.00486272, -0.00561995, -0.00638311, -0.00715239, -0.00792797, -0.00871003, -0.00949879, -0.0102944, -0.0110972, -0.0119072, -0.0127248, -0.0135502, -0.0143836, -0.0152253, -0.0160756, -0.0169347, -0.0178028, -0.0186804, -0.0195677, -0.0204651, -0.0213728, -0.0222913, -0.0232209, -0.0241619, -0.0251148, -0.02608, -0.027058, -0.0280491, -0.0290539, -0.0300729, -0.0311065, -0.0321554, -0.0332201, -0.0343012, -0.0353994, -0.0365152, -0.0376495, -0.0388029, -0.0399762, -0.0411703, -0.0423859, -0.043624, -0.0448856, -0.0461716, -0.0474831, -0.0488213, -0.0501872, -0.0515823, -0.0530078, -0.0544651, -0.0559558, -0.0574813, -0.0590435, -0.0606441, -0.0622851, -0.0639685, -0.0655835, -0.0671325, -0.0686176, -0.0700408, -0.0714043, -0.0727102, -0.0739605, -0.0751573, -0.0763024, -0.0773979, -0.0784456, -0.0794473, -0.0804049, -0.08132, -0.0821944, -0.0830298, -0.0838276, -0.0845895, -0.0853169, -0.0860113, -0.0866741, -0.0873066, -0.0879102, -0.088486, -0.0890352, -0.0895591, -0.0900588, -0.0905352, -0.0909895, -0.0914227, -0.0918356, -0.0922292, -0.0926043, -0.0929619, -0.0933026, -0.0936273, -0.0939367, -0.0942315, -0.0945124, -0.09478, -0.0950349, -0.0952777, -0.0955091, -0.0957294, -0.0959393, -0.0961392, -0.0963296, -0.0965109, -0.0966836, -0.0968481, -0.0970048, -0.097154, -0.0972961, -0.0974314, -0.0975602, -0.097683, -0.0977999, -0.0979112, -0.0980173, -0.0981183, -0.0982145, -0.0983062, -0.0983935, -0.0984767, -0.0985559, -0.0986314, -0.0987034, -0.098772, -0.0988374, -0.0988997, -0.0989591, -0.0990158, -0.0990699, -0.0991215, -0.0991707, -0.0992177, -0.0992625, -0.0993054, -0.0993463, -0.0993855, -0.0994229, -0.0994587, -0.099493, -0.0995258, -0.0995573, -0.0995874, -0.0996164, -0.0996442, -0.099671, -0.0996967, -0.0997215, -0.0997454, -0.0997684, -0.0997907, -0.0998123, -0.0998333, -0.0998536, -0.0998734, -0.0998926, -0.0999114, -0.0999298, -0.0999478, -0.0999655, -0.0999828, -0.1]}, \"0.20000\": {\"Position (nm)\": [0, 0.2833, 0.5666, 0.8499, 1.1332, 1.4165, 1.6998, 1.9831, 2.2664, 2.5497, 2.833, 3.1163, 3.3996, 3.6829, 3.9662, 4.2495, 4.5328, 4.8161, 5.0994, 5.3827, 5.666, 5.9493, 6.2326, 6.5159, 6.7992, 7.0825, 7.3658, 7.6491, 7.9324, 8.2157, 8.499, 8.7823, 9.0656, 9.3489, 9.6322, 9.9155, 10.1988, 10.4821, 10.7654, 11.0487, 11.332, 11.6153, 11.8986, 12.1819, 12.4652, 12.7485, 13.0318, 13.3151, 13.5984, 13.8817, 14.165, 14.4483, 14.7316, 15.0149, 15.2982, 15.5815, 15.8648, 16.1481, 16.4314, 16.7147, 16.998, 17.2813, 17.5646, 17.8479, 18.1312, 18.4145, 18.6978, 18.9811, 19.2644, 19.5477, 19.831, 20.1143, 20.3976, 20.6809, 20.9642, 21.2475, 21.5308, 21.8141, 22.0974, 22.3807, 22.664, 22.9473, 23.2306, 23.5139, 23.7972, 24.0805, 24.3638, 24.6471, 24.9304, 25.2137, 25.497, 25.7803, 26.0636, 26.3469, 26.6302, 26.9135, 27.1968, 27.4801, 27.7634, 28.0467, 28.33, 28.6133, 28.8966, 29.1799, 29.4632, 29.7465, 30.0298, 30.3131, 30.5964, 30.8797, 31.163, 31.4463, 31.7296, 32.0129, 32.2962, 32.5795, 32.8628, 33.1461, 33.4294, 33.7127, 33.996, 34.2793, 34.5626, 34.8459, 35.1292, 35.4125, 35.6958, 35.9791, 36.2624, 36.5457, 36.829, 37.1123, 37.3956, 37.6789, 37.9622, 38.2455, 38.5288, 38.8121, 39.0954, 39.3787, 39.662, 39.9453, 40.2286, 40.5119, 40.7952, 41.0785, 41.3618, 41.6451, 41.9284, 42.2117, 42.495, 42.7783, 43.0616, 43.3449, 43.6282, 43.9115, 44.1948, 44.4781, 44.7614, 45.0447, 45.328, 45.6113, 45.8946, 46.1779, 46.4612, 46.7445, 47.0278, 47.3111, 47.5944, 47.8777, 48.161, 48.4443, 48.7276, 49.0109, 49.2942, 49.5775, 49.8608, 50.1441, 50.4274, 50.7107, 50.994, 51.2773, 51.5606, 51.8439, 52.1272, 52.4105, 52.6938, 52.9771, 53.2604, 53.5437, 53.827, 54.1103, 54.3936, 54.6769, 54.9602, 55.2435, 55.5268, 55.8101, 56.0934, 56.3767, 56.66, 56.9433, 57.2266, 57.5099, 57.7932, 58.0765, 58.3598, 58.6431, 58.9264, 59.2097, 59.493, 59.7763, 60.0596, 60.3429, 60.6262, 60.9095, 61.1928, 61.4761, 61.7594, 62.0427, 62.326, 62.6093, 62.8926, 63.1759, 63.4592, 63.7425, 64.0258, 64.3091, 64.5924, 64.8757, 65.159, 65.4423, 65.7256, 66.0089, 66.2922, 66.5755, 66.8588, 67.1421, 67.4254, 67.7087, 67.992, 68.2753, 68.5586, 68.8419, 69.1252, 69.4085, 69.6918, 69.9751, 70.2584, 70.5417, 70.825, 71.1083, 71.3916, 71.6749, 71.9582, 72.2415, 72.5248, 72.8081, 73.0914, 73.3747, 73.658, 73.9413, 74.2246, 74.5079, 74.7912, 75.0745, 75.3578, 75.6411, 75.9244, 76.2077, 76.491, 76.7743, 77.0576, 77.3409, 77.6242, 77.9075, 78.1908, 78.4741, 78.7574, 79.0407, 79.324, 79.6073, 79.8906, 80.1739, 80.4572, 80.7405, 81.0238, 81.3071, 81.5904, 81.8737, 82.157, 82.4403, 82.7236, 83.0069, 83.2902, 83.5735, 83.8568, 84.1401, 84.4234, 84.7067, 84.99, 85.2733, 85.5566, 85.8399, 86.1232, 86.4065, 86.6898, 86.9731, 87.2564, 87.5397, 87.823, 88.1063, 88.3896, 88.6729, 88.9562, 89.2395, 89.5228, 89.8061, 90.0894, 90.3727, 90.656, 90.9393, 91.2226, 91.5059, 91.7892, 92.0725, 92.3558, 92.6391, 92.9224, 93.2057, 93.489, 93.7723, 94.0556, 94.3389, 94.6222, 94.9055, 95.1888, 95.4721, 95.7554, 96.0387, 96.322, 96.6053, 96.8886, 97.1719, 97.4552, 97.7385, 98.0218, 98.3051, 98.5884, 98.8717, 99.155, 99.4383, 99.7216, 100.005, 100.288, 100.572, 100.855, 101.138, 101.421, 101.705, 101.988, 102.271, 102.555, 102.838, 103.121, 103.404, 103.688, 103.971, 104.254, 104.538, 104.821, 105.104, 105.388, 105.671, 105.954, 106.237, 106.521, 106.804, 107.087, 107.371, 107.654, 107.937, 108.221, 108.504, 108.787, 109.07, 109.354, 109.637, 109.92, 110.204, 110.487, 110.77, 111.054, 111.337, 111.62, 111.903, 112.187, 112.47, 112.753, 113.037, 113.32, 113.603, 113.887, 114.17, 114.453, 114.736, 115.02, 115.303, 115.586, 115.87, 116.153, 116.436, 116.72, 117.003, 117.286, 117.57, 117.853, 118.136, 118.419, 118.703, 118.986, 119.269, 119.553, 119.836, 120.119, 120.403, 120.686, 120.969, 121.252, 121.536, 121.819, 122.102, 122.386, 122.669, 122.952, 123.236, 123.519, 123.802, 124.085, 124.369, 124.652, 124.935, 125.219, 125.502, 125.785, 126.069, 126.352, 126.635, 126.918, 127.202, 127.485, 127.768, 128.052, 128.335, 128.618, 128.901, 129.185, 129.468, 129.751, 130.035, 130.318, 130.601, 130.885, 131.168, 131.451, 131.734, 132.018, 132.301, 132.584, 132.868, 133.151, 133.434, 133.718, 134.001, 134.284, 134.567, 134.851, 135.134, 135.417, 135.701, 135.984, 136.267, 136.551, 136.834, 137.117, 137.4, 137.684, 137.967, 138.25, 138.534, 138.817, 139.1, 139.384, 139.667, 139.95, 140.233, 140.517, 140.8, 141.083, 141.367, 141.65, 141.933, 142.217, 142.5, 142.783, 143.066, 143.35, 143.633, 143.916, 144.2, 144.483, 144.766, 145.05, 145.333], \"Energy (eV)\": [0, 1.44643e-05, 2.91616e-05, 4.41281e-05, 5.94009e-05, 7.50177e-05, 9.10171e-05, 0.000107439, 0.000124323, 0.000141712, 0.000159648, 0.000178175, 0.00019734, 0.000217189, 0.000237772, 0.00025914, 0.000281344, 0.00030444, 0.000328485, 0.000353537, 0.000379659, 0.000406915, 0.000435371, 0.000465099, 0.00049617, 0.000528662, 0.000562654, 0.000598229, 0.000635475, 0.000674484, 0.000715351, 0.000758176, 0.000803063, 0.000850124, 0.000899473, 0.00095123, 0.00100552, 0.00106248, 0.00112225, 0.00118497, 0.00125079, 0.00131989, 0.00139241, 0.00146854, 0.00154847, 0.00163239, 0.00172049, 0.00181301, 0.00191015, 0.00201215, 0.00211926, 0.00223174, 0.00234986, 0.00247389, 0.00260414, 0.00274092, 0.00288456, 0.00303539, 0.00319378, 0.0033601, 0.00353475, 0.00371814, 0.00391069, 0.00411287, 0.00432515, 0.00454802, 0.004782, 0.00502763, 0.00528549, 0.00555618, 0.0058403, 0.00613851, 0.0064515, 0.00677996, 0.00712465, 0.00748634, 0.00786584, 0.00826399, 0.00868168, 0.00911981, 0.00957935, 0.0100613, 0.0105667, 0.0110966, 0.0116522, 0.0122346, 0.012845, 0.0134847, 0.014155, 0.0148573, 0.0155929, 0.0163634, 0.0171701, 0.0180148, 0.0188989, 0.0198242, 0.0207923, 0.021805, 0.0228641, 0.0239714, 0.0251289, 0.0263384, 0.027602, 0.0289217, 0.0302995, 0.0317376, 0.0332379, 0.0346899, 0.0360955, 0.0374567, 0.0387752, 0.0400526, 0.0412905, 0.0424903, 0.0436536, 0.0447814, 0.0458751, 0.0469359, 0.0479648, 0.0489628, 0.0499309, 0.05087, 0.051781, 0.0526648, 0.053522, 0.0543535, 0.0551599, 0.0559418, 0.0567, 0.057435, 0.0581474, 0.0588377, 0.0595065, 0.0601541, 0.0607811, 0.0613879, 0.0619749, 0.0625425, 0.0630911, 0.0636211, 0.0641327, 0.0646263, 0.0651023, 0.0655608, 0.0660022, 0.0664268, 0.0668347, 0.0672263, 0.0676016, 0.0679611, 0.0683048, 0.0686329, 0.0689457, 0.0692433, 0.0695258, 0.0697934, 0.0700463, 0.0702845, 0.0705083, 0.0707176, 0.0709127, 0.0710936, 0.0712604, 0.0714132, 0.0715521, 0.0716771, 0.0717883, 0.0718857, 0.0719695, 0.0720396, 0.0720961, 0.072139, 0.0721683, 0.072184, 0.0721862, 0.0721749, 0.07215, 0.0721115, 0.0720595, 0.0719938, 0.0719145, 0.0718215, 0.0717148, 0.0715943, 0.0714599, 0.0713117, 0.0711495, 0.0709732, 0.0707827, 0.070578, 0.070359, 0.0701255, 0.0698774, 0.0696146, 0.0693369, 0.0690443, 0.0687365, 0.0684134, 0.0680747, 0.0677204, 0.0673503, 0.066964, 0.0665614, 0.0661423, 0.0657064, 0.0652535, 0.0647833, 0.0642954, 0.0637897, 0.0632657, 0.0627233, 0.0621619, 0.0615812, 0.0609809, 0.0603605, 0.0597197, 0.0590579, 0.0583746, 0.0576695, 0.0569419, 0.0561913, 0.0554172, 0.0546188, 0.0537956, 0.0529468, 0.0520718, 0.0511697, 0.0502398, 0.0492813, 0.0482931, 0.325139, 0.324049, 0.32296, 0.321871, 0.320783, 0.319694, 0.318606, 0.317518, 0.316431, 0.315343, 0.314256, 0.313169, 0.312082, 0.310996, 0.30991, 0.308824, 0.0298735, 0.0288518, 0.0278242, 0.0267912, 0.0257533, 0.024711, 0.0236648, 0.0226149, 0.0215619, 0.0205059, 0.0194474, 0.0183865, 0.0173234, 0.0162585, 0.0151919, 0.0141238, 0.0130544, 0.0119837, 0.0109119, 0.00983926, 0.00876574, 0.00769148, 0.284479, 0.283329, 0.28218, 0.281031, 0.279882, 0.278734, 0.277586, 0.276438, 0.27529, 0.274142, 0.272995, 0.271848, 0.270701, 0.269555, 0.268408, 0.267262, -0.0117462, -0.0128175, -0.0138886, -0.0149598, -0.0160309, -0.017102, -0.0181731, -0.0192441, -0.0203152, -0.0213863, -0.0224574, -0.0235285, -0.0245997, -0.0256709, -0.0267422, -0.0278136, -0.028885, -0.0299566, -0.0310283, -0.0321001, -0.0331721, -0.0342442, -0.0353165, -0.036389, -0.0374617, -0.0385347, -0.0396079, -0.0406814, -0.0417552, -0.0428292, -0.0439037, -0.0449785, -0.0460537, -0.0471293, -0.0482053, -0.0492818, -0.0503588, -0.0514364, -0.0525145, -0.0535932, -0.0546725, -0.0557525, -0.0568332, -0.0579146, -0.0589968, -0.0600799, -0.0611638, -0.0622487, -0.0633345, -0.0644213, -0.0655092, -0.0665982, -0.0676885, -0.0687799, -0.0698727, -0.0709668, -0.0720624, -0.0731595, -0.0742581, -0.0753585, -0.0764606, -0.0775645, -0.0786703, -0.0797781, -0.0808881, -0.0820002, -0.0831147, -0.0842316, -0.085351, -0.0864731, -0.087598, -0.0887257, -0.0898565, -0.0909906, -0.0921279, -0.0932688, -0.0944133, -0.0955616, -0.096714, -0.0978705, -0.0990314, -0.100197, -0.101367, -0.102543, -0.103723, -0.10491, -0.106102, -0.1073, -0.108504, -0.109715, -0.110933, -0.112158, -0.113391, -0.114632, -0.115881, -0.117139, -0.118406, -0.119683, -0.120969, -0.122267, -0.123575, -0.124895, -0.126228, -0.127573, -0.128931, -0.130304, -0.131691, -0.133094, -0.134514, -0.13595, -0.137405, -0.138878, -0.140372, -0.141886, -0.143423, -0.144983, -0.146567, -0.148177, -0.149815, -0.151481, -0.153178, -0.154906, -0.156669, -0.158467, -0.160303, -0.162066, -0.163758, -0.165381, -0.166939, -0.168432, -0.169863, -0.171234, -0.172547, -0.173804, -0.175008, -0.17616, -0.177261, -0.178315, -0.179322, -0.180286, -0.181206, -0.182086, -0.182926, -0.183728, -0.184495, -0.185227, -0.185925, -0.186592, -0.187228, -0.187836, -0.188415, -0.188967, -0.189495, -0.189997, -0.190477, -0.190934, -0.19137, -0.191785, -0.192181, -0.192559, -0.192918, -0.193261, -0.193588, -0.1939, -0.194196, -0.194479, -0.194748, -0.195005, -0.195249, -0.195482, -0.195704, -0.195915, -0.196116, -0.196308, -0.196491, -0.196665, -0.19683, -0.196988, -0.197138, -0.197281, -0.197418, -0.197548, -0.197671, -0.197789, -0.197901, -0.198008, -0.19811, -0.198207, -0.1983, -0.198388, -0.198472, -0.198552, -0.198628, -0.198701, -0.19877, -0.198836, -0.198899, -0.198959, -0.199017, -0.199071, -0.199124, -0.199174, -0.199221, -0.199267, -0.199311, -0.199352, -0.199392, -0.199431, -0.199467, -0.199502, -0.199536, -0.199568, -0.1996, -0.199629, -0.199658, -0.199686, -0.199713, -0.199739, -0.199764, -0.199788, -0.199811, -0.199834, -0.199857, -0.199878, -0.1999, -0.19992, -0.199941, -0.199961, -0.199981, -0.2]}, \"0.30000\": {\"Position (nm)\": [0, 0.2833, 0.5666, 0.8499, 1.1332, 1.4165, 1.6998, 1.9831, 2.2664, 2.5497, 2.833, 3.1163, 3.3996, 3.6829, 3.9662, 4.2495, 4.5328, 4.8161, 5.0994, 5.3827, 5.666, 5.9493, 6.2326, 6.5159, 6.7992, 7.0825, 7.3658, 7.6491, 7.9324, 8.2157, 8.499, 8.7823, 9.0656, 9.3489, 9.6322, 9.9155, 10.1988, 10.4821, 10.7654, 11.0487, 11.332, 11.6153, 11.8986, 12.1819, 12.4652, 12.7485, 13.0318, 13.3151, 13.5984, 13.8817, 14.165, 14.4483, 14.7316, 15.0149, 15.2982, 15.5815, 15.8648, 16.1481, 16.4314, 16.7147, 16.998, 17.2813, 17.5646, 17.8479, 18.1312, 18.4145, 18.6978, 18.9811, 19.2644, 19.5477, 19.831, 20.1143, 20.3976, 20.6809, 20.9642, 21.2475, 21.5308, 21.8141, 22.0974, 22.3807, 22.664, 22.9473, 23.2306, 23.5139, 23.7972, 24.0805, 24.3638, 24.6471, 24.9304, 25.2137, 25.497, 25.7803, 26.0636, 26.3469, 26.6302, 26.9135, 27.1968, 27.4801, 27.7634, 28.0467, 28.33, 28.6133, 28.8966, 29.1799, 29.4632, 29.7465, 30.0298, 30.3131, 30.5964, 30.8797, 31.163, 31.4463, 31.7296, 32.0129, 32.2962, 32.5795, 32.8628, 33.1461, 33.4294, 33.7127, 33.996, 34.2793, 34.5626, 34.8459, 35.1292, 35.4125, 35.6958, 35.9791, 36.2624, 36.5457, 36.829, 37.1123, 37.3956, 37.6789, 37.9622, 38.2455, 38.5288, 38.8121, 39.0954, 39.3787, 39.662, 39.9453, 40.2286, 40.5119, 40.7952, 41.0785, 41.3618, 41.6451, 41.9284, 42.2117, 42.495, 42.7783, 43.0616, 43.3449, 43.6282, 43.9115, 44.1948, 44.4781, 44.7614, 45.0447, 45.328, 45.6113, 45.8946, 46.1779, 46.4612, 46.7445, 47.0278, 47.3111, 47.5944, 47.8777, 48.161, 48.4443, 48.7276, 49.0109, 49.2942, 49.5775, 49.8608, 50.1441, 50.4274, 50.7107, 50.994, 51.2773, 51.5606, 51.8439, 52.1272, 52.4105, 52.6938, 52.9771, 53.2604, 53.5437, 53.827, 54.1103, 54.3936, 54.6769, 54.9602, 55.2435, 55.5268, 55.8101, 56.0934, 56.3767, 56.66, 56.9433, 57.2266, 57.5099, 57.7932, 58.0765, 58.3598, 58.6431, 58.9264, 59.2097, 59.493, 59.7763, 60.0596, 60.3429, 60.6262, 60.9095, 61.1928, 61.4761, 61.7594, 62.0427, 62.326, 62.6093, 62.8926, 63.1759, 63.4592, 63.7425, 64.0258, 64.3091, 64.5924, 64.8757, 65.159, 65.4423, 65.7256, 66.0089, 66.2922, 66.5755, 66.8588, 67.1421, 67.4254, 67.7087, 67.992, 68.2753, 68.5586, 68.8419, 69.1252, 69.4085, 69.6918, 69.9751, 70.2584, 70.5417, 70.825, 71.1083, 71.3916, 71.6749, 71.9582, 72.2415, 72.5248, 72.8081, 73.0914, 73.3747, 73.658, 73.9413, 74.2246, 74.5079, 74.7912, 75.0745, 75.3578, 75.6411, 75.9244, 76.2077, 76.491, 76.7743, 77.0576, 77.3409, 77.6242, 77.9075, 78.1908, 78.4741, 78.7574, 79.0407, 79.324, 79.6073, 79.8906, 80.1739, 80.4572, 80.7405, 81.0238, 81.3071, 81.5904, 81.8737, 82.157, 82.4403, 82.7236, 83.0069, 83.2902, 83.5735, 83.8568, 84.1401, 84.4234, 84.7067, 84.99, 85.2733, 85.5566, 85.8399, 86.1232, 86.4065, 86.6898, 86.9731, 87.2564, 87.5397, 87.823, 88.1063, 88.3896, 88.6729, 88.9562, 89.2395, 89.5228, 89.8061, 90.0894, 90.3727, 90.656, 90.9393, 91.2226, 91.5059, 91.7892, 92.0725, 92.3558, 92.6391, 92.9224, 93.2057, 93.489, 93.7723, 94.0556, 94.3389, 94.6222, 94.9055, 95.1888, 95.4721, 95.7554, 96.0387, 96.322, 96.6053, 96.8886, 97.1719, 97.4552, 97.7385, 98.0218, 98.3051, 98.5884, 98.8717, 99.155, 99.4383, 99.7216, 100.005, 100.288, 100.572, 100.855, 101.138, 101.421, 101.705, 101.988, 102.271, 102.555, 102.838, 103.121, 103.404, 103.688, 103.971, 104.254, 104.538, 104.821, 105.104, 105.388, 105.671, 105.954, 106.237, 106.521, 106.804, 107.087, 107.371, 107.654, 107.937, 108.221, 108.504, 108.787, 109.07, 109.354, 109.637, 109.92, 110.204, 110.487, 110.77, 111.054, 111.337, 111.62, 111.903, 112.187, 112.47, 112.753, 113.037, 113.32, 113.603, 113.887, 114.17, 114.453, 114.736, 115.02, 115.303, 115.586, 115.87, 116.153, 116.436, 116.72, 117.003, 117.286, 117.57, 117.853, 118.136, 118.419, 118.703, 118.986, 119.269, 119.553, 119.836, 120.119, 120.403, 120.686, 120.969, 121.252, 121.536, 121.819, 122.102, 122.386, 122.669, 122.952, 123.236, 123.519, 123.802, 124.085, 124.369, 124.652, 124.935, 125.219, 125.502, 125.785, 126.069, 126.352, 126.635, 126.918, 127.202, 127.485, 127.768, 128.052, 128.335, 128.618, 128.901, 129.185, 129.468, 129.751, 130.035, 130.318, 130.601, 130.885, 131.168, 131.451, 131.734, 132.018, 132.301, 132.584, 132.868, 133.151, 133.434, 133.718, 134.001, 134.284, 134.567, 134.851, 135.134, 135.417, 135.701, 135.984, 136.267, 136.551, 136.834, 137.117, 137.4, 137.684, 137.967, 138.25, 138.534, 138.817, 139.1, 139.384, 139.667, 139.95, 140.233, 140.517, 140.8, 141.083, 141.367, 141.65, 141.933, 142.217, 142.5, 142.783, 143.066, 143.35, 143.633, 143.916, 144.2, 144.483, 144.766, 145.05, 145.333], \"Energy (eV)\": [0, 1.41652e-05, 2.85626e-05, 4.32278e-05, 5.81971e-05, 7.35074e-05, 8.91966e-05, 0.000105303, 0.000121868, 0.00013893, 0.000156533, 0.00017472, 0.000193536, 0.000213027, 0.000233241, 0.000254228, 0.00027604, 0.000298731, 0.000322357, 0.000346975, 0.000372646, 0.000399434, 0.000427405, 0.000456626, 0.000487171, 0.000519114, 0.000552534, 0.000587512, 0.000624136, 0.000662493, 0.000702679, 0.000744793, 0.000788936, 0.000835218, 0.000883751, 0.000934655, 0.000988054, 0.00104408, 0.00110286, 0.00116455, 0.0012293, 0.00129726, 0.0013686, 0.00144349, 0.00152211, 0.00160466, 0.00169133, 0.00178233, 0.00187789, 0.00197824, 0.00208361, 0.00219426, 0.00231046, 0.00243249, 0.00256063, 0.0026952, 0.00283651, 0.00298491, 0.00314074, 0.00330438, 0.00347621, 0.00365665, 0.0038461, 0.00404503, 0.0042539, 0.0044732, 0.00470343, 0.00494514, 0.00519888, 0.00546524, 0.00574483, 0.00603829, 0.0063463, 0.00666955, 0.00700878, 0.00736475, 0.00773825, 0.00813012, 0.00854123, 0.00897249, 0.00942483, 0.00989924, 0.0103967, 0.0109184, 0.0114654, 0.0120387, 0.0126397, 0.0132696, 0.0139296, 0.0146211, 0.0153456, 0.0161043, 0.0168989, 0.0177308, 0.0186017, 0.0195131, 0.0204668, 0.0214646, 0.0225081, 0.0235992, 0.0247399, 0.025932, 0.0271775, 0.0284784, 0.0298367, 0.0312545, 0.032734, 0.0341644, 0.0355477, 0.0368859, 0.0381806, 0.0394335, 0.0406461, 0.04182, 0.0429564, 0.0440567, 0.0451221, 0.0461537, 0.0471527, 0.0481199, 0.0490565, 0.0499632, 0.050841, 0.0516907, 0.052513, 0.0533087, 0.0540784, 0.0548229, 0.0555426, 0.0562382, 0.0569103, 0.0575594, 0.0581859, 0.0587904, 0.0593732, 0.0599349, 0.0604758, 0.0609963, 0.0614967, 0.0619774, 0.0624387, 0.0628809, 0.0633044, 0.0637093, 0.064096, 0.0644646, 0.0648155, 0.0651487, 0.0654646, 0.0657633, 0.066045, 0.0663099, 0.0665581, 0.0667897, 0.067005, 0.0672039, 0.0673867, 0.0675534, 0.0677042, 0.067839, 0.0679581, 0.0680614, 0.068149, 0.068221, 0.0682773, 0.0683182, 0.0683434, 0.0683531, 0.0683473, 0.068326, 0.0682891, 0.0682367, 0.0681686, 0.0680849, 0.0679856, 0.0678705, 0.0677397, 0.0675929, 0.0674302, 0.0672515, 0.0670566, 0.0668455, 0.066618, 0.066374, 0.0661134, 0.0658359, 0.0655415, 0.06523, 0.0649011, 0.0645547, 0.0641906, 0.0638085, 0.0634082, 0.0629894, 0.062552, 0.0620955, 0.0616197, 0.0611243, 0.0606089, 0.0600732, 0.0595168, 0.0589393, 0.0583403, 0.0577194, 0.057076, 0.0564098, 0.0557202, 0.0550066, 0.0542684, 0.0535051, 0.0527161, 0.0519005, 0.0510578, 0.0501872, 0.0492878, 0.0483588, 0.0473994, 0.0464085, 0.0453853, 0.0443285, 0.0432371, 0.0421099, 0.0409456, 0.0397428, 0.0385002, 0.0372162, 0.0358892, 0.0345174, 0.0330991, 0.0316322, 0.307962, 0.306339, 0.304716, 0.303093, 0.301471, 0.299849, 0.298227, 0.296606, 0.294985, 0.293364, 0.291743, 0.290122, 0.288502, 0.286882, 0.285262, 0.283643, 0.0041763, 0.00265695, 0.00113298, -0.000394941, -0.00192625, -0.00346044, -0.00499709, -0.00653583, -0.00807633, -0.00961832, -0.0111616, -0.0127058, -0.014251, -0.0157969, -0.0173433, -0.0188902, -0.0204375, -0.0219851, -0.0235329, -0.0250809, -0.026629, -0.0281771, 0.248121, 0.246465, 0.24481, 0.243154, 0.2415, 0.239845, 0.23819, 0.236536, 0.234882, 0.233229, 0.231575, 0.229922, 0.228269, 0.226616, 0.224964, 0.223311, -0.0561866, -0.0577309, -0.059275, -0.0608189, -0.0623626, -0.0639061, -0.0654494, -0.0669925, -0.0685355, -0.0700782, -0.0716207, -0.073163, -0.0747052, -0.0762471, -0.0777889, -0.0793305, -0.0808719, -0.0824132, -0.0839542, -0.0854951, -0.0870359, -0.0885764, -0.0901169, -0.0916571, -0.0931973, -0.0947372, -0.0962771, -0.0978168, -0.0993564, -0.100896, -0.102435, -0.103974, -0.105514, -0.107053, -0.108592, -0.11013, -0.111669, -0.113208, -0.114747, -0.116285, -0.117824, -0.119363, -0.120901, -0.12244, -0.123979, -0.125518, -0.127056, -0.128595, -0.130134, -0.131673, -0.133213, -0.134752, -0.136292, -0.137832, -0.139372, -0.140912, -0.142453, -0.143994, -0.145535, -0.147077, -0.148619, -0.150161, -0.151705, -0.153248, -0.154793, -0.156338, -0.157884, -0.15943, -0.160978, -0.162526, -0.164075, -0.165625, -0.167177, -0.16873, -0.170284, -0.171839, -0.173396, -0.174954, -0.176515, -0.178077, -0.179641, -0.181207, -0.182775, -0.184346, -0.185919, -0.187495, -0.189074, -0.190656, -0.192241, -0.19383, -0.195422, -0.197019, -0.19862, -0.200225, -0.201835, -0.20345, -0.205071, -0.206698, -0.20833, -0.20997, -0.211616, -0.21327, -0.214931, -0.216602, -0.218281, -0.219969, -0.221668, -0.223378, -0.225099, -0.226833, -0.22858, -0.23034, -0.232116, -0.233907, -0.235715, -0.237541, -0.239386, -0.241252, -0.243138, -0.245049, -0.246983, -0.248944, -0.250933, -0.252951, -0.255002, -0.256973, -0.258868, -0.260688, -0.262435, -0.264113, -0.265722, -0.267265, -0.268745, -0.270163, -0.271521, -0.272822, -0.274068, -0.27526, -0.276401, -0.277492, -0.278536, -0.279534, -0.280488, -0.281399, -0.28227, -0.283102, -0.283897, -0.284656, -0.285381, -0.286072, -0.286732, -0.287362, -0.287964, -0.288537, -0.289084, -0.289606, -0.290104, -0.290578, -0.291031, -0.291462, -0.291874, -0.292266, -0.29264, -0.292996, -0.293335, -0.293659, -0.293967, -0.294261, -0.294541, -0.294807, -0.295061, -0.295303, -0.295534, -0.295754, -0.295963, -0.296162, -0.296352, -0.296533, -0.296705, -0.29687, -0.297026, -0.297175, -0.297317, -0.297452, -0.297581, -0.297703, -0.29782, -0.297932, -0.298038, -0.298139, -0.298235, -0.298327, -0.298415, -0.298498, -0.298578, -0.298654, -0.298727, -0.298796, -0.298862, -0.298925, -0.298985, -0.299042, -0.299097, -0.29915, -0.2992, -0.299248, -0.299294, -0.299338, -0.299381, -0.299421, -0.29946, -0.299497, -0.299533, -0.299568, -0.299601, -0.299633, -0.299665, -0.299695, -0.299724, -0.299752, -0.299779, -0.299806, -0.299832, -0.299857, -0.299882, -0.299906, -0.29993, -0.299954, -0.299977, -0.3]}, \"0.40000\": {\"Position (nm)\": [0, 0.2833, 0.5666, 0.8499, 1.1332, 1.4165, 1.6998, 1.9831, 2.2664, 2.5497, 2.833, 3.1163, 3.3996, 3.6829, 3.9662, 4.2495, 4.5328, 4.8161, 5.0994, 5.3827, 5.666, 5.9493, 6.2326, 6.5159, 6.7992, 7.0825, 7.3658, 7.6491, 7.9324, 8.2157, 8.499, 8.7823, 9.0656, 9.3489, 9.6322, 9.9155, 10.1988, 10.4821, 10.7654, 11.0487, 11.332, 11.6153, 11.8986, 12.1819, 12.4652, 12.7485, 13.0318, 13.3151, 13.5984, 13.8817, 14.165, 14.4483, 14.7316, 15.0149, 15.2982, 15.5815, 15.8648, 16.1481, 16.4314, 16.7147, 16.998, 17.2813, 17.5646, 17.8479, 18.1312, 18.4145, 18.6978, 18.9811, 19.2644, 19.5477, 19.831, 20.1143, 20.3976, 20.6809, 20.9642, 21.2475, 21.5308, 21.8141, 22.0974, 22.3807, 22.664, 22.9473, 23.2306, 23.5139, 23.7972, 24.0805, 24.3638, 24.6471, 24.9304, 25.2137, 25.497, 25.7803, 26.0636, 26.3469, 26.6302, 26.9135, 27.1968, 27.4801, 27.7634, 28.0467, 28.33, 28.6133, 28.8966, 29.1799, 29.4632, 29.7465, 30.0298, 30.3131, 30.5964, 30.8797, 31.163, 31.4463, 31.7296, 32.0129, 32.2962, 32.5795, 32.8628, 33.1461, 33.4294, 33.7127, 33.996, 34.2793, 34.5626, 34.8459, 35.1292, 35.4125, 35.6958, 35.9791, 36.2624, 36.5457, 36.829, 37.1123, 37.3956, 37.6789, 37.9622, 38.2455, 38.5288, 38.8121, 39.0954, 39.3787, 39.662, 39.9453, 40.2286, 40.5119, 40.7952, 41.0785, 41.3618, 41.6451, 41.9284, 42.2117, 42.495, 42.7783, 43.0616, 43.3449, 43.6282, 43.9115, 44.1948, 44.4781, 44.7614, 45.0447, 45.328, 45.6113, 45.8946, 46.1779, 46.4612, 46.7445, 47.0278, 47.3111, 47.5944, 47.8777, 48.161, 48.4443, 48.7276, 49.0109, 49.2942, 49.5775, 49.8608, 50.1441, 50.4274, 50.7107, 50.994, 51.2773, 51.5606, 51.8439, 52.1272, 52.4105, 52.6938, 52.9771, 53.2604, 53.5437, 53.827, 54.1103, 54.3936, 54.6769, 54.9602, 55.2435, 55.5268, 55.8101, 56.0934, 56.3767, 56.66, 56.9433, 57.2266, 57.5099, 57.7932, 58.0765, 58.3598, 58.6431, 58.9264, 59.2097, 59.493, 59.7763, 60.0596, 60.3429, 60.6262, 60.9095, 61.1928, 61.4761, 61.7594, 62.0427, 62.326, 62.6093, 62.8926, 63.1759, 63.4592, 63.7425, 64.0258, 64.3091, 64.5924, 64.8757, 65.159, 65.4423, 65.7256, 66.0089, 66.2922, 66.5755, 66.8588, 67.1421, 67.4254, 67.7087, 67.992, 68.2753, 68.5586, 68.8419, 69.1252, 69.4085, 69.6918, 69.9751, 70.2584, 70.5417, 70.825, 71.1083, 71.3916, 71.6749, 71.9582, 72.2415, 72.5248, 72.8081, 73.0914, 73.3747, 73.658, 73.9413, 74.2246, 74.5079, 74.7912, 75.0745, 75.3578, 75.6411, 75.9244, 76.2077, 76.491, 76.7743, 77.0576, 77.3409, 77.6242, 77.9075, 78.1908, 78.4741, 78.7574, 79.0407, 79.324, 79.6073, 79.8906, 80.1739, 80.4572, 80.7405, 81.0238, 81.3071, 81.5904, 81.8737, 82.157, 82.4403, 82.7236, 83.0069, 83.2902, 83.5735, 83.8568, 84.1401, 84.4234, 84.7067, 84.99, 85.2733, 85.5566, 85.8399, 86.1232, 86.4065, 86.6898, 86.9731, 87.2564, 87.5397, 87.823, 88.1063, 88.3896, 88.6729, 88.9562, 89.2395, 89.5228, 89.8061, 90.0894, 90.3727, 90.656, 90.9393, 91.2226, 91.5059, 91.7892, 92.0725, 92.3558, 92.6391, 92.9224, 93.2057, 93.489, 93.7723, 94.0556, 94.3389, 94.6222, 94.9055, 95.1888, 95.4721, 95.7554, 96.0387, 96.322, 96.6053, 96.8886, 97.1719, 97.4552, 97.7385, 98.0218, 98.3051, 98.5884, 98.8717, 99.155, 99.4383, 99.7216, 100.005, 100.288, 100.572, 100.855, 101.138, 101.421, 101.705, 101.988, 102.271, 102.555, 102.838, 103.121, 103.404, 103.688, 103.971, 104.254, 104.538, 104.821, 105.104, 105.388, 105.671, 105.954, 106.237, 106.521, 106.804, 107.087, 107.371, 107.654, 107.937, 108.221, 108.504, 108.787, 109.07, 109.354, 109.637, 109.92, 110.204, 110.487, 110.77, 111.054, 111.337, 111.62, 111.903, 112.187, 112.47, 112.753, 113.037, 113.32, 113.603, 113.887, 114.17, 114.453, 114.736, 115.02, 115.303, 115.586, 115.87, 116.153, 116.436, 116.72, 117.003, 117.286, 117.57, 117.853, 118.136, 118.419, 118.703, 118.986, 119.269, 119.553, 119.836, 120.119, 120.403, 120.686, 120.969, 121.252, 121.536, 121.819, 122.102, 122.386, 122.669, 122.952, 123.236, 123.519, 123.802, 124.085, 124.369, 124.652, 124.935, 125.219, 125.502, 125.785, 126.069, 126.352, 126.635, 126.918, 127.202, 127.485, 127.768, 128.052, 128.335, 128.618, 128.901, 129.185, 129.468, 129.751, 130.035, 130.318, 130.601, 130.885, 131.168, 131.451, 131.734, 132.018, 132.301, 132.584, 132.868, 133.151, 133.434, 133.718, 134.001, 134.284, 134.567, 134.851, 135.134, 135.417, 135.701, 135.984, 136.267, 136.551, 136.834, 137.117, 137.4, 137.684, 137.967, 138.25, 138.534, 138.817, 139.1, 139.384, 139.667, 139.95, 140.233, 140.517, 140.8, 141.083, 141.367, 141.65, 141.933, 142.217, 142.5, 142.783, 143.066, 143.35, 143.633, 143.916, 144.2, 144.483, 144.766, 145.05, 145.333], \"Energy (eV)\": [0, 1.39526e-05, 2.81368e-05, 4.25878e-05, 5.73412e-05, 7.24336e-05, 8.79022e-05, 0.000103785, 0.000120122, 0.000136953, 0.000154319, 0.000172264, 0.000190831, 0.000210067, 0.000230019, 0.000250736, 0.00027227, 0.000294672, 0.000318, 0.000342309, 0.00036766, 0.000394116, 0.000421741, 0.000450603, 0.000480773, 0.000512326, 0.000545339, 0.000579893, 0.000616073, 0.000653968, 0.00069367, 0.000735278, 0.000778892, 0.00082462, 0.000872574, 0.00092287, 0.000975633, 0.00103099, 0.00108908, 0.00115004, 0.00121402, 0.00128117, 0.00135166, 0.00142567, 0.00150336, 0.00158494, 0.00167059, 0.00176053, 0.00185496, 0.00195413, 0.00205826, 0.00216762, 0.00228245, 0.00240305, 0.00252969, 0.00266268, 0.00280235, 0.00294901, 0.00310302, 0.00326476, 0.00343459, 0.00361292, 0.00380017, 0.00399679, 0.00420324, 0.00441999, 0.00464756, 0.00488647, 0.00513727, 0.00540056, 0.00567693, 0.00596702, 0.00627149, 0.00659103, 0.00692637, 0.00727826, 0.0076475, 0.0080349, 0.00844133, 0.00886769, 0.0093149, 0.00978394, 0.0102758, 0.0107916, 0.0113324, 0.0118994, 0.0124937, 0.0131165, 0.0137692, 0.0144531, 0.0151695, 0.0159199, 0.0167058, 0.0175287, 0.0183901, 0.0192917, 0.0202352, 0.0212222, 0.0222546, 0.0233343, 0.0244629, 0.0256425, 0.0268751, 0.0281626, 0.029507, 0.0309104, 0.032375, 0.03379, 0.0351574, 0.036479, 0.0377567, 0.0389921, 0.0401867, 0.0413419, 0.0424592, 0.0435398, 0.0445849, 0.0455957, 0.0465731, 0.0475184, 0.0484323, 0.0493158, 0.0501698, 0.050995, 0.0517922, 0.0525622, 0.0533055, 0.0540229, 0.054715, 0.0553823, 0.0560253, 0.0566447, 0.0572408, 0.0578141, 0.0583651, 0.0588942, 0.0594017, 0.059888, 0.0603536, 0.0607986, 0.0612235, 0.0616284, 0.0620138, 0.0623798, 0.0627266, 0.0630546, 0.0633639, 0.0636547, 0.0639272, 0.0641815, 0.0644179, 0.0646365, 0.0648374, 0.0650207, 0.0651866, 0.0653351, 0.0654664, 0.0655805, 0.0656775, 0.0657574, 0.0658203, 0.0658662, 0.0658952, 0.0659073, 0.0659024, 0.0658806, 0.0658419, 0.0657862, 0.0657135, 0.0656238, 0.065517, 0.0653931, 0.0652519, 0.0650934, 0.0649175, 0.0647241, 0.0645131, 0.0642843, 0.0640376, 0.0637728, 0.0634898, 0.0631884, 0.0628684, 0.0625297, 0.0621718, 0.0617948, 0.0613982, 0.0609818, 0.0605454, 0.0600886, 0.0596112, 0.0591127, 0.0585928, 0.0580512, 0.0574874, 0.0569011, 0.0562917, 0.0556588, 0.0550019, 0.0543204, 0.0536139, 0.0528817, 0.0521231, 0.0513376, 0.0505244, 0.0496827, 0.0488119, 0.047911, 0.0469792, 0.0460155, 0.0450191, 0.0439887, 0.0429234, 0.0418219, 0.0406829, 0.0395052, 0.0382874, 0.0370279, 0.0357252, 0.0343774, 0.0329829, 0.0315397, 0.0300457, 0.0284987, 0.0268964, 0.0252362, 0.0235154, 0.0217312, 0.0198804, 0.0179597, 0.293796, 0.291663, 0.289531, 0.287399, 0.285267, 0.283135, 0.281003, 0.278872, 0.276741, 0.27461, 0.27248, 0.27035, 0.26822, 0.26609, 0.26396, 0.261831, -0.0181285, -0.0201229, -0.0221204, -0.0241204, -0.0261224, -0.028126, -0.0301308, -0.0321367, -0.0341433, -0.0361505, -0.0381582, -0.0401662, -0.0421744, -0.0441827, -0.0461911, -0.0481995, -0.0502079, -0.0522163, -0.0542245, -0.0562326, -0.0582406, -0.0602484, 0.215574, 0.213427, 0.21128, 0.209133, 0.206987, 0.204841, 0.202695, 0.200549, 0.198404, 0.196258, 0.194113, 0.191969, 0.189824, 0.18768, 0.185536, 0.183392, -0.0965813, -0.0985851, -0.100589, -0.102592, -0.104595, -0.106598, -0.108601, -0.110603, -0.112605, -0.114608, -0.116609, -0.118611, -0.120612, -0.122613, -0.124614, -0.126615, -0.128615, -0.130616, -0.132616, -0.134616, -0.136615, -0.138615, -0.140614, -0.142613, -0.144611, -0.14661, -0.148608, -0.150606, -0.152604, -0.154602, -0.156599, -0.158597, -0.160594, -0.162591, -0.164587, -0.166584, -0.16858, -0.170576, -0.172572, -0.174568, -0.176563, -0.178558, -0.180554, -0.182549, -0.184543, -0.186538, -0.188532, -0.190527, -0.192521, -0.194515, -0.196509, -0.198503, -0.200496, -0.20249, -0.204483, -0.206476, -0.20847, -0.210463, -0.212456, -0.214449, -0.216442, -0.218435, -0.220428, -0.222421, -0.224414, -0.226407, -0.2284, -0.230393, -0.232387, -0.23438, -0.236374, -0.238368, -0.240362, -0.242356, -0.244351, -0.246346, -0.248342, -0.250338, -0.252334, -0.254331, -0.256329, -0.258328, -0.260327, -0.262327, -0.264329, -0.266331, -0.268334, -0.270339, -0.272345, -0.274353, -0.276362, -0.278373, -0.280386, -0.282402, -0.284419, -0.286439, -0.288462, -0.290488, -0.292518, -0.29455, -0.296587, -0.298628, -0.300673, -0.302724, -0.304779, -0.30684, -0.308908, -0.310982, -0.313064, -0.315153, -0.317251, -0.319359, -0.321476, -0.323604, -0.325743, -0.327895, -0.330061, -0.332242, -0.334438, -0.336651, -0.338883, -0.341135, -0.343408, -0.345705, -0.348027, -0.350263, -0.352415, -0.354486, -0.356478, -0.358392, -0.360231, -0.361997, -0.363692, -0.365318, -0.366878, -0.368374, -0.369808, -0.371181, -0.372497, -0.373756, -0.374962, -0.376116, -0.37722, -0.378275, -0.379285, -0.38025, -0.381172, -0.382053, -0.382895, -0.383699, -0.384467, -0.385201, -0.385901, -0.386569, -0.387206, -0.387815, -0.388396, -0.388949, -0.389478, -0.389982, -0.390462, -0.39092, -0.391357, -0.391774, -0.392171, -0.392549, -0.39291, -0.393254, -0.393582, -0.393894, -0.394191, -0.394475, -0.394745, -0.395003, -0.395248, -0.395482, -0.395704, -0.395917, -0.396119, -0.396311, -0.396495, -0.396669, -0.396836, -0.396995, -0.397146, -0.39729, -0.397427, -0.397558, -0.397683, -0.397802, -0.397915, -0.398023, -0.398126, -0.398224, -0.398318, -0.398407, -0.398492, -0.398574, -0.398651, -0.398726, -0.398797, -0.398864, -0.398929, -0.398991, -0.39905, -0.399107, -0.399161, -0.399213, -0.399263, -0.399311, -0.399357, -0.399401, -0.399444, -0.399485, -0.399524, -0.399562, -0.399599, -0.399635, -0.399669, -0.399703, -0.399736, -0.399767, -0.399798, -0.399829, -0.399858, -0.399887, -0.399916, -0.399944, -0.399972, -0.4]}, \"0.50000\": {\"Position (nm)\": [0, 0.2833, 0.5666, 0.8499, 1.1332, 1.4165, 1.6998, 1.9831, 2.2664, 2.5497, 2.833, 3.1163, 3.3996, 3.6829, 3.9662, 4.2495, 4.5328, 4.8161, 5.0994, 5.3827, 5.666, 5.9493, 6.2326, 6.5159, 6.7992, 7.0825, 7.3658, 7.6491, 7.9324, 8.2157, 8.499, 8.7823, 9.0656, 9.3489, 9.6322, 9.9155, 10.1988, 10.4821, 10.7654, 11.0487, 11.332, 11.6153, 11.8986, 12.1819, 12.4652, 12.7485, 13.0318, 13.3151, 13.5984, 13.8817, 14.165, 14.4483, 14.7316, 15.0149, 15.2982, 15.5815, 15.8648, 16.1481, 16.4314, 16.7147, 16.998, 17.2813, 17.5646, 17.8479, 18.1312, 18.4145, 18.6978, 18.9811, 19.2644, 19.5477, 19.831, 20.1143, 20.3976, 20.6809, 20.9642, 21.2475, 21.5308, 21.8141, 22.0974, 22.3807, 22.664, 22.9473, 23.2306, 23.5139, 23.7972, 24.0805, 24.3638, 24.6471, 24.9304, 25.2137, 25.497, 25.7803, 26.0636, 26.3469, 26.6302, 26.9135, 27.1968, 27.4801, 27.7634, 28.0467, 28.33, 28.6133, 28.8966, 29.1799, 29.4632, 29.7465, 30.0298, 30.3131, 30.5964, 30.8797, 31.163, 31.4463, 31.7296, 32.0129, 32.2962, 32.5795, 32.8628, 33.1461, 33.4294, 33.7127, 33.996, 34.2793, 34.5626, 34.8459, 35.1292, 35.4125, 35.6958, 35.9791, 36.2624, 36.5457, 36.829, 37.1123, 37.3956, 37.6789, 37.9622, 38.2455, 38.5288, 38.8121, 39.0954, 39.3787, 39.662, 39.9453, 40.2286, 40.5119, 40.7952, 41.0785, 41.3618, 41.6451, 41.9284, 42.2117, 42.495, 42.7783, 43.0616, 43.3449, 43.6282, 43.9115, 44.1948, 44.4781, 44.7614, 45.0447, 45.328, 45.6113, 45.8946, 46.1779, 46.4612, 46.7445, 47.0278, 47.3111, 47.5944, 47.8777, 48.161, 48.4443, 48.7276, 49.0109, 49.2942, 49.5775, 49.8608, 50.1441, 50.4274, 50.7107, 50.994, 51.2773, 51.5606, 51.8439, 52.1272, 52.4105, 52.6938, 52.9771, 53.2604, 53.5437, 53.827, 54.1103, 54.3936, 54.6769, 54.9602, 55.2435, 55.5268, 55.8101, 56.0934, 56.3767, 56.66, 56.9433, 57.2266, 57.5099, 57.7932, 58.0765, 58.3598, 58.6431, 58.9264, 59.2097, 59.493, 59.7763, 60.0596, 60.3429, 60.6262, 60.9095, 61.1928, 61.4761, 61.7594, 62.0427, 62.326, 62.6093, 62.8926, 63.1759, 63.4592, 63.7425, 64.0258, 64.3091, 64.5924, 64.8757, 65.159, 65.4423, 65.7256, 66.0089, 66.2922, 66.5755, 66.8588, 67.1421, 67.4254, 67.7087, 67.992, 68.2753, 68.5586, 68.8419, 69.1252, 69.4085, 69.6918, 69.9751, 70.2584, 70.5417, 70.825, 71.1083, 71.3916, 71.6749, 71.9582, 72.2415, 72.5248, 72.8081, 73.0914, 73.3747, 73.658, 73.9413, 74.2246, 74.5079, 74.7912, 75.0745, 75.3578, 75.6411, 75.9244, 76.2077, 76.491, 76.7743, 77.0576, 77.3409, 77.6242, 77.9075, 78.1908, 78.4741, 78.7574, 79.0407, 79.324, 79.6073, 79.8906, 80.1739, 80.4572, 80.7405, 81.0238, 81.3071, 81.5904, 81.8737, 82.157, 82.4403, 82.7236, 83.0069, 83.2902, 83.5735, 83.8568, 84.1401, 84.4234, 84.7067, 84.99, 85.2733, 85.5566, 85.8399, 86.1232, 86.4065, 86.6898, 86.9731, 87.2564, 87.5397, 87.823, 88.1063, 88.3896, 88.6729, 88.9562, 89.2395, 89.5228, 89.8061, 90.0894, 90.3727, 90.656, 90.9393, 91.2226, 91.5059, 91.7892, 92.0725, 92.3558, 92.6391, 92.9224, 93.2057, 93.489, 93.7723, 94.0556, 94.3389, 94.6222, 94.9055, 95.1888, 95.4721, 95.7554, 96.0387, 96.322, 96.6053, 96.8886, 97.1719, 97.4552, 97.7385, 98.0218, 98.3051, 98.5884, 98.8717, 99.155, 99.4383, 99.7216, 100.005, 100.288, 100.572, 100.855, 101.138, 101.421, 101.705, 101.988, 102.271, 102.555, 102.838, 103.121, 103.404, 103.688, 103.971, 104.254, 104.538, 104.821, 105.104, 105.388, 105.671, 105.954, 106.237, 106.521, 106.804, 107.087, 107.371, 107.654, 107.937, 108.221, 108.504, 108.787, 109.07, 109.354, 109.637, 109.92, 110.204, 110.487, 110.77, 111.054, 111.337, 111.62, 111.903, 112.187, 112.47, 112.753, 113.037, 113.32, 113.603, 113.887, 114.17, 114.453, 114.736, 115.02, 115.303, 115.586, 115.87, 116.153, 116.436, 116.72, 117.003, 117.286, 117.57, 117.853, 118.136, 118.419, 118.703, 118.986, 119.269, 119.553, 119.836, 120.119, 120.403, 120.686, 120.969, 121.252, 121.536, 121.819, 122.102, 122.386, 122.669, 122.952, 123.236, 123.519, 123.802, 124.085, 124.369, 124.652, 124.935, 125.219, 125.502, 125.785, 126.069, 126.352, 126.635, 126.918, 127.202, 127.485, 127.768, 128.052, 128.335, 128.618, 128.901, 129.185, 129.468, 129.751, 130.035, 130.318, 130.601, 130.885, 131.168, 131.451, 131.734, 132.018, 132.301, 132.584, 132.868, 133.151, 133.434, 133.718, 134.001, 134.284, 134.567, 134.851, 135.134, 135.417, 135.701, 135.984, 136.267, 136.551, 136.834, 137.117, 137.4, 137.684, 137.967, 138.25, 138.534, 138.817, 139.1, 139.384, 139.667, 139.95, 140.233, 140.517, 140.8, 141.083, 141.367, 141.65, 141.933, 142.217, 142.5, 142.783, 143.066, 143.35, 143.633, 143.916, 144.2, 144.483, 144.766, 145.05, 145.333], \"Energy (eV)\": [0, 1.37893e-05, 2.78098e-05, 4.20963e-05, 5.6684e-05, 7.1609e-05, 8.69083e-05, 0.000102619, 0.000118781, 0.000135434, 0.000152619, 0.000170377, 0.000188754, 0.000207794, 0.000227545, 0.000248055, 0.000269374, 0.000291556, 0.000314654, 0.000338726, 0.000363832, 0.000390032, 0.000417391, 0.000445977, 0.00047586, 0.000507114, 0.000539814, 0.000574042, 0.000609882, 0.000647421, 0.000686752, 0.000727971, 0.000771179, 0.000816482, 0.00086399, 0.00091382, 0.000966095, 0.00102094, 0.00107849, 0.00113889, 0.00120228, 0.00126882, 0.00133866, 0.00141199, 0.00148897, 0.0015698, 0.00165466, 0.00174378, 0.00183735, 0.00193561, 0.00203879, 0.00214715, 0.00226094, 0.00238044, 0.00250593, 0.00263771, 0.00277611, 0.00292144, 0.00307406, 0.00323432, 0.00340262, 0.00357934, 0.0037649, 0.00395974, 0.00416433, 0.00437912, 0.00460464, 0.0048414, 0.00508996, 0.00535088, 0.00562478, 0.00591227, 0.00621402, 0.00653071, 0.00686306, 0.00721183, 0.00757778, 0.00796175, 0.00836459, 0.00878718, 0.00923045, 0.00969537, 0.010183, 0.0106942, 0.0112303, 0.0117923, 0.0123814, 0.0129989, 0.013646, 0.014324, 0.0150343, 0.0157783, 0.0165575, 0.0173733, 0.0182275, 0.0191215, 0.0200571, 0.021036, 0.0220598, 0.0231305, 0.02425, 0.02542, 0.0266426, 0.0279197, 0.0292534, 0.0306458, 0.0320989, 0.033502, 0.0348571, 0.0361661, 0.0374307, 0.0386525, 0.0398332, 0.0409741, 0.0420765, 0.0431419, 0.0441713, 0.045166, 0.0461269, 0.0470551, 0.0479516, 0.0488171, 0.0496527, 0.050459, 0.0512368, 0.0519868, 0.0527097, 0.0534062, 0.0540768, 0.0547221, 0.0553427, 0.0559389, 0.0565114, 0.0570606, 0.0575868, 0.0580905, 0.0585722, 0.059032, 0.0594704, 0.0598877, 0.0602841, 0.06066, 0.0610156, 0.0613512, 0.061667, 0.0619632, 0.06224, 0.0624976, 0.0627361, 0.0629557, 0.0631566, 0.0633389, 0.0635027, 0.0636481, 0.0637752, 0.063884, 0.0639747, 0.0640473, 0.0641019, 0.0641384, 0.064157, 0.0641575, 0.0641401, 0.0641047, 0.0640513, 0.0639798, 0.0638902, 0.0637825, 0.0636565, 0.0635123, 0.0633497, 0.0631686, 0.0629688, 0.0627504, 0.062513, 0.0622566, 0.0619811, 0.0616861, 0.0613715, 0.0610372, 0.0606828, 0.0603082, 0.059913, 0.0594971, 0.05906, 0.0586015, 0.0581213, 0.0576189, 0.0570941, 0.0565464, 0.0559754, 0.0553806, 0.0547616, 0.0541179, 0.0534489, 0.052754, 0.0520328, 0.0512844, 0.0505084, 0.0497039, 0.0488702, 0.0480065, 0.0471121, 0.0461859, 0.045227, 0.0442345, 0.0432073, 0.0421442, 0.0410441, 0.0399056, 0.0387275, 0.0375082, 0.0362464, 0.0349402, 0.033588, 0.032188, 0.0307381, 0.0292362, 0.0276802, 0.0260675, 0.0243956, 0.0226617, 0.0208629, 0.018996, 0.0170576, 0.015044, 0.0129514, 0.0107754, 0.00851157, 0.00615499, 0.281515, 0.27889, 0.276265, 0.27364, 0.271015, 0.268391, 0.265767, 0.263143, 0.26052, 0.257897, 0.255274, 0.252651, 0.250028, 0.247406, 0.244784, 0.242162, -0.038274, -0.0407275, -0.0431828, -0.0456396, -0.0480974, -0.050556, -0.0530151, -0.0554745, -0.0579342, -0.0603941, -0.0628539, -0.0653138, -0.0677736, -0.0702333, -0.0726929, -0.0751523, -0.0776115, -0.0800706, -0.0825295, -0.0849882, -0.0874466, -0.0899049, 0.185451, 0.182822, 0.180194, 0.177565, 0.174937, 0.172309, 0.169682, 0.167054, 0.164427, 0.1618, 0.159173, 0.156547, 0.15392, 0.151295, 0.148669, 0.146043, -0.134396, -0.136851, -0.139305, -0.141758, -0.144212, -0.146665, -0.149118, -0.151571, -0.154024, -0.156476, -0.158928, -0.16138, -0.163832, -0.166283, -0.168735, -0.171186, -0.173637, -0.176087, -0.178538, -0.180988, -0.183438, -0.185887, -0.188337, -0.190786, -0.193235, -0.195684, -0.198132, -0.200581, -0.203029, -0.205477, -0.207925, -0.210372, -0.212819, -0.215266, -0.217713, -0.22016, -0.222606, -0.225052, -0.227498, -0.229944, -0.232389, -0.234834, -0.237279, -0.239724, -0.242169, -0.244613, -0.247057, -0.249501, -0.251945, -0.254389, -0.256832, -0.259275, -0.261718, -0.264161, -0.266603, -0.269046, -0.271488, -0.27393, -0.276371, -0.278813, -0.281254, -0.283696, -0.286137, -0.288578, -0.291018, -0.293459, -0.295899, -0.29834, -0.30078, -0.30322, -0.30566, -0.3081, -0.31054, -0.312979, -0.315419, -0.317859, -0.320298, -0.322738, -0.325178, -0.327617, -0.330057, -0.332497, -0.334937, -0.337378, -0.339818, -0.342259, -0.3447, -0.347142, -0.349584, -0.352026, -0.354469, -0.356913, -0.359357, -0.361803, -0.364249, -0.366696, -0.369145, -0.371595, -0.374046, -0.376499, -0.378954, -0.38141, -0.38387, -0.386331, -0.388796, -0.391263, -0.393734, -0.396208, -0.398687, -0.40117, -0.403658, -0.406152, -0.408652, -0.411158, -0.413672, -0.416193, -0.418724, -0.421265, -0.423816, -0.426378, -0.428954, -0.431544, -0.434149, -0.436771, -0.439412, -0.441961, -0.444418, -0.446787, -0.449069, -0.451267, -0.453381, -0.455415, -0.457371, -0.45925, -0.461055, -0.462788, -0.464451, -0.466047, -0.467577, -0.469044, -0.47045, -0.471796, -0.473086, -0.47432, -0.475502, -0.476633, -0.477714, -0.478748, -0.479737, -0.480682, -0.481586, -0.482449, -0.483273, -0.48406, -0.484812, -0.48553, -0.486216, -0.48687, -0.487494, -0.48809, -0.488658, -0.4892, -0.489717, -0.49021, -0.49068, -0.491129, -0.491556, -0.491964, -0.492353, -0.492723, -0.493076, -0.493413, -0.493734, -0.494039, -0.494331, -0.494608, -0.494873, -0.495125, -0.495365, -0.495594, -0.495813, -0.49602, -0.496219, -0.496407, -0.496587, -0.496759, -0.496922, -0.497078, -0.497226, -0.497368, -0.497503, -0.497632, -0.497754, -0.497871, -0.497983, -0.49809, -0.498191, -0.498288, -0.498381, -0.49847, -0.498554, -0.498635, -0.498712, -0.498786, -0.498857, -0.498925, -0.49899, -0.499052, -0.499112, -0.499169, -0.499224, -0.499277, -0.499328, -0.499377, -0.499425, -0.499471, -0.499515, -0.499558, -0.499599, -0.49964, -0.499679, -0.499718, -0.499755, -0.499792, -0.499828, -0.499863, -0.499898, -0.499932, -0.499966, -0.5]}, \"0.60000\": {\"Position (nm)\": [0, 0.2833, 0.5666, 0.8499, 1.1332, 1.4165, 1.6998, 1.9831, 2.2664, 2.5497, 2.833, 3.1163, 3.3996, 3.6829, 3.9662, 4.2495, 4.5328, 4.8161, 5.0994, 5.3827, 5.666, 5.9493, 6.2326, 6.5159, 6.7992, 7.0825, 7.3658, 7.6491, 7.9324, 8.2157, 8.499, 8.7823, 9.0656, 9.3489, 9.6322, 9.9155, 10.1988, 10.4821, 10.7654, 11.0487, 11.332, 11.6153, 11.8986, 12.1819, 12.4652, 12.7485, 13.0318, 13.3151, 13.5984, 13.8817, 14.165, 14.4483, 14.7316, 15.0149, 15.2982, 15.5815, 15.8648, 16.1481, 16.4314, 16.7147, 16.998, 17.2813, 17.5646, 17.8479, 18.1312, 18.4145, 18.6978, 18.9811, 19.2644, 19.5477, 19.831, 20.1143, 20.3976, 20.6809, 20.9642, 21.2475, 21.5308, 21.8141, 22.0974, 22.3807, 22.664, 22.9473, 23.2306, 23.5139, 23.7972, 24.0805, 24.3638, 24.6471, 24.9304, 25.2137, 25.497, 25.7803, 26.0636, 26.3469, 26.6302, 26.9135, 27.1968, 27.4801, 27.7634, 28.0467, 28.33, 28.6133, 28.8966, 29.1799, 29.4632, 29.7465, 30.0298, 30.3131, 30.5964, 30.8797, 31.163, 31.4463, 31.7296, 32.0129, 32.2962, 32.5795, 32.8628, 33.1461, 33.4294, 33.7127, 33.996, 34.2793, 34.5626, 34.8459, 35.1292, 35.4125, 35.6958, 35.9791, 36.2624, 36.5457, 36.829, 37.1123, 37.3956, 37.6789, 37.9622, 38.2455, 38.5288, 38.8121, 39.0954, 39.3787, 39.662, 39.9453, 40.2286, 40.5119, 40.7952, 41.0785, 41.3618, 41.6451, 41.9284, 42.2117, 42.495, 42.7783, 43.0616, 43.3449, 43.6282, 43.9115, 44.1948, 44.4781, 44.7614, 45.0447, 45.328, 45.6113, 45.8946, 46.1779, 46.4612, 46.7445, 47.0278, 47.3111, 47.5944, 47.8777, 48.161, 48.4443, 48.7276, 49.0109, 49.2942, 49.5775, 49.8608, 50.1441, 50.4274, 50.7107, 50.994, 51.2773, 51.5606, 51.8439, 52.1272, 52.4105, 52.6938, 52.9771, 53.2604, 53.5437, 53.827, 54.1103, 54.3936, 54.6769, 54.9602, 55.2435, 55.5268, 55.8101, 56.0934, 56.3767, 56.66, 56.9433, 57.2266, 57.5099, 57.7932, 58.0765, 58.3598, 58.6431, 58.9264, 59.2097, 59.493, 59.7763, 60.0596, 60.3429, 60.6262, 60.9095, 61.1928, 61.4761, 61.7594, 62.0427, 62.326, 62.6093, 62.8926, 63.1759, 63.4592, 63.7425, 64.0258, 64.3091, 64.5924, 64.8757, 65.159, 65.4423, 65.7256, 66.0089, 66.2922, 66.5755, 66.8588, 67.1421, 67.4254, 67.7087, 67.992, 68.2753, 68.5586, 68.8419, 69.1252, 69.4085, 69.6918, 69.9751, 70.2584, 70.5417, 70.825, 71.1083, 71.3916, 71.6749, 71.9582, 72.2415, 72.5248, 72.8081, 73.0914, 73.3747, 73.658, 73.9413, 74.2246, 74.5079, 74.7912, 75.0745, 75.3578, 75.6411, 75.9244, 76.2077, 76.491, 76.7743, 77.0576, 77.3409, 77.6242, 77.9075, 78.1908, 78.4741, 78.7574, 79.0407, 79.324, 79.6073, 79.8906, 80.1739, 80.4572, 80.7405, 81.0238, 81.3071, 81.5904, 81.8737, 82.157, 82.4403, 82.7236, 83.0069, 83.2902, 83.5735, 83.8568, 84.1401, 84.4234, 84.7067, 84.99, 85.2733, 85.5566, 85.8399, 86.1232, 86.4065, 86.6898, 86.9731, 87.2564, 87.5397, 87.823, 88.1063, 88.3896, 88.6729, 88.9562, 89.2395, 89.5228, 89.8061, 90.0894, 90.3727, 90.656, 90.9393, 91.2226, 91.5059, 91.7892, 92.0725, 92.3558, 92.6391, 92.9224, 93.2057, 93.489, 93.7723, 94.0556, 94.3389, 94.6222, 94.9055, 95.1888, 95.4721, 95.7554, 96.0387, 96.322, 96.6053, 96.8886, 97.1719, 97.4552, 97.7385, 98.0218, 98.3051, 98.5884, 98.8717, 99.155, 99.4383, 99.7216, 100.005, 100.288, 100.572, 100.855, 101.138, 101.421, 101.705, 101.988, 102.271, 102.555, 102.838, 103.121, 103.404, 103.688, 103.971, 104.254, 104.538, 104.821, 105.104, 105.388, 105.671, 105.954, 106.237, 106.521, 106.804, 107.087, 107.371, 107.654, 107.937, 108.221, 108.504, 108.787, 109.07, 109.354, 109.637, 109.92, 110.204, 110.487, 110.77, 111.054, 111.337, 111.62, 111.903, 112.187, 112.47, 112.753, 113.037, 113.32, 113.603, 113.887, 114.17, 114.453, 114.736, 115.02, 115.303, 115.586, 115.87, 116.153, 116.436, 116.72, 117.003, 117.286, 117.57, 117.853, 118.136, 118.419, 118.703, 118.986, 119.269, 119.553, 119.836, 120.119, 120.403, 120.686, 120.969, 121.252, 121.536, 121.819, 122.102, 122.386, 122.669, 122.952, 123.236, 123.519, 123.802, 124.085, 124.369, 124.652, 124.935, 125.219, 125.502, 125.785, 126.069, 126.352, 126.635, 126.918, 127.202, 127.485, 127.768, 128.052, 128.335, 128.618, 128.901, 129.185, 129.468, 129.751, 130.035, 130.318, 130.601, 130.885, 131.168, 131.451, 131.734, 132.018, 132.301, 132.584, 132.868, 133.151, 133.434, 133.718, 134.001, 134.284, 134.567, 134.851, 135.134, 135.417, 135.701, 135.984, 136.267, 136.551, 136.834, 137.117, 137.4, 137.684, 137.967, 138.25, 138.534, 138.817, 139.1, 139.384, 139.667, 139.95, 140.233, 140.517, 140.8, 141.083, 141.367, 141.65, 141.933, 142.217, 142.5, 142.783, 143.066, 143.35, 143.633, 143.916, 144.2, 144.483, 144.766, 145.05, 145.333], \"Energy (eV)\": [0, 1.3657e-05, 2.7545e-05, 4.16983e-05, 5.61518e-05, 7.09413e-05, 8.61034e-05, 0.000101675, 0.000117696, 0.000134204, 0.000151242, 0.00016885, 0.000187072, 0.000205954, 0.000225542, 0.000245883, 0.000267029, 0.000289032, 0.000311945, 0.000335825, 0.000360731, 0.000386724, 0.000413869, 0.000442231, 0.000471882, 0.000502892, 0.00053534, 0.000569304, 0.000604868, 0.00064212, 0.00068115, 0.000722054, 0.000764933, 0.000809891, 0.000857039, 0.000906492, 0.000958371, 0.0010128, 0.00106992, 0.00112986, 0.00119277, 0.00125881, 0.00132813, 0.00140091, 0.00147731, 0.00155754, 0.00164177, 0.00173021, 0.00182309, 0.00192062, 0.00202303, 0.00213058, 0.00224352, 0.00236213, 0.00248669, 0.00261749, 0.00275486, 0.00289911, 0.0030506, 0.00320968, 0.00337673, 0.00355214, 0.00373633, 0.00392974, 0.00413281, 0.00434603, 0.00456989, 0.00480491, 0.00505164, 0.00531065, 0.00558254, 0.00586793, 0.00616747, 0.00648185, 0.00681179, 0.00715802, 0.00752132, 0.00790251, 0.00830243, 0.00872197, 0.00916205, 0.00962363, 0.0101077, 0.0106153, 0.0111476, 0.0117056, 0.0122905, 0.0129036, 0.0135461, 0.0142194, 0.0149247, 0.0156635, 0.0164372, 0.0172475, 0.0180957, 0.0189836, 0.0199128, 0.020885, 0.0219019, 0.0229654, 0.0240774, 0.0252396, 0.0264541, 0.0277229, 0.0290479, 0.0304312, 0.031875, 0.0332684, 0.0346136, 0.0359123, 0.0371662, 0.0383771, 0.0395464, 0.0406757, 0.0417661, 0.0428191, 0.0438358, 0.0448173, 0.0457648, 0.0466792, 0.0475614, 0.0484123, 0.0492328, 0.0500237, 0.0507857, 0.0515195, 0.0522258, 0.0529052, 0.0535583, 0.0541857, 0.0547879, 0.0553653, 0.0559185, 0.0564479, 0.056954, 0.057437, 0.0578974, 0.0583355, 0.0587517, 0.0591462, 0.0595194, 0.0598715, 0.0602028, 0.0605135, 0.0608037, 0.0610738, 0.061324, 0.0615542, 0.0617648, 0.0619559, 0.0621276, 0.06228, 0.0624132, 0.0625273, 0.0626223, 0.0626985, 0.0627557, 0.062794, 0.0628135, 0.0628141, 0.0627959, 0.0627588, 0.0627029, 0.0626281, 0.0625343, 0.0624215, 0.0622896, 0.0621385, 0.0619681, 0.0617783, 0.061569, 0.0613401, 0.0610913, 0.0608226, 0.0605337, 0.0602244, 0.0598945, 0.0595438, 0.0591721, 0.058779, 0.0583643, 0.0579276, 0.0574687, 0.0569872, 0.0564828, 0.055955, 0.0554034, 0.0548276, 0.0542271, 0.0536015, 0.0529501, 0.0522725, 0.051568, 0.0508361, 0.050076, 0.0492871, 0.0484686, 0.0476197, 0.0467396, 0.0458275, 0.0448823, 0.0439031, 0.0428888, 0.0418383, 0.0407504, 0.0396238, 0.0384573, 0.0372492, 0.0359982, 0.0347026, 0.0333607, 0.0319705, 0.0305302, 0.0290377, 0.0274906, 0.0258866, 0.0242231, 0.0224973, 0.0207064, 0.018847, 0.0169158, 0.0149093, 0.0128233, 0.0106538, 0.00839618, 0.00604555, 0.00359666, 0.00104382, -0.00161907, -0.00439864, 0.270497, 0.267391, 0.264286, 0.261182, 0.258077, 0.254973, 0.251869, 0.248765, 0.245662, 0.242558, 0.239455, 0.236352, 0.23325, 0.230147, 0.227045, 0.223944, -0.0569569, -0.0598582, -0.0627605, -0.0656635, -0.0685669, -0.0714706, -0.0743745, -0.0772783, -0.0801822, -0.083086, -0.0859896, -0.0888932, -0.0917965, -0.0946997, -0.0976026, -0.100505, -0.103408, -0.10631, -0.109212, -0.112114, -0.115016, -0.117917, 0.15698, 0.153877, 0.150775, 0.147672, 0.14457, 0.141468, 0.138366, 0.135265, 0.132164, 0.129063, 0.125962, 0.122861, 0.119761, 0.116661, 0.113561, 0.110462, -0.170436, -0.173334, -0.176231, -0.179128, -0.182025, -0.184921, -0.187817, -0.190713, -0.193609, -0.196505, -0.1994, -0.202295, -0.20519, -0.208085, -0.210979, -0.213873, -0.216767, -0.219661, -0.222555, -0.225448, -0.228341, -0.231234, -0.234127, -0.237019, -0.239911, -0.242803, -0.245695, -0.248586, -0.251478, -0.254369, -0.25726, -0.26015, -0.263041, -0.265931, -0.268821, -0.27171, -0.2746, -0.277489, -0.280378, -0.283267, -0.286156, -0.289044, -0.291932, -0.29482, -0.297708, -0.300595, -0.303482, -0.306369, -0.309256, -0.312143, -0.315029, -0.317915, -0.320801, -0.323687, -0.326572, -0.329457, -0.332342, -0.335227, -0.338112, -0.340996, -0.34388, -0.346764, -0.349648, -0.352531, -0.355415, -0.358298, -0.361181, -0.364063, -0.366946, -0.369828, -0.37271, -0.375592, -0.378474, -0.381356, -0.384237, -0.387118, -0.389999, -0.39288, -0.395761, -0.398642, -0.401522, -0.404402, -0.407283, -0.410163, -0.413043, -0.415923, -0.418803, -0.421683, -0.424563, -0.427443, -0.430324, -0.433204, -0.436085, -0.438965, -0.441846, -0.444728, -0.447609, -0.450491, -0.453374, -0.456257, -0.459141, -0.462026, -0.464912, -0.467799, -0.470687, -0.473577, -0.476468, -0.479361, -0.482256, -0.485154, -0.488054, -0.490957, -0.493863, -0.496773, -0.499687, -0.502607, -0.505531, -0.508461, -0.511398, -0.514342, -0.517295, -0.520257, -0.523229, -0.526212, -0.529209, -0.532106, -0.534907, -0.537612, -0.540224, -0.542744, -0.545173, -0.547515, -0.54977, -0.551941, -0.55403, -0.55604, -0.557971, -0.559827, -0.561609, -0.56332, -0.564962, -0.566537, -0.568047, -0.569495, -0.570881, -0.57221, -0.573482, -0.5747, -0.575866, -0.576981, -0.578047, -0.579067, -0.580042, -0.580974, -0.581865, -0.582716, -0.583528, -0.584305, -0.585046, -0.585754, -0.586429, -0.587074, -0.587689, -0.588276, -0.588837, -0.589371, -0.589881, -0.590367, -0.59083, -0.591272, -0.591694, -0.592096, -0.592479, -0.592844, -0.593193, -0.593525, -0.593841, -0.594143, -0.59443, -0.594704, -0.594965, -0.595214, -0.595451, -0.595678, -0.595893, -0.596099, -0.596294, -0.596481, -0.596659, -0.596829, -0.596991, -0.597145, -0.597292, -0.597433, -0.597567, -0.597695, -0.597817, -0.597933, -0.598045, -0.598151, -0.598253, -0.59835, -0.598443, -0.598532, -0.598617, -0.598698, -0.598777, -0.598851, -0.598923, -0.598993, -0.599059, -0.599123, -0.599184, -0.599244, -0.599301, -0.599356, -0.59941, -0.599462, -0.599512, -0.599561, -0.599609, -0.599656, -0.599701, -0.599746, -0.59979, -0.599833, -0.599875, -0.599917, -0.599959, -0.6]}}}",
       "encoder": "text",
       "name": "Band",
       "version": 1
      }
     },
     "metadata": {
      "scrapbook": {
       "data": true,
       "display": false,
       "name": "Band"
      }
     },
     "output_type": "display_data"
    },
    {
     "data": {
      "application/scrapbook.scrap.text+json": {
       "data": "{\"Bias\": {\"0.00000\": {\"Voltage\": [0.0, 0.0, 0.0, 0.0, 0.0, 0.0, 0.0, 0.0, 0.0, 0.0], \"Current\": [0.0, 0.0, 0.0, 0.0, 0.0, 0.0, 0.0, 0.0, 0.0, 0.0]}, \"0.00606\": {\"Voltage\": [0.0, 0.0006734006734006734, 0.0013468013468013469, 0.00202020202020202, 0.0026936026936026937, 0.0033670033670033673, 0.00404040404040404, 0.004713804713804714, 0.0053872053872053875, 0.006060606060606061], \"Current\": [0.0, 2.2408931865557087e-06, 4.474247625734653e-06, 6.700082338762057e-06, 8.918416304202713e-06, 1.1129268458050679e-05, 1.3332657693818795e-05, 1.552860286262801e-05, 1.7717122773296568e-05, 1.989823619242894e-05]}, \"0.01212\": {\"Voltage\": [0.0, 0.0013468013468013469, 0.0026936026936026937, 0.00404040404040404, 0.0053872053872053875, 0.006734006734006735, 0.00808080808080808, 0.009427609427609429, 0.010774410774410775, 0.012121212121212121], \"Current\": [0.0, 4.474247625734653e-06, 8.918416304202713e-06, 1.3332657693818795e-05, 1.7717122773296568e-05, 2.2071961844504657e-05, 2.6397324535310997e-05, 3.069335980241572e-05, 3.4960215934172606e-05, 3.91980405533992e-05]}, \"0.01818\": {\"Voltage\": [0.0, 0.00202020202020202, 0.00404040404040404, 0.006060606060606061, 0.00808080808080808, 0.0101010101010101, 0.012121212121212121, 0.014141414141414142, 0.01616161616161616, 0.01818181818181818], \"Current\": [0.0, 6.700082338762057e-06, 1.3332657693818795e-05, 1.989823619242894e-05, 2.6397324535310997e-05, 3.2830426018220886e-05, 3.91980405533992e-05, 4.550066469088871e-05, 5.1738791639722984e-05, 5.7912911288986936e-05]}, \"0.02424\": {\"Voltage\": [0.0, 0.0026936026936026937, 0.0053872053872053875, 0.00808080808080808, 0.010774410774410775, 0.01346801346801347, 0.01616161616161616, 0.018855218855218858, 0.02154882154882155, 0.024242424242424242], \"Current\": [0.0, 8.918416304202713e-06, 1.7717122773296568e-05, 2.6397324535310997e-05, 3.4960215934172606e-05, 4.3406980620175506e-05, 5.1738791639722984e-05, 5.995681152434635e-05, 6.806219237900642e-05, 7.605607596968343e-05]}, \"0.03030\": {\"Voltage\": [0.0, 0.0033670033670033673, 0.006734006734006735, 0.010101010101010102, 0.01346801346801347, 0.016835016835016835, 0.020202020202020204, 0.023569023569023573, 0.02693602693602694, 0.030303030303030304], \"Current\": [0.0, 1.1129268458050679e-05, 2.2071961844504657e-05, 3.283042601822089e-05, 4.3406980620175506e-05, 5.380391934816557e-05, 6.402351022874977e-05, 7.40679958864529e-05, 8.393959381026098e-05, 9.364049661743369e-05]}, \"0.03636\": {\"Voltage\": [0.0, 0.00404040404040404, 0.00808080808080808, 0.012121212121212121, 0.01616161616161616, 0.0202020202020202, 0.024242424242424242, 0.028282828282828285, 0.03232323232323232, 0.03636363636363636], \"Current\": [0.0, 1.3332657693818795e-05, 2.6397324535310997e-05, 3.91980405533992e-05, 5.1738791639722984e-05, 6.402351022874976e-05, 7.605607596968343e-05, 8.784031639026682e-05, 9.938000755257308e-05, 0.00011067887470088029]}, \"0.04242\": {\"Voltage\": [0.0, 0.004713804713804714, 0.009427609427609429, 0.014141414141414142, 0.018855218855218858, 0.023569023569023573, 0.028282828282828285, 0.032996632996633, 0.037710437710437715, 0.04242424242424243], \"Current\": [0.0, 1.552860286262801e-05, 3.069335980241572e-05, 4.550066469088871e-05, 5.995681152434635e-05, 7.40679958864529e-05, 8.784031639026682e-05, 0.00010127977609998951, 0.00011439228393271065, 0.00012718365604042352]}, \"0.04848\": {\"Voltage\": [0.0, 0.0053872053872053875, 0.010774410774410775, 0.01616161616161616, 0.02154882154882155, 0.02693602693602694, 0.03232323232323232, 0.037710437710437715, 0.0430976430976431, 0.048484848484848485], \"Current\": [0.0, 1.7717122773296568e-05, 3.4960215934172606e-05, 5.1738791639722984e-05, 6.806219237900642e-05, 8.393959381026098e-05, 9.938000755257308e-05, 0.00011439228393271065, 0.0001289851146878206, 0.0001431670356246799]}, \"0.05455\": {\"Voltage\": [0.0, 0.006060606060606061, 0.012121212121212121, 0.01818181818181818, 0.024242424242424242, 0.030303030303030304, 0.03636363636363636, 0.04242424242424243, 0.048484848484848485, 0.05454545454545454], \"Current\": [0.0, 1.989823619242894e-05, 3.91980405533992e-05, 5.7912911288986936e-05, 7.605607596968343e-05, 9.364049661743369e-05, 0.00011067887470088029, 0.00012718365604042352, 0.0001431670356246799, 0.00015864096233989526]}, \"0.06061\": {\"Voltage\": [0.0, 0.006734006734006735, 0.01346801346801347, 0.020202020202020204, 0.02693602693602694, 0.03367003367003367, 0.04040404040404041, 0.047138047138047146, 0.05387205387205388, 0.06060606060606061], \"Current\": [0.0, 2.2071961844504657e-05, 4.3406980620175506e-05, 6.402351022874977e-05, 8.393959381026098e-05, 0.00010317287231465998, 0.00012174059290172156, 0.00013965961717258063, 0.00015694642923617895, 0.0001736171436138403]}, \"0.06667\": {\"Voltage\": [0.0, 0.007407407407407408, 0.014814814814814815, 0.022222222222222223, 0.02962962962962963, 0.037037037037037035, 0.044444444444444446, 0.05185185185185186, 0.05925925925925926, 0.06666666666666667], \"Current\": [0.0, 2.4238318411966912e-05, 4.7587182434631424e-05, 7.007107177087153e-05, 9.171386724870917e-05, 0.00011253886455658324, 0.00013256878767620294, 0.00015182580201945542, 0.00017033152727570546, 0.00018810704997569203]}, \"0.07273\": {\"Voltage\": [0.0, 0.00808080808080808, 0.01616161616161616, 0.024242424242424242, 0.03232323232323232, 0.0404040404040404, 0.048484848484848485, 0.05656565656565657, 0.06464646464646465, 0.07272727272727272], \"Current\": [0.0, 2.6397324535310997e-05, 5.1738791639722984e-05, 7.605607596968343e-05, 9.938000755257308e-05, 0.00012174059290172153, 0.0001431670356246799, 0.0001636877565365733, 0.00018333041329008726, 0.00020212191953337713]}, \"0.07879\": {\"Voltage\": [0.0, 0.008754208754208754, 0.017508417508417508, 0.026262626262626262, 0.035016835016835016, 0.043771043771043766, 0.052525252525252523, 0.06127946127946128, 0.07003367003367003, 0.07878787878787878], \"Current\": [0.0, 2.8548998813172563e-05, 5.5861953223997286e-05, 8.197899964254342e-05, 0.00010693911599377131, 0.0001307801530658086, 0.0001535388650438818, 0.00017525093925047048, 0.00019595102511174199, 0.00021567276236982835]}, \"0.08485\": {\"Voltage\": [0.0, 0.009427609427609429, 0.018855218855218858, 0.028282828282828285, 0.037710437710437715, 0.047138047138047146, 0.05656565656565657, 0.065993265993266, 0.07542087542087543, 0.08484848484848485], \"Current\": [0.0, 3.069335980241572e-05, 5.995681152434635e-05, 8.784031639026682e-05, 0.00011439228393271065, 0.00013965961717258063, 0.0001636877565365733, 0.00018652072254603732, 0.00020820115731067182, 0.00022877036485958096]}, \"0.09091\": {\"Voltage\": [0.0, 0.010101010101010102, 0.020202020202020204, 0.030303030303030304, 0.04040404040404041, 0.05050505050505051, 0.06060606060606061, 0.07070707070707072, 0.08080808080808081, 0.09090909090909091], \"Current\": [0.0, 3.283042601822089e-05, 6.402351022874977e-05, 9.364049661743369e-05, 0.00012174059290172156, 0.000148381034002034, 0.0001736171436138403, 0.00019750239393569736, 0.00022008846360693104, 0.0002414252939071096]}, \"0.09697\": {\"Voltage\": [0.0, 0.010774410774410775, 0.02154882154882155, 0.03232323232323232, 0.0430976430976431, 0.05387205387205388, 0.06464646464646465, 0.07542087542087543, 0.0861952861952862, 0.09696969696969697], \"Current\": [0.0, 3.4960215934172606e-05, 6.806219237900642e-05, 9.938000755257308e-05, 0.0001289851146878206, 0.00015694642923617895, 0.00018333041329008726, 0.00020820115731067182, 0.00023162045924418644, 0.00025364790110828474]}, \"0.10303\": {\"Voltage\": [0.0, 0.011447811447811448, 0.022895622895622896, 0.03434343434343434, 0.04579124579124579, 0.05723905723905724, 0.06868686868686869, 0.08013468013468014, 0.09158249158249158, 0.10303030303030303], \"Current\": [0.0, 3.7082747982346994e-05, 7.207300037345494e-05, 0.00010505931326822486, 0.0001361269114148042, 0.00016535780570231323, 0.00019283090667083111, 0.00021862213417457477, 0.00024280452332497873, 0.000265448326836301]}, \"0.10909\": {\"Voltage\": [0.0, 0.012121212121212121, 0.024242424242424242, 0.03636363636363636, 0.048484848484848485, 0.06060606060606061, 0.07272727272727272, 0.08484848484848485, 0.09696969696969697, 0.10909090909090909], \"Current\": [0.0, 3.91980405533992e-05, 7.605607596968343e-05, 0.00011067887470088029, 0.0001431670356246799, 0.0001736171436138403, 0.00020212191953337713, 0.00022877036485958096, 0.00025364790110828474, 0.00027683650425340864]}, \"0.11515\": {\"Voltage\": [0.0, 0.012794612794612796, 0.025589225589225592, 0.03838383838383839, 0.051178451178451184, 0.06397306397306399, 0.07676767676767678, 0.08956228956228957, 0.10235690235690237, 0.11515151515151516], \"Current\": [0.0, 4.130611199665053e-05, 8.001156028722812e-05, 0.00011623914967080164, 0.00015010653035843932, 0.00018172640080865648, 0.00021120670290045962, 0.00023865080972540625, 0.00026415770626997257, 0.0002878221632497557]}, \"0.12121\": {\"Voltage\": [0.0, 0.01346801346801347, 0.02693602693602694, 0.04040404040404041, 0.05387205387205388, 0.06734006734006734, 0.08080808080808081, 0.09427609427609429, 0.10774410774410775, 0.12121212121212122], \"Current\": [0.0, 4.3406980620175506e-05, 8.393959381026098e-05, 0.00012174059290172156, 0.00015694642923617895, 0.00018968751298513008, 0.00022008846360693104, 0.0002482683503413353, 0.0002743409231267294, 0.0002984148343106255]}, \"0.12727\": {\"Voltage\": [0.0, 0.01414141414141414, 0.02828282828282828, 0.04242424242424242, 0.05656565656565656, 0.0707070707070707, 0.08484848484848484, 0.09898989898989899, 0.11313131313131312, 0.12727272727272726], \"Current\": [0.0, 4.5500664690888696e-05, 8.78403163902668e-05, 0.0001271836560404235, 0.00016368775653657325, 0.00019750239393569733, 0.0002287703648595809, 0.00025762779065152946, 0.00028420440882403623, 0.00030862385231333244]}, \"0.13333\": {\"Voltage\": [0.0, 0.014814814814814815, 0.02962962962962963, 0.044444444444444446, 0.05925925925925926, 0.07407407407407407, 0.08888888888888889, 0.10370370370370371, 0.11851851851851852, 0.13333333333333333], \"Current\": [0.0, 4.7587182434631424e-05, 9.171386724870917e-05, 0.00013256878767620294, 0.00017033152727570546, 0.0002051729357780968, 0.00023725552679016538, 0.0002667338581238458, 0.00029375489548875316, 0.0003184583602550175]}, \"0.13939\": {\"Voltage\": [0.0, 0.015488215488215488, 0.030976430976430977, 0.046464646464646465, 0.061952861952861954, 0.07744107744107745, 0.09292929292929293, 0.10841750841750841, 0.12390572390572391, 0.1393939393939394], \"Current\": [0.0, 4.966655203625817e-05, 9.55603849796858e-05, 0.00013789643336021087, 0.00017687874728526066, 0.00021270100918426734, 0.00024554702700172696, 0.000275591204882391, 0.00030299899234686924, 0.000327927312912562]}, \"0.14545\": {\"Voltage\": [0.0, 0.01616161616161616, 0.03232323232323232, 0.048484848484848485, 0.06464646464646465, 0.0808080808080808, 0.09696969696969697, 0.11313131313131314, 0.1292929292929293, 0.14545454545454545], \"Current\": [0.0, 5.1738791639722984e-05, 9.938000755257308e-05, 0.0001431670356246799, 0.00018333041329008726, 0.00022008846360693099, 0.00025364790110828474, 0.00028420440882403634, 0.0003119431878069662, 0.00033703948043582]}, \"0.15152\": {\"Voltage\": [0.0, 0.016835016835016835, 0.03367003367003367, 0.050505050505050504, 0.06734006734006734, 0.08417508417508418, 0.10101010101010101, 0.11784511784511784, 0.13468013468013468, 0.15151515151515152], \"Current\": [0.0, 5.380391934816557e-05, 0.00010317287231465998, 0.000148381034002034, 0.00018968751298513008, 0.0002273371275038848, 0.00026156114326797165, 0.0002925779747191116, 0.00032059385150993156, 0.00034580345187534497]}, \"0.15758\": {\"Voltage\": [0.0, 0.017508417508417508, 0.035016835016835016, 0.052525252525252523, 0.07003367003367003, 0.08754208754208753, 0.10505050505050505, 0.12255892255892256, 0.14006734006734006, 0.15757575757575756], \"Current\": [0.0, 5.5861953223997286e-05, 0.00010693911599377131, 0.0001535388650438818, 0.00019595102511174199, 0.00023444880856002227, 0.00026928970670969665, 0.00030071633529649817, 0.0003289572363454539, 0.0003542276386457702]}, \"0.16364\": {\"Voltage\": [0.0, 0.01818181818181818, 0.03636363636363636, 0.05454545454545454, 0.07272727272727272, 0.09090909090909091, 0.10909090909090909, 0.12727272727272726, 0.14545454545454545, 0.16363636363636364], \"Current\": [0.0, 5.7912911288986936e-05, 0.00011067887470088029, 0.00015864096233989526, 0.00020212191953337713, 0.0002414252939071096, 0.00027683650425340864, 0.00030862385231333244, 0.00033703948043582, 0.00036232027792597934]}, \"0.16970\": {\"Voltage\": [0.0, 0.018855218855218858, 0.037710437710437715, 0.05656565656565657, 0.07542087542087543, 0.09427609427609429, 0.11313131313131314, 0.131986531986532, 0.15084175084175086, 0.1696969696969697], \"Current\": [0.0, 5.995681152434635e-05, 0.00011439228393271065, 0.0001636877565365733, 0.00020820115731067182, 0.0002482683503413353, 0.00028420440882403634, 0.00031630481760953455, 0.00034484660908752916, 0.0003700894359971852]}, \"0.17576\": {\"Voltage\": [0.0, 0.019528619528619527, 0.039057239057239054, 0.05858585858585858, 0.07811447811447811, 0.09764309764309764, 0.11717171717171716, 0.13670033670033668, 0.15622895622895622, 0.17575757575757575], \"Current\": [0.0, 6.19936718708159e-05, 0.00011807947857432807, 0.00016867967535589174, 0.00021418969077591755, 0.00025497972453865776, 0.00029139625395917945, 0.00032376345414736823, 0.00035238453671123033, 0.0003775430115200157]}, \"0.18182\": {\"Voltage\": [0.0, 0.020202020202020204, 0.04040404040404041, 0.06060606060606061, 0.08080808080808081, 0.10101010101010102, 0.12121212121212122, 0.14141414141414144, 0.16161616161616163, 0.18181818181818182], \"Current\": [0.0, 6.402351022874977e-05, 0.00012174059290172156, 0.0001736171436138403, 0.00022008846360693104, 0.00026156114326797165, 0.0002984148343106255, 0.0003310039170362405, 0.000359659068710481, 0.00038468873875168596]}, \"0.18788\": {\"Voltage\": [0.0, 0.020875420875420873, 0.04175084175084175, 0.06262626262626261, 0.0835016835016835, 0.10437710437710437, 0.12525252525252523, 0.1461279461279461, 0.167003367003367, 0.18787878787878787], \"Current\": [0.0, 6.604634445820097e-05, 0.00012537576058437353, 0.00017850058323884622, 0.00022589841090032495, 0.00026801431360211353, 0.0003052629061397631, 0.0003380302945429418, 0.00036667590333981626, 0.00039153419070431787]}, \"0.19394\": {\"Voltage\": [0.0, 0.02154882154882155, 0.0430976430976431, 0.06464646464646465, 0.0861952861952862, 0.10774410774410775, 0.1292929292929293, 0.15084175084175086, 0.1723905723905724, 0.19393939393939394], \"Current\": [0.0, 6.806219237900642e-05, 0.0001289851146878206, 0.00018333041329008726, 0.00023162045924418644, 0.0002743409231267294, 0.0003119431878069662, 0.00034484660908752916, 0.00037344063353261456, 0.00039808678224544883]}, \"0.20000\": {\"Voltage\": [0.0, 0.022222222222222223, 0.044444444444444446, 0.06666666666666667, 0.08888888888888889, 0.11111111111111112, 0.13333333333333333, 0.15555555555555556, 0.17777777777777778, 0.2], \"Current\": [0.0, 7.007107177087153e-05, 0.00013256878767620294, 0.00018810704997569203, 0.00023725552679016538, 0.00028054264014702463, 0.0003184583602550175, 0.00035145681822504836, 0.00037995874869923245, 0.0004043537731417557]}, \"0.20606\": {\"Voltage\": [0.0, 0.022895622895622896, 0.04579124579124579, 0.06868686868686869, 0.09158249158249158, 0.11447811447811448, 0.13737373737373737, 0.16026936026936028, 0.18316498316498317, 0.20606060606060606], \"Current\": [0.0, 7.207300037345494e-05, 0.0001361269114148042, 0.00019283090667083111, 0.00024280452332497873, 0.0002866211138924166, 0.0003248110674866456, 0.00035786481561329213, 0.00038623563649587854, 0.0004103422710469986]}, \"0.21212\": {\"Voltage\": [0.0, 0.02356902356902357, 0.04713804713804714, 0.0707070707070707, 0.09427609427609428, 0.11784511784511785, 0.1414141414141414, 0.16498316498316498, 0.18855218855218855, 0.21212121212121213], \"Current\": [0.0, 7.406799588645289e-05, 0.0001396596171725806, 0.00019750239393569733, 0.00024826835034133526, 0.0002925779747191116, 0.0003310039170362405, 0.00036407443196678486, 0.0003922765845646879, 0.00041605923443517606]}, \"0.21818\": {\"Voltage\": [0.0, 0.024242424242424242, 0.048484848484848485, 0.07272727272727272, 0.09696969696969697, 0.12121212121212122, 0.14545454545454545, 0.1696969696969697, 0.19393939393939394, 0.21818181818181817], \"Current\": [0.0, 7.605607596968343e-05, 0.0001431670356246799, 0.00020212191953337713, 0.00025364790110828474, 0.0002984148343106255, 0.00033703948043582, 0.0003700894359971852, 0.00039808678224544883, 0.0004215114754798615]}, \"0.22424\": {\"Voltage\": [0.0, 0.024915824915824916, 0.04983164983164983, 0.07474747474747474, 0.09966329966329966, 0.12457912457912458, 0.1494949494949495, 0.1744107744107744, 0.19932659932659932, 0.22424242424242424], \"Current\": [0.0, 7.803725824317057e-05, 0.00014664929685495034, 0.00020668988844761328, 0.00025894406074099664, 0.0003041332858762692, 0.00034292029367531305, 0.00037591353534029305, 0.000403671322259432, 0.00042670566288067796]}, \"0.23030\": {\"Voltage\": [0.0, 0.025589225589225592, 0.051178451178451184, 0.07676767676767678, 0.10235690235690237, 0.12794612794612797, 0.15353535353535355, 0.17912457912457913, 0.20471380471380474, 0.23030303030303031], \"Current\": [0.0, 8.001156028722812e-05, 0.00015010653035843932, 0.00021120670290045962, 0.00026415770626997257, 0.00030973490434761886, 0.0003486488576572277, 0.00038155037746984605, 0.0004090352023657597, 0.0004316483246378491]}, \"0.23636\": {\"Voltage\": [0.0, 0.026262626262626262, 0.052525252525252523, 0.07878787878787878, 0.10505050505050505, 0.1313131313131313, 0.15757575757575756, 0.18383838383838383, 0.2101010101010101, 0.23636363636363636], \"Current\": [0.0, 8.197899964254342e-05, 0.0001535388650438818, 0.00021567276236982835, 0.00026928970670969665, 0.00031522124657298883, 0.0003542276386457702, 0.0003870035505982878, 0.0004141833269907491, 0.00043634585077574926]}, \"0.24242\": {\"Voltage\": [0.0, 0.02693602693602694, 0.05387205387205388, 0.08080808080808081, 0.10774410774410775, 0.13468013468013468, 0.16161616161616163, 0.18855218855218858, 0.2154882154882155, 0.24242424242424243], \"Current\": [0.0, 8.393959381026098e-05, 0.00015694642923617895, 0.00022008846360693104, 0.0002743409231267294, 0.00032059385150993156, 0.000359659068710481, 0.0003922765845646879, 0.00041912050883065744, 0.0004408044960163584]}, \"0.24848\": {\"Voltage\": [0.0, 0.027609427609427608, 0.055218855218855216, 0.08282828282828282, 0.11043771043771043, 0.13804713804713803, 0.16565656565656564, 0.19326599326599325, 0.22087542087542086, 0.24848484848484848], \"Current\": [0.0, 8.589336025206585e-05, 0.00016032935067886652, 0.00022445420065361256, 0.00027931220870724754, 0.0003258542404157775, 0.0003649455461644511, 0.00039737295170999, 0.0004238514704282476, 0.00044503038240351344]}, \"0.25455\": {\"Voltage\": [0.0, 0.02828282828282828, 0.05656565656565656, 0.08484848484848484, 0.11313131313131312, 0.1414141414141414, 0.16969696969696968, 0.19797979797979798, 0.22626262626262625, 0.2545454545454545], \"Current\": [0.0, 8.78403163902668e-05, 0.00016368775653657325, 0.0002287703648595809, 0.00028420440882403623, 0.0003310039170362405, 0.0003700894359971851, 0.00040229606773976574, 0.00042838084572358786, 0.0004490295018788306]}, \"0.26061\": {\"Voltage\": [0.0, 0.028956228956228958, 0.057912457912457915, 0.08686868686868687, 0.11582491582491583, 0.1447811447811448, 0.17373737373737375, 0.2026936026936027, 0.23164983164983166, 0.2606060606060606], \"Current\": [0.0, 8.978047960787946e-05, 0.00016702177339746947, 0.00023303734489953115, 0.00028901836110293666, 0.0003360443677921033, 0.000375093070302173, 0.00040704929257464326, 0.00043271318157949465, 0.00045280771881015994]}, \"0.26667\": {\"Voltage\": [0.0, 0.02962962962962963, 0.05925925925925926, 0.08888888888888889, 0.11851851851851852, 0.14814814814814814, 0.17777777777777778, 0.20740740740740743, 0.23703703703703705, 0.26666666666666666], \"Current\": [0.0, 9.171386724870917e-05, 0.00017033152727570546, 0.00023725552679016538, 0.00029375489548875316, 0.0003409770619640045, 0.00037995874869923245, 0.00041163593118858445, 0.00043685293928201685, 0.00045637077247341515]}, \"0.27273\": {\"Voltage\": [0.0, 0.0303030303030303, 0.0606060606060606, 0.0909090909090909, 0.1212121212121212, 0.1515151515151515, 0.1818181818181818, 0.2121212121212121, 0.2424242424242424, 0.2727272727272727], \"Current\": [0.0, 9.364049661743368e-05, 0.00017361714361384026, 0.00024142529390710953, 0.00029841483431062546, 0.0003458034518753449, 0.0003846887387516859, 0.00041605923443517606, 0.00044080449601635846, 0.0004597242794886114]}, \"0.27879\": {\"Voltage\": [0.0, 0.030976430976430977, 0.061952861952861954, 0.09292929292929293, 0.12390572390572391, 0.1548821548821549, 0.18585858585858586, 0.21683501683501682, 0.24781144781144782, 0.2787878787878788], \"Current\": [0.0, 9.55603849796858e-05, 0.00017687874728526066, 0.00024554702700172696, 0.00030299899234686924, 0.0003505249730733317, 0.0003892852763784323, 0.00042032239986210224, 0.00044457214631862677, 0.0004628737362109254]}, \"0.28485\": {\"Voltage\": [0.0, 0.03164983164983165, 0.0632996632996633, 0.09494949494949495, 0.1265993265993266, 0.15824915824915825, 0.1898989898989899, 0.22154882154882155, 0.2531986531986532, 0.28484848484848485], \"Current\": [0.0, 9.747354956213566e-05, 0.00018011646259658993, 0.0002496211042178289, 0.0003075081768892885, 0.0003551430445081784, 0.0003937505662609719, 0.00042442857251396123, 0.00044816010350379025, 0.00046582452107758065]}, \"0.29091\": {\"Voltage\": [0.0, 0.03232323232323232, 0.06464646464646465, 0.09696969696969697, 0.1292929292929293, 0.1616161616161616, 0.19393939393939394, 0.22626262626262628, 0.2585858585858586, 0.2909090909090909], \"Current\": [0.0, 9.938000755257308e-05, 0.00018333041329008726, 0.00025364790110828474, 0.0003119431878069662, 0.00035965906871048096, 0.00039808678224544883, 0.00042838084572358796, 0.00045157250107022065, 0.00046858189691134595]}, \"0.29697\": {\"Voltage\": [0.0, 0.032996632996632996, 0.06599326599326599, 0.09898989898989899, 0.13198653198653199, 0.16498316498316498, 0.19797979797979798, 0.23097643097643097, 0.26397306397306397, 0.296969696969697], \"Current\": [0.0, 0.0001012797760999895, 0.00018652072254603727, 0.00025762779065152946, 0.0003163048176095345, 0.00036407443196678486, 0.00040229606773976574, 0.00043218226189204053, 0.00045481339408119274, 0.0004711510131814192]}, \"0.30303\": {\"Voltage\": [0.0, 0.03367003367003367, 0.06734006734006734, 0.10101010101010101, 0.13468013468013468, 0.16835016835016836, 0.20202020202020202, 0.23569023569023567, 0.26936026936026936, 0.30303030303030304], \"Current\": [0.0, 0.00010317287231465998, 0.00018968751298513008, 0.00026156114326797165, 0.00032059385150993156, 0.00036839050449336274, 0.00040638053610583135, 0.00043583581325741007, 0.0004578867605237054, 0.0004735369082224599]}, \"0.30909\": {\"Voltage\": [0.0, 0.03434343434343434, 0.06868686868686869, 0.10303030303030303, 0.13737373737373737, 0.1717171717171717, 0.20606060606060606, 0.2404040404040404, 0.27474747474747474, 0.3090909090909091], \"Current\": [0.0, 0.00010505931326822486, 0.00019283090667083111, 0.000265448326836301, 0.0003248110674866456, 0.00037260864060822095, 0.0004103422710469986, 0.0004393444426526054, 0.00046079650264498274, 0.0004757445114125177]}, \"0.31515\": {\"Voltage\": [0.0, 0.035016835016835016, 0.07003367003367003, 0.10505050505050505, 0.14006734006734006, 0.17508417508417506, 0.2101010101010101, 0.24511784511784512, 0.2801346801346801, 0.3151515151515151], \"Current\": [0.0, 0.00010693911599377131, 0.00019595102511174199, 0.00026928970670969665, 0.0003289572363454539, 0.0003767301789013511, 0.0004141833269907491, 0.0004427110442522687, 0.00046354644826701244, 0.00047777864531058756]}, \"0.32121\": {\"Voltage\": [0.0, 0.03569023569023569, 0.07138047138047138, 0.10707070707070707, 0.14276094276094276, 0.17845117845117844, 0.21414141414141413, 0.24983164983164982, 0.2855218855218855, 0.3212121212121212], \"Current\": [0.0, 0.00010881229748591481, 0.00019904798926395154, 0.0002730856457319365, 0.000333033121780658, 0.0003807564424032444, 0.0004179057294666819, 0.00044593846430896974, 0.0004661403520794659, 0.0004796440277545187]}, \"0.32727\": {\"Voltage\": [0.0, 0.03636363636363636, 0.07272727272727272, 0.10909090909090909, 0.14545454545454545, 0.18181818181818182, 0.21818181818181817, 0.2545454545454545, 0.2909090909090909, 0.32727272727272727], \"Current\": [0.0, 0.00011067887470088029, 0.00020212191953337713, 0.00027683650425340864, 0.00033703948043582, 0.00038468873875168596, 0.0004215114754798615, 0.0004490295018788306, 0.00046858189691134595, 0.00048134527391998266]}, \"0.33333\": {\"Voltage\": [0.0, 0.037037037037037035, 0.07407407407407407, 0.1111111111111111, 0.14814814814814814, 0.18518518518518517, 0.2222222222222222, 0.25925925925925924, 0.2962962962962963, 0.3333333333333333], \"Current\": [0.0, 0.00011253886455658324, 0.0002051729357780968, 0.0002805426401470246, 0.0003409770619640045, 0.0003885283603568466, 0.0004250025338795799, 0.0004519869095367239, 0.00047087469498169863, 0.00048288689834119806]}, \"0.33939\": {\"Voltage\": [0.0, 0.037710437710437715, 0.07542087542087543, 0.11313131313131314, 0.15084175084175086, 0.18855218855218858, 0.22626262626262628, 0.263973063973064, 0.3016835016835017, 0.3393939393939394], \"Current\": [0.0, 0.00011439228393271065, 0.00020820115731067182, 0.00028420440882403634, 0.00034484660908752916, 0.0003922765845646879, 0.00042838084572358796, 0.00045481339408119285, 0.00047302228912972285, 0.00048427331689409806]}, \"0.34545\": {\"Voltage\": [0.0, 0.03838383838383838, 0.07676767676767676, 0.11515151515151514, 0.15353535353535352, 0.1919191919191919, 0.2303030303030303, 0.26868686868686864, 0.30707070707070705, 0.34545454545454546], \"Current\": [0.0, 0.00011623914967080161, 0.0002112067029004596, 0.0002878221632497557, 0.00034864885765722764, 0.0003959346738186983, 0.0004316483246378491, 0.00045751161722923275, 0.00047502815402460346, 0.00048550884874261016]}, \"0.35152\": {\"Voltage\": [0.0, 0.039057239057239054, 0.07811447811447811, 0.11717171717171716, 0.15622895622895622, 0.19528619528619529, 0.23434343434343433, 0.27340067340067337, 0.31245791245791243, 0.3515151515151515], \"Current\": [0.0, 0.00011807947857432807, 0.00021418969077591755, 0.00029139625395917945, 0.00035238453671123033, 0.000399503875819976, 0.0004348068571718698, 0.00046008419630107683, 0.0004768956973553919, 0.00048659771824871264]}, \"0.35758\": {\"Voltage\": [0.0, 0.039730639730639734, 0.07946127946127947, 0.11919191919191921, 0.15892255892255894, 0.19865319865319866, 0.23838383838383842, 0.27811447811447815, 0.3178451178451179, 0.3575757575757576], \"Current\": [0.0, 0.00011991328740877522, 0.00021715023862689764, 0.00029492702907251713, 0.00035605436853326496, 0.0004029854236856751, 0.00043785830314965724, 0.00046253370489512426, 0.00047862826100125103, 0.0004875440568469143]}, \"0.36364\": {\"Voltage\": [0.0, 0.04040404040404041, 0.08080808080808081, 0.12121212121212122, 0.16161616161616163, 0.20202020202020204, 0.24242424242424243, 0.2828282828282829, 0.32323232323232326, 0.36363636363636365], \"Current\": [0.0, 0.00012174059290172156, 0.00022008846360693104, 0.0002984148343106255, 0.000359659068710481, 0.0004063805361058314, 0.0004408044960163584, 0.0004648626735531473, 0.00048022912218237596, 0.0004883519048837976]}, \"0.36970\": {\"Voltage\": [0.0, 0.041077441077441074, 0.08215488215488215, 0.12323232323232322, 0.1643097643097643, 0.20538720538720537, 0.24646464646464644, 0.28754208754208754, 0.3286195286195286, 0.3696969696969697], \"Current\": [0.0, 0.00012356141174291912, 0.000223004482335504, 0.0003018600130103485, 0.00036319934619080316, 0.00040969041749858414, 0.0004436472431806313, 0.00046707359041591357, 0.00048170149459189897, 0.0004890252134232499]}, \"0.37576\": {\"Voltage\": [0.0, 0.04175084175084175, 0.0835016835016835, 0.12525252525252523, 0.167003367003367, 0.20875420875420875, 0.25050505050505045, 0.2922558922558922, 0.334006734006734, 0.37575757575757573], \"Current\": [0.0, 0.00012537576058437353, 0.00022589841090032495, 0.0003052629061397631, 0.00036667590333981626, 0.00041291625816380857, 0.00044638832635279796, 0.0004691689018693554, 0.00048304852950908315, 0.000489567846018001]}, \"0.38182\": {\"Voltage\": [0.0, 0.04242424242424243, 0.08484848484848485, 0.1272727272727273, 0.1696969696969697, 0.21212121212121213, 0.2545454545454546, 0.296969696969697, 0.3393939393939394, 0.38181818181818183], \"Current\": [0.0, 0.00012718365604042352, 0.00022877036485958096, 0.0003086238523133325, 0.0003700894359971852, 0.00041605923443517606, 0.00044902950187883064, 0.0004711510131814192, 0.00048427331689409806, 0.0004899835804480702]}, \"0.38788\": {\"Voltage\": [0.0, 0.0430976430976431, 0.0861952861952862, 0.1292929292929293, 0.1723905723905724, 0.2154882154882155, 0.2585858585858586, 0.3016835016835017, 0.3447811447811448, 0.3878787878787879], \"Current\": [0.0, 0.0001289851146878206, 0.00023162045924418644, 0.0003119431878069662, 0.00037344063353261456, 0.00041912050883065744, 0.00045157250107022065, 0.00047302228912972285, 0.00048537888646467696, 0.0004902761104267189]}, \"0.39394\": {\"Voltage\": [0.0, 0.043771043771043766, 0.08754208754208753, 0.1313131313131313, 0.17508417508417506, 0.21885521885521883, 0.2626262626262626, 0.30639730639730633, 0.35016835016835013, 0.3939393939393939], \"Current\": [0.0, 0.0001307801530658086, 0.00023444880856002227, 0.00031522124657298883, 0.0003767301789013511, 0.0004221012302014835, 0.00045401903052977874, 0.00047478505462015185, 0.0004863682087549393, 0.0004904490472744922]}, \"0.40000\": {\"Voltage\": [0.0, 0.044444444444444446, 0.08888888888888889, 0.13333333333333333, 0.17777777777777778, 0.22222222222222224, 0.26666666666666666, 0.3111111111111111, 0.35555555555555557, 0.4], \"Current\": [0.0, 0.00013256878767620294, 0.00023725552679016538, 0.0003184583602550175, 0.00037995874869923245, 0.0004250025338795799, 0.00045637077247341515, 0.0004764415952965166, 0.0004872441961566667, 0.0004905059215619231]}, \"0.40606\": {\"Voltage\": [0.0, 0.04511784511784512, 0.09023569023569024, 0.13535353535353536, 0.18047138047138048, 0.2255892255892256, 0.27070707070707073, 0.31582491582491584, 0.36094276094276095, 0.40606060606060607], \"Current\": [0.0, 0.0001343510349834696, 0.00024004072739710984, 0.00032165485820274687, 0.00038312701321728526, 0.00042782554182349, 0.0004586293850479472, 0.00047799415814139807, 0.0004880097039433093, 0.0004904501847214645]}, \"0.41212\": {\"Voltage\": [0.0, 0.04579124579124579, 0.09158249158249158, 0.13737373737373737, 0.18316498316498317, 0.22895622895622897, 0.27474747474747474, 0.32053872053872057, 0.36632996632996634, 0.4121212121212121], \"Current\": [0.0, 0.0001361269114148042, 0.00024280452332497873, 0.0003248110674866456, 0.00038623563649587854, 0.0004305713627628019, 0.00046079650264498274, 0.00047944495206830493, 0.0004886675312770015, 0.0004902852106292011]}, \"0.41818\": {\"Voltage\": [0.0, 0.04646464646464646, 0.09292929292929292, 0.13939393939393938, 0.18585858585858583, 0.2323232323232323, 0.27878787878787875, 0.32525252525252524, 0.37171717171717167, 0.41818181818181815], \"Current\": [0.0, 0.00013789643336021084, 0.00024554702700172696, 0.00032792731291256196, 0.0003892852763784323, 0.00043324109234109333, 0.00046287373621092527, 0.00048079614850526047, 0.0004892204221988547, 0.000490014297156888]}, \"0.42424\": {\"Voltage\": [0.0, 0.04713804713804714, 0.09427609427609428, 0.1414141414141414, 0.18855218855218855, 0.2356902356902357, 0.2828282828282828, 0.32996632996632996, 0.3771043771043771, 0.42424242424242425], \"Current\": [0.0, 0.0001396596171725806, 0.00024826835034133526, 0.0003310039170362405, 0.0003922765845646879, 0.0004358358132574101, 0.00046486267355314736, 0.00048204988196994236, 0.0004896710666027979, 0.0004896406676948484]}, \"0.43030\": {\"Voltage\": [0.0, 0.04781144781144781, 0.09562289562289562, 0.14343434343434344, 0.19124579124579125, 0.23905723905723905, 0.2868686868686869, 0.3346801346801347, 0.3824915824915825, 0.4303030303030303], \"Current\": [0.0, 0.0001414164791677701, 0.000250968604745995, 0.0003340412001777493, 0.00039521020666354197, 0.00043835659540629137, 0.00046676487964237727, 0.00048320825063648997, 0.0004900221011932263, 0.0004891674726462574]}, \"0.43636\": {\"Voltage\": [0.0, 0.048484848484848485, 0.09696969696969697, 0.14545454545454545, 0.19393939393939394, 0.24242424242424243, 0.2909090909090909, 0.3393939393939394, 0.3878787878787879, 0.43636363636363634], \"Current\": [0.0, 0.0001431670356246799, 0.00025364790110828474, 0.00033703948043582, 0.00039808678224544883, 0.0004408044960163584, 0.00046858189691134595, 0.00048427331689409806, 0.0004902761104267189, 0.0004885977908933272]}, \"0.44242\": {\"Voltage\": [0.0, 0.04915824915824916, 0.09831649831649832, 0.14747474747474748, 0.19663299663299663, 0.24579124579124578, 0.29494949494949496, 0.3441077441077441, 0.39326599326599326, 0.44242424242424244], \"Current\": [0.0, 0.00014491130278533246, 0.00025630634981333686, 0.00033999907370209923, 0.0004009069448943919, 0.0004431805597874782, 0.00047031524554973686, 0.00048524710789750897, 0.0004904356274380771, 0.0004879346312359017]}, \"0.44848\": {\"Voltage\": [0.0, 0.04983164983164983, 0.09966329966329966, 0.1494949494949495, 0.19932659932659932, 0.24915824915824916, 0.298989898989899, 0.3488215488215488, 0.39865319865319865, 0.4484848484848485], \"Current\": [0.0, 0.00014664929685495034, 0.00025894406074099664, 0.00034292029367531305, 0.000403671322259432, 0.0004454858190265178, 0.0004719664237954836, 0.0004861316161095198, 0.0004905031349509402, 0.00048718093380295785]}, \"0.45455\": {\"Voltage\": [0.0, 0.050505050505050504, 0.10101010101010101, 0.15151515151515152, 0.20202020202020202, 0.25252525252525254, 0.30303030303030304, 0.35353535353535354, 0.40404040404040403, 0.45454545454545453], \"Current\": [0.0, 0.000148381034002034, 0.00026156114326797165, 0.00034580345187534497, 0.00040638053610583135, 0.0004477212937817049, 0.0004735369082224599, 0.00048692879983561183, 0.0004904810661732189, 0.00048633957143750405]}, \"0.46061\": {\"Voltage\": [0.0, 0.051178451178451184, 0.10235690235690237, 0.15353535353535355, 0.20471380471380474, 0.25589225589225595, 0.3070707070707071, 0.35824915824915826, 0.4094276094276095, 0.46060606060606063], \"Current\": [0.0, 0.00015010653035843932, 0.00026415770626997257, 0.0003486488576572277, 0.0004090352023657597, 0.00044988799197560344, 0.00047502815402460346, 0.0004876405837508172, 0.0004903718056775941, 0.00048541335105535625]}, \"0.46667\": {\"Voltage\": [0.0, 0.05185185185185185, 0.1037037037037037, 0.15555555555555556, 0.2074074074074074, 0.25925925925925924, 0.3111111111111111, 0.36296296296296293, 0.4148148148148148, 0.4666666666666667], \"Current\": [0.0, 0.0001518258020194554, 0.00026673385812384575, 0.00035145681822504836, 0.0004116359311885844, 0.0004519869095367239, 0.0004764415952965166, 0.00048826885941892625, 0.0004901776902673191, 0.0004844050149782632]}, \"0.47273\": {\"Voltage\": [0.0, 0.052525252525252523, 0.10505050505050505, 0.15757575757575756, 0.2101010101010101, 0.2626262626262626, 0.3151515151515151, 0.36767676767676766, 0.4202020202020202, 0.4727272727272727], \"Current\": [0.0, 0.0001535388650438818, 0.00026928970670969665, 0.0003542276386457702, 0.0004141833269907491, 0.00045401903052977874, 0.00047777864531058756, 0.0004888154858041474, 0.0004899010098275611, 0.00048331724224184706]}, \"0.47879\": {\"Voltage\": [0.0, 0.0531986531986532, 0.1063973063973064, 0.1595959595959596, 0.2127946127946128, 0.265993265993266, 0.3191919191919192, 0.3723905723905724, 0.4255892255892256, 0.47878787878787876], \"Current\": [0.0, 0.00015524573545410566, 0.00027182535941300463, 0.0003569616218629682, 0.00041667798850524143, 0.0004559853272845959, 0.00047904069679067195, 0.0004892822897753219, 0.0004895440081625119, 0.00048215264987881424]}, \"0.48485\": {\"Voltage\": [0.0, 0.05387205387205388, 0.10774410774410775, 0.16161616161616163, 0.2154882154882155, 0.26936026936026936, 0.32323232323232326, 0.37710437710437716, 0.430976430976431, 0.48484848484848486], \"Current\": [0.0, 0.00015694642923617895, 0.0002743409231267294, 0.000359659068710481, 0.00041912050883065744, 0.0004578867605237054, 0.00048022912218237596, 0.0004896710666027979, 0.0004891088838185003, 0.0004809137941778834]}, \"0.49091\": {\"Voltage\": [0.0, 0.05454545454545454, 0.10909090909090909, 0.16363636363636364, 0.21818181818181817, 0.2727272727272727, 0.32727272727272727, 0.3818181818181818, 0.43636363636363634, 0.4909090909090909], \"Current\": [0.0, 0.00015864096233989526, 0.00027683650425340864, 0.00036232027792597934, 0.0004215114754798615, 0.0004597242794886114, 0.00048134527391998266, 0.0004899835804480702, 0.0004885977908933272, 0.000479603171918873]}, \"0.49697\": {\"Voltage\": [0.0, 0.055218855218855216, 0.11043771043771043, 0.16565656565656564, 0.22087542087542086, 0.27609427609427606, 0.3313131313131313, 0.3865319865319865, 0.4417508417508417, 0.49696969696969695], \"Current\": [0.0, 0.00016032935067886652, 0.00027931220870724754, 0.0003649455461644511, 0.0004238514704282476, 0.00046149882206476345, 0.0004823904846900614, 0.000490221564846281, 0.0004880128398320463, 0.00047822322158437856]}, \"0.50303\": {\"Voltage\": [0.0, 0.055892255892255896, 0.11178451178451179, 0.1676767676767677, 0.22356902356902358, 0.27946127946127947, 0.3353535353535354, 0.3912457912457913, 0.44713804713804717, 0.503030303030303], \"Current\": [0.0, 0.00016201161013059976, 0.000281768141916199, 0.0003675351680116039, 0.0004261410701616046, 0.0004632113149052384, 0.0004833660676918002, 0.0004903867231816878, 0.0004873560982094082, 0.000476776324548466]}, \"0.50909\": {\"Voltage\": [0.0, 0.05656565656565656, 0.11313131313131312, 0.16969696969696968, 0.22626262626262625, 0.2828282828282828, 0.33939393939393936, 0.39595959595959596, 0.4525252525252525, 0.509090909090909], \"Current\": [0.0, 0.00016368775653657325, 0.00028420440882403623, 0.0003700894359971851, 0.00042838084572358786, 0.00046486267355314736, 0.00048427331689409806, 0.000490480729156192, 0.0004866295914991817, 0.00047526480624279815]}, \"0.51515\": {\"Voltage\": [0.0, 0.057239057239057235, 0.11447811447811447, 0.1717171717171717, 0.22895622895622894, 0.28619528619528617, 0.3434343434343434, 0.4006734006734006, 0.4579124579124579, 0.5151515151515151], \"Current\": [0.0, 0.0001653578057023132, 0.0002866211138924166, 0.00037260864060822095, 0.0004305713627628018, 0.0004664538025627797, 0.0004851135072894609, 0.0004905052272510291, 0.0004858353038305645, 0.0004736909373006021]}, \"0.52121\": {\"Voltage\": [0.0, 0.057912457912457915, 0.11582491582491583, 0.17373737373737375, 0.23164983164983166, 0.2895622895622896, 0.3474747474747475, 0.4053872053872054, 0.4632996632996633, 0.5212121212121212], \"Current\": [0.0, 0.00016702177339746947, 0.00028901836110293666, 0.000375093070302173, 0.00043271318157949465, 0.00046798559561949673, 0.000485887895144734, 0.0004904618331817147, 0.00048497517873188954, 0.0004720569346788843]}, \"0.52727\": {\"Voltage\": [0.0, 0.05858585858585858, 0.11717171717171716, 0.17575757575757575, 0.23434343434343433, 0.29292929292929293, 0.3515151515151515, 0.4101010101010101, 0.46868686868686865, 0.5272727272727272], \"Current\": [0.0, 0.00016867967535589174, 0.00029139625395917945, 0.0003775430115200157, 0.0004348068571718698, 0.00046945893565838743, 0.00048659771824871264, 0.0004903521343463413, 0.00048405111986183285, 0.00047036496275928416]}, \"0.53333\": {\"Voltage\": [0.0, 0.05925925925925926, 0.11851851851851852, 0.17777777777777778, 0.23703703703703705, 0.2962962962962963, 0.35555555555555557, 0.41481481481481486, 0.4740740740740741, 0.5333333333333333], \"Current\": [0.0, 0.00017033152727570546, 0.00029375489548875316, 0.00037995874869923245, 0.00043685293928201685, 0.00047087469498169863, 0.0004872441961566667, 0.0004901776902673192, 0.00048306499172832306, 0.00046861713442795873]}, \"0.53939\": {\"Voltage\": [0.0, 0.059932659932659935, 0.11986531986531987, 0.1797979797979798, 0.23973063973063974, 0.2996632996632997, 0.3595959595959596, 0.41952861952861953, 0.4794612794612795, 0.5393939393939394], \"Current\": [0.0, 0.00017197734481938712, 0.00029609438824532136, 0.0003823405642867319, 0.00043885197244146446, 0.00047223373537505205, 0.0004878285304318166, 0.0004899400330266535, 0.00048201862039535284, 0.00046681551213487903]}, \"0.54545\": {\"Voltage\": [0.0, 0.0606060606060606, 0.1212121212121212, 0.1818181818181818, 0.2424242424242424, 0.303030303030303, 0.3636363636363636, 0.4242424242424242, 0.4848484848484848, 0.5454545454545454], \"Current\": [0.0, 0.00017361714361384026, 0.00029841483431062546, 0.0003846887387516859, 0.00044080449601635846, 0.00047353690822245985, 0.0004883519048837976, 0.0004896406676948485, 0.0004809137941778835, 0.00046496210893291024]}, \"0.55152\": {\"Voltage\": [0.0, 0.06127946127946128, 0.12255892255892256, 0.18383838383838386, 0.24511784511784512, 0.3063973063973064, 0.3676767676767677, 0.428956228956229, 0.49023569023569025, 0.5515151515151515], \"Current\": [0.0, 0.00017525093925047048, 0.00030071633529649817, 0.0003870035505982879, 0.0004427110442522687, 0.0004747850546201519, 0.0004888154858041475, 0.0004892810727535289, 0.00047975226432503946, 0.00046305888949705]}, \"0.55758\": {\"Voltage\": [0.0, 0.061952861952861954, 0.12390572390572391, 0.18585858585858586, 0.24781144781144782, 0.3097643097643098, 0.3717171717171717, 0.43367003367003365, 0.49562289562289563, 0.5575757575757576], \"Current\": [0.0, 0.00017687874728526066, 0.00030299899234686924, 0.0003892852763784323, 0.00044457214631862677, 0.00047597900548922324, 0.0004892204221988547, 0.0004888627005118656, 0.000478535745691778, 0.0004611077711241797]}, \"0.56364\": {\"Voltage\": [0.0, 0.06262626262626263, 0.12525252525252525, 0.18787878787878787, 0.2505050505050505, 0.31313131313131315, 0.37575757575757573, 0.4383838383838384, 0.501010101010101, 0.5636363636363636], \"Current\": [0.0, 0.00017850058323884627, 0.0003052629061397632, 0.00039153419070431787, 0.000446388326352798, 0.00047711958168711896, 0.000489567846018001, 0.0004883869775168935, 0.0004772659173992216, 0.00045911062471369103]}, \"0.56970\": {\"Voltage\": [0.0, 0.0632996632996633, 0.1265993265993266, 0.1898989898989899, 0.2531986531986532, 0.3164983164983165, 0.3797979797979798, 0.4430976430976431, 0.5063973063973064, 0.5696969696969697], \"Current\": [0.0, 0.00018011646259658993, 0.0003075081768892885, 0.0003937505662609719, 0.00044816010350379025, 0.00047820759411796313, 0.000489858872382535, 0.000487855304957808, 0.0004759444234838362, 0.0004570692757293315]}, \"0.57576\": {\"Voltage\": [0.0, 0.06397306397306397, 0.12794612794612795, 0.19191919191919193, 0.2558922558922559, 0.31986531986531985, 0.38383838383838387, 0.4478114478114478, 0.5117845117845118, 0.5757575757575758], \"Current\": [0.0, 0.00018172640080865645, 0.00030973490434761875, 0.0003959346738186983, 0.00044988799197560333, 0.00047924384384174503, 0.0004900945998082099, 0.00048726905906432393, 0.0004745728735356366, 0.0004549855051426153]}, \"0.58182\": {\"Voltage\": [0.0, 0.06464646464646465, 0.1292929292929293, 0.19393939393939394, 0.2585858585858586, 0.3232323232323232, 0.3878787878787879, 0.45252525252525255, 0.5171717171717172, 0.5818181818181818], \"Current\": [0.0, 0.00018333041329008726, 0.0003119431878069662, 0.00039808678224544883, 0.00045157250107022065, 0.00048022912218237586, 0.0004902761104267189, 0.00048662959149918186, 0.0004731528433255929, 0.0004528610503581352]}, \"0.58788\": {\"Voltage\": [0.0, 0.06531986531986532, 0.13063973063973064, 0.19595959595959594, 0.2612794612794613, 0.3265993265993266, 0.3919191919191919, 0.4572390572390572, 0.5225589225589226, 0.5878787878787879], \"Current\": [0.0, 0.00018492851542087487, 0.000314133126101546, 0.00040020715851911865, 0.00045321413523024667, 0.0004811642108346241, 0.0004904044702040644, 0.000485938229744881, 0.0004716858754224168, 0.000450697606121106]}, \"0.59394\": {\"Voltage\": [0.0, 0.06599326599326599, 0.13198653198653199, 0.19797979797979798, 0.26397306397306397, 0.32996632996632996, 0.39595959595959596, 0.46195286195286195, 0.5279461279461279, 0.593939393939394], \"Current\": [0.0, 0.00018652072254603727, 0.0003163048176095345, 0.00040229606773976574, 0.00045481339408119274, 0.00048204988196994236, 0.000490480729156192, 0.00048519627748472657, 0.000470173479798898, 0.00044849682540746725]}, \"0.60000\": {\"Voltage\": [0.0, 0.06666666666666667, 0.13333333333333333, 0.2, 0.26666666666666666, 0.3333333333333333, 0.4, 0.4666666666666667, 0.5333333333333333, 0.6], \"Current\": [0.0, 0.00018810704997569203, 0.0003184583602550175, 0.0004043537731417557, 0.00045637077247341515, 0.00048288689834119806, 0.0004905059215619231, 0.0004844050149782632, 0.00046861713442795873, 0.00044626032029685975]}}}",
       "encoder": "text",
       "name": "IV",
       "version": 1
      }
     },
     "metadata": {
      "scrapbook": {
       "data": true,
       "display": false,
       "name": "IV"
      }
     },
     "output_type": "display_data"
    },
    {
     "data": {
      "application/scrapbook.scrap.text+json": {
       "data": "1",
       "encoder": "text",
       "name": "simToolAllOutputsSaved",
       "version": 1
      }
     },
     "metadata": {
      "scrapbook": {
       "data": true,
       "display": false,
       "name": "simToolAllOutputsSaved"
      }
     },
     "output_type": "display_data"
    }
   ],
   "source": [
    "# This generates all the outputs and stores them to the data base\n",
    "# It uses the file names that will be generated by NEMO1D by default \n",
    "\n",
    "IVdata = read_data_from_json_file(IV_file)\n",
    "\n",
    "banddata = read_data_from_json_file(\"/home/toro0/NEMO1D-RTD/simtool/test_AlGaAs_TFQ_Cgam.nd_bnd\")\n",
    "\n",
    "db.save('Band', banddata)\n",
    "\n",
    "\n",
    "#rIVdata_dict = {'x': IVdata[0], 'y': IVdata[1]} # Wont be used in final deployment \n",
    "db.save('IV', IVdata)"
   ]
  },
  {
   "cell_type": "code",
   "execution_count": 3,
   "id": "440e6084",
   "metadata": {},
   "outputs": [
    {
     "data": {
      "application/vnd.plotly.v1+json": {
       "config": {
        "plotlyServerURL": "https://plot.ly"
       },
       "data": [
        {
         "line": {
          "color": "blue"
         },
         "mode": "lines",
         "name": "Line at y=1",
         "type": "scatter",
         "x": [
          0.5,
          1.5
         ],
         "y": [
          1,
          1
         ]
        },
        {
         "mode": "text",
         "showlegend": false,
         "text": [
          "y=1"
         ],
         "textposition": "top center",
         "type": "scatter",
         "x": [
          1
         ],
         "y": [
          1.2
         ]
        },
        {
         "line": {
          "color": "blue"
         },
         "mode": "lines",
         "name": "Line at y=2",
         "type": "scatter",
         "x": [
          1.5,
          2.5
         ],
         "y": [
          2,
          2
         ]
        },
        {
         "mode": "text",
         "showlegend": false,
         "text": [
          "y=2"
         ],
         "textposition": "top center",
         "type": "scatter",
         "x": [
          2
         ],
         "y": [
          2.2
         ]
        },
        {
         "line": {
          "color": "blue"
         },
         "mode": "lines",
         "name": "Line at y=3",
         "type": "scatter",
         "x": [
          2.5,
          3.5
         ],
         "y": [
          3,
          3
         ]
        },
        {
         "mode": "text",
         "showlegend": false,
         "text": [
          "5"
         ],
         "textposition": "top center",
         "type": "scatter",
         "x": [
          3
         ],
         "y": [
          3.2
         ]
        }
       ],
       "layout": {
        "font": {
         "color": "Black",
         "family": "Courier New, monospace",
         "size": 24
        },
        "legend": {
         "orientation": "h",
         "x": 1,
         "xanchor": "right",
         "y": 1,
         "yanchor": "bottom"
        },
        "margin": {
         "b": 80,
         "l": 100,
         "r": 100,
         "t": 80
        },
        "showlegend": true,
        "template": {
         "data": {
          "pie": [
           {
            "automargin": true,
            "type": "pie"
           }
          ],
          "scatter": [
           {
            "line": {
             "width": 3
            },
            "marker": {
             "size": 9
            },
            "type": "scatter"
           }
          ],
          "scatter3d": [
           {
            "line": {
             "width": 3
            },
            "marker": {
             "size": 9
            },
            "type": "scatter3d"
           }
          ],
          "scattergeo": [
           {
            "line": {
             "width": 3
            },
            "marker": {
             "size": 9
            },
            "type": "scattergeo"
           }
          ],
          "scattergl": [
           {
            "line": {
             "width": 3
            },
            "marker": {
             "size": 9
            },
            "type": "scattergl"
           }
          ],
          "scatterpolar": [
           {
            "line": {
             "width": 3
            },
            "marker": {
             "size": 9
            },
            "type": "scatterpolar"
           }
          ],
          "scatterpolargl": [
           {
            "line": {
             "width": 3
            },
            "marker": {
             "size": 9
            },
            "type": "scatterpolargl"
           }
          ],
          "scatterternary": [
           {
            "line": {
             "width": 3
            },
            "marker": {
             "size": 9
            },
            "type": "scatterternary"
           }
          ],
          "table": [
           {
            "cells": {
             "height": 30
            },
            "header": {
             "height": 36
            },
            "type": "table"
           }
          ]
         },
         "layout": {
          "font": {
           "size": 18
          },
          "xaxis": {
           "title": {
            "standoff": 15
           }
          },
          "yaxis": {
           "title": {
            "standoff": 15
           }
          }
         }
        },
        "title": {
         "font": {
          "color": "Black",
          "family": "Courier New, monospace",
          "size": 12
         },
         "text": "Discrete Horizontal Lines Plot"
        },
        "xaxis": {
         "range": [
          0,
          4
         ],
         "tickmode": "array",
         "tickvals": [
          1,
          2,
          3
         ],
         "title": {
          "text": "X-axis"
         }
        },
        "yaxis": {
         "range": [
          0,
          4
         ],
         "tickmode": "array",
         "tickvals": [
          1,
          2,
          3
         ],
         "title": {
          "text": "Y-axis"
         }
        }
       }
      },
      "text/html": [
       "<div>                            <div id=\"632f06a9-ba0e-4cf6-ae70-625a1a507797\" class=\"plotly-graph-div\" style=\"height:525px; width:100%;\"></div>            <script type=\"text/javascript\">                require([\"plotly\"], function(Plotly) {                    window.PLOTLYENV=window.PLOTLYENV || {};                                    if (document.getElementById(\"632f06a9-ba0e-4cf6-ae70-625a1a507797\")) {                    Plotly.newPlot(                        \"632f06a9-ba0e-4cf6-ae70-625a1a507797\",                        [{\"line\":{\"color\":\"blue\"},\"mode\":\"lines\",\"name\":\"Line at y=1\",\"x\":[0.5,1.5],\"y\":[1,1],\"type\":\"scatter\"},{\"mode\":\"text\",\"showlegend\":false,\"text\":[\"y=1\"],\"textposition\":\"top center\",\"x\":[1],\"y\":[1.2],\"type\":\"scatter\"},{\"line\":{\"color\":\"blue\"},\"mode\":\"lines\",\"name\":\"Line at y=2\",\"x\":[1.5,2.5],\"y\":[2,2],\"type\":\"scatter\"},{\"mode\":\"text\",\"showlegend\":false,\"text\":[\"y=2\"],\"textposition\":\"top center\",\"x\":[2],\"y\":[2.2],\"type\":\"scatter\"},{\"line\":{\"color\":\"blue\"},\"mode\":\"lines\",\"name\":\"Line at y=3\",\"x\":[2.5,3.5],\"y\":[3,3],\"type\":\"scatter\"},{\"mode\":\"text\",\"showlegend\":false,\"text\":[\"5\"],\"textposition\":\"top center\",\"x\":[3],\"y\":[3.2],\"type\":\"scatter\"}],                        {\"template\":{\"data\":{\"pie\":[{\"automargin\":true,\"type\":\"pie\"}],\"scatter3d\":[{\"line\":{\"width\":3},\"marker\":{\"size\":9},\"type\":\"scatter3d\"}],\"scattergeo\":[{\"line\":{\"width\":3},\"marker\":{\"size\":9},\"type\":\"scattergeo\"}],\"scattergl\":[{\"line\":{\"width\":3},\"marker\":{\"size\":9},\"type\":\"scattergl\"}],\"scatterpolargl\":[{\"line\":{\"width\":3},\"marker\":{\"size\":9},\"type\":\"scatterpolargl\"}],\"scatterpolar\":[{\"line\":{\"width\":3},\"marker\":{\"size\":9},\"type\":\"scatterpolar\"}],\"scatter\":[{\"line\":{\"width\":3},\"marker\":{\"size\":9},\"type\":\"scatter\"}],\"scatterternary\":[{\"line\":{\"width\":3},\"marker\":{\"size\":9},\"type\":\"scatterternary\"}],\"table\":[{\"cells\":{\"height\":30},\"header\":{\"height\":36},\"type\":\"table\"}]},\"layout\":{\"font\":{\"size\":18},\"xaxis\":{\"title\":{\"standoff\":15}},\"yaxis\":{\"title\":{\"standoff\":15}}}},\"title\":{\"font\":{\"family\":\"Courier New, monospace\",\"size\":12,\"color\":\"Black\"},\"text\":\"Discrete Horizontal Lines Plot\"},\"margin\":{\"t\":80,\"b\":80,\"r\":100,\"l\":100},\"font\":{\"family\":\"Courier New, monospace\",\"size\":24,\"color\":\"Black\"},\"yaxis\":{\"title\":{\"text\":\"Y-axis\"},\"tickmode\":\"array\",\"tickvals\":[1,2,3],\"range\":[0,4]},\"xaxis\":{\"title\":{\"text\":\"X-axis\"},\"tickmode\":\"array\",\"tickvals\":[1,2,3],\"range\":[0,4]},\"legend\":{\"orientation\":\"h\",\"yanchor\":\"bottom\",\"y\":1.0,\"xanchor\":\"right\",\"x\":1},\"showlegend\":true},                        {\"responsive\": true}                    ).then(function(){\n",
       "                            \n",
       "var gd = document.getElementById('632f06a9-ba0e-4cf6-ae70-625a1a507797');\n",
       "var x = new MutationObserver(function (mutations, observer) {{\n",
       "        var display = window.getComputedStyle(gd).display;\n",
       "        if (!display || display === 'none') {{\n",
       "            console.log([gd, 'removed!']);\n",
       "            Plotly.purge(gd);\n",
       "            observer.disconnect();\n",
       "        }}\n",
       "}});\n",
       "\n",
       "// Listen for the removal of the full notebook cells\n",
       "var notebookContainer = gd.closest('#notebook-container');\n",
       "if (notebookContainer) {{\n",
       "    x.observe(notebookContainer, {childList: true});\n",
       "}}\n",
       "\n",
       "// Listen for the clearing of the current output cell\n",
       "var outputEl = gd.closest('.output');\n",
       "if (outputEl) {{\n",
       "    x.observe(outputEl, {childList: true});\n",
       "}}\n",
       "\n",
       "                        })                };                });            </script>        </div>"
      ]
     },
     "metadata": {},
     "output_type": "display_data"
    },
    {
     "data": {
      "application/vnd.jupyter.widget-view+json": {
       "model_id": "311df4e993c34dab9764003042d70dc6",
       "version_major": 2,
       "version_minor": 0
      },
      "text/plain": [
       "VBox(children=(Text(value='y=1', description='Line 1:'), Text(value='y=2', description='Line 2:'), Text(value=…"
      ]
     },
     "metadata": {},
     "output_type": "display_data"
    }
   ],
   "source": [
    "# This cell is being used to test nothing will be transfered to final version \n",
    "\n",
    "import numpy as np\n",
    "import plotly.graph_objects as go\n",
    "from ipywidgets import widgets, VBox, HBox, Tab, Layout, Button, ButtonStyle\n",
    "from IPython.display import display, clear_output\n",
    "import copy\n",
    "\n",
    "# Template for the plots\n",
    "layout_template = {\n",
    "    'title': {\n",
    "        'font': {\n",
    "            'family': 'Courier New, monospace',\n",
    "            'size': 12,\n",
    "            'color': 'Black'\n",
    "        }      \n",
    "    },\n",
    "    'margin': {\n",
    "        't': 80,\n",
    "        'b': 80,\n",
    "        'r': 100,\n",
    "        'l': 100\n",
    "    },\n",
    "    'showlegend': True,\n",
    "    'font': {\n",
    "        'family': 'Courier New, monospace',\n",
    "        'size': 24,\n",
    "        'color': 'Black'\n",
    "    },\n",
    "    'yaxis': {   \n",
    "         'title': \"\"\n",
    "    },\n",
    "    'xaxis': {\n",
    "        'title': \"\"\n",
    "    },\n",
    "    'legend': {\n",
    "        'orientation': 'h',\n",
    "        'yanchor': 'bottom',\n",
    "        'y': 1.0,\n",
    "        'xanchor': 'right',\n",
    "        'x': 1\n",
    "    },\n",
    "    'template': 'presentation'\n",
    "}\n",
    "\n",
    "def update_plot(text_values):\n",
    "    \"\"\"Function to update the plot dynamically based on text box inputs.\"\"\"\n",
    "    x = [1, 2, 3]  # x-coordinates\n",
    "    y = [1, 2, 3]  # y-coordinates\n",
    "\n",
    "    # Clear previous output\n",
    "    clear_output(wait=True)\n",
    "\n",
    "    # Create the figure\n",
    "    fig = go.Figure()\n",
    "\n",
    "    # Add horizontal lines and text annotations based on text box values\n",
    "    for xi, yi, text in zip(x, y, text_values):\n",
    "        fig.add_trace(go.Scatter(\n",
    "            x=[xi - 0.5, xi + 0.5],\n",
    "            y=[yi, yi],\n",
    "            mode='lines',\n",
    "            line=dict(color='blue'),\n",
    "            name=f'Line at y={yi}'\n",
    "        ))\n",
    "        fig.add_trace(go.Scatter(\n",
    "            x=[xi],\n",
    "            y=[yi + 0.2],\n",
    "            mode='text',\n",
    "            text=[text],\n",
    "            textposition='top center',\n",
    "            showlegend=False\n",
    "        ))\n",
    "\n",
    "    # Update layout using the template\n",
    "    layout = copy.deepcopy(layout_template)\n",
    "    layout['title']['text'] = \"Discrete Horizontal Lines Plot\"\n",
    "    layout['xaxis']['title'] = \"X-axis\"\n",
    "    layout['yaxis']['title'] = \"Y-axis\"\n",
    "    layout['xaxis'].update(tickmode='array', tickvals=x, range=[0, 4])\n",
    "    layout['yaxis'].update(tickmode='array', tickvals=y, range=[0, 4])\n",
    "    \n",
    "    fig.update_layout(layout)\n",
    "    fig.show()\n",
    "\n",
    "    # Re-display widgets\n",
    "    create_widget()\n",
    "\n",
    "def create_widget():\n",
    "    \"\"\"Function to create widgets for the plot.\"\"\"\n",
    "    # Initial text values for annotations\n",
    "    initial_texts = [f'y={i}' for i in [1, 2, 3]]\n",
    "\n",
    "    # Create text boxes for each line\n",
    "    text_boxes = [widgets.Text(value=text, description=f'Line {i+1}:') for i, text in enumerate(initial_texts)]\n",
    "\n",
    "    # Button to update the plot\n",
    "    update_button = widgets.Button(description=\"Update Plot\")\n",
    "\n",
    "    # Event handler for the button\n",
    "    def on_update_button_click(b):\n",
    "        text_values = [tb.value for tb in text_boxes]\n",
    "        update_plot(text_values)\n",
    "\n",
    "    update_button.on_click(on_update_button_click)\n",
    "\n",
    "    # Arrange widgets in a vertical layout\n",
    "    widget_box = VBox(text_boxes + [update_button])\n",
    "    display(widget_box)\n",
    "\n",
    "# Simulate Button\n",
    "simulate_button = Button(\n",
    "    description=\"Simulate\",\n",
    "    tooltip='Run simulation',\n",
    "    icon='check',\n",
    "    style=ButtonStyle(button_color='lightblue'),\n",
    "    layout=Layout(width='150px')\n",
    ")\n",
    "\n",
    "# Top Tabs\n",
    "top_tabs = Tab(layout=Layout(width='100%', height='300px'))\n",
    "\n",
    "# Define contents of the top tabs\n",
    "basic_tab = VBox([widgets.Label(\"Basic Tab Content\")])\n",
    "multiscale_domains_tab = VBox([widgets.Label(\"Multiscale Domains Content\")])\n",
    "advanced_tab = VBox([widgets.Label(\"Advanced Content\")])\n",
    "resonance_finder_tab = VBox([widgets.Label(\"Resonance Finder Content\")])\n",
    "device_tab = VBox([widgets.Label(\"Device Content\")])\n",
    "\n",
    "top_tabs.children = [basic_tab, multiscale_domains_tab, advanced_tab, resonance_finder_tab, device_tab]\n",
    "top_tabs.set_title(0, \"Basic\")\n",
    "top_tabs.set_title(1, \"Multiscale Domains\")\n",
    "top_tabs.set_title(2, \"Advanced\")\n",
    "top_tabs.set_title(3, \"Resonance Finder\")\n",
    "top_tabs.set_title(4, \"Device\")\n",
    "\n",
    "# Bottom Tabs\n",
    "bottom_tabs = Tab(layout=Layout(width='100%', height='200px'))\n",
    "mole_tab = VBox([widgets.Label(\"Mole Tab Content\")])\n",
    "doping_tab = VBox([widgets.Label(\"Doping Tab Content\")])\n",
    "\n",
    "bottom_tabs.children = [mole_tab, doping_tab]\n",
    "bottom_tabs.set_title(0, \"Mole\")\n",
    "bottom_tabs.set_title(1, \"Doping\")\n",
    "\n",
    "# Main Layout\n",
    "layout = VBox([\n",
    "    simulate_button,\n",
    "    top_tabs,\n",
    "    bottom_tabs\n",
    "], layout=Layout(width='100%', height='700px'))\n",
    "\n",
    "# Display the final layout\n",
    "display(layout)\n",
    "\n",
    "# Initialize plot\n",
    "create_widget()\n",
    "update_plot([\"y=1\", \"y=2\", \"y=3\"])\n",
    "\n"
   ]
  }
 ],
 "metadata": {
  "kernelspec": {
   "display_name": "Python 3.8 (Anaconda 2021.05)",
   "language": "python",
   "name": "anaconda-2021.05-py38"
  },
  "toc": {
   "base_numbering": 1,
   "nav_menu": {},
   "number_sections": true,
   "sideBar": true,
   "skip_h1_title": false,
   "title_cell": "Table of Contents",
   "title_sidebar": "Contents",
   "toc_cell": false,
   "toc_position": {},
   "toc_section_display": true,
   "toc_window_display": false
  },
  "varInspector": {
   "cols": {
    "lenName": 16,
    "lenType": 16,
    "lenVar": 40
   },
   "kernels_config": {
    "python": {
     "delete_cmd_postfix": "",
     "delete_cmd_prefix": "del ",
     "library": "var_list.py",
     "varRefreshCmd": "print(var_dic_list())"
    },
    "r": {
     "delete_cmd_postfix": ") ",
     "delete_cmd_prefix": "rm(",
     "library": "var_list.r",
     "varRefreshCmd": "cat(var_dic_list()) "
    }
   },
   "types_to_exclude": [
    "module",
    "function",
    "builtin_function_or_method",
    "instance",
    "_Feature"
   ],
   "window_display": false
  }
 },
 "nbformat": 4,
 "nbformat_minor": 5
}
