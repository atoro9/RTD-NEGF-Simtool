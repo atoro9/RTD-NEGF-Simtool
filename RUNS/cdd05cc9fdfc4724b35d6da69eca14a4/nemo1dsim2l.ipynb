{
 "cells": [
  {
   "cell_type": "markdown",
   "id": "4642da2b",
   "metadata": {
    "tags": [
     "papermill-error-cell-tag"
    ]
   },
   "source": [
    "<span style=\"color:red; font-family:Helvetica Neue, Helvetica, Arial, sans-serif; font-size:2em;\">An Exception was encountered at '<a href=\"#papermill-error-cell\">In [23]</a>'.</span>"
   ]
  },
  {
   "cell_type": "code",
   "execution_count": 1,
   "id": "971836d2",
   "metadata": {
    "ExecuteTime": {
     "end_time": "2024-12-04T23:03:28.299436Z",
     "start_time": "2024-12-04T23:03:28.297533Z"
    },
    "execution": {
     "iopub.execute_input": "2024-12-18T05:13:40.861177Z",
     "iopub.status.busy": "2024-12-18T05:13:40.860805Z",
     "iopub.status.idle": "2024-12-18T05:13:40.863350Z",
     "shell.execute_reply": "2024-12-18T05:13:40.863971Z"
    },
    "papermill": {
     "duration": 0.011215,
     "end_time": "2024-12-18T05:13:40.864158",
     "exception": false,
     "start_time": "2024-12-18T05:13:40.852943",
     "status": "completed"
    },
    "tags": []
   },
   "outputs": [],
   "source": [
    "################## This code is a sim2l designed to be used with NEMO1d ##################\n",
    "#\n",
    "#  Version 0.0\n"
   ]
  },
  {
   "cell_type": "code",
   "execution_count": 2,
   "id": "a9051b19",
   "metadata": {
    "ExecuteTime": {
     "end_time": "2024-12-04T23:03:28.712574Z",
     "start_time": "2024-12-04T23:03:28.706717Z"
    },
    "execution": {
     "iopub.execute_input": "2024-12-18T05:13:40.874681Z",
     "iopub.status.busy": "2024-12-18T05:13:40.874294Z",
     "iopub.status.idle": "2024-12-18T05:13:42.970166Z",
     "shell.execute_reply": "2024-12-18T05:13:42.970492Z"
    },
    "papermill": {
     "duration": 2.101704,
     "end_time": "2024-12-18T05:13:42.970614",
     "exception": false,
     "start_time": "2024-12-18T05:13:40.868910",
     "status": "completed"
    },
    "tags": []
   },
   "outputs": [
    {
     "name": "stderr",
     "output_type": "stream",
     "text": [
      "/apps/spack/negishi/apps/anaconda/2021.05-py38-gcc-8.5.0-rncymzu/lib/python3.8/site-packages/scipy/__init__.py:138: UserWarning: A NumPy version >=1.16.5 and <1.23.0 is required for this version of SciPy (detected version 1.24.4)\n",
      "  warnings.warn(f\"A NumPy version >={np_minversion} and <{np_maxversion} is required for this version of \"\n"
     ]
    }
   ],
   "source": [
    "import json\n",
    "from simtool import DB\n",
    "import math\n",
    "import simtool as st\n",
    "from hublib.cmd import runCommand  # type: ignore\n",
    "import uuid\n",
    "import os\n",
    "import shutil\n",
    "import nbformat # type: ignore \n",
    "import numpy as np # type: ignore\n",
    "import plotly.graph_objects as go # type: ignore\n",
    "import ipywidgets as w # type: ignore\n",
    "from ipywidgets import HBox, VBox, HTML, Image, Layout, Button, ButtonStyle, Tab, BoundedIntText, BoundedFloatText, Dropdown, ToggleButton, Output, Textarea, FloatLogSlider # type: ignore\n",
    "%load_ext yamlmagic"
   ]
  },
  {
   "cell_type": "code",
   "execution_count": 3,
   "id": "96a703a4",
   "metadata": {
    "execution": {
     "iopub.execute_input": "2024-12-18T05:13:42.982898Z",
     "iopub.status.busy": "2024-12-18T05:13:42.982519Z",
     "iopub.status.idle": "2024-12-18T05:13:42.984823Z",
     "shell.execute_reply": "2024-12-18T05:13:42.984488Z"
    },
    "papermill": {
     "duration": 0.009396,
     "end_time": "2024-12-18T05:13:42.984911",
     "exception": false,
     "start_time": "2024-12-18T05:13:42.975515",
     "status": "completed"
    },
    "tags": []
   },
   "outputs": [],
   "source": [
    "# Set debug mode: 1 to enable, 0 to disable\n",
    "# Debug mode will enable specific print statements and will only adjust the temperature input \n",
    "\n",
    "debug_mode = 1"
   ]
  },
  {
   "cell_type": "code",
   "execution_count": 4,
   "id": "bdb3501d",
   "metadata": {
    "ExecuteTime": {
     "end_time": "2024-12-04T23:07:46.413257Z",
     "start_time": "2024-12-04T23:07:46.396462Z"
    },
    "code_folding": [],
    "execution": {
     "iopub.execute_input": "2024-12-18T05:13:42.998812Z",
     "iopub.status.busy": "2024-12-18T05:13:42.996128Z",
     "iopub.status.idle": "2024-12-18T05:13:43.014421Z",
     "shell.execute_reply": "2024-12-18T05:13:43.013979Z"
    },
    "papermill": {
     "duration": 0.025682,
     "end_time": "2024-12-18T05:13:43.014509",
     "exception": false,
     "start_time": "2024-12-18T05:13:42.988827",
     "status": "completed"
    },
    "tags": []
   },
   "outputs": [
    {
     "data": {
      "application/javascript": [
       "\n",
       "            require(\n",
       "                [\n",
       "                    \"notebook/js/codecell\",\n",
       "                    \"codemirror/mode/yaml/yaml\"\n",
       "                ],\n",
       "                function(cc){\n",
       "                    cc.CodeCell.options_default.highlight_modes.magic_yaml = {\n",
       "                        reg: [\"^%%yaml\"]\n",
       "                    }\n",
       "                }\n",
       "            );\n",
       "            "
      ],
      "text/plain": [
       "<IPython.core.display.Javascript object>"
      ]
     },
     "metadata": {},
     "output_type": "display_data"
    }
   ],
   "source": [
    "%%yaml INPUTS\n",
    "Energy_Band_Model: # not needed\n",
    "    type: Choice\n",
    "    description: Energy Band Model\n",
    "    options: ['Effective Mass Model', 'Tight-Binding Sp3s* Model', 'Tight-Binding sp3d5s* Model']\n",
    "    value: Effective Mass Model\n",
    "\n",
    "Potential_model:\n",
    "    type: Choice\n",
    "    description: Potential Model\n",
    "    options: ['Thomas-Fermi', 'Hartree']\n",
    "    value: Thomas-Fermi\n",
    "\n",
    "Ending_Bias:\n",
    "    type: Number\n",
    "    description: Ending Bias\n",
    "    max: 1000\n",
    "    min: 0\n",
    "    value: 0\n",
    "\n",
    "Device:\n",
    "    type: Choice\n",
    "    description: Device Type\n",
    "    options: ['1-Barrier-Device', '2-Barrier-Device', '3-Barrier-Device', '6-Barrier-Device']\n",
    "    value: 2-Barrier-Device\n",
    "\n",
    "points:\n",
    "    type: Number\n",
    "    description: No. of Points\n",
    "    max: 100.0\n",
    "    min: 1.0\n",
    "    value: 6\n",
    "\n",
    "Starting_bias:\n",
    "    type: Number\n",
    "    description: Starting Bias\n",
    "    max: 100.0\n",
    "    min: 0.0\n",
    "    value: 0\n",
    "\n",
    "TEMPERATURE:\n",
    "    type: Number\n",
    "    description: Temperature\n",
    "    max: 500.0\n",
    "    min: 77.0\n",
    "\n",
    "\n",
    "SC_ChargeRegion: #min and max any place with regions\n",
    "    type: Number\n",
    "    description: Semiclassical Charge Region dSC (nm)\n",
    "    min: 0\n",
    "    value: 0\n",
    "\n",
    "EQ_Region:\n",
    "    type: Number\n",
    "    description: Equilibrium Region dEQ (nm)\n",
    "    min: 0\n",
    "    value: 0\n",
    "\n",
    "Quantum_charge:\n",
    "    type: Boolean\n",
    "    description: Quantum Charge\n",
    "    value: false\n",
    "\n",
    "Lattice_Constant:\n",
    "    type: Number\n",
    "    description: Lattice Constant (nm)\n",
    "    value: 0.283\n",
    "\n",
    "Not_Normalized_Current_Plot:\n",
    "    type: Boolean\n",
    "    description: Not-Normalized Current Plot\n",
    "    value: false\n",
    "\n",
    "Scatter_Plot:\n",
    "    type: Boolean\n",
    "    description: Scatter Plot\n",
    "    value: false\n",
    "\n",
    "Carrier_Surface_Distrubution_Plot:\n",
    "    type: Boolean\n",
    "    description: Carrier Surface Distribution Plot\n",
    "    value: false\n",
    "\n",
    "Resivoir_Relaxation_Model:\n",
    "    type: Choice\n",
    "    description: Reservoir Relaxation Model\n",
    "    options: ['Energy Independant', 'Exponentialy Damped', 'Lorentzian Damped']\n",
    "    value: Energy Independant\n",
    "\n",
    "Resivoir_Relaxation_Energy:\n",
    "    type: Number\n",
    "    description: Reservoir Relaxation Energy (meV)\n",
    "    min: 0\n",
    "    value: 0\n",
    "\n",
    "Decay_Length:\n",
    "    type: Number\n",
    "    description: Decay Length (meV)\n",
    "    min: 0\n",
    "    value: 0\n",
    "\n",
    "Resonance_Finder:\n",
    "    type: Boolean\n",
    "    description: Resonance Finder\n",
    "    value: false\n",
    "\n",
    "No_Homogenous_Grid_Points:\n",
    "    type: Number\n",
    "    description: No. Homogeneous Grid Points\n",
    "    min: 0\n",
    "    value: 0\n",
    "\n",
    "No_Points_per_res:\n",
    "    type: Number\n",
    "    description: No. Points Per Resonance\n",
    "    min: 0\n",
    "    value: 0\n",
    "\n",
    "No_Points_per_EC_EF:\n",
    "    type: Number\n",
    "    description: No. Points Per EC EF\n",
    "    min: 0\n",
    "    value: 0\n",
    "\n",
    "Lancos_Iteration_Step_Size:\n",
    "    type: Number\n",
    "    description: Lanczos Iteration Step Size (eV)\n",
    "    min: 0\n",
    "    value: 0\n",
    "\n",
    "Lancos_Iteration_Limit:\n",
    "    type: Number\n",
    "    description: Lanczos Iteration Limit\n",
    "    min: 0\n",
    "    value: 0\n",
    "\n",
    "Newton_Iteration_Step_Size:\n",
    "    type: Number\n",
    "    description: Newton Iteration Step Size (eV)\n",
    "    min: 0\n",
    "    value: 0\n",
    "\n",
    "Newton_Solver_Convergence_Condition:\n",
    "    type: Number\n",
    "    description: Newton Solver Convergence Condition (eV)\n",
    "    value: 0\n"
   ]
  },
  {
   "cell_type": "code",
   "execution_count": 5,
   "id": "f1c373e0",
   "metadata": {
    "ExecuteTime": {
     "end_time": "2024-12-04T23:07:47.445380Z",
     "start_time": "2024-12-04T23:07:47.440676Z"
    },
    "code_folding": [],
    "execution": {
     "iopub.execute_input": "2024-12-18T05:13:43.026194Z",
     "iopub.status.busy": "2024-12-18T05:13:43.025544Z",
     "iopub.status.idle": "2024-12-18T05:13:43.027581Z",
     "shell.execute_reply": "2024-12-18T05:13:43.027260Z"
    },
    "papermill": {
     "duration": 0.009077,
     "end_time": "2024-12-18T05:13:43.027669",
     "exception": false,
     "start_time": "2024-12-18T05:13:43.018592",
     "status": "completed"
    },
    "scrolled": true,
    "tags": [
     "parameters"
    ]
   },
   "outputs": [],
   "source": [
    "# From the sim2l library \n",
    "# Ensures that the values passed are within specified range \n",
    "# Uses the default inputs if nothing is passed\n",
    "\n",
    "\n",
    "\n",
    "parameters = st.utils.getValidatedInputs(INPUTS)  #type= ignore \n",
    "\n",
    "\n",
    "if parameters:\n",
    "    globals().update(parameters)\n",
    "\n",
    "#print(parameters)\n",
    "    "
   ]
  },
  {
   "cell_type": "code",
   "execution_count": 6,
   "id": "8ccdaae7",
   "metadata": {
    "execution": {
     "iopub.execute_input": "2024-12-18T05:13:43.039796Z",
     "iopub.status.busy": "2024-12-18T05:13:43.039148Z",
     "iopub.status.idle": "2024-12-18T05:13:43.041332Z",
     "shell.execute_reply": "2024-12-18T05:13:43.041642Z"
    },
    "papermill": {
     "duration": 0.009933,
     "end_time": "2024-12-18T05:13:43.041741",
     "exception": false,
     "start_time": "2024-12-18T05:13:43.031808",
     "status": "completed"
    },
    "tags": [
     "injected-parameters"
    ]
   },
   "outputs": [],
   "source": [
    "# Parameters\n",
    "Energy_Band_Model = \"Effective Mass Model\"\n",
    "Potential_model = \"Thomas-Fermi\"\n",
    "Ending_Bias = 0\n",
    "Device = \"2-Barrier-Device\"\n",
    "points = 6.0\n",
    "Starting_bias = 0.0\n",
    "TEMPERATURE = 300.0\n",
    "SC_ChargeRegion = 0\n",
    "EQ_Region = 0\n",
    "Quantum_charge = False\n",
    "Lattice_Constant = 0\n",
    "Not_Normalized_Current_Plot = False\n",
    "Scatter_Plot = False\n",
    "Carrier_Surface_Distrubution_Plot = False\n",
    "Resivoir_Relaxation_Model = \"Energy Independant\"\n",
    "Resivoir_Relaxation_Energy = 0\n",
    "Decay_Length = 0\n",
    "Resonance_Finder = False\n",
    "No_Homogenous_Grid_Points = 0\n",
    "No_Points_per_res = 0\n",
    "No_Points_per_EC_EF = 0\n",
    "Lancos_Iteration_Step_Size = 0\n",
    "Lancos_Iteration_Limit = 0\n",
    "Newton_Iteration_Step_Size = 0\n",
    "Newton_Solver_Convergence_Condition = 0\n"
   ]
  },
  {
   "cell_type": "code",
   "execution_count": null,
   "id": "07bfb72f",
   "metadata": {
    "papermill": {
     "duration": 0.004241,
     "end_time": "2024-12-18T05:13:43.050077",
     "exception": false,
     "start_time": "2024-12-18T05:13:43.045836",
     "status": "completed"
    },
    "tags": []
   },
   "outputs": [],
   "source": []
  },
  {
   "cell_type": "code",
   "execution_count": null,
   "id": "61b5cb3b",
   "metadata": {
    "papermill": {
     "duration": 0.004003,
     "end_time": "2024-12-18T05:13:43.058163",
     "exception": false,
     "start_time": "2024-12-18T05:13:43.054160",
     "status": "completed"
    },
    "tags": []
   },
   "outputs": [],
   "source": [
    "\n",
    "\n"
   ]
  },
  {
   "cell_type": "code",
   "execution_count": 7,
   "id": "51464ce9",
   "metadata": {
    "execution": {
     "iopub.execute_input": "2024-12-18T05:13:43.073014Z",
     "iopub.status.busy": "2024-12-18T05:13:43.071521Z",
     "iopub.status.idle": "2024-12-18T05:13:43.107414Z",
     "shell.execute_reply": "2024-12-18T05:13:43.107721Z"
    },
    "papermill": {
     "duration": 0.045647,
     "end_time": "2024-12-18T05:13:43.107823",
     "exception": false,
     "start_time": "2024-12-18T05:13:43.062176",
     "status": "completed"
    },
    "tags": []
   },
   "outputs": [
    {
     "name": "stdout",
     "output_type": "stream",
     "text": [
      "Found cell with tag 'injected-parameters':\n",
      "# Parameters\n",
      "Energy_Band_Model = \"Effective Mass Model\"\n",
      "Potential_model = \"Thomas-Fermi\"\n",
      "Ending_Bias = 0\n",
      "Device = \"2-Barrier-Device\"\n",
      "points = 6.0\n",
      "Starting_bias = 0.0\n",
      "TEMPERATURE = 300.0\n",
      "SC_ChargeRegion = 0\n",
      "EQ_Region = 0\n",
      "Quantum_charge = False\n",
      "Lattice_Constant = 0\n",
      "Not_Normalized_Current_Plot = False\n",
      "Scatter_Plot = False\n",
      "Carrier_Surface_Distrubution_Plot = False\n",
      "Resivoir_Relaxation_Model = \"Energy Independant\"\n",
      "Resivoir_Relaxation_Energy = 0\n",
      "Decay_Length = 0\n",
      "Resonance_Finder = False\n",
      "No_Homogenous_Grid_Points = 0\n",
      "No_Points_per_res = 0\n",
      "No_Points_per_EC_EF = 0\n",
      "Lancos_Iteration_Step_Size = 0\n",
      "Lancos_Iteration_Limit = 0\n",
      "Newton_Iteration_Step_Size = 0\n",
      "Newton_Solver_Convergence_Condition = 0\n",
      "\n"
     ]
    }
   ],
   "source": [
    "# Takes injected parameters and converts it to a dictionary \n",
    "# looks through the notebook for a cell with tag injected-paramaters\n",
    "# Once found it converts the injected parameters to a dictionary and updates the parameters dictionary\n",
    "\n",
    "def convert_parameters_to_dict(tag):\n",
    "    # Get the current directory\n",
    "    current_directory = os.getcwd()\n",
    "    \n",
    "    # Define the notebook file name\n",
    "    notebook_file = os.path.join(current_directory, 'nemo1dsim2l.ipynb')\n",
    "\n",
    "    # Read the notebook file using nbformat \n",
    "    try:\n",
    "        with open(notebook_file, 'r', encoding='utf-8') as f:\n",
    "            notebook = nbformat.read(f, as_version=4)\n",
    "    except Exception as e:\n",
    "        print(f\"Error reading notebook file: {e}\")\n",
    "        return {}\n",
    "\n",
    "    # Initialize an empty dictionary to hold the parameters\n",
    "    parameters = {}\n",
    "\n",
    "    # Loop through each cell in the notebook\n",
    "    for cell in notebook.cells:\n",
    "        # Check if the cell has metadata and tags field\n",
    "        if 'metadata' in cell and 'tags' in cell.metadata:\n",
    "            # If the tag is in the cell's metadata, process the content\n",
    "            if tag in cell.metadata['tags']:\n",
    "                print(f\"Found cell with tag '{tag}':\")\n",
    "                print(cell.source)  # Print the content of the cell for debugging\n",
    "                \n",
    "                # Extract the content of the cell\n",
    "                cell_content = cell.source\n",
    "                \n",
    "                # Split the content into lines and parse each line\n",
    "                for line in cell_content.split('\\n'):\n",
    "                    if '=' in line:\n",
    "                        # Split each line into variable name and value\n",
    "                        var_name, var_value = line.split('=', 1)\n",
    "                        var_name = var_name.strip()\n",
    "                        var_value = var_value.strip()\n",
    "                        \n",
    "                        # Attempt to parse the value as an integer, float, or boolean\n",
    "                        if var_value.lower() in ['true', 'false']:\n",
    "                            parameters[var_name] = var_value.lower() == 'true'\n",
    "                        elif var_value.replace('.', '', 1).isdigit():  # Check if it's a float\n",
    "                            parameters[var_name] = float(var_value)\n",
    "                        else:\n",
    "                            parameters[var_name] = var_value.strip('\"')  # Remove quotes for strings\n",
    "\n",
    "    return parameters\n",
    "parameters = convert_parameters_to_dict('injected-parameters')\n"
   ]
  },
  {
   "cell_type": "code",
   "execution_count": 8,
   "id": "4330f342",
   "metadata": {
    "ExecuteTime": {
     "end_time": "2024-12-04T23:07:47.850046Z",
     "start_time": "2024-12-04T23:07:47.843911Z"
    },
    "execution": {
     "iopub.execute_input": "2024-12-18T05:13:43.120396Z",
     "iopub.status.busy": "2024-12-18T05:13:43.120025Z",
     "iopub.status.idle": "2024-12-18T05:13:43.124098Z",
     "shell.execute_reply": "2024-12-18T05:13:43.123785Z"
    },
    "papermill": {
     "duration": 0.011669,
     "end_time": "2024-12-18T05:13:43.124185",
     "exception": false,
     "start_time": "2024-12-18T05:13:43.112516",
     "status": "completed"
    },
    "tags": []
   },
   "outputs": [
    {
     "data": {
      "application/javascript": [
       "\n",
       "            require(\n",
       "                [\n",
       "                    \"notebook/js/codecell\",\n",
       "                    \"codemirror/mode/yaml/yaml\"\n",
       "                ],\n",
       "                function(cc){\n",
       "                    cc.CodeCell.options_default.highlight_modes.magic_yaml = {\n",
       "                        reg: [\"^%%yaml\"]\n",
       "                    }\n",
       "                }\n",
       "            );\n",
       "            "
      ],
      "text/plain": [
       "<IPython.core.display.Javascript object>"
      ]
     },
     "metadata": {},
     "output_type": "display_data"
    }
   ],
   "source": [
    "%%yaml OUTPUTS\n",
    "\n",
    "NEMO1D Input Deck:\n",
    "    type: File    \n",
    "    description : NEMO1D Input Deck\n",
    "IV:\n",
    "    type : Dict\n",
    "    description : IV output file\n",
    "Band:\n",
    "    type: Dict\n",
    "    description: Test\n",
    "    "
   ]
  },
  {
   "cell_type": "code",
   "execution_count": 9,
   "id": "fa44ea23",
   "metadata": {
    "ExecuteTime": {
     "end_time": "2024-12-04T23:07:48.211596Z",
     "start_time": "2024-12-04T23:07:48.204095Z"
    },
    "execution": {
     "iopub.execute_input": "2024-12-18T05:13:43.136833Z",
     "iopub.status.busy": "2024-12-18T05:13:43.136459Z",
     "iopub.status.idle": "2024-12-18T05:13:43.141727Z",
     "shell.execute_reply": "2024-12-18T05:13:43.142006Z"
    },
    "papermill": {
     "duration": 0.013671,
     "end_time": "2024-12-18T05:13:43.142108",
     "exception": false,
     "start_time": "2024-12-18T05:13:43.128437",
     "status": "completed"
    },
    "tags": []
   },
   "outputs": [
    {
     "data": {
      "application/scrapbook.scrap.text+json": {
       "data": "0",
       "encoder": "text",
       "name": "simToolSaveErrorOccurred",
       "version": 1
      }
     },
     "metadata": {
      "scrapbook": {
       "data": true,
       "display": false,
       "name": "simToolSaveErrorOccurred"
      }
     },
     "output_type": "display_data"
    },
    {
     "data": {
      "application/scrapbook.scrap.text+json": {
       "data": "0",
       "encoder": "text",
       "name": "simToolAllOutputsSaved",
       "version": 1
      }
     },
     "metadata": {
      "scrapbook": {
       "data": true,
       "display": false,
       "name": "simToolAllOutputsSaved"
      }
     },
     "output_type": "display_data"
    }
   ],
   "source": [
    "# Creates the data base for the outputs \n",
    "# Creates a unique identifer for each newinput deck\n",
    "\n",
    "db = DB(OUTPUTS)  #type: ignore\n",
    "\n",
    "\n",
    "Newinputdeck= str(uuid.uuid4().hex)"
   ]
  },
  {
   "cell_type": "code",
   "execution_count": 10,
   "id": "3ab0fa0d",
   "metadata": {
    "execution": {
     "iopub.execute_input": "2024-12-18T05:13:43.154472Z",
     "iopub.status.busy": "2024-12-18T05:13:43.153856Z",
     "iopub.status.idle": "2024-12-18T05:13:43.156525Z",
     "shell.execute_reply": "2024-12-18T05:13:43.156167Z"
    },
    "papermill": {
     "duration": 0.010038,
     "end_time": "2024-12-18T05:13:43.156621",
     "exception": false,
     "start_time": "2024-12-18T05:13:43.146583",
     "status": "completed"
    },
    "tags": []
   },
   "outputs": [
    {
     "name": "stdout",
     "output_type": "stream",
     "text": [
      "Debug Mode Active\n",
      "Parameters before input deck creation: {'Energy_Band_Model': 'Effective Mass Model', 'Potential_model': 'Thomas-Fermi', 'Ending_Bias': 0.0, 'Device': '2-Barrier-Device', 'points': 6.0, 'Starting_bias': 0.0, 'TEMPERATURE': 300.0, 'SC_ChargeRegion': 0.0, 'EQ_Region': 0.0, 'Quantum_charge': False, 'Lattice_Constant': 0.0, 'Not_Normalized_Current_Plot': False, 'Scatter_Plot': False, 'Carrier_Surface_Distrubution_Plot': False, 'Resivoir_Relaxation_Model': 'Energy Independant', 'Resivoir_Relaxation_Energy': 0.0, 'Decay_Length': 0.0, 'Resonance_Finder': False, 'No_Homogenous_Grid_Points': 0.0, 'No_Points_per_res': 0.0, 'No_Points_per_EC_EF': 0.0, 'Lancos_Iteration_Step_Size': 0.0, 'Lancos_Iteration_Limit': 0.0, 'Newton_Iteration_Step_Size': 0.0, 'Newton_Solver_Convergence_Condition': 0.0}\n"
     ]
    }
   ],
   "source": [
    "# Path to Material File and Input Deck\n",
    "# Needed for current implementation\n",
    "# In the future may need to have these in a local directory where the tool is hosted\n",
    "\n",
    "testfile = '/home/toro0/NEMO1D-RTD/simtool/test.nem'\n",
    "material_file = '/home/toro0/NEMO1D-RTD/simtool/GaAs.mat'\n",
    "band_file =  '/home/toro0/NEMO1D-RTD/simtool/test_AlGaAs_TFQ_Cgam.nd_bnd'\n",
    "IV_file =  '/home/toro0/NEMO1D-RTD/simtool/test_AlGaAs_TFQ_Cgam.nd_bnd'\n",
    "\n",
    "\n",
    "if debug_mode == 1:\n",
    "    print(\"Debug Mode Active\")\n",
    "\n",
    "print(\"Parameters before input deck creation:\", parameters)"
   ]
  },
  {
   "cell_type": "code",
   "execution_count": 11,
   "id": "59fa5715",
   "metadata": {
    "execution": {
     "iopub.execute_input": "2024-12-18T05:13:43.169957Z",
     "iopub.status.busy": "2024-12-18T05:13:43.169585Z",
     "iopub.status.idle": "2024-12-18T05:13:43.173348Z",
     "shell.execute_reply": "2024-12-18T05:13:43.172988Z"
    },
    "papermill": {
     "duration": 0.012039,
     "end_time": "2024-12-18T05:13:43.173436",
     "exception": false,
     "start_time": "2024-12-18T05:13:43.161397",
     "status": "completed"
    },
    "tags": []
   },
   "outputs": [
    {
     "name": "stdout",
     "output_type": "stream",
     "text": [
      "Copied /home/toro0/NEMO1D-RTD/simtool/test_AlGaAs_TFQ_Cgam.nd_bnd to /home/toro0/NEMO1D-RTD/simtool/RUNS/cdd05cc9fdfc4724b35d6da69eca14a4\n"
     ]
    }
   ],
   "source": [
    "def copy_Band_file(destination_dir): ### Remove in final iteration\n",
    "  \n",
    "    dest_material_file = os.path.join(destination_dir, os.path.basename(band_file))\n",
    "  \n",
    "    if not os.path.exists(dest_material_file):\n",
    "        shutil.copy2(band_file, dest_material_file)\n",
    "        print(f\"Copied {band_file} to {destination_dir}\")\n",
    "  \n",
    "    else:\n",
    "        print(f\"{band_file} already exists in {destination_dir}\")\n",
    "current_dir = os.getcwd()\n",
    "copy_Band_file(current_dir)"
   ]
  },
  {
   "cell_type": "code",
   "execution_count": 12,
   "id": "aadf4fff",
   "metadata": {
    "execution": {
     "iopub.execute_input": "2024-12-18T05:13:43.185974Z",
     "iopub.status.busy": "2024-12-18T05:13:43.185604Z",
     "iopub.status.idle": "2024-12-18T05:13:43.187240Z",
     "shell.execute_reply": "2024-12-18T05:13:43.186882Z"
    },
    "papermill": {
     "duration": 0.009144,
     "end_time": "2024-12-18T05:13:43.187330",
     "exception": false,
     "start_time": "2024-12-18T05:13:43.178186",
     "status": "completed"
    },
    "tags": []
   },
   "outputs": [],
   "source": [
    "# Copies the desired material file to the Directory where the sim2l is run\n",
    "# Takes the destination directory as an input \n",
    "# The material file is defined as a global variable above\n",
    "\n",
    "def copy_material_file(destination_dir):\n",
    "  \n",
    "    dest_material_file = os.path.join(destination_dir, os.path.basename(material_file))\n",
    "  \n",
    "    if not os.path.exists(dest_material_file):\n",
    "        shutil.copy2(material_file, dest_material_file)\n",
    "        print(f\"Copied {material_file} to {destination_dir}\")\n",
    "  \n",
    "    else:\n",
    "        print(f\"{material_file} already exists in {destination_dir}\")"
   ]
  },
  {
   "cell_type": "code",
   "execution_count": 13,
   "id": "5531ccb5",
   "metadata": {
    "execution": {
     "iopub.execute_input": "2024-12-18T05:13:43.199841Z",
     "iopub.status.busy": "2024-12-18T05:13:43.199464Z",
     "iopub.status.idle": "2024-12-18T05:13:43.201152Z",
     "shell.execute_reply": "2024-12-18T05:13:43.200797Z"
    },
    "papermill": {
     "duration": 0.009011,
     "end_time": "2024-12-18T05:13:43.201238",
     "exception": false,
     "start_time": "2024-12-18T05:13:43.192227",
     "status": "completed"
    },
    "tags": []
   },
   "outputs": [],
   "source": [
    "# Reads the input deck file given in the argument and reads it \n",
    "\n",
    "def read_input_deck(filepath):\n",
    "    \n",
    "    with open(filepath, 'r') as file:\n",
    "        return file.read()"
   ]
  },
  {
   "cell_type": "code",
   "execution_count": 14,
   "id": "5e43fb6f",
   "metadata": {
    "execution": {
     "iopub.execute_input": "2024-12-18T05:13:43.212297Z",
     "iopub.status.busy": "2024-12-18T05:13:43.211944Z",
     "iopub.status.idle": "2024-12-18T05:13:43.215880Z",
     "shell.execute_reply": "2024-12-18T05:13:43.216211Z"
    },
    "papermill": {
     "duration": 0.010313,
     "end_time": "2024-12-18T05:13:43.216311",
     "exception": false,
     "start_time": "2024-12-18T05:13:43.205998",
     "status": "completed"
    },
    "tags": []
   },
   "outputs": [
    {
     "name": "stdout",
     "output_type": "stream",
     "text": [
      "1\n"
     ]
    }
   ],
   "source": [
    "# Replaces the values from parameters and puts them in the new input deck\n",
    "# Debug mode makes it to wher only temperature is changed \n",
    "# To change the value affected change the key variable\n",
    "\n",
    "debug_mode == 1\n",
    "print(debug_mode)\n",
    "def replace_placeholders(content, parameters):\n",
    "    \"\"\n",
    "    if debug_mode == 1:\n",
    "        # Only replace the TEMPERATURE placeholder\n",
    "        key = \"TEMPERATURE\"\n",
    "        if key in parameters:\n",
    "            content = content.replace(key, str(parameters[key]))\n",
    "            print(f\"Replacing {key} with {parameters[key]}\")\n",
    "    else:\n",
    "        # Replace all placeholders\n",
    "        for key, value in parameters.items():\n",
    "            content = content.replace(key, str(value))\n",
    "            print(f\"Replacing {key} with {value}\")\n",
    "    return content"
   ]
  },
  {
   "cell_type": "code",
   "execution_count": 15,
   "id": "19fe286f",
   "metadata": {
    "execution": {
     "iopub.execute_input": "2024-12-18T05:13:43.231052Z",
     "iopub.status.busy": "2024-12-18T05:13:43.227963Z",
     "iopub.status.idle": "2024-12-18T05:13:43.233222Z",
     "shell.execute_reply": "2024-12-18T05:13:43.233505Z"
    },
    "papermill": {
     "duration": 0.011706,
     "end_time": "2024-12-18T05:13:43.233613",
     "exception": false,
     "start_time": "2024-12-18T05:13:43.221907",
     "status": "completed"
    },
    "tags": []
   },
   "outputs": [],
   "source": [
    "# Writes the new input deck with the values from the dictionary\n",
    "# Takes the new paraamters new_content and output file name as arguments \n",
    "# Returns the input deck with injected parameters\n",
    "\n",
    "def write_new_input_deck(new_content, output_filename):\n",
    "    with open(output_filename, 'w') as file:\n",
    "        file.write(new_content)\n",
    "    print(f\"New input deck written to {output_filename}\")\n",
    "    return output_filename"
   ]
  },
  {
   "cell_type": "code",
   "execution_count": 16,
   "id": "4d8d39d0",
   "metadata": {
    "execution": {
     "iopub.execute_input": "2024-12-18T05:13:43.246886Z",
     "iopub.status.busy": "2024-12-18T05:13:43.246521Z",
     "iopub.status.idle": "2024-12-18T05:13:43.248809Z",
     "shell.execute_reply": "2024-12-18T05:13:43.248498Z"
    },
    "papermill": {
     "duration": 0.010483,
     "end_time": "2024-12-18T05:13:43.248895",
     "exception": false,
     "start_time": "2024-12-18T05:13:43.238412",
     "status": "completed"
    },
    "tags": []
   },
   "outputs": [],
   "source": [
    "# Copies all the required files and returns a new input deck \n",
    "# This function combines other functions to generate a new input deck based on the injected parameters\n",
    "# Returns the new input deck\n",
    "\n",
    "def inputdeckCreator():\n",
    " \n",
    "    current_dir = os.getcwd()\n",
    "\n",
    "    copy_material_file(current_dir)\n",
    "\n",
    "    content = read_input_deck(testfile)\n",
    "\n",
    "    updated_content = replace_placeholders(content, parameters)\n",
    "    \n",
    "    new_input_deck_filename = 'new_input_deck.nem'\n",
    "\n",
    "    write_new_input_deck(updated_content, new_input_deck_filename)\n",
    "\n",
    "    if debug_mode == 1:\n",
    "        print(f\"Debug mode: Simulating with input deck {new_input_deck_filename}\")\n",
    "\n",
    "    return new_input_deck_filename\n"
   ]
  },
  {
   "cell_type": "code",
   "execution_count": 17,
   "id": "40d6588d",
   "metadata": {
    "execution": {
     "iopub.execute_input": "2024-12-18T05:13:43.263231Z",
     "iopub.status.busy": "2024-12-18T05:13:43.262589Z",
     "iopub.status.idle": "2024-12-18T05:13:43.264923Z",
     "shell.execute_reply": "2024-12-18T05:13:43.264574Z"
    },
    "papermill": {
     "duration": 0.010867,
     "end_time": "2024-12-18T05:13:43.265011",
     "exception": false,
     "start_time": "2024-12-18T05:13:43.254144",
     "status": "completed"
    },
    "tags": []
   },
   "outputs": [],
   "source": [
    "# Delete later this is a test\n",
    "# \n",
    "\n",
    "\n",
    "def generate_bjt_bandstructure_with_bands(filename):\n",
    "    # Generate synthetic data for BJT bandstructure\n",
    "    # x_values could represent the wave vector (k) ranging from -pi to pi\n",
    "    x_values = np.linspace(-np.pi, np.pi, 100)\n",
    "    \n",
    "    # Valence band (parabolic, lower energy)\n",
    "    y_values_valence = -0.1 * x_values**2 + 0.5  # Example for valence band (negative curvature)\n",
    "    \n",
    "    # Conduction band (parabolic, higher energy)\n",
    "    y_values_conduction = 0.1 * x_values**2 + 2.0  # Example for conduction band (positive curvature)\n",
    "    \n",
    "    # Fermi level (constant)\n",
    "    fermi_level = 1.5\n",
    "    \n",
    "    # Save the data to a file\n",
    "    with open(filename, 'w') as file:\n",
    "        # Write valence band data\n",
    "        for x, y in zip(x_values, y_values_valence):\n",
    "            file.write(f\"{x} {y} {fermi_level}\\n\")  # Add Fermi level for each point\n",
    "        \n",
    "        # Write conduction band data\n",
    "        for x, y in zip(x_values, y_values_conduction):\n",
    "            file.write(f\"{x} {y} {fermi_level}\\n\")  # Add Fermi level for each point\n",
    "\n",
    "    print(f\"Data saved to {filename}\")"
   ]
  },
  {
   "cell_type": "code",
   "execution_count": 18,
   "id": "b730172a",
   "metadata": {
    "execution": {
     "iopub.execute_input": "2024-12-18T05:13:43.278153Z",
     "iopub.status.busy": "2024-12-18T05:13:43.277796Z",
     "iopub.status.idle": "2024-12-18T05:13:43.279983Z",
     "shell.execute_reply": "2024-12-18T05:13:43.279587Z"
    },
    "papermill": {
     "duration": 0.010107,
     "end_time": "2024-12-18T05:13:43.280070",
     "exception": false,
     "start_time": "2024-12-18T05:13:43.269963",
     "status": "completed"
    },
    "tags": []
   },
   "outputs": [],
   "source": [
    "\n",
    "# Reads a JSON File output from NEMO1D\n",
    "# Returns a Dictionary containing the data\n",
    "\n",
    "def read_data_from_json_file(filename):\n",
    " \n",
    "\n",
    "    with open(filename, 'r') as file:\n",
    "        # Read the entire content of the file\n",
    "        content = file.read()\n",
    "    \n",
    "    # Parse the content using json.loads (expects valid JSON format)\n",
    "    try:\n",
    "        data = json.loads(content)\n",
    "        print(type(data))\n",
    "        return data\n",
    "    except json.JSONDecodeError as e:\n",
    "        print(f\"Error parsing JSON file: {e}\")\n",
    "        return None"
   ]
  },
  {
   "cell_type": "code",
   "execution_count": 19,
   "id": "09d65747",
   "metadata": {
    "execution": {
     "iopub.execute_input": "2024-12-18T05:13:43.293444Z",
     "iopub.status.busy": "2024-12-18T05:13:43.293089Z",
     "iopub.status.idle": "2024-12-18T05:13:43.296026Z",
     "shell.execute_reply": "2024-12-18T05:13:43.296307Z"
    },
    "papermill": {
     "duration": 0.011331,
     "end_time": "2024-12-18T05:13:43.296408",
     "exception": false,
     "start_time": "2024-12-18T05:13:43.285077",
     "status": "completed"
    },
    "tags": []
   },
   "outputs": [],
   "source": [
    "# Reads the data for the IV file will potentialy need to be renamed \n",
    "# Will be removed in final deployment \n",
    "# Use the read from JSON function instead\n",
    "\n",
    "def read_data_from_file(filename):\n",
    "    # Initialize lists to store X and Y values\n",
    "    x_values = []\n",
    "    y_values = []\n",
    "\n",
    "    # Read the file line by line\n",
    "    with open(filename, 'r') as file:\n",
    "        for line in file:\n",
    "            # Split each line into X and Y values based on space\n",
    "            parts = line.split()\n",
    "            if len(parts) == 2:\n",
    "                # Convert to float and store in the lists\n",
    "                x_values.append(float(parts[0]))\n",
    "                y_values.append(float(parts[1]))\n",
    "\n",
    "    return tuple(x_values), tuple(y_values)\n"
   ]
  },
  {
   "cell_type": "code",
   "execution_count": 20,
   "id": "a941b175",
   "metadata": {
    "execution": {
     "iopub.execute_input": "2024-12-18T05:13:43.310959Z",
     "iopub.status.busy": "2024-12-18T05:13:43.310596Z",
     "iopub.status.idle": "2024-12-18T05:13:43.312008Z",
     "shell.execute_reply": "2024-12-18T05:13:43.312287Z"
    },
    "papermill": {
     "duration": 0.010764,
     "end_time": "2024-12-18T05:13:43.312387",
     "exception": false,
     "start_time": "2024-12-18T05:13:43.301623",
     "status": "completed"
    },
    "tags": []
   },
   "outputs": [],
   "source": [
    "# Delete later\n",
    "# Test that will not be used in final deployment\n",
    "\n",
    "def read_data_from_bjtfile(filename):\n",
    "   \n",
    "    data_dict = {\n",
    "        'x_values': [],\n",
    "        'valence_band': [],\n",
    "        'conduction_band': [],\n",
    "        'fermi_level': []\n",
    "    }\n",
    "\n",
    "    # Read the file line by line\n",
    "    with open(filename, 'r') as file:\n",
    "        for line in file:\n",
    "            # Split each line into X, Y (energy), and Fermi level\n",
    "            parts = line.split()\n",
    "            if len(parts) == 3:\n",
    "                # Append data to the dictionary lists\n",
    "                data_dict['x_values'].append(float(parts[0]))\n",
    "                data_dict['valence_band'].append(float(parts[1]))\n",
    "                data_dict['conduction_band'].append(float(parts[2]))  # Fermi level\n",
    "                data_dict['fermi_level'].append(float(parts[2]))  # Same for both bands\n",
    "    \n",
    "    return data_dict"
   ]
  },
  {
   "cell_type": "code",
   "execution_count": 21,
   "id": "dde724ff",
   "metadata": {
    "execution": {
     "iopub.execute_input": "2024-12-18T05:13:43.324982Z",
     "iopub.status.busy": "2024-12-18T05:13:43.324632Z",
     "iopub.status.idle": "2024-12-18T05:13:43.331231Z",
     "shell.execute_reply": "2024-12-18T05:13:43.330936Z"
    },
    "papermill": {
     "duration": 0.013966,
     "end_time": "2024-12-18T05:13:43.331316",
     "exception": false,
     "start_time": "2024-12-18T05:13:43.317350",
     "status": "completed"
    },
    "tags": []
   },
   "outputs": [
    {
     "name": "stdout",
     "output_type": "stream",
     "text": [
      "Copied /home/toro0/NEMO1D-RTD/simtool/GaAs.mat to /home/toro0/NEMO1D-RTD/simtool/RUNS/cdd05cc9fdfc4724b35d6da69eca14a4\n",
      "Replacing TEMPERATURE with 300.0\n",
      "New input deck written to new_input_deck.nem\n",
      "Debug mode: Simulating with input deck new_input_deck.nem\n"
     ]
    },
    {
     "data": {
      "application/scrapbook.scrap.text+json": {
       "data": "file://new_input_deck.nem",
       "encoder": "text",
       "name": "NEMO1D Input Deck",
       "version": 1
      }
     },
     "metadata": {
      "scrapbook": {
       "data": true,
       "display": false,
       "name": "NEMO1D Input Deck"
      }
     },
     "output_type": "display_data"
    }
   ],
   "source": [
    "# Calls the input deck creator to create the new input deck \n",
    "# Stores the input deck to the database\n",
    "\n",
    "inputdeckCreator()\n",
    "db.save(\"NEMO1D Input Deck\", file='new_input_deck.nem') "
   ]
  },
  {
   "cell_type": "code",
   "execution_count": 22,
   "id": "95c1925f",
   "metadata": {
    "execution": {
     "iopub.execute_input": "2024-12-18T05:13:43.352823Z",
     "iopub.status.busy": "2024-12-18T05:13:43.345228Z",
     "iopub.status.idle": "2024-12-18T05:13:45.327494Z",
     "shell.execute_reply": "2024-12-18T05:13:45.327845Z"
    },
    "papermill": {
     "duration": 1.990932,
     "end_time": "2024-12-18T05:13:45.328034",
     "exception": false,
     "start_time": "2024-12-18T05:13:43.337102",
     "status": "completed"
    },
    "tags": []
   },
   "outputs": [
    {
     "name": "stderr",
     "output_type": "stream",
     "text": [
      "system_start WARNING: The NEMOHOME environmental variable is not set\n",
      "NEMO will assume \"/usr/local/nemo\" is the correct home directory.\n",
      "No memory report in this platform.\n"
     ]
    },
    {
     "name": "stderr",
     "output_type": "stream",
     "text": [
      "Open File: new_input_deck.nem, \n"
     ]
    },
    {
     "name": "stderr",
     "output_type": "stream",
     "text": [
      "Initialize the basic device structure arrays.\n",
      "Update Structural Device Parameters and Initialize Arrays\n"
     ]
    },
    {
     "name": "stderr",
     "output_type": "stream",
     "text": [
      "Copy the material information to the individual monolayers.\n",
      "Copy Material Parameters into Device Arrays\n",
      "Finished Device Structure Update\n",
      "Process Simulation Parameter Window: Calculation Mode\n"
     ]
    },
    {
     "name": "stderr",
     "output_type": "stream",
     "text": [
      "Read and Initialize Simulation Parameter Window: I-V Parameters\n",
      "Process Simulation Parameter Window: I-V Parameters\n"
     ]
    },
    {
     "name": "stderr",
     "output_type": "stream",
     "text": [
      "Read and Initialize Simulation Parameter Window: Output Options for I-V Calculation\n",
      "Process Simulation Parameter Window: Output Options for I-V Calculation\n",
      "Read and Initialize Simulation Parameter Window: Output Options for I-V Calculation\n",
      "Process Simulation Parameter Window: Output Options for I-V Calculation\n"
     ]
    },
    {
     "name": "stderr",
     "output_type": "stream",
     "text": [
      "Read and Initialize Simulation Parameter Window: Quantum Region\n",
      "Process Simulation Parameter Window: Quantum Region\n"
     ]
    },
    {
     "name": "stderr",
     "output_type": "stream",
     "text": [
      "Read and Initialize Simulation Parameter Window: Non-equilibrium Region\n",
      "Process Simulation Parameter Window: Non-equilibrium Region\n"
     ]
    },
    {
     "name": "stderr",
     "output_type": "stream",
     "text": [
      "Read and Initialize Simulation Parameter Window: Sheet Charge Region\n",
      "Process Simulation Parameter Window: Sheet Charge Region\n"
     ]
    },
    {
     "name": "stderr",
     "output_type": "stream",
     "text": [
      "Read and Initialize Simulation Parameter Window: I-V Energy Grid Type\n",
      "Process Simulation Parameter Window: I-V Energy Grid Type\n",
      "Read and Initialize Simulation Parameter Window: Resonance-Finding Region\n",
      "Process Simulation Parameter Window: Resonance-Finding Region\n"
     ]
    },
    {
     "name": "stderr",
     "output_type": "stream",
     "text": [
      "Read and Initialize Simulation Parameter Window: I-V Adaptive Energy Grid Parameters\n",
      "Process Simulation Parameter Window: I-V Adaptive Energy Grid Parameters\n"
     ]
    },
    {
     "name": "stderr",
     "output_type": "stream",
     "text": [
      "Read and Initialize Simulation Parameter Window: Fixed I-V Energy Grid Parameters\n",
      "Process Simulation Parameter Window: Fixed I-V Energy Grid Parameters\n"
     ]
    },
    {
     "name": "stderr",
     "output_type": "stream",
     "text": [
      "Read and Initialize Simulation Parameter Window: Detailed I-V Fixed Energy Grid Parameters\n",
      "Process Simulation Parameter Window: Detailed I-V Fixed Energy Grid Parameters\n",
      "Read and Initialize Simulation Parameter Window: NO Scattering Resonance-Finding Parameters\n",
      "Process Simulation Parameter Window: NO Scattering Resonance-Finding Parameters\n",
      "Read and Initialize Simulation Parameter Window: Applied Bias Range\n",
      "Process Simulation Parameter Window: Applied Bias Range\n"
     ]
    },
    {
     "name": "stderr",
     "output_type": "stream",
     "text": [
      "Finished initialization of Simulation Parameter Windows \n"
     ]
    },
    {
     "name": "stderr",
     "output_type": "stream",
     "text": [
      "Open File: new_input_deck.nem, Finished\n"
     ]
    },
    {
     "name": "stderr",
     "output_type": "stream",
     "text": [
      "Create output window \"Current vs. Voltage\"\n",
      "Create output window \"n Sheet\"\n",
      "Create output window \"Res. Energy\"\n",
      "Create output window \"Res. Width\"\n",
      "Create output window \"Trans. Energy\"\n",
      "Create output window \"Trans Engy Field\"\n",
      "Create output window \"Band Profile\"\n",
      "Create output window \"Charge Density\"\n",
      "Create output window \"Energy Resonances\"\n",
      "Create output window \"Wavefunction Squared\"\n",
      "Create output window \"Wavefunction (real, imag)\"\n",
      "Create output window \"Current Density\"\n",
      "Create output window \"Integrated Current Density (Int dE J(E))\"\n",
      "Create output window \"Normalized Integrated Current Density (Int dE J(E))\"\n",
      "Create output window \"Transmission Coefficient\"\n",
      "Create output window \"Current Density J(k)\"\n",
      "Create output window \"Total Charge Density\"\n",
      "Finished with the creation of output windows.\n"
     ]
    },
    {
     "name": "stderr",
     "output_type": "stream",
     "text": [
      "Starting IV scan...\n"
     ]
    },
    {
     "name": "stderr",
     "output_type": "stream",
     "text": [
      "Bias: 0.000000\n"
     ]
    },
    {
     "name": "stderr",
     "output_type": "stream",
     "text": [
      "read_struct Warning: Tried to read a structure\n",
      "delimited by:\n",
      "<begin_sheet_region>\n",
      "<end_sheet_region>\n",
      "but could not find it.\n",
      "Skip over the reading of this structure.\n"
     ]
    },
    {
     "name": "stderr",
     "output_type": "stream",
     "text": [
      "Bias: 0.020000\n"
     ]
    },
    {
     "name": "stderr",
     "output_type": "stream",
     "text": [
      "Bias: 0.040000\n"
     ]
    },
    {
     "name": "stderr",
     "output_type": "stream",
     "text": [
      "Bias: 0.060000\n"
     ]
    },
    {
     "name": "stderr",
     "output_type": "stream",
     "text": [
      "Bias: 0.080000\n"
     ]
    },
    {
     "name": "stderr",
     "output_type": "stream",
     "text": [
      "Bias: 0.100000\n"
     ]
    },
    {
     "name": "stderr",
     "output_type": "stream",
     "text": [
      "Bias: 0.120000\n"
     ]
    },
    {
     "name": "stderr",
     "output_type": "stream",
     "text": [
      "Bias: 0.140000\n"
     ]
    },
    {
     "name": "stderr",
     "output_type": "stream",
     "text": [
      "Bias: 0.160000\n"
     ]
    },
    {
     "name": "stderr",
     "output_type": "stream",
     "text": [
      "Bias: 0.180000\n"
     ]
    },
    {
     "name": "stderr",
     "output_type": "stream",
     "text": [
      "Bias: 0.200000\n"
     ]
    },
    {
     "name": "stderr",
     "output_type": "stream",
     "text": [
      "Bias: 0.220000\n"
     ]
    },
    {
     "name": "stderr",
     "output_type": "stream",
     "text": [
      "Bias: 0.240000\n"
     ]
    },
    {
     "name": "stderr",
     "output_type": "stream",
     "text": [
      "Bias: 0.260000\n"
     ]
    },
    {
     "name": "stderr",
     "output_type": "stream",
     "text": [
      "Bias: 0.280000\n"
     ]
    },
    {
     "name": "stderr",
     "output_type": "stream",
     "text": [
      "Bias: 0.300000\n"
     ]
    },
    {
     "name": "stderr",
     "output_type": "stream",
     "text": [
      "Bias: 0.320000\n"
     ]
    },
    {
     "name": "stderr",
     "output_type": "stream",
     "text": [
      "Bias: 0.320000 current integr. fixed e-grid exam res.\n"
     ]
    },
    {
     "name": "stderr",
     "output_type": "stream",
     "text": [
      "Bias: 0.340000\n"
     ]
    },
    {
     "name": "stderr",
     "output_type": "stream",
     "text": [
      "Bias: 0.360000\n"
     ]
    },
    {
     "name": "stderr",
     "output_type": "stream",
     "text": [
      "Bias: 0.380000\n"
     ]
    },
    {
     "name": "stderr",
     "output_type": "stream",
     "text": [
      "Bias: 0.400000\n"
     ]
    },
    {
     "name": "stderr",
     "output_type": "stream",
     "text": [
      "Bias: 0.420000\n"
     ]
    },
    {
     "name": "stderr",
     "output_type": "stream",
     "text": [
      "Bias: 0.440000\n"
     ]
    },
    {
     "name": "stderr",
     "output_type": "stream",
     "text": [
      "Bias: 0.460000\n"
     ]
    },
    {
     "name": "stderr",
     "output_type": "stream",
     "text": [
      "Bias: 0.480000\n"
     ]
    },
    {
     "name": "stderr",
     "output_type": "stream",
     "text": [
      "Bias: 0.500000\n"
     ]
    },
    {
     "name": "stderr",
     "output_type": "stream",
     "text": [
      "Bias: 0.520000\n"
     ]
    },
    {
     "name": "stderr",
     "output_type": "stream",
     "text": [
      "Bias: 0.540000\n"
     ]
    },
    {
     "name": "stderr",
     "output_type": "stream",
     "text": [
      "Bias: 0.560000\n"
     ]
    },
    {
     "name": "stderr",
     "output_type": "stream",
     "text": [
      "Bias: 0.580000\n"
     ]
    },
    {
     "name": "stderr",
     "output_type": "stream",
     "text": [
      "Bias: 0.600000\n"
     ]
    },
    {
     "name": "stderr",
     "output_type": "stream",
     "text": [
      " \n",
      "IV calculation completed.\n"
     ]
    },
    {
     "name": "stdout",
     "output_type": "stream",
     "text": [
      "Could not find the Attribute\n",
      "\"AlGaAs.BandModel.Cgam.unstrnd_cubic_cell_length\"\n",
      "in the database. \n",
      "Needed for NEMO 3-D but not for NEMO 1-D\n",
      "Return a zero value.\n",
      "Could not find the Attribute\n",
      "\"AlGaAs.PhysChem.strain_alpha\"\n",
      "in the database. \n",
      "Needed for NEMO 3-D but not for NEMO 1-D\n",
      "Return a zero value.\n",
      "Could not find the Attribute\n",
      "\"AlGaAs.PhysChem.strain_beta\"\n",
      "in the database. \n",
      "Needed for NEMO 3-D but not for NEMO 1-D\n",
      "Return a zero value.\n"
     ]
    },
    {
     "name": "stderr",
     "output_type": "stream",
     "text": [
      "No memory report in this platform.\n",
      "Elapsed process time = 1.96 sec.\n"
     ]
    },
    {
     "data": {
      "text/plain": [
       "(0,\n",
       " b'Could not find the Attribute\\n\"AlGaAs.BandModel.Cgam.unstrnd_cubic_cell_length\"\\nin the database. \\nNeeded for NEMO 3-D but not for NEMO 1-D\\nReturn a zero value.\\nCould not find the Attribute\\n\"AlGaAs.PhysChem.strain_alpha\"\\nin the database. \\nNeeded for NEMO 3-D but not for NEMO 1-D\\nReturn a zero value.\\nCould not find the Attribute\\n\"AlGaAs.PhysChem.strain_beta\"\\nin the database. \\nNeeded for NEMO 3-D but not for NEMO 1-D\\nReturn a zero value.\\n',\n",
       " b'system_start WARNING: The NEMOHOME environmental variable is not set\\nNEMO will assume \"/usr/local/nemo\" is the correct home directory.\\nNo memory report in this platform.\\nOpen File: new_input_deck.nem, \\nInitialize the basic device structure arrays.\\nUpdate Structural Device Parameters and Initialize Arrays\\nCopy the material information to the individual monolayers.\\nCopy Material Parameters into Device Arrays\\nFinished Device Structure Update\\nProcess Simulation Parameter Window: Calculation Mode\\nRead and Initialize Simulation Parameter Window: I-V Parameters\\nProcess Simulation Parameter Window: I-V Parameters\\nRead and Initialize Simulation Parameter Window: Output Options for I-V Calculation\\nProcess Simulation Parameter Window: Output Options for I-V Calculation\\nRead and Initialize Simulation Parameter Window: Output Options for I-V Calculation\\nProcess Simulation Parameter Window: Output Options for I-V Calculation\\nRead and Initialize Simulation Parameter Window: Quantum Region\\nProcess Simulation Parameter Window: Quantum Region\\nRead and Initialize Simulation Parameter Window: Non-equilibrium Region\\nProcess Simulation Parameter Window: Non-equilibrium Region\\nRead and Initialize Simulation Parameter Window: Sheet Charge Region\\nProcess Simulation Parameter Window: Sheet Charge Region\\nRead and Initialize Simulation Parameter Window: I-V Energy Grid Type\\nProcess Simulation Parameter Window: I-V Energy Grid Type\\nRead and Initialize Simulation Parameter Window: Resonance-Finding Region\\nProcess Simulation Parameter Window: Resonance-Finding Region\\nRead and Initialize Simulation Parameter Window: I-V Adaptive Energy Grid Parameters\\nProcess Simulation Parameter Window: I-V Adaptive Energy Grid Parameters\\nRead and Initialize Simulation Parameter Window: Fixed I-V Energy Grid Parameters\\nProcess Simulation Parameter Window: Fixed I-V Energy Grid Parameters\\nRead and Initialize Simulation Parameter Window: Detailed I-V Fixed Energy Grid Parameters\\nProcess Simulation Parameter Window: Detailed I-V Fixed Energy Grid Parameters\\nRead and Initialize Simulation Parameter Window: NO Scattering Resonance-Finding Parameters\\nProcess Simulation Parameter Window: NO Scattering Resonance-Finding Parameters\\nRead and Initialize Simulation Parameter Window: Applied Bias Range\\nProcess Simulation Parameter Window: Applied Bias Range\\nFinished initialization of Simulation Parameter Windows \\nOpen File: new_input_deck.nem, Finished\\nCreate output window \"Current vs. Voltage\"\\nCreate output window \"n Sheet\"\\nCreate output window \"Res. Energy\"\\nCreate output window \"Res. Width\"\\nCreate output window \"Trans. Energy\"\\nCreate output window \"Trans Engy Field\"\\nCreate output window \"Band Profile\"\\nCreate output window \"Charge Density\"\\nCreate output window \"Energy Resonances\"\\nCreate output window \"Wavefunction Squared\"\\nCreate output window \"Wavefunction (real, imag)\"\\nCreate output window \"Current Density\"\\nCreate output window \"Integrated Current Density (Int dE J(E))\"\\nCreate output window \"Normalized Integrated Current Density (Int dE J(E))\"\\nCreate output window \"Transmission Coefficient\"\\nCreate output window \"Current Density J(k)\"\\nCreate output window \"Total Charge Density\"\\nFinished with the creation of output windows.\\nStarting IV scan...\\nBias: 0.000000\\nread_struct Warning: Tried to read a structure\\ndelimited by:\\n<begin_sheet_region>\\n<end_sheet_region>\\nbut could not find it.\\nSkip over the reading of this structure.\\nBias: 0.020000\\nBias: 0.040000\\nBias: 0.060000\\nBias: 0.080000\\nBias: 0.100000\\nBias: 0.120000\\nBias: 0.140000\\nBias: 0.160000\\nBias: 0.180000\\nBias: 0.200000\\nBias: 0.220000\\nBias: 0.240000\\nBias: 0.260000\\nBias: 0.280000\\nBias: 0.300000\\nBias: 0.320000\\nBias: 0.320000 current integr. fixed e-grid exam res.\\nBias: 0.340000\\nBias: 0.360000\\nBias: 0.380000\\nBias: 0.400000\\nBias: 0.420000\\nBias: 0.440000\\nBias: 0.460000\\nBias: 0.480000\\nBias: 0.500000\\nBias: 0.520000\\nBias: 0.540000\\nBias: 0.560000\\nBias: 0.580000\\nBias: 0.600000\\n \\nIV calculation completed.\\nNo memory report in this platform.\\nElapsed process time = 1.96 sec.\\n')"
      ]
     },
     "execution_count": 22,
     "metadata": {},
     "output_type": "execute_result"
    }
   ],
   "source": [
    "# Runs the simulation Engine  with the new input deck \n",
    "# Will need to replace path wiht directory of binary in final deployment\n",
    "\n",
    "runCommand('/home/toro0/NEMO1D-RTD/simtool/negf new_input_deck.nem')\n"
   ]
  },
  {
   "cell_type": "code",
   "execution_count": null,
   "id": "aeee2d80",
   "metadata": {
    "papermill": {
     "duration": 0.007151,
     "end_time": "2024-12-18T05:13:45.344201",
     "exception": false,
     "start_time": "2024-12-18T05:13:45.337050",
     "status": "completed"
    },
    "tags": []
   },
   "outputs": [],
   "source": []
  },
  {
   "cell_type": "markdown",
   "id": "fe95bfde",
   "metadata": {
    "tags": [
     "papermill-error-cell-tag"
    ]
   },
   "source": [
    "<span id=\"papermill-error-cell\" style=\"color:red; font-family:Helvetica Neue, Helvetica, Arial, sans-serif; font-size:2em;\">Execution using papermill encountered an exception here and stopped:</span>"
   ]
  },
  {
   "cell_type": "code",
   "execution_count": 23,
   "id": "d09ebe9f",
   "metadata": {
    "execution": {
     "iopub.execute_input": "2024-12-18T05:13:45.363903Z",
     "iopub.status.busy": "2024-12-18T05:13:45.362487Z",
     "iopub.status.idle": "2024-12-18T05:13:45.554805Z",
     "shell.execute_reply": "2024-12-18T05:13:45.554380Z"
    },
    "papermill": {
     "duration": 0.203644,
     "end_time": "2024-12-18T05:13:45.555141",
     "exception": true,
     "start_time": "2024-12-18T05:13:45.351497",
     "status": "failed"
    },
    "tags": []
   },
   "outputs": [
    {
     "name": "stdout",
     "output_type": "stream",
     "text": [
      "<class 'dict'>\n",
      "<class 'dict'>\n"
     ]
    },
    {
     "data": {
      "application/scrapbook.scrap.text+json": {
       "data": "{\"Voltage (V)\": {\"0.00000\": {\"Position (nm)\": [0, 0.2833, 0.5666, 0.8499, 1.1332, 1.4165, 1.6998, 1.9831, 2.2664, 2.5497, 2.833, 3.1163, 3.3996, 3.6829, 3.9662, 4.2495, 4.5328, 4.8161, 5.0994, 5.3827, 5.666, 5.9493, 6.2326, 6.5159, 6.7992, 7.0825, 7.3658, 7.6491, 7.9324, 8.2157, 8.499, 8.7823, 9.0656, 9.3489, 9.6322, 9.9155, 10.1988, 10.4821, 10.7654, 11.0487, 11.332, 11.6153, 11.8986, 12.1819, 12.4652, 12.7485, 13.0318, 13.3151, 13.5984, 13.8817, 14.165, 14.4483, 14.7316, 15.0149, 15.2982, 15.5815, 15.8648, 16.1481, 16.4314, 16.7147, 16.998, 17.2813, 17.5646, 17.8479, 18.1312, 18.4145, 18.6978, 18.9811, 19.2644, 19.5477, 19.831, 20.1143, 20.3976, 20.6809, 20.9642, 21.2475, 21.5308, 21.8141, 22.0974, 22.3807, 22.664, 22.9473, 23.2306, 23.5139, 23.7972, 24.0805, 24.3638, 24.6471, 24.9304, 25.2137, 25.497, 25.7803, 26.0636, 26.3469, 26.6302, 26.9135, 27.1968, 27.4801, 27.7634, 28.0467, 28.33, 28.6133, 28.8966, 29.1799, 29.4632, 29.7465, 30.0298, 30.3131, 30.5964, 30.8797, 31.163, 31.4463, 31.7296, 32.0129, 32.2962, 32.5795, 32.8628, 33.1461, 33.4294, 33.7127, 33.996, 34.2793, 34.5626, 34.8459, 35.1292, 35.4125, 35.6958, 35.9791, 36.2624, 36.5457, 36.829, 37.1123, 37.3956, 37.6789, 37.9622, 38.2455, 38.5288, 38.8121, 39.0954, 39.3787, 39.662, 39.9453, 40.2286, 40.5119, 40.7952, 41.0785, 41.3618, 41.6451, 41.9284, 42.2117, 42.495, 42.7783, 43.0616, 43.3449, 43.6282, 43.9115, 44.1948, 44.4781, 44.7614, 45.0447, 45.328, 45.6113, 45.8946, 46.1779, 46.4612, 46.7445, 47.0278, 47.3111, 47.5944, 47.8777, 48.161, 48.4443, 48.7276, 49.0109, 49.2942, 49.5775, 49.8608, 50.1441, 50.4274, 50.7107, 50.994, 51.2773, 51.5606, 51.8439, 52.1272, 52.4105, 52.6938, 52.9771, 53.2604, 53.5437, 53.827, 54.1103, 54.3936, 54.6769, 54.9602, 55.2435, 55.5268, 55.8101, 56.0934, 56.3767, 56.66, 56.9433, 57.2266, 57.5099, 57.7932, 58.0765, 58.3598, 58.6431, 58.9264, 59.2097, 59.493, 59.7763, 60.0596, 60.3429, 60.6262, 60.9095, 61.1928, 61.4761, 61.7594, 62.0427, 62.326, 62.6093, 62.8926, 63.1759, 63.4592, 63.7425, 64.0258, 64.3091, 64.5924, 64.8757, 65.159, 65.4423, 65.7256, 66.0089, 66.2922, 66.5755, 66.8588, 67.1421, 67.4254, 67.7087, 67.992, 68.2753, 68.5586, 68.8419, 69.1252, 69.4085, 69.6918, 69.9751, 70.2584, 70.5417, 70.825, 71.1083, 71.3916, 71.6749, 71.9582, 72.2415, 72.5248, 72.8081, 73.0914, 73.3747, 73.658, 73.9413, 74.2246, 74.5079, 74.7912, 75.0745, 75.3578, 75.6411, 75.9244, 76.2077, 76.491, 76.7743, 77.0576, 77.3409, 77.6242, 77.9075, 78.1908, 78.4741, 78.7574, 79.0407, 79.324, 79.6073, 79.8906, 80.1739, 80.4572, 80.7405, 81.0238, 81.3071, 81.5904, 81.8737, 82.157, 82.4403, 82.7236, 83.0069, 83.2902, 83.5735, 83.8568, 84.1401, 84.4234, 84.7067, 84.99, 85.2733, 85.5566, 85.8399, 86.1232, 86.4065, 86.6898, 86.9731, 87.2564, 87.5397, 87.823, 88.1063, 88.3896, 88.6729, 88.9562, 89.2395, 89.5228, 89.8061, 90.0894, 90.3727, 90.656, 90.9393, 91.2226, 91.5059, 91.7892, 92.0725, 92.3558, 92.6391, 92.9224, 93.2057, 93.489, 93.7723, 94.0556, 94.3389, 94.6222, 94.9055, 95.1888, 95.4721, 95.7554, 96.0387, 96.322, 96.6053, 96.8886, 97.1719, 97.4552, 97.7385, 98.0218, 98.3051, 98.5884, 98.8717, 99.155, 99.4383, 99.7216, 100.005, 100.288, 100.572, 100.855, 101.138, 101.421, 101.705, 101.988, 102.271, 102.555, 102.838, 103.121, 103.404, 103.688, 103.971, 104.254, 104.538, 104.821, 105.104, 105.388, 105.671, 105.954, 106.237, 106.521, 106.804, 107.087, 107.371, 107.654, 107.937, 108.221, 108.504, 108.787, 109.07, 109.354, 109.637, 109.92, 110.204, 110.487, 110.77, 111.054, 111.337, 111.62, 111.903, 112.187, 112.47, 112.753, 113.037, 113.32, 113.603, 113.887, 114.17, 114.453, 114.736, 115.02, 115.303, 115.586, 115.87, 116.153, 116.436, 116.72, 117.003, 117.286, 117.57, 117.853, 118.136, 118.419, 118.703, 118.986, 119.269, 119.553, 119.836, 120.119, 120.403, 120.686, 120.969, 121.252, 121.536, 121.819, 122.102, 122.386, 122.669, 122.952, 123.236, 123.519, 123.802, 124.085, 124.369, 124.652, 124.935, 125.219, 125.502, 125.785, 126.069, 126.352, 126.635, 126.918, 127.202, 127.485, 127.768, 128.052, 128.335, 128.618, 128.901, 129.185, 129.468, 129.751, 130.035, 130.318, 130.601, 130.885, 131.168, 131.451, 131.734, 132.018, 132.301, 132.584, 132.868, 133.151, 133.434, 133.718, 134.001, 134.284, 134.567, 134.851, 135.134, 135.417, 135.701, 135.984, 136.267, 136.551, 136.834, 137.117, 137.4, 137.684, 137.967, 138.25, 138.534, 138.817, 139.1, 139.384, 139.667, 139.95, 140.233, 140.517, 140.8, 141.083, 141.367, 141.65, 141.933, 142.217, 142.5, 142.783, 143.066, 143.35, 143.633, 143.916, 144.2, 144.483, 144.766, 145.05, 145.333], \"Energy (eV)\": [0, 1.57334e-05, 3.17029e-05, 4.79479e-05, 6.45087e-05, 8.14261e-05, 9.87419e-05, 0.000116499, 0.000134741, 0.000153513, 0.000172862, 0.000192835, 0.000213481, 0.000234852, 0.000257, 0.00027998, 0.000303847, 0.000328662, 0.000354486, 0.000381381, 0.000409414, 0.000438654, 0.000469174, 0.000501047, 0.000534352, 0.000569172, 0.000605591, 0.000643699, 0.00068359, 0.00072536, 0.000769114, 0.000814957, 0.000863003, 0.000913368, 0.000966175, 0.00102155, 0.00107964, 0.00114058, 0.00120451, 0.00127159, 0.00134199, 0.00141588, 0.00149344, 0.00157484, 0.00166031, 0.00175003, 0.00184422, 0.00194312, 0.00204697, 0.002156, 0.00227049, 0.00239071, 0.00251695, 0.00264951, 0.0027887, 0.00293486, 0.00308834, 0.00324951, 0.00341873, 0.00359642, 0.003783, 0.0039789, 0.00418458, 0.00440052, 0.00462724, 0.00486525, 0.00511511, 0.00537739, 0.00565271, 0.00594169, 0.00624499, 0.00656331, 0.00689736, 0.0072479, 0.00761571, 0.00800162, 0.00840648, 0.0088312, 0.00927669, 0.00974392, 0.0102339, 0.0107477, 0.0112865, 0.0118512, 0.0124432, 0.0130637, 0.0137139, 0.0143952, 0.0151089, 0.0158565, 0.0166394, 0.0174592, 0.0183174, 0.0192157, 0.0201556, 0.0211391, 0.0221677, 0.0232434, 0.0243679, 0.0255433, 0.0267714, 0.0280543, 0.029394, 0.0307925, 0.032252, 0.0337745, 0.0353623, 0.0369046, 0.0384034, 0.0398608, 0.0412784, 0.042658, 0.0440012, 0.0453093, 0.0465839, 0.0478262, 0.0490375, 0.050219, 0.0513718, 0.052497, 0.0535955, 0.0546683, 0.0557163, 0.0567403, 0.0577412, 0.0587196, 0.0596764, 0.0606123, 0.0615278, 0.0624236, 0.0633004, 0.0641586, 0.0649988, 0.0658216, 0.0666274, 0.0674167, 0.0681899, 0.0689475, 0.06969, 0.0704176, 0.0711308, 0.0718299, 0.0725153, 0.0731872, 0.0738462, 0.0744923, 0.075126, 0.0757475, 0.0763571, 0.076955, 0.0775415, 0.0781168, 0.0786812, 0.0792349, 0.0797781, 0.0803111, 0.0808339, 0.0813468, 0.0818501, 0.0823438, 0.0828281, 0.0833032, 0.0837694, 0.0842266, 0.0846751, 0.0851151, 0.0855466, 0.0859698, 0.0863848, 0.0867918, 0.0871908, 0.087582, 0.0879656, 0.0883416, 0.08871, 0.0890712, 0.089425, 0.0897717, 0.0901112, 0.0904438, 0.0907695, 0.0910884, 0.0914005, 0.091706, 0.0920049, 0.0922973, 0.0925832, 0.0928628, 0.0931361, 0.0934032, 0.0936641, 0.0939189, 0.0941677, 0.0944104, 0.0946473, 0.0948782, 0.0951033, 0.0953227, 0.0955363, 0.0957443, 0.0959466, 0.0961433, 0.0963345, 0.0965201, 0.0967003, 0.0968751, 0.0970444, 0.0972084, 0.0973671, 0.0975205, 0.0976687, 0.0978115, 0.0979492, 0.0980818, 0.0982091, 0.0983314, 0.0984486, 0.0985606, 0.0986677, 0.0987697, 0.0988667, 0.0989587, 0.0990457, 0.0991278, 0.0992049, 0.0992771, 0.0993444, 0.0994067, 0.0994642, 0.0995168, 0.377466, 0.377517, 0.377569, 0.377621, 0.377673, 0.377725, 0.377777, 0.37783, 0.377883, 0.377937, 0.37799, 0.378044, 0.378098, 0.378152, 0.378206, 0.378261, 0.100415, 0.100461, 0.100503, 0.10054, 0.100573, 0.100601, 0.100624, 0.100643, 0.100657, 0.100666, 0.100671, 0.100671, 0.100666, 0.100657, 0.100643, 0.100624, 0.100601, 0.100573, 0.10054, 0.100503, 0.100461, 0.100415, 0.378261, 0.378206, 0.378152, 0.378098, 0.378044, 0.37799, 0.377937, 0.377883, 0.37783, 0.377777, 0.377725, 0.377673, 0.377621, 0.377569, 0.377517, 0.377466, 0.0995168, 0.0994642, 0.0994067, 0.0993444, 0.0992771, 0.0992049, 0.0991278, 0.0990457, 0.0989587, 0.0988667, 0.0987697, 0.0986677, 0.0985606, 0.0984486, 0.0983314, 0.0982091, 0.0980818, 0.0979492, 0.0978115, 0.0976687, 0.0975205, 0.0973671, 0.0972084, 0.0970444, 0.0968751, 0.0967003, 0.0965201, 0.0963345, 0.0961433, 0.0959466, 0.0957443, 0.0955363, 0.0953227, 0.0951033, 0.0948782, 0.0946473, 0.0944104, 0.0941677, 0.0939189, 0.0936641, 0.0934032, 0.0931361, 0.0928628, 0.0925832, 0.0922973, 0.0920049, 0.091706, 0.0914005, 0.0910884, 0.0907695, 0.0904438, 0.0901112, 0.0897717, 0.089425, 0.0890712, 0.08871, 0.0883416, 0.0879656, 0.087582, 0.0871908, 0.0867918, 0.0863848, 0.0859698, 0.0855466, 0.0851151, 0.0846751, 0.0842266, 0.0837694, 0.0833032, 0.0828281, 0.0823438, 0.0818501, 0.0813468, 0.0808339, 0.0803111, 0.0797781, 0.0792349, 0.0786812, 0.0781168, 0.0775415, 0.076955, 0.0763571, 0.0757475, 0.075126, 0.0744923, 0.0738462, 0.0731872, 0.0725153, 0.0718299, 0.0711308, 0.0704176, 0.06969, 0.0689475, 0.0681899, 0.0674167, 0.0666274, 0.0658216, 0.0649988, 0.0641586, 0.0633004, 0.0624236, 0.0615278, 0.0606123, 0.0596764, 0.0587196, 0.0577412, 0.0567403, 0.0557163, 0.0546683, 0.0535955, 0.052497, 0.0513718, 0.050219, 0.0490375, 0.0478262, 0.0465839, 0.0453093, 0.0440012, 0.042658, 0.0412784, 0.0398608, 0.0384034, 0.0369046, 0.0353623, 0.0337745, 0.032252, 0.0307925, 0.029394, 0.0280543, 0.0267714, 0.0255433, 0.0243679, 0.0232434, 0.0221677, 0.0211391, 0.0201556, 0.0192157, 0.0183174, 0.0174592, 0.0166394, 0.0158565, 0.0151089, 0.0143952, 0.0137139, 0.0130637, 0.0124432, 0.0118512, 0.0112865, 0.0107477, 0.0102339, 0.00974392, 0.00927669, 0.0088312, 0.00840648, 0.00800162, 0.00761571, 0.0072479, 0.00689736, 0.00656331, 0.00624499, 0.00594169, 0.00565271, 0.00537739, 0.00511511, 0.00486525, 0.00462724, 0.00440052, 0.00418458, 0.0039789, 0.003783, 0.00359642, 0.00341873, 0.00324951, 0.00308834, 0.00293486, 0.0027887, 0.00264951, 0.00251695, 0.00239071, 0.00227049, 0.002156, 0.00204697, 0.00194312, 0.00184422, 0.00175003, 0.00166031, 0.00157484, 0.00149344, 0.00141588, 0.00134199, 0.00127159, 0.00120451, 0.00114058, 0.00107964, 0.00102155, 0.000966175, 0.000913368, 0.000863003, 0.000814957, 0.000769114, 0.00072536, 0.00068359, 0.000643699, 0.000605591, 0.000569172, 0.000534352, 0.000501047, 0.000469174, 0.000438654, 0.000409414, 0.000381381, 0.000354486, 0.000328662, 0.000303847, 0.00027998, 0.000257, 0.000234852, 0.000213481, 0.000192835, 0.000172862, 0.000153513, 0.000134741, 0.000116499, 9.87419e-05, 8.14261e-05, 6.45087e-05, 4.79479e-05, 3.17029e-05, 1.57334e-05, 0]}, \"0.10000\": {\"Position (nm)\": [0, 0.2833, 0.5666, 0.8499, 1.1332, 1.4165, 1.6998, 1.9831, 2.2664, 2.5497, 2.833, 3.1163, 3.3996, 3.6829, 3.9662, 4.2495, 4.5328, 4.8161, 5.0994, 5.3827, 5.666, 5.9493, 6.2326, 6.5159, 6.7992, 7.0825, 7.3658, 7.6491, 7.9324, 8.2157, 8.499, 8.7823, 9.0656, 9.3489, 9.6322, 9.9155, 10.1988, 10.4821, 10.7654, 11.0487, 11.332, 11.6153, 11.8986, 12.1819, 12.4652, 12.7485, 13.0318, 13.3151, 13.5984, 13.8817, 14.165, 14.4483, 14.7316, 15.0149, 15.2982, 15.5815, 15.8648, 16.1481, 16.4314, 16.7147, 16.998, 17.2813, 17.5646, 17.8479, 18.1312, 18.4145, 18.6978, 18.9811, 19.2644, 19.5477, 19.831, 20.1143, 20.3976, 20.6809, 20.9642, 21.2475, 21.5308, 21.8141, 22.0974, 22.3807, 22.664, 22.9473, 23.2306, 23.5139, 23.7972, 24.0805, 24.3638, 24.6471, 24.9304, 25.2137, 25.497, 25.7803, 26.0636, 26.3469, 26.6302, 26.9135, 27.1968, 27.4801, 27.7634, 28.0467, 28.33, 28.6133, 28.8966, 29.1799, 29.4632, 29.7465, 30.0298, 30.3131, 30.5964, 30.8797, 31.163, 31.4463, 31.7296, 32.0129, 32.2962, 32.5795, 32.8628, 33.1461, 33.4294, 33.7127, 33.996, 34.2793, 34.5626, 34.8459, 35.1292, 35.4125, 35.6958, 35.9791, 36.2624, 36.5457, 36.829, 37.1123, 37.3956, 37.6789, 37.9622, 38.2455, 38.5288, 38.8121, 39.0954, 39.3787, 39.662, 39.9453, 40.2286, 40.5119, 40.7952, 41.0785, 41.3618, 41.6451, 41.9284, 42.2117, 42.495, 42.7783, 43.0616, 43.3449, 43.6282, 43.9115, 44.1948, 44.4781, 44.7614, 45.0447, 45.328, 45.6113, 45.8946, 46.1779, 46.4612, 46.7445, 47.0278, 47.3111, 47.5944, 47.8777, 48.161, 48.4443, 48.7276, 49.0109, 49.2942, 49.5775, 49.8608, 50.1441, 50.4274, 50.7107, 50.994, 51.2773, 51.5606, 51.8439, 52.1272, 52.4105, 52.6938, 52.9771, 53.2604, 53.5437, 53.827, 54.1103, 54.3936, 54.6769, 54.9602, 55.2435, 55.5268, 55.8101, 56.0934, 56.3767, 56.66, 56.9433, 57.2266, 57.5099, 57.7932, 58.0765, 58.3598, 58.6431, 58.9264, 59.2097, 59.493, 59.7763, 60.0596, 60.3429, 60.6262, 60.9095, 61.1928, 61.4761, 61.7594, 62.0427, 62.326, 62.6093, 62.8926, 63.1759, 63.4592, 63.7425, 64.0258, 64.3091, 64.5924, 64.8757, 65.159, 65.4423, 65.7256, 66.0089, 66.2922, 66.5755, 66.8588, 67.1421, 67.4254, 67.7087, 67.992, 68.2753, 68.5586, 68.8419, 69.1252, 69.4085, 69.6918, 69.9751, 70.2584, 70.5417, 70.825, 71.1083, 71.3916, 71.6749, 71.9582, 72.2415, 72.5248, 72.8081, 73.0914, 73.3747, 73.658, 73.9413, 74.2246, 74.5079, 74.7912, 75.0745, 75.3578, 75.6411, 75.9244, 76.2077, 76.491, 76.7743, 77.0576, 77.3409, 77.6242, 77.9075, 78.1908, 78.4741, 78.7574, 79.0407, 79.324, 79.6073, 79.8906, 80.1739, 80.4572, 80.7405, 81.0238, 81.3071, 81.5904, 81.8737, 82.157, 82.4403, 82.7236, 83.0069, 83.2902, 83.5735, 83.8568, 84.1401, 84.4234, 84.7067, 84.99, 85.2733, 85.5566, 85.8399, 86.1232, 86.4065, 86.6898, 86.9731, 87.2564, 87.5397, 87.823, 88.1063, 88.3896, 88.6729, 88.9562, 89.2395, 89.5228, 89.8061, 90.0894, 90.3727, 90.656, 90.9393, 91.2226, 91.5059, 91.7892, 92.0725, 92.3558, 92.6391, 92.9224, 93.2057, 93.489, 93.7723, 94.0556, 94.3389, 94.6222, 94.9055, 95.1888, 95.4721, 95.7554, 96.0387, 96.322, 96.6053, 96.8886, 97.1719, 97.4552, 97.7385, 98.0218, 98.3051, 98.5884, 98.8717, 99.155, 99.4383, 99.7216, 100.005, 100.288, 100.572, 100.855, 101.138, 101.421, 101.705, 101.988, 102.271, 102.555, 102.838, 103.121, 103.404, 103.688, 103.971, 104.254, 104.538, 104.821, 105.104, 105.388, 105.671, 105.954, 106.237, 106.521, 106.804, 107.087, 107.371, 107.654, 107.937, 108.221, 108.504, 108.787, 109.07, 109.354, 109.637, 109.92, 110.204, 110.487, 110.77, 111.054, 111.337, 111.62, 111.903, 112.187, 112.47, 112.753, 113.037, 113.32, 113.603, 113.887, 114.17, 114.453, 114.736, 115.02, 115.303, 115.586, 115.87, 116.153, 116.436, 116.72, 117.003, 117.286, 117.57, 117.853, 118.136, 118.419, 118.703, 118.986, 119.269, 119.553, 119.836, 120.119, 120.403, 120.686, 120.969, 121.252, 121.536, 121.819, 122.102, 122.386, 122.669, 122.952, 123.236, 123.519, 123.802, 124.085, 124.369, 124.652, 124.935, 125.219, 125.502, 125.785, 126.069, 126.352, 126.635, 126.918, 127.202, 127.485, 127.768, 128.052, 128.335, 128.618, 128.901, 129.185, 129.468, 129.751, 130.035, 130.318, 130.601, 130.885, 131.168, 131.451, 131.734, 132.018, 132.301, 132.584, 132.868, 133.151, 133.434, 133.718, 134.001, 134.284, 134.567, 134.851, 135.134, 135.417, 135.701, 135.984, 136.267, 136.551, 136.834, 137.117, 137.4, 137.684, 137.967, 138.25, 138.534, 138.817, 139.1, 139.384, 139.667, 139.95, 140.233, 140.517, 140.8, 141.083, 141.367, 141.65, 141.933, 142.217, 142.5, 142.783, 143.066, 143.35, 143.633, 143.916, 144.2, 144.483, 144.766, 145.05, 145.333], \"Energy (eV)\": [0, 1.49306e-05, 3.00952e-05, 4.55314e-05, 6.12774e-05, 7.73721e-05, 9.38551e-05, 0.000110767, 0.00012815, 0.000146047, 0.000164502, 0.000183561, 0.00020327, 0.000223678, 0.000244836, 0.000266796, 0.000289612, 0.000313339, 0.000338037, 0.000363767, 0.000390591, 0.000418576, 0.00044779, 0.000478306, 0.000510198, 0.000543545, 0.000578428, 0.000614934, 0.000653152, 0.000693176, 0.000735103, 0.000779037, 0.000825085, 0.00087336, 0.00092398, 0.000977068, 0.00103275, 0.00109118, 0.00115247, 0.0012168, 0.0012843, 0.00135516, 0.00142953, 0.0015076, 0.00158956, 0.00167561, 0.00176596, 0.00186082, 0.00196042, 0.00206501, 0.00217483, 0.00229015, 0.00241125, 0.00253842, 0.00267196, 0.00281219, 0.00295944, 0.00311407, 0.00327645, 0.00344695, 0.00362598, 0.00381396, 0.00401135, 0.00421859, 0.00443617, 0.00466461, 0.00490443, 0.00515619, 0.00542047, 0.00569788, 0.00598905, 0.00629466, 0.00661539, 0.00695198, 0.00730518, 0.00767578, 0.00806461, 0.00847253, 0.00890045, 0.00934929, 0.00982004, 0.0103137, 0.0108314, 0.0113741, 0.0119431, 0.0125395, 0.0131646, 0.0138196, 0.0145059, 0.0152249, 0.015978, 0.0167666, 0.0175923, 0.0184567, 0.0193614, 0.0203082, 0.0212986, 0.0223345, 0.0234178, 0.0245502, 0.0257338, 0.0269705, 0.0282622, 0.029611, 0.031019, 0.0324883, 0.034021, 0.0355064, 0.0369465, 0.0383433, 0.0396985, 0.0410138, 0.0422907, 0.0435308, 0.0447353, 0.0459057, 0.0470431, 0.0481488, 0.0492237, 0.050269, 0.0512857, 0.0522746, 0.0532367, 0.0541728, 0.0550836, 0.05597, 0.0568326, 0.0576721, 0.0584892, 0.0592845, 0.0600585, 0.0608118, 0.0615449, 0.0622583, 0.0629526, 0.0636281, 0.0642852, 0.0649245, 0.0655463, 0.0661509, 0.0667388, 0.0673102, 0.0678655, 0.068405, 0.068929, 0.0694378, 0.0699316, 0.0704108, 0.0708755, 0.0713261, 0.0717626, 0.0721854, 0.0725947, 0.0729906, 0.0733733, 0.073743, 0.0741, 0.0744442, 0.074776, 0.0750955, 0.0754027, 0.0756979, 0.0759811, 0.0762525, 0.0765122, 0.0767603, 0.076997, 0.0772222, 0.0774361, 0.0776389, 0.0778305, 0.0780111, 0.0781806, 0.0783393, 0.0784872, 0.0786242, 0.0787505, 0.0788661, 0.0789711, 0.0790655, 0.0791494, 0.0792227, 0.0792855, 0.0793378, 0.0793797, 0.0794112, 0.0794322, 0.0794428, 0.079443, 0.0794327, 0.0794121, 0.079381, 0.0793395, 0.0792875, 0.0792251, 0.0791522, 0.0790687, 0.0789747, 0.07887, 0.0787548, 0.0786289, 0.0784922, 0.0783447, 0.0781864, 0.0780172, 0.0778371, 0.0776459, 0.0774435, 0.07723, 0.0770051, 0.0767689, 0.0765212, 0.0762619, 0.0759909, 0.0757081, 0.0754133, 0.0751065, 0.0747875, 0.0744562, 0.0741124, 0.0737559, 0.0733866, 0.0730043, 0.0726089, 0.0722001, 0.0717778, 0.0713417, 0.0708917, 0.0704275, 0.0699488, 0.347338, 0.346811, 0.346283, 0.345757, 0.34523, 0.344703, 0.344177, 0.343651, 0.343125, 0.3426, 0.342075, 0.34155, 0.341025, 0.3405, 0.339976, 0.339452, 0.0610456, 0.0605494, 0.060047, 0.0595387, 0.0590247, 0.0585055, 0.0579812, 0.0574521, 0.0569184, 0.0563803, 0.0558381, 0.055292, 0.0547421, 0.0541887, 0.0536319, 0.0530719, 0.0525089, 0.0519429, 0.0513742, 0.0508029, 0.0502291, 0.0496529, 0.326954, 0.326336, 0.325717, 0.3251, 0.324482, 0.323864, 0.323247, 0.32263, 0.322013, 0.321397, 0.320781, 0.320165, 0.319549, 0.318933, 0.318318, 0.317703, 0.0392086, 0.0386329, 0.0380563, 0.0374787, 0.0369001, 0.0363206, 0.03574, 0.0351583, 0.0345755, 0.0339917, 0.0334066, 0.0328204, 0.032233, 0.0316443, 0.0310544, 0.0304631, 0.0298705, 0.0292764, 0.028681, 0.0280841, 0.0274857, 0.0268857, 0.0262842, 0.025681, 0.0250762, 0.0244697, 0.0238614, 0.0232513, 0.0226393, 0.0220255, 0.0214097, 0.0207919, 0.020172, 0.01955, 0.0189259, 0.0182995, 0.0176709, 0.0170399, 0.0164065, 0.0157706, 0.0151322, 0.0144912, 0.0138475, 0.0132011, 0.0125518, 0.0118997, 0.0112446, 0.0105864, 0.00992513, 0.00926061, 0.00859278, 0.00792156, 0.00724685, 0.00656855, 0.00588657, 0.0052008, 0.00451114, 0.00381748, 0.00311971, 0.00241772, 0.00171138, 0.00100058, 0.000285182, -0.000434938, -0.00115992, -0.00188989, -0.00262501, -0.00336541, -0.00411127, -0.00486272, -0.00561995, -0.00638311, -0.00715239, -0.00792797, -0.00871003, -0.00949879, -0.0102944, -0.0110972, -0.0119072, -0.0127248, -0.0135502, -0.0143836, -0.0152253, -0.0160756, -0.0169347, -0.0178028, -0.0186804, -0.0195677, -0.0204651, -0.0213728, -0.0222913, -0.0232209, -0.0241619, -0.0251148, -0.02608, -0.027058, -0.0280491, -0.0290539, -0.0300729, -0.0311065, -0.0321554, -0.0332201, -0.0343012, -0.0353994, -0.0365152, -0.0376495, -0.0388029, -0.0399762, -0.0411703, -0.0423859, -0.043624, -0.0448856, -0.0461716, -0.0474831, -0.0488213, -0.0501872, -0.0515823, -0.0530078, -0.0544651, -0.0559558, -0.0574813, -0.0590435, -0.0606441, -0.0622851, -0.0639685, -0.0655835, -0.0671325, -0.0686176, -0.0700408, -0.0714043, -0.0727102, -0.0739605, -0.0751573, -0.0763024, -0.0773979, -0.0784456, -0.0794473, -0.0804049, -0.08132, -0.0821944, -0.0830298, -0.0838276, -0.0845895, -0.0853169, -0.0860113, -0.0866741, -0.0873066, -0.0879102, -0.088486, -0.0890352, -0.0895591, -0.0900588, -0.0905352, -0.0909895, -0.0914227, -0.0918356, -0.0922292, -0.0926043, -0.0929619, -0.0933026, -0.0936273, -0.0939367, -0.0942315, -0.0945124, -0.09478, -0.0950349, -0.0952777, -0.0955091, -0.0957294, -0.0959393, -0.0961392, -0.0963296, -0.0965109, -0.0966836, -0.0968481, -0.0970048, -0.097154, -0.0972961, -0.0974314, -0.0975602, -0.097683, -0.0977999, -0.0979112, -0.0980173, -0.0981183, -0.0982145, -0.0983062, -0.0983935, -0.0984767, -0.0985559, -0.0986314, -0.0987034, -0.098772, -0.0988374, -0.0988997, -0.0989591, -0.0990158, -0.0990699, -0.0991215, -0.0991707, -0.0992177, -0.0992625, -0.0993054, -0.0993463, -0.0993855, -0.0994229, -0.0994587, -0.099493, -0.0995258, -0.0995573, -0.0995874, -0.0996164, -0.0996442, -0.099671, -0.0996967, -0.0997215, -0.0997454, -0.0997684, -0.0997907, -0.0998123, -0.0998333, -0.0998536, -0.0998734, -0.0998926, -0.0999114, -0.0999298, -0.0999478, -0.0999655, -0.0999828, -0.1]}, \"0.20000\": {\"Position (nm)\": [0, 0.2833, 0.5666, 0.8499, 1.1332, 1.4165, 1.6998, 1.9831, 2.2664, 2.5497, 2.833, 3.1163, 3.3996, 3.6829, 3.9662, 4.2495, 4.5328, 4.8161, 5.0994, 5.3827, 5.666, 5.9493, 6.2326, 6.5159, 6.7992, 7.0825, 7.3658, 7.6491, 7.9324, 8.2157, 8.499, 8.7823, 9.0656, 9.3489, 9.6322, 9.9155, 10.1988, 10.4821, 10.7654, 11.0487, 11.332, 11.6153, 11.8986, 12.1819, 12.4652, 12.7485, 13.0318, 13.3151, 13.5984, 13.8817, 14.165, 14.4483, 14.7316, 15.0149, 15.2982, 15.5815, 15.8648, 16.1481, 16.4314, 16.7147, 16.998, 17.2813, 17.5646, 17.8479, 18.1312, 18.4145, 18.6978, 18.9811, 19.2644, 19.5477, 19.831, 20.1143, 20.3976, 20.6809, 20.9642, 21.2475, 21.5308, 21.8141, 22.0974, 22.3807, 22.664, 22.9473, 23.2306, 23.5139, 23.7972, 24.0805, 24.3638, 24.6471, 24.9304, 25.2137, 25.497, 25.7803, 26.0636, 26.3469, 26.6302, 26.9135, 27.1968, 27.4801, 27.7634, 28.0467, 28.33, 28.6133, 28.8966, 29.1799, 29.4632, 29.7465, 30.0298, 30.3131, 30.5964, 30.8797, 31.163, 31.4463, 31.7296, 32.0129, 32.2962, 32.5795, 32.8628, 33.1461, 33.4294, 33.7127, 33.996, 34.2793, 34.5626, 34.8459, 35.1292, 35.4125, 35.6958, 35.9791, 36.2624, 36.5457, 36.829, 37.1123, 37.3956, 37.6789, 37.9622, 38.2455, 38.5288, 38.8121, 39.0954, 39.3787, 39.662, 39.9453, 40.2286, 40.5119, 40.7952, 41.0785, 41.3618, 41.6451, 41.9284, 42.2117, 42.495, 42.7783, 43.0616, 43.3449, 43.6282, 43.9115, 44.1948, 44.4781, 44.7614, 45.0447, 45.328, 45.6113, 45.8946, 46.1779, 46.4612, 46.7445, 47.0278, 47.3111, 47.5944, 47.8777, 48.161, 48.4443, 48.7276, 49.0109, 49.2942, 49.5775, 49.8608, 50.1441, 50.4274, 50.7107, 50.994, 51.2773, 51.5606, 51.8439, 52.1272, 52.4105, 52.6938, 52.9771, 53.2604, 53.5437, 53.827, 54.1103, 54.3936, 54.6769, 54.9602, 55.2435, 55.5268, 55.8101, 56.0934, 56.3767, 56.66, 56.9433, 57.2266, 57.5099, 57.7932, 58.0765, 58.3598, 58.6431, 58.9264, 59.2097, 59.493, 59.7763, 60.0596, 60.3429, 60.6262, 60.9095, 61.1928, 61.4761, 61.7594, 62.0427, 62.326, 62.6093, 62.8926, 63.1759, 63.4592, 63.7425, 64.0258, 64.3091, 64.5924, 64.8757, 65.159, 65.4423, 65.7256, 66.0089, 66.2922, 66.5755, 66.8588, 67.1421, 67.4254, 67.7087, 67.992, 68.2753, 68.5586, 68.8419, 69.1252, 69.4085, 69.6918, 69.9751, 70.2584, 70.5417, 70.825, 71.1083, 71.3916, 71.6749, 71.9582, 72.2415, 72.5248, 72.8081, 73.0914, 73.3747, 73.658, 73.9413, 74.2246, 74.5079, 74.7912, 75.0745, 75.3578, 75.6411, 75.9244, 76.2077, 76.491, 76.7743, 77.0576, 77.3409, 77.6242, 77.9075, 78.1908, 78.4741, 78.7574, 79.0407, 79.324, 79.6073, 79.8906, 80.1739, 80.4572, 80.7405, 81.0238, 81.3071, 81.5904, 81.8737, 82.157, 82.4403, 82.7236, 83.0069, 83.2902, 83.5735, 83.8568, 84.1401, 84.4234, 84.7067, 84.99, 85.2733, 85.5566, 85.8399, 86.1232, 86.4065, 86.6898, 86.9731, 87.2564, 87.5397, 87.823, 88.1063, 88.3896, 88.6729, 88.9562, 89.2395, 89.5228, 89.8061, 90.0894, 90.3727, 90.656, 90.9393, 91.2226, 91.5059, 91.7892, 92.0725, 92.3558, 92.6391, 92.9224, 93.2057, 93.489, 93.7723, 94.0556, 94.3389, 94.6222, 94.9055, 95.1888, 95.4721, 95.7554, 96.0387, 96.322, 96.6053, 96.8886, 97.1719, 97.4552, 97.7385, 98.0218, 98.3051, 98.5884, 98.8717, 99.155, 99.4383, 99.7216, 100.005, 100.288, 100.572, 100.855, 101.138, 101.421, 101.705, 101.988, 102.271, 102.555, 102.838, 103.121, 103.404, 103.688, 103.971, 104.254, 104.538, 104.821, 105.104, 105.388, 105.671, 105.954, 106.237, 106.521, 106.804, 107.087, 107.371, 107.654, 107.937, 108.221, 108.504, 108.787, 109.07, 109.354, 109.637, 109.92, 110.204, 110.487, 110.77, 111.054, 111.337, 111.62, 111.903, 112.187, 112.47, 112.753, 113.037, 113.32, 113.603, 113.887, 114.17, 114.453, 114.736, 115.02, 115.303, 115.586, 115.87, 116.153, 116.436, 116.72, 117.003, 117.286, 117.57, 117.853, 118.136, 118.419, 118.703, 118.986, 119.269, 119.553, 119.836, 120.119, 120.403, 120.686, 120.969, 121.252, 121.536, 121.819, 122.102, 122.386, 122.669, 122.952, 123.236, 123.519, 123.802, 124.085, 124.369, 124.652, 124.935, 125.219, 125.502, 125.785, 126.069, 126.352, 126.635, 126.918, 127.202, 127.485, 127.768, 128.052, 128.335, 128.618, 128.901, 129.185, 129.468, 129.751, 130.035, 130.318, 130.601, 130.885, 131.168, 131.451, 131.734, 132.018, 132.301, 132.584, 132.868, 133.151, 133.434, 133.718, 134.001, 134.284, 134.567, 134.851, 135.134, 135.417, 135.701, 135.984, 136.267, 136.551, 136.834, 137.117, 137.4, 137.684, 137.967, 138.25, 138.534, 138.817, 139.1, 139.384, 139.667, 139.95, 140.233, 140.517, 140.8, 141.083, 141.367, 141.65, 141.933, 142.217, 142.5, 142.783, 143.066, 143.35, 143.633, 143.916, 144.2, 144.483, 144.766, 145.05, 145.333], \"Energy (eV)\": [0, 1.44643e-05, 2.91616e-05, 4.41281e-05, 5.94009e-05, 7.50177e-05, 9.10171e-05, 0.000107439, 0.000124323, 0.000141712, 0.000159648, 0.000178175, 0.00019734, 0.000217189, 0.000237772, 0.00025914, 0.000281344, 0.00030444, 0.000328485, 0.000353537, 0.000379659, 0.000406915, 0.000435371, 0.000465099, 0.00049617, 0.000528662, 0.000562654, 0.000598229, 0.000635475, 0.000674484, 0.000715351, 0.000758176, 0.000803063, 0.000850124, 0.000899473, 0.00095123, 0.00100552, 0.00106248, 0.00112225, 0.00118497, 0.00125079, 0.00131989, 0.00139241, 0.00146854, 0.00154847, 0.00163239, 0.00172049, 0.00181301, 0.00191015, 0.00201215, 0.00211926, 0.00223174, 0.00234986, 0.00247389, 0.00260414, 0.00274092, 0.00288456, 0.00303539, 0.00319378, 0.0033601, 0.00353475, 0.00371814, 0.00391069, 0.00411287, 0.00432515, 0.00454802, 0.004782, 0.00502763, 0.00528549, 0.00555618, 0.0058403, 0.00613851, 0.0064515, 0.00677996, 0.00712465, 0.00748634, 0.00786584, 0.00826399, 0.00868168, 0.00911981, 0.00957935, 0.0100613, 0.0105667, 0.0110966, 0.0116522, 0.0122346, 0.012845, 0.0134847, 0.014155, 0.0148573, 0.0155929, 0.0163634, 0.0171701, 0.0180148, 0.0188989, 0.0198242, 0.0207923, 0.021805, 0.0228641, 0.0239714, 0.0251289, 0.0263384, 0.027602, 0.0289217, 0.0302995, 0.0317376, 0.0332379, 0.0346899, 0.0360955, 0.0374567, 0.0387752, 0.0400526, 0.0412905, 0.0424903, 0.0436536, 0.0447814, 0.0458751, 0.0469359, 0.0479648, 0.0489628, 0.0499309, 0.05087, 0.051781, 0.0526648, 0.053522, 0.0543535, 0.0551599, 0.0559418, 0.0567, 0.057435, 0.0581474, 0.0588377, 0.0595065, 0.0601541, 0.0607811, 0.0613879, 0.0619749, 0.0625425, 0.0630911, 0.0636211, 0.0641327, 0.0646263, 0.0651023, 0.0655608, 0.0660022, 0.0664268, 0.0668347, 0.0672263, 0.0676016, 0.0679611, 0.0683048, 0.0686329, 0.0689457, 0.0692433, 0.0695258, 0.0697934, 0.0700463, 0.0702845, 0.0705083, 0.0707176, 0.0709127, 0.0710936, 0.0712604, 0.0714132, 0.0715521, 0.0716771, 0.0717883, 0.0718857, 0.0719695, 0.0720396, 0.0720961, 0.072139, 0.0721683, 0.072184, 0.0721862, 0.0721749, 0.07215, 0.0721115, 0.0720595, 0.0719938, 0.0719145, 0.0718215, 0.0717148, 0.0715943, 0.0714599, 0.0713117, 0.0711495, 0.0709732, 0.0707827, 0.070578, 0.070359, 0.0701255, 0.0698774, 0.0696146, 0.0693369, 0.0690443, 0.0687365, 0.0684134, 0.0680747, 0.0677204, 0.0673503, 0.066964, 0.0665614, 0.0661423, 0.0657064, 0.0652535, 0.0647833, 0.0642954, 0.0637897, 0.0632657, 0.0627233, 0.0621619, 0.0615812, 0.0609809, 0.0603605, 0.0597197, 0.0590579, 0.0583746, 0.0576695, 0.0569419, 0.0561913, 0.0554172, 0.0546188, 0.0537956, 0.0529468, 0.0520718, 0.0511697, 0.0502398, 0.0492813, 0.0482931, 0.325139, 0.324049, 0.32296, 0.321871, 0.320783, 0.319694, 0.318606, 0.317518, 0.316431, 0.315343, 0.314256, 0.313169, 0.312082, 0.310996, 0.30991, 0.308824, 0.0298735, 0.0288518, 0.0278242, 0.0267912, 0.0257533, 0.024711, 0.0236648, 0.0226149, 0.0215619, 0.0205059, 0.0194474, 0.0183865, 0.0173234, 0.0162585, 0.0151919, 0.0141238, 0.0130544, 0.0119837, 0.0109119, 0.00983926, 0.00876574, 0.00769148, 0.284479, 0.283329, 0.28218, 0.281031, 0.279882, 0.278734, 0.277586, 0.276438, 0.27529, 0.274142, 0.272995, 0.271848, 0.270701, 0.269555, 0.268408, 0.267262, -0.0117462, -0.0128175, -0.0138886, -0.0149598, -0.0160309, -0.017102, -0.0181731, -0.0192441, -0.0203152, -0.0213863, -0.0224574, -0.0235285, -0.0245997, -0.0256709, -0.0267422, -0.0278136, -0.028885, -0.0299566, -0.0310283, -0.0321001, -0.0331721, -0.0342442, -0.0353165, -0.036389, -0.0374617, -0.0385347, -0.0396079, -0.0406814, -0.0417552, -0.0428292, -0.0439037, -0.0449785, -0.0460537, -0.0471293, -0.0482053, -0.0492818, -0.0503588, -0.0514364, -0.0525145, -0.0535932, -0.0546725, -0.0557525, -0.0568332, -0.0579146, -0.0589968, -0.0600799, -0.0611638, -0.0622487, -0.0633345, -0.0644213, -0.0655092, -0.0665982, -0.0676885, -0.0687799, -0.0698727, -0.0709668, -0.0720624, -0.0731595, -0.0742581, -0.0753585, -0.0764606, -0.0775645, -0.0786703, -0.0797781, -0.0808881, -0.0820002, -0.0831147, -0.0842316, -0.085351, -0.0864731, -0.087598, -0.0887257, -0.0898565, -0.0909906, -0.0921279, -0.0932688, -0.0944133, -0.0955616, -0.096714, -0.0978705, -0.0990314, -0.100197, -0.101367, -0.102543, -0.103723, -0.10491, -0.106102, -0.1073, -0.108504, -0.109715, -0.110933, -0.112158, -0.113391, -0.114632, -0.115881, -0.117139, -0.118406, -0.119683, -0.120969, -0.122267, -0.123575, -0.124895, -0.126228, -0.127573, -0.128931, -0.130304, -0.131691, -0.133094, -0.134514, -0.13595, -0.137405, -0.138878, -0.140372, -0.141886, -0.143423, -0.144983, -0.146567, -0.148177, -0.149815, -0.151481, -0.153178, -0.154906, -0.156669, -0.158467, -0.160303, -0.162066, -0.163758, -0.165381, -0.166939, -0.168432, -0.169863, -0.171234, -0.172547, -0.173804, -0.175008, -0.17616, -0.177261, -0.178315, -0.179322, -0.180286, -0.181206, -0.182086, -0.182926, -0.183728, -0.184495, -0.185227, -0.185925, -0.186592, -0.187228, -0.187836, -0.188415, -0.188967, -0.189495, -0.189997, -0.190477, -0.190934, -0.19137, -0.191785, -0.192181, -0.192559, -0.192918, -0.193261, -0.193588, -0.1939, -0.194196, -0.194479, -0.194748, -0.195005, -0.195249, -0.195482, -0.195704, -0.195915, -0.196116, -0.196308, -0.196491, -0.196665, -0.19683, -0.196988, -0.197138, -0.197281, -0.197418, -0.197548, -0.197671, -0.197789, -0.197901, -0.198008, -0.19811, -0.198207, -0.1983, -0.198388, -0.198472, -0.198552, -0.198628, -0.198701, -0.19877, -0.198836, -0.198899, -0.198959, -0.199017, -0.199071, -0.199124, -0.199174, -0.199221, -0.199267, -0.199311, -0.199352, -0.199392, -0.199431, -0.199467, -0.199502, -0.199536, -0.199568, -0.1996, -0.199629, -0.199658, -0.199686, -0.199713, -0.199739, -0.199764, -0.199788, -0.199811, -0.199834, -0.199857, -0.199878, -0.1999, -0.19992, -0.199941, -0.199961, -0.199981, -0.2]}, \"0.30000\": {\"Position (nm)\": [0, 0.2833, 0.5666, 0.8499, 1.1332, 1.4165, 1.6998, 1.9831, 2.2664, 2.5497, 2.833, 3.1163, 3.3996, 3.6829, 3.9662, 4.2495, 4.5328, 4.8161, 5.0994, 5.3827, 5.666, 5.9493, 6.2326, 6.5159, 6.7992, 7.0825, 7.3658, 7.6491, 7.9324, 8.2157, 8.499, 8.7823, 9.0656, 9.3489, 9.6322, 9.9155, 10.1988, 10.4821, 10.7654, 11.0487, 11.332, 11.6153, 11.8986, 12.1819, 12.4652, 12.7485, 13.0318, 13.3151, 13.5984, 13.8817, 14.165, 14.4483, 14.7316, 15.0149, 15.2982, 15.5815, 15.8648, 16.1481, 16.4314, 16.7147, 16.998, 17.2813, 17.5646, 17.8479, 18.1312, 18.4145, 18.6978, 18.9811, 19.2644, 19.5477, 19.831, 20.1143, 20.3976, 20.6809, 20.9642, 21.2475, 21.5308, 21.8141, 22.0974, 22.3807, 22.664, 22.9473, 23.2306, 23.5139, 23.7972, 24.0805, 24.3638, 24.6471, 24.9304, 25.2137, 25.497, 25.7803, 26.0636, 26.3469, 26.6302, 26.9135, 27.1968, 27.4801, 27.7634, 28.0467, 28.33, 28.6133, 28.8966, 29.1799, 29.4632, 29.7465, 30.0298, 30.3131, 30.5964, 30.8797, 31.163, 31.4463, 31.7296, 32.0129, 32.2962, 32.5795, 32.8628, 33.1461, 33.4294, 33.7127, 33.996, 34.2793, 34.5626, 34.8459, 35.1292, 35.4125, 35.6958, 35.9791, 36.2624, 36.5457, 36.829, 37.1123, 37.3956, 37.6789, 37.9622, 38.2455, 38.5288, 38.8121, 39.0954, 39.3787, 39.662, 39.9453, 40.2286, 40.5119, 40.7952, 41.0785, 41.3618, 41.6451, 41.9284, 42.2117, 42.495, 42.7783, 43.0616, 43.3449, 43.6282, 43.9115, 44.1948, 44.4781, 44.7614, 45.0447, 45.328, 45.6113, 45.8946, 46.1779, 46.4612, 46.7445, 47.0278, 47.3111, 47.5944, 47.8777, 48.161, 48.4443, 48.7276, 49.0109, 49.2942, 49.5775, 49.8608, 50.1441, 50.4274, 50.7107, 50.994, 51.2773, 51.5606, 51.8439, 52.1272, 52.4105, 52.6938, 52.9771, 53.2604, 53.5437, 53.827, 54.1103, 54.3936, 54.6769, 54.9602, 55.2435, 55.5268, 55.8101, 56.0934, 56.3767, 56.66, 56.9433, 57.2266, 57.5099, 57.7932, 58.0765, 58.3598, 58.6431, 58.9264, 59.2097, 59.493, 59.7763, 60.0596, 60.3429, 60.6262, 60.9095, 61.1928, 61.4761, 61.7594, 62.0427, 62.326, 62.6093, 62.8926, 63.1759, 63.4592, 63.7425, 64.0258, 64.3091, 64.5924, 64.8757, 65.159, 65.4423, 65.7256, 66.0089, 66.2922, 66.5755, 66.8588, 67.1421, 67.4254, 67.7087, 67.992, 68.2753, 68.5586, 68.8419, 69.1252, 69.4085, 69.6918, 69.9751, 70.2584, 70.5417, 70.825, 71.1083, 71.3916, 71.6749, 71.9582, 72.2415, 72.5248, 72.8081, 73.0914, 73.3747, 73.658, 73.9413, 74.2246, 74.5079, 74.7912, 75.0745, 75.3578, 75.6411, 75.9244, 76.2077, 76.491, 76.7743, 77.0576, 77.3409, 77.6242, 77.9075, 78.1908, 78.4741, 78.7574, 79.0407, 79.324, 79.6073, 79.8906, 80.1739, 80.4572, 80.7405, 81.0238, 81.3071, 81.5904, 81.8737, 82.157, 82.4403, 82.7236, 83.0069, 83.2902, 83.5735, 83.8568, 84.1401, 84.4234, 84.7067, 84.99, 85.2733, 85.5566, 85.8399, 86.1232, 86.4065, 86.6898, 86.9731, 87.2564, 87.5397, 87.823, 88.1063, 88.3896, 88.6729, 88.9562, 89.2395, 89.5228, 89.8061, 90.0894, 90.3727, 90.656, 90.9393, 91.2226, 91.5059, 91.7892, 92.0725, 92.3558, 92.6391, 92.9224, 93.2057, 93.489, 93.7723, 94.0556, 94.3389, 94.6222, 94.9055, 95.1888, 95.4721, 95.7554, 96.0387, 96.322, 96.6053, 96.8886, 97.1719, 97.4552, 97.7385, 98.0218, 98.3051, 98.5884, 98.8717, 99.155, 99.4383, 99.7216, 100.005, 100.288, 100.572, 100.855, 101.138, 101.421, 101.705, 101.988, 102.271, 102.555, 102.838, 103.121, 103.404, 103.688, 103.971, 104.254, 104.538, 104.821, 105.104, 105.388, 105.671, 105.954, 106.237, 106.521, 106.804, 107.087, 107.371, 107.654, 107.937, 108.221, 108.504, 108.787, 109.07, 109.354, 109.637, 109.92, 110.204, 110.487, 110.77, 111.054, 111.337, 111.62, 111.903, 112.187, 112.47, 112.753, 113.037, 113.32, 113.603, 113.887, 114.17, 114.453, 114.736, 115.02, 115.303, 115.586, 115.87, 116.153, 116.436, 116.72, 117.003, 117.286, 117.57, 117.853, 118.136, 118.419, 118.703, 118.986, 119.269, 119.553, 119.836, 120.119, 120.403, 120.686, 120.969, 121.252, 121.536, 121.819, 122.102, 122.386, 122.669, 122.952, 123.236, 123.519, 123.802, 124.085, 124.369, 124.652, 124.935, 125.219, 125.502, 125.785, 126.069, 126.352, 126.635, 126.918, 127.202, 127.485, 127.768, 128.052, 128.335, 128.618, 128.901, 129.185, 129.468, 129.751, 130.035, 130.318, 130.601, 130.885, 131.168, 131.451, 131.734, 132.018, 132.301, 132.584, 132.868, 133.151, 133.434, 133.718, 134.001, 134.284, 134.567, 134.851, 135.134, 135.417, 135.701, 135.984, 136.267, 136.551, 136.834, 137.117, 137.4, 137.684, 137.967, 138.25, 138.534, 138.817, 139.1, 139.384, 139.667, 139.95, 140.233, 140.517, 140.8, 141.083, 141.367, 141.65, 141.933, 142.217, 142.5, 142.783, 143.066, 143.35, 143.633, 143.916, 144.2, 144.483, 144.766, 145.05, 145.333], \"Energy (eV)\": [0, 1.41652e-05, 2.85626e-05, 4.32278e-05, 5.81971e-05, 7.35074e-05, 8.91966e-05, 0.000105303, 0.000121868, 0.00013893, 0.000156533, 0.00017472, 0.000193536, 0.000213027, 0.000233241, 0.000254228, 0.00027604, 0.000298731, 0.000322357, 0.000346975, 0.000372646, 0.000399434, 0.000427405, 0.000456626, 0.000487171, 0.000519114, 0.000552534, 0.000587512, 0.000624136, 0.000662493, 0.000702679, 0.000744793, 0.000788936, 0.000835218, 0.000883751, 0.000934655, 0.000988054, 0.00104408, 0.00110286, 0.00116455, 0.0012293, 0.00129726, 0.0013686, 0.00144349, 0.00152211, 0.00160466, 0.00169133, 0.00178233, 0.00187789, 0.00197824, 0.00208361, 0.00219426, 0.00231046, 0.00243249, 0.00256063, 0.0026952, 0.00283651, 0.00298491, 0.00314074, 0.00330438, 0.00347621, 0.00365665, 0.0038461, 0.00404503, 0.0042539, 0.0044732, 0.00470343, 0.00494514, 0.00519888, 0.00546524, 0.00574483, 0.00603829, 0.0063463, 0.00666955, 0.00700878, 0.00736475, 0.00773825, 0.00813012, 0.00854123, 0.00897249, 0.00942483, 0.00989924, 0.0103967, 0.0109184, 0.0114654, 0.0120387, 0.0126397, 0.0132696, 0.0139296, 0.0146211, 0.0153456, 0.0161043, 0.0168989, 0.0177308, 0.0186017, 0.0195131, 0.0204668, 0.0214646, 0.0225081, 0.0235992, 0.0247399, 0.025932, 0.0271775, 0.0284784, 0.0298367, 0.0312545, 0.032734, 0.0341644, 0.0355477, 0.0368859, 0.0381806, 0.0394335, 0.0406461, 0.04182, 0.0429564, 0.0440567, 0.0451221, 0.0461537, 0.0471527, 0.0481199, 0.0490565, 0.0499632, 0.050841, 0.0516907, 0.052513, 0.0533087, 0.0540784, 0.0548229, 0.0555426, 0.0562382, 0.0569103, 0.0575594, 0.0581859, 0.0587904, 0.0593732, 0.0599349, 0.0604758, 0.0609963, 0.0614967, 0.0619774, 0.0624387, 0.0628809, 0.0633044, 0.0637093, 0.064096, 0.0644646, 0.0648155, 0.0651487, 0.0654646, 0.0657633, 0.066045, 0.0663099, 0.0665581, 0.0667897, 0.067005, 0.0672039, 0.0673867, 0.0675534, 0.0677042, 0.067839, 0.0679581, 0.0680614, 0.068149, 0.068221, 0.0682773, 0.0683182, 0.0683434, 0.0683531, 0.0683473, 0.068326, 0.0682891, 0.0682367, 0.0681686, 0.0680849, 0.0679856, 0.0678705, 0.0677397, 0.0675929, 0.0674302, 0.0672515, 0.0670566, 0.0668455, 0.066618, 0.066374, 0.0661134, 0.0658359, 0.0655415, 0.06523, 0.0649011, 0.0645547, 0.0641906, 0.0638085, 0.0634082, 0.0629894, 0.062552, 0.0620955, 0.0616197, 0.0611243, 0.0606089, 0.0600732, 0.0595168, 0.0589393, 0.0583403, 0.0577194, 0.057076, 0.0564098, 0.0557202, 0.0550066, 0.0542684, 0.0535051, 0.0527161, 0.0519005, 0.0510578, 0.0501872, 0.0492878, 0.0483588, 0.0473994, 0.0464085, 0.0453853, 0.0443285, 0.0432371, 0.0421099, 0.0409456, 0.0397428, 0.0385002, 0.0372162, 0.0358892, 0.0345174, 0.0330991, 0.0316322, 0.307962, 0.306339, 0.304716, 0.303093, 0.301471, 0.299849, 0.298227, 0.296606, 0.294985, 0.293364, 0.291743, 0.290122, 0.288502, 0.286882, 0.285262, 0.283643, 0.0041763, 0.00265695, 0.00113298, -0.000394941, -0.00192625, -0.00346044, -0.00499709, -0.00653583, -0.00807633, -0.00961832, -0.0111616, -0.0127058, -0.014251, -0.0157969, -0.0173433, -0.0188902, -0.0204375, -0.0219851, -0.0235329, -0.0250809, -0.026629, -0.0281771, 0.248121, 0.246465, 0.24481, 0.243154, 0.2415, 0.239845, 0.23819, 0.236536, 0.234882, 0.233229, 0.231575, 0.229922, 0.228269, 0.226616, 0.224964, 0.223311, -0.0561866, -0.0577309, -0.059275, -0.0608189, -0.0623626, -0.0639061, -0.0654494, -0.0669925, -0.0685355, -0.0700782, -0.0716207, -0.073163, -0.0747052, -0.0762471, -0.0777889, -0.0793305, -0.0808719, -0.0824132, -0.0839542, -0.0854951, -0.0870359, -0.0885764, -0.0901169, -0.0916571, -0.0931973, -0.0947372, -0.0962771, -0.0978168, -0.0993564, -0.100896, -0.102435, -0.103974, -0.105514, -0.107053, -0.108592, -0.11013, -0.111669, -0.113208, -0.114747, -0.116285, -0.117824, -0.119363, -0.120901, -0.12244, -0.123979, -0.125518, -0.127056, -0.128595, -0.130134, -0.131673, -0.133213, -0.134752, -0.136292, -0.137832, -0.139372, -0.140912, -0.142453, -0.143994, -0.145535, -0.147077, -0.148619, -0.150161, -0.151705, -0.153248, -0.154793, -0.156338, -0.157884, -0.15943, -0.160978, -0.162526, -0.164075, -0.165625, -0.167177, -0.16873, -0.170284, -0.171839, -0.173396, -0.174954, -0.176515, -0.178077, -0.179641, -0.181207, -0.182775, -0.184346, -0.185919, -0.187495, -0.189074, -0.190656, -0.192241, -0.19383, -0.195422, -0.197019, -0.19862, -0.200225, -0.201835, -0.20345, -0.205071, -0.206698, -0.20833, -0.20997, -0.211616, -0.21327, -0.214931, -0.216602, -0.218281, -0.219969, -0.221668, -0.223378, -0.225099, -0.226833, -0.22858, -0.23034, -0.232116, -0.233907, -0.235715, -0.237541, -0.239386, -0.241252, -0.243138, -0.245049, -0.246983, -0.248944, -0.250933, -0.252951, -0.255002, -0.256973, -0.258868, -0.260688, -0.262435, -0.264113, -0.265722, -0.267265, -0.268745, -0.270163, -0.271521, -0.272822, -0.274068, -0.27526, -0.276401, -0.277492, -0.278536, -0.279534, -0.280488, -0.281399, -0.28227, -0.283102, -0.283897, -0.284656, -0.285381, -0.286072, -0.286732, -0.287362, -0.287964, -0.288537, -0.289084, -0.289606, -0.290104, -0.290578, -0.291031, -0.291462, -0.291874, -0.292266, -0.29264, -0.292996, -0.293335, -0.293659, -0.293967, -0.294261, -0.294541, -0.294807, -0.295061, -0.295303, -0.295534, -0.295754, -0.295963, -0.296162, -0.296352, -0.296533, -0.296705, -0.29687, -0.297026, -0.297175, -0.297317, -0.297452, -0.297581, -0.297703, -0.29782, -0.297932, -0.298038, -0.298139, -0.298235, -0.298327, -0.298415, -0.298498, -0.298578, -0.298654, -0.298727, -0.298796, -0.298862, -0.298925, -0.298985, -0.299042, -0.299097, -0.29915, -0.2992, -0.299248, -0.299294, -0.299338, -0.299381, -0.299421, -0.29946, -0.299497, -0.299533, -0.299568, -0.299601, -0.299633, -0.299665, -0.299695, -0.299724, -0.299752, -0.299779, -0.299806, -0.299832, -0.299857, -0.299882, -0.299906, -0.29993, -0.299954, -0.299977, -0.3]}, \"0.40000\": {\"Position (nm)\": [0, 0.2833, 0.5666, 0.8499, 1.1332, 1.4165, 1.6998, 1.9831, 2.2664, 2.5497, 2.833, 3.1163, 3.3996, 3.6829, 3.9662, 4.2495, 4.5328, 4.8161, 5.0994, 5.3827, 5.666, 5.9493, 6.2326, 6.5159, 6.7992, 7.0825, 7.3658, 7.6491, 7.9324, 8.2157, 8.499, 8.7823, 9.0656, 9.3489, 9.6322, 9.9155, 10.1988, 10.4821, 10.7654, 11.0487, 11.332, 11.6153, 11.8986, 12.1819, 12.4652, 12.7485, 13.0318, 13.3151, 13.5984, 13.8817, 14.165, 14.4483, 14.7316, 15.0149, 15.2982, 15.5815, 15.8648, 16.1481, 16.4314, 16.7147, 16.998, 17.2813, 17.5646, 17.8479, 18.1312, 18.4145, 18.6978, 18.9811, 19.2644, 19.5477, 19.831, 20.1143, 20.3976, 20.6809, 20.9642, 21.2475, 21.5308, 21.8141, 22.0974, 22.3807, 22.664, 22.9473, 23.2306, 23.5139, 23.7972, 24.0805, 24.3638, 24.6471, 24.9304, 25.2137, 25.497, 25.7803, 26.0636, 26.3469, 26.6302, 26.9135, 27.1968, 27.4801, 27.7634, 28.0467, 28.33, 28.6133, 28.8966, 29.1799, 29.4632, 29.7465, 30.0298, 30.3131, 30.5964, 30.8797, 31.163, 31.4463, 31.7296, 32.0129, 32.2962, 32.5795, 32.8628, 33.1461, 33.4294, 33.7127, 33.996, 34.2793, 34.5626, 34.8459, 35.1292, 35.4125, 35.6958, 35.9791, 36.2624, 36.5457, 36.829, 37.1123, 37.3956, 37.6789, 37.9622, 38.2455, 38.5288, 38.8121, 39.0954, 39.3787, 39.662, 39.9453, 40.2286, 40.5119, 40.7952, 41.0785, 41.3618, 41.6451, 41.9284, 42.2117, 42.495, 42.7783, 43.0616, 43.3449, 43.6282, 43.9115, 44.1948, 44.4781, 44.7614, 45.0447, 45.328, 45.6113, 45.8946, 46.1779, 46.4612, 46.7445, 47.0278, 47.3111, 47.5944, 47.8777, 48.161, 48.4443, 48.7276, 49.0109, 49.2942, 49.5775, 49.8608, 50.1441, 50.4274, 50.7107, 50.994, 51.2773, 51.5606, 51.8439, 52.1272, 52.4105, 52.6938, 52.9771, 53.2604, 53.5437, 53.827, 54.1103, 54.3936, 54.6769, 54.9602, 55.2435, 55.5268, 55.8101, 56.0934, 56.3767, 56.66, 56.9433, 57.2266, 57.5099, 57.7932, 58.0765, 58.3598, 58.6431, 58.9264, 59.2097, 59.493, 59.7763, 60.0596, 60.3429, 60.6262, 60.9095, 61.1928, 61.4761, 61.7594, 62.0427, 62.326, 62.6093, 62.8926, 63.1759, 63.4592, 63.7425, 64.0258, 64.3091, 64.5924, 64.8757, 65.159, 65.4423, 65.7256, 66.0089, 66.2922, 66.5755, 66.8588, 67.1421, 67.4254, 67.7087, 67.992, 68.2753, 68.5586, 68.8419, 69.1252, 69.4085, 69.6918, 69.9751, 70.2584, 70.5417, 70.825, 71.1083, 71.3916, 71.6749, 71.9582, 72.2415, 72.5248, 72.8081, 73.0914, 73.3747, 73.658, 73.9413, 74.2246, 74.5079, 74.7912, 75.0745, 75.3578, 75.6411, 75.9244, 76.2077, 76.491, 76.7743, 77.0576, 77.3409, 77.6242, 77.9075, 78.1908, 78.4741, 78.7574, 79.0407, 79.324, 79.6073, 79.8906, 80.1739, 80.4572, 80.7405, 81.0238, 81.3071, 81.5904, 81.8737, 82.157, 82.4403, 82.7236, 83.0069, 83.2902, 83.5735, 83.8568, 84.1401, 84.4234, 84.7067, 84.99, 85.2733, 85.5566, 85.8399, 86.1232, 86.4065, 86.6898, 86.9731, 87.2564, 87.5397, 87.823, 88.1063, 88.3896, 88.6729, 88.9562, 89.2395, 89.5228, 89.8061, 90.0894, 90.3727, 90.656, 90.9393, 91.2226, 91.5059, 91.7892, 92.0725, 92.3558, 92.6391, 92.9224, 93.2057, 93.489, 93.7723, 94.0556, 94.3389, 94.6222, 94.9055, 95.1888, 95.4721, 95.7554, 96.0387, 96.322, 96.6053, 96.8886, 97.1719, 97.4552, 97.7385, 98.0218, 98.3051, 98.5884, 98.8717, 99.155, 99.4383, 99.7216, 100.005, 100.288, 100.572, 100.855, 101.138, 101.421, 101.705, 101.988, 102.271, 102.555, 102.838, 103.121, 103.404, 103.688, 103.971, 104.254, 104.538, 104.821, 105.104, 105.388, 105.671, 105.954, 106.237, 106.521, 106.804, 107.087, 107.371, 107.654, 107.937, 108.221, 108.504, 108.787, 109.07, 109.354, 109.637, 109.92, 110.204, 110.487, 110.77, 111.054, 111.337, 111.62, 111.903, 112.187, 112.47, 112.753, 113.037, 113.32, 113.603, 113.887, 114.17, 114.453, 114.736, 115.02, 115.303, 115.586, 115.87, 116.153, 116.436, 116.72, 117.003, 117.286, 117.57, 117.853, 118.136, 118.419, 118.703, 118.986, 119.269, 119.553, 119.836, 120.119, 120.403, 120.686, 120.969, 121.252, 121.536, 121.819, 122.102, 122.386, 122.669, 122.952, 123.236, 123.519, 123.802, 124.085, 124.369, 124.652, 124.935, 125.219, 125.502, 125.785, 126.069, 126.352, 126.635, 126.918, 127.202, 127.485, 127.768, 128.052, 128.335, 128.618, 128.901, 129.185, 129.468, 129.751, 130.035, 130.318, 130.601, 130.885, 131.168, 131.451, 131.734, 132.018, 132.301, 132.584, 132.868, 133.151, 133.434, 133.718, 134.001, 134.284, 134.567, 134.851, 135.134, 135.417, 135.701, 135.984, 136.267, 136.551, 136.834, 137.117, 137.4, 137.684, 137.967, 138.25, 138.534, 138.817, 139.1, 139.384, 139.667, 139.95, 140.233, 140.517, 140.8, 141.083, 141.367, 141.65, 141.933, 142.217, 142.5, 142.783, 143.066, 143.35, 143.633, 143.916, 144.2, 144.483, 144.766, 145.05, 145.333], \"Energy (eV)\": [0, 1.39526e-05, 2.81368e-05, 4.25878e-05, 5.73412e-05, 7.24336e-05, 8.79022e-05, 0.000103785, 0.000120122, 0.000136953, 0.000154319, 0.000172264, 0.000190831, 0.000210067, 0.000230019, 0.000250736, 0.00027227, 0.000294672, 0.000318, 0.000342309, 0.00036766, 0.000394116, 0.000421741, 0.000450603, 0.000480773, 0.000512326, 0.000545339, 0.000579893, 0.000616073, 0.000653968, 0.00069367, 0.000735278, 0.000778892, 0.00082462, 0.000872574, 0.00092287, 0.000975633, 0.00103099, 0.00108908, 0.00115004, 0.00121402, 0.00128117, 0.00135166, 0.00142567, 0.00150336, 0.00158494, 0.00167059, 0.00176053, 0.00185496, 0.00195413, 0.00205826, 0.00216762, 0.00228245, 0.00240305, 0.00252969, 0.00266268, 0.00280235, 0.00294901, 0.00310302, 0.00326476, 0.00343459, 0.00361292, 0.00380017, 0.00399679, 0.00420324, 0.00441999, 0.00464756, 0.00488647, 0.00513727, 0.00540056, 0.00567693, 0.00596702, 0.00627149, 0.00659103, 0.00692637, 0.00727826, 0.0076475, 0.0080349, 0.00844133, 0.00886769, 0.0093149, 0.00978394, 0.0102758, 0.0107916, 0.0113324, 0.0118994, 0.0124937, 0.0131165, 0.0137692, 0.0144531, 0.0151695, 0.0159199, 0.0167058, 0.0175287, 0.0183901, 0.0192917, 0.0202352, 0.0212222, 0.0222546, 0.0233343, 0.0244629, 0.0256425, 0.0268751, 0.0281626, 0.029507, 0.0309104, 0.032375, 0.03379, 0.0351574, 0.036479, 0.0377567, 0.0389921, 0.0401867, 0.0413419, 0.0424592, 0.0435398, 0.0445849, 0.0455957, 0.0465731, 0.0475184, 0.0484323, 0.0493158, 0.0501698, 0.050995, 0.0517922, 0.0525622, 0.0533055, 0.0540229, 0.054715, 0.0553823, 0.0560253, 0.0566447, 0.0572408, 0.0578141, 0.0583651, 0.0588942, 0.0594017, 0.059888, 0.0603536, 0.0607986, 0.0612235, 0.0616284, 0.0620138, 0.0623798, 0.0627266, 0.0630546, 0.0633639, 0.0636547, 0.0639272, 0.0641815, 0.0644179, 0.0646365, 0.0648374, 0.0650207, 0.0651866, 0.0653351, 0.0654664, 0.0655805, 0.0656775, 0.0657574, 0.0658203, 0.0658662, 0.0658952, 0.0659073, 0.0659024, 0.0658806, 0.0658419, 0.0657862, 0.0657135, 0.0656238, 0.065517, 0.0653931, 0.0652519, 0.0650934, 0.0649175, 0.0647241, 0.0645131, 0.0642843, 0.0640376, 0.0637728, 0.0634898, 0.0631884, 0.0628684, 0.0625297, 0.0621718, 0.0617948, 0.0613982, 0.0609818, 0.0605454, 0.0600886, 0.0596112, 0.0591127, 0.0585928, 0.0580512, 0.0574874, 0.0569011, 0.0562917, 0.0556588, 0.0550019, 0.0543204, 0.0536139, 0.0528817, 0.0521231, 0.0513376, 0.0505244, 0.0496827, 0.0488119, 0.047911, 0.0469792, 0.0460155, 0.0450191, 0.0439887, 0.0429234, 0.0418219, 0.0406829, 0.0395052, 0.0382874, 0.0370279, 0.0357252, 0.0343774, 0.0329829, 0.0315397, 0.0300457, 0.0284987, 0.0268964, 0.0252362, 0.0235154, 0.0217312, 0.0198804, 0.0179597, 0.293796, 0.291663, 0.289531, 0.287399, 0.285267, 0.283135, 0.281003, 0.278872, 0.276741, 0.27461, 0.27248, 0.27035, 0.26822, 0.26609, 0.26396, 0.261831, -0.0181285, -0.0201229, -0.0221204, -0.0241204, -0.0261224, -0.028126, -0.0301308, -0.0321367, -0.0341433, -0.0361505, -0.0381582, -0.0401662, -0.0421744, -0.0441827, -0.0461911, -0.0481995, -0.0502079, -0.0522163, -0.0542245, -0.0562326, -0.0582406, -0.0602484, 0.215574, 0.213427, 0.21128, 0.209133, 0.206987, 0.204841, 0.202695, 0.200549, 0.198404, 0.196258, 0.194113, 0.191969, 0.189824, 0.18768, 0.185536, 0.183392, -0.0965813, -0.0985851, -0.100589, -0.102592, -0.104595, -0.106598, -0.108601, -0.110603, -0.112605, -0.114608, -0.116609, -0.118611, -0.120612, -0.122613, -0.124614, -0.126615, -0.128615, -0.130616, -0.132616, -0.134616, -0.136615, -0.138615, -0.140614, -0.142613, -0.144611, -0.14661, -0.148608, -0.150606, -0.152604, -0.154602, -0.156599, -0.158597, -0.160594, -0.162591, -0.164587, -0.166584, -0.16858, -0.170576, -0.172572, -0.174568, -0.176563, -0.178558, -0.180554, -0.182549, -0.184543, -0.186538, -0.188532, -0.190527, -0.192521, -0.194515, -0.196509, -0.198503, -0.200496, -0.20249, -0.204483, -0.206476, -0.20847, -0.210463, -0.212456, -0.214449, -0.216442, -0.218435, -0.220428, -0.222421, -0.224414, -0.226407, -0.2284, -0.230393, -0.232387, -0.23438, -0.236374, -0.238368, -0.240362, -0.242356, -0.244351, -0.246346, -0.248342, -0.250338, -0.252334, -0.254331, -0.256329, -0.258328, -0.260327, -0.262327, -0.264329, -0.266331, -0.268334, -0.270339, -0.272345, -0.274353, -0.276362, -0.278373, -0.280386, -0.282402, -0.284419, -0.286439, -0.288462, -0.290488, -0.292518, -0.29455, -0.296587, -0.298628, -0.300673, -0.302724, -0.304779, -0.30684, -0.308908, -0.310982, -0.313064, -0.315153, -0.317251, -0.319359, -0.321476, -0.323604, -0.325743, -0.327895, -0.330061, -0.332242, -0.334438, -0.336651, -0.338883, -0.341135, -0.343408, -0.345705, -0.348027, -0.350263, -0.352415, -0.354486, -0.356478, -0.358392, -0.360231, -0.361997, -0.363692, -0.365318, -0.366878, -0.368374, -0.369808, -0.371181, -0.372497, -0.373756, -0.374962, -0.376116, -0.37722, -0.378275, -0.379285, -0.38025, -0.381172, -0.382053, -0.382895, -0.383699, -0.384467, -0.385201, -0.385901, -0.386569, -0.387206, -0.387815, -0.388396, -0.388949, -0.389478, -0.389982, -0.390462, -0.39092, -0.391357, -0.391774, -0.392171, -0.392549, -0.39291, -0.393254, -0.393582, -0.393894, -0.394191, -0.394475, -0.394745, -0.395003, -0.395248, -0.395482, -0.395704, -0.395917, -0.396119, -0.396311, -0.396495, -0.396669, -0.396836, -0.396995, -0.397146, -0.39729, -0.397427, -0.397558, -0.397683, -0.397802, -0.397915, -0.398023, -0.398126, -0.398224, -0.398318, -0.398407, -0.398492, -0.398574, -0.398651, -0.398726, -0.398797, -0.398864, -0.398929, -0.398991, -0.39905, -0.399107, -0.399161, -0.399213, -0.399263, -0.399311, -0.399357, -0.399401, -0.399444, -0.399485, -0.399524, -0.399562, -0.399599, -0.399635, -0.399669, -0.399703, -0.399736, -0.399767, -0.399798, -0.399829, -0.399858, -0.399887, -0.399916, -0.399944, -0.399972, -0.4]}, \"0.50000\": {\"Position (nm)\": [0, 0.2833, 0.5666, 0.8499, 1.1332, 1.4165, 1.6998, 1.9831, 2.2664, 2.5497, 2.833, 3.1163, 3.3996, 3.6829, 3.9662, 4.2495, 4.5328, 4.8161, 5.0994, 5.3827, 5.666, 5.9493, 6.2326, 6.5159, 6.7992, 7.0825, 7.3658, 7.6491, 7.9324, 8.2157, 8.499, 8.7823, 9.0656, 9.3489, 9.6322, 9.9155, 10.1988, 10.4821, 10.7654, 11.0487, 11.332, 11.6153, 11.8986, 12.1819, 12.4652, 12.7485, 13.0318, 13.3151, 13.5984, 13.8817, 14.165, 14.4483, 14.7316, 15.0149, 15.2982, 15.5815, 15.8648, 16.1481, 16.4314, 16.7147, 16.998, 17.2813, 17.5646, 17.8479, 18.1312, 18.4145, 18.6978, 18.9811, 19.2644, 19.5477, 19.831, 20.1143, 20.3976, 20.6809, 20.9642, 21.2475, 21.5308, 21.8141, 22.0974, 22.3807, 22.664, 22.9473, 23.2306, 23.5139, 23.7972, 24.0805, 24.3638, 24.6471, 24.9304, 25.2137, 25.497, 25.7803, 26.0636, 26.3469, 26.6302, 26.9135, 27.1968, 27.4801, 27.7634, 28.0467, 28.33, 28.6133, 28.8966, 29.1799, 29.4632, 29.7465, 30.0298, 30.3131, 30.5964, 30.8797, 31.163, 31.4463, 31.7296, 32.0129, 32.2962, 32.5795, 32.8628, 33.1461, 33.4294, 33.7127, 33.996, 34.2793, 34.5626, 34.8459, 35.1292, 35.4125, 35.6958, 35.9791, 36.2624, 36.5457, 36.829, 37.1123, 37.3956, 37.6789, 37.9622, 38.2455, 38.5288, 38.8121, 39.0954, 39.3787, 39.662, 39.9453, 40.2286, 40.5119, 40.7952, 41.0785, 41.3618, 41.6451, 41.9284, 42.2117, 42.495, 42.7783, 43.0616, 43.3449, 43.6282, 43.9115, 44.1948, 44.4781, 44.7614, 45.0447, 45.328, 45.6113, 45.8946, 46.1779, 46.4612, 46.7445, 47.0278, 47.3111, 47.5944, 47.8777, 48.161, 48.4443, 48.7276, 49.0109, 49.2942, 49.5775, 49.8608, 50.1441, 50.4274, 50.7107, 50.994, 51.2773, 51.5606, 51.8439, 52.1272, 52.4105, 52.6938, 52.9771, 53.2604, 53.5437, 53.827, 54.1103, 54.3936, 54.6769, 54.9602, 55.2435, 55.5268, 55.8101, 56.0934, 56.3767, 56.66, 56.9433, 57.2266, 57.5099, 57.7932, 58.0765, 58.3598, 58.6431, 58.9264, 59.2097, 59.493, 59.7763, 60.0596, 60.3429, 60.6262, 60.9095, 61.1928, 61.4761, 61.7594, 62.0427, 62.326, 62.6093, 62.8926, 63.1759, 63.4592, 63.7425, 64.0258, 64.3091, 64.5924, 64.8757, 65.159, 65.4423, 65.7256, 66.0089, 66.2922, 66.5755, 66.8588, 67.1421, 67.4254, 67.7087, 67.992, 68.2753, 68.5586, 68.8419, 69.1252, 69.4085, 69.6918, 69.9751, 70.2584, 70.5417, 70.825, 71.1083, 71.3916, 71.6749, 71.9582, 72.2415, 72.5248, 72.8081, 73.0914, 73.3747, 73.658, 73.9413, 74.2246, 74.5079, 74.7912, 75.0745, 75.3578, 75.6411, 75.9244, 76.2077, 76.491, 76.7743, 77.0576, 77.3409, 77.6242, 77.9075, 78.1908, 78.4741, 78.7574, 79.0407, 79.324, 79.6073, 79.8906, 80.1739, 80.4572, 80.7405, 81.0238, 81.3071, 81.5904, 81.8737, 82.157, 82.4403, 82.7236, 83.0069, 83.2902, 83.5735, 83.8568, 84.1401, 84.4234, 84.7067, 84.99, 85.2733, 85.5566, 85.8399, 86.1232, 86.4065, 86.6898, 86.9731, 87.2564, 87.5397, 87.823, 88.1063, 88.3896, 88.6729, 88.9562, 89.2395, 89.5228, 89.8061, 90.0894, 90.3727, 90.656, 90.9393, 91.2226, 91.5059, 91.7892, 92.0725, 92.3558, 92.6391, 92.9224, 93.2057, 93.489, 93.7723, 94.0556, 94.3389, 94.6222, 94.9055, 95.1888, 95.4721, 95.7554, 96.0387, 96.322, 96.6053, 96.8886, 97.1719, 97.4552, 97.7385, 98.0218, 98.3051, 98.5884, 98.8717, 99.155, 99.4383, 99.7216, 100.005, 100.288, 100.572, 100.855, 101.138, 101.421, 101.705, 101.988, 102.271, 102.555, 102.838, 103.121, 103.404, 103.688, 103.971, 104.254, 104.538, 104.821, 105.104, 105.388, 105.671, 105.954, 106.237, 106.521, 106.804, 107.087, 107.371, 107.654, 107.937, 108.221, 108.504, 108.787, 109.07, 109.354, 109.637, 109.92, 110.204, 110.487, 110.77, 111.054, 111.337, 111.62, 111.903, 112.187, 112.47, 112.753, 113.037, 113.32, 113.603, 113.887, 114.17, 114.453, 114.736, 115.02, 115.303, 115.586, 115.87, 116.153, 116.436, 116.72, 117.003, 117.286, 117.57, 117.853, 118.136, 118.419, 118.703, 118.986, 119.269, 119.553, 119.836, 120.119, 120.403, 120.686, 120.969, 121.252, 121.536, 121.819, 122.102, 122.386, 122.669, 122.952, 123.236, 123.519, 123.802, 124.085, 124.369, 124.652, 124.935, 125.219, 125.502, 125.785, 126.069, 126.352, 126.635, 126.918, 127.202, 127.485, 127.768, 128.052, 128.335, 128.618, 128.901, 129.185, 129.468, 129.751, 130.035, 130.318, 130.601, 130.885, 131.168, 131.451, 131.734, 132.018, 132.301, 132.584, 132.868, 133.151, 133.434, 133.718, 134.001, 134.284, 134.567, 134.851, 135.134, 135.417, 135.701, 135.984, 136.267, 136.551, 136.834, 137.117, 137.4, 137.684, 137.967, 138.25, 138.534, 138.817, 139.1, 139.384, 139.667, 139.95, 140.233, 140.517, 140.8, 141.083, 141.367, 141.65, 141.933, 142.217, 142.5, 142.783, 143.066, 143.35, 143.633, 143.916, 144.2, 144.483, 144.766, 145.05, 145.333], \"Energy (eV)\": [0, 1.37893e-05, 2.78098e-05, 4.20963e-05, 5.6684e-05, 7.1609e-05, 8.69083e-05, 0.000102619, 0.000118781, 0.000135434, 0.000152619, 0.000170377, 0.000188754, 0.000207794, 0.000227545, 0.000248055, 0.000269374, 0.000291556, 0.000314654, 0.000338726, 0.000363832, 0.000390032, 0.000417391, 0.000445977, 0.00047586, 0.000507114, 0.000539814, 0.000574042, 0.000609882, 0.000647421, 0.000686752, 0.000727971, 0.000771179, 0.000816482, 0.00086399, 0.00091382, 0.000966095, 0.00102094, 0.00107849, 0.00113889, 0.00120228, 0.00126882, 0.00133866, 0.00141199, 0.00148897, 0.0015698, 0.00165466, 0.00174378, 0.00183735, 0.00193561, 0.00203879, 0.00214715, 0.00226094, 0.00238044, 0.00250593, 0.00263771, 0.00277611, 0.00292144, 0.00307406, 0.00323432, 0.00340262, 0.00357934, 0.0037649, 0.00395974, 0.00416433, 0.00437912, 0.00460464, 0.0048414, 0.00508996, 0.00535088, 0.00562478, 0.00591227, 0.00621402, 0.00653071, 0.00686306, 0.00721183, 0.00757778, 0.00796175, 0.00836459, 0.00878718, 0.00923045, 0.00969537, 0.010183, 0.0106942, 0.0112303, 0.0117923, 0.0123814, 0.0129989, 0.013646, 0.014324, 0.0150343, 0.0157783, 0.0165575, 0.0173733, 0.0182275, 0.0191215, 0.0200571, 0.021036, 0.0220598, 0.0231305, 0.02425, 0.02542, 0.0266426, 0.0279197, 0.0292534, 0.0306458, 0.0320989, 0.033502, 0.0348571, 0.0361661, 0.0374307, 0.0386525, 0.0398332, 0.0409741, 0.0420765, 0.0431419, 0.0441713, 0.045166, 0.0461269, 0.0470551, 0.0479516, 0.0488171, 0.0496527, 0.050459, 0.0512368, 0.0519868, 0.0527097, 0.0534062, 0.0540768, 0.0547221, 0.0553427, 0.0559389, 0.0565114, 0.0570606, 0.0575868, 0.0580905, 0.0585722, 0.059032, 0.0594704, 0.0598877, 0.0602841, 0.06066, 0.0610156, 0.0613512, 0.061667, 0.0619632, 0.06224, 0.0624976, 0.0627361, 0.0629557, 0.0631566, 0.0633389, 0.0635027, 0.0636481, 0.0637752, 0.063884, 0.0639747, 0.0640473, 0.0641019, 0.0641384, 0.064157, 0.0641575, 0.0641401, 0.0641047, 0.0640513, 0.0639798, 0.0638902, 0.0637825, 0.0636565, 0.0635123, 0.0633497, 0.0631686, 0.0629688, 0.0627504, 0.062513, 0.0622566, 0.0619811, 0.0616861, 0.0613715, 0.0610372, 0.0606828, 0.0603082, 0.059913, 0.0594971, 0.05906, 0.0586015, 0.0581213, 0.0576189, 0.0570941, 0.0565464, 0.0559754, 0.0553806, 0.0547616, 0.0541179, 0.0534489, 0.052754, 0.0520328, 0.0512844, 0.0505084, 0.0497039, 0.0488702, 0.0480065, 0.0471121, 0.0461859, 0.045227, 0.0442345, 0.0432073, 0.0421442, 0.0410441, 0.0399056, 0.0387275, 0.0375082, 0.0362464, 0.0349402, 0.033588, 0.032188, 0.0307381, 0.0292362, 0.0276802, 0.0260675, 0.0243956, 0.0226617, 0.0208629, 0.018996, 0.0170576, 0.015044, 0.0129514, 0.0107754, 0.00851157, 0.00615499, 0.281515, 0.27889, 0.276265, 0.27364, 0.271015, 0.268391, 0.265767, 0.263143, 0.26052, 0.257897, 0.255274, 0.252651, 0.250028, 0.247406, 0.244784, 0.242162, -0.038274, -0.0407275, -0.0431828, -0.0456396, -0.0480974, -0.050556, -0.0530151, -0.0554745, -0.0579342, -0.0603941, -0.0628539, -0.0653138, -0.0677736, -0.0702333, -0.0726929, -0.0751523, -0.0776115, -0.0800706, -0.0825295, -0.0849882, -0.0874466, -0.0899049, 0.185451, 0.182822, 0.180194, 0.177565, 0.174937, 0.172309, 0.169682, 0.167054, 0.164427, 0.1618, 0.159173, 0.156547, 0.15392, 0.151295, 0.148669, 0.146043, -0.134396, -0.136851, -0.139305, -0.141758, -0.144212, -0.146665, -0.149118, -0.151571, -0.154024, -0.156476, -0.158928, -0.16138, -0.163832, -0.166283, -0.168735, -0.171186, -0.173637, -0.176087, -0.178538, -0.180988, -0.183438, -0.185887, -0.188337, -0.190786, -0.193235, -0.195684, -0.198132, -0.200581, -0.203029, -0.205477, -0.207925, -0.210372, -0.212819, -0.215266, -0.217713, -0.22016, -0.222606, -0.225052, -0.227498, -0.229944, -0.232389, -0.234834, -0.237279, -0.239724, -0.242169, -0.244613, -0.247057, -0.249501, -0.251945, -0.254389, -0.256832, -0.259275, -0.261718, -0.264161, -0.266603, -0.269046, -0.271488, -0.27393, -0.276371, -0.278813, -0.281254, -0.283696, -0.286137, -0.288578, -0.291018, -0.293459, -0.295899, -0.29834, -0.30078, -0.30322, -0.30566, -0.3081, -0.31054, -0.312979, -0.315419, -0.317859, -0.320298, -0.322738, -0.325178, -0.327617, -0.330057, -0.332497, -0.334937, -0.337378, -0.339818, -0.342259, -0.3447, -0.347142, -0.349584, -0.352026, -0.354469, -0.356913, -0.359357, -0.361803, -0.364249, -0.366696, -0.369145, -0.371595, -0.374046, -0.376499, -0.378954, -0.38141, -0.38387, -0.386331, -0.388796, -0.391263, -0.393734, -0.396208, -0.398687, -0.40117, -0.403658, -0.406152, -0.408652, -0.411158, -0.413672, -0.416193, -0.418724, -0.421265, -0.423816, -0.426378, -0.428954, -0.431544, -0.434149, -0.436771, -0.439412, -0.441961, -0.444418, -0.446787, -0.449069, -0.451267, -0.453381, -0.455415, -0.457371, -0.45925, -0.461055, -0.462788, -0.464451, -0.466047, -0.467577, -0.469044, -0.47045, -0.471796, -0.473086, -0.47432, -0.475502, -0.476633, -0.477714, -0.478748, -0.479737, -0.480682, -0.481586, -0.482449, -0.483273, -0.48406, -0.484812, -0.48553, -0.486216, -0.48687, -0.487494, -0.48809, -0.488658, -0.4892, -0.489717, -0.49021, -0.49068, -0.491129, -0.491556, -0.491964, -0.492353, -0.492723, -0.493076, -0.493413, -0.493734, -0.494039, -0.494331, -0.494608, -0.494873, -0.495125, -0.495365, -0.495594, -0.495813, -0.49602, -0.496219, -0.496407, -0.496587, -0.496759, -0.496922, -0.497078, -0.497226, -0.497368, -0.497503, -0.497632, -0.497754, -0.497871, -0.497983, -0.49809, -0.498191, -0.498288, -0.498381, -0.49847, -0.498554, -0.498635, -0.498712, -0.498786, -0.498857, -0.498925, -0.49899, -0.499052, -0.499112, -0.499169, -0.499224, -0.499277, -0.499328, -0.499377, -0.499425, -0.499471, -0.499515, -0.499558, -0.499599, -0.49964, -0.499679, -0.499718, -0.499755, -0.499792, -0.499828, -0.499863, -0.499898, -0.499932, -0.499966, -0.5]}, \"0.60000\": {\"Position (nm)\": [0, 0.2833, 0.5666, 0.8499, 1.1332, 1.4165, 1.6998, 1.9831, 2.2664, 2.5497, 2.833, 3.1163, 3.3996, 3.6829, 3.9662, 4.2495, 4.5328, 4.8161, 5.0994, 5.3827, 5.666, 5.9493, 6.2326, 6.5159, 6.7992, 7.0825, 7.3658, 7.6491, 7.9324, 8.2157, 8.499, 8.7823, 9.0656, 9.3489, 9.6322, 9.9155, 10.1988, 10.4821, 10.7654, 11.0487, 11.332, 11.6153, 11.8986, 12.1819, 12.4652, 12.7485, 13.0318, 13.3151, 13.5984, 13.8817, 14.165, 14.4483, 14.7316, 15.0149, 15.2982, 15.5815, 15.8648, 16.1481, 16.4314, 16.7147, 16.998, 17.2813, 17.5646, 17.8479, 18.1312, 18.4145, 18.6978, 18.9811, 19.2644, 19.5477, 19.831, 20.1143, 20.3976, 20.6809, 20.9642, 21.2475, 21.5308, 21.8141, 22.0974, 22.3807, 22.664, 22.9473, 23.2306, 23.5139, 23.7972, 24.0805, 24.3638, 24.6471, 24.9304, 25.2137, 25.497, 25.7803, 26.0636, 26.3469, 26.6302, 26.9135, 27.1968, 27.4801, 27.7634, 28.0467, 28.33, 28.6133, 28.8966, 29.1799, 29.4632, 29.7465, 30.0298, 30.3131, 30.5964, 30.8797, 31.163, 31.4463, 31.7296, 32.0129, 32.2962, 32.5795, 32.8628, 33.1461, 33.4294, 33.7127, 33.996, 34.2793, 34.5626, 34.8459, 35.1292, 35.4125, 35.6958, 35.9791, 36.2624, 36.5457, 36.829, 37.1123, 37.3956, 37.6789, 37.9622, 38.2455, 38.5288, 38.8121, 39.0954, 39.3787, 39.662, 39.9453, 40.2286, 40.5119, 40.7952, 41.0785, 41.3618, 41.6451, 41.9284, 42.2117, 42.495, 42.7783, 43.0616, 43.3449, 43.6282, 43.9115, 44.1948, 44.4781, 44.7614, 45.0447, 45.328, 45.6113, 45.8946, 46.1779, 46.4612, 46.7445, 47.0278, 47.3111, 47.5944, 47.8777, 48.161, 48.4443, 48.7276, 49.0109, 49.2942, 49.5775, 49.8608, 50.1441, 50.4274, 50.7107, 50.994, 51.2773, 51.5606, 51.8439, 52.1272, 52.4105, 52.6938, 52.9771, 53.2604, 53.5437, 53.827, 54.1103, 54.3936, 54.6769, 54.9602, 55.2435, 55.5268, 55.8101, 56.0934, 56.3767, 56.66, 56.9433, 57.2266, 57.5099, 57.7932, 58.0765, 58.3598, 58.6431, 58.9264, 59.2097, 59.493, 59.7763, 60.0596, 60.3429, 60.6262, 60.9095, 61.1928, 61.4761, 61.7594, 62.0427, 62.326, 62.6093, 62.8926, 63.1759, 63.4592, 63.7425, 64.0258, 64.3091, 64.5924, 64.8757, 65.159, 65.4423, 65.7256, 66.0089, 66.2922, 66.5755, 66.8588, 67.1421, 67.4254, 67.7087, 67.992, 68.2753, 68.5586, 68.8419, 69.1252, 69.4085, 69.6918, 69.9751, 70.2584, 70.5417, 70.825, 71.1083, 71.3916, 71.6749, 71.9582, 72.2415, 72.5248, 72.8081, 73.0914, 73.3747, 73.658, 73.9413, 74.2246, 74.5079, 74.7912, 75.0745, 75.3578, 75.6411, 75.9244, 76.2077, 76.491, 76.7743, 77.0576, 77.3409, 77.6242, 77.9075, 78.1908, 78.4741, 78.7574, 79.0407, 79.324, 79.6073, 79.8906, 80.1739, 80.4572, 80.7405, 81.0238, 81.3071, 81.5904, 81.8737, 82.157, 82.4403, 82.7236, 83.0069, 83.2902, 83.5735, 83.8568, 84.1401, 84.4234, 84.7067, 84.99, 85.2733, 85.5566, 85.8399, 86.1232, 86.4065, 86.6898, 86.9731, 87.2564, 87.5397, 87.823, 88.1063, 88.3896, 88.6729, 88.9562, 89.2395, 89.5228, 89.8061, 90.0894, 90.3727, 90.656, 90.9393, 91.2226, 91.5059, 91.7892, 92.0725, 92.3558, 92.6391, 92.9224, 93.2057, 93.489, 93.7723, 94.0556, 94.3389, 94.6222, 94.9055, 95.1888, 95.4721, 95.7554, 96.0387, 96.322, 96.6053, 96.8886, 97.1719, 97.4552, 97.7385, 98.0218, 98.3051, 98.5884, 98.8717, 99.155, 99.4383, 99.7216, 100.005, 100.288, 100.572, 100.855, 101.138, 101.421, 101.705, 101.988, 102.271, 102.555, 102.838, 103.121, 103.404, 103.688, 103.971, 104.254, 104.538, 104.821, 105.104, 105.388, 105.671, 105.954, 106.237, 106.521, 106.804, 107.087, 107.371, 107.654, 107.937, 108.221, 108.504, 108.787, 109.07, 109.354, 109.637, 109.92, 110.204, 110.487, 110.77, 111.054, 111.337, 111.62, 111.903, 112.187, 112.47, 112.753, 113.037, 113.32, 113.603, 113.887, 114.17, 114.453, 114.736, 115.02, 115.303, 115.586, 115.87, 116.153, 116.436, 116.72, 117.003, 117.286, 117.57, 117.853, 118.136, 118.419, 118.703, 118.986, 119.269, 119.553, 119.836, 120.119, 120.403, 120.686, 120.969, 121.252, 121.536, 121.819, 122.102, 122.386, 122.669, 122.952, 123.236, 123.519, 123.802, 124.085, 124.369, 124.652, 124.935, 125.219, 125.502, 125.785, 126.069, 126.352, 126.635, 126.918, 127.202, 127.485, 127.768, 128.052, 128.335, 128.618, 128.901, 129.185, 129.468, 129.751, 130.035, 130.318, 130.601, 130.885, 131.168, 131.451, 131.734, 132.018, 132.301, 132.584, 132.868, 133.151, 133.434, 133.718, 134.001, 134.284, 134.567, 134.851, 135.134, 135.417, 135.701, 135.984, 136.267, 136.551, 136.834, 137.117, 137.4, 137.684, 137.967, 138.25, 138.534, 138.817, 139.1, 139.384, 139.667, 139.95, 140.233, 140.517, 140.8, 141.083, 141.367, 141.65, 141.933, 142.217, 142.5, 142.783, 143.066, 143.35, 143.633, 143.916, 144.2, 144.483, 144.766, 145.05, 145.333], \"Energy (eV)\": [0, 1.3657e-05, 2.7545e-05, 4.16983e-05, 5.61518e-05, 7.09413e-05, 8.61034e-05, 0.000101675, 0.000117696, 0.000134204, 0.000151242, 0.00016885, 0.000187072, 0.000205954, 0.000225542, 0.000245883, 0.000267029, 0.000289032, 0.000311945, 0.000335825, 0.000360731, 0.000386724, 0.000413869, 0.000442231, 0.000471882, 0.000502892, 0.00053534, 0.000569304, 0.000604868, 0.00064212, 0.00068115, 0.000722054, 0.000764933, 0.000809891, 0.000857039, 0.000906492, 0.000958371, 0.0010128, 0.00106992, 0.00112986, 0.00119277, 0.00125881, 0.00132813, 0.00140091, 0.00147731, 0.00155754, 0.00164177, 0.00173021, 0.00182309, 0.00192062, 0.00202303, 0.00213058, 0.00224352, 0.00236213, 0.00248669, 0.00261749, 0.00275486, 0.00289911, 0.0030506, 0.00320968, 0.00337673, 0.00355214, 0.00373633, 0.00392974, 0.00413281, 0.00434603, 0.00456989, 0.00480491, 0.00505164, 0.00531065, 0.00558254, 0.00586793, 0.00616747, 0.00648185, 0.00681179, 0.00715802, 0.00752132, 0.00790251, 0.00830243, 0.00872197, 0.00916205, 0.00962363, 0.0101077, 0.0106153, 0.0111476, 0.0117056, 0.0122905, 0.0129036, 0.0135461, 0.0142194, 0.0149247, 0.0156635, 0.0164372, 0.0172475, 0.0180957, 0.0189836, 0.0199128, 0.020885, 0.0219019, 0.0229654, 0.0240774, 0.0252396, 0.0264541, 0.0277229, 0.0290479, 0.0304312, 0.031875, 0.0332684, 0.0346136, 0.0359123, 0.0371662, 0.0383771, 0.0395464, 0.0406757, 0.0417661, 0.0428191, 0.0438358, 0.0448173, 0.0457648, 0.0466792, 0.0475614, 0.0484123, 0.0492328, 0.0500237, 0.0507857, 0.0515195, 0.0522258, 0.0529052, 0.0535583, 0.0541857, 0.0547879, 0.0553653, 0.0559185, 0.0564479, 0.056954, 0.057437, 0.0578974, 0.0583355, 0.0587517, 0.0591462, 0.0595194, 0.0598715, 0.0602028, 0.0605135, 0.0608037, 0.0610738, 0.061324, 0.0615542, 0.0617648, 0.0619559, 0.0621276, 0.06228, 0.0624132, 0.0625273, 0.0626223, 0.0626985, 0.0627557, 0.062794, 0.0628135, 0.0628141, 0.0627959, 0.0627588, 0.0627029, 0.0626281, 0.0625343, 0.0624215, 0.0622896, 0.0621385, 0.0619681, 0.0617783, 0.061569, 0.0613401, 0.0610913, 0.0608226, 0.0605337, 0.0602244, 0.0598945, 0.0595438, 0.0591721, 0.058779, 0.0583643, 0.0579276, 0.0574687, 0.0569872, 0.0564828, 0.055955, 0.0554034, 0.0548276, 0.0542271, 0.0536015, 0.0529501, 0.0522725, 0.051568, 0.0508361, 0.050076, 0.0492871, 0.0484686, 0.0476197, 0.0467396, 0.0458275, 0.0448823, 0.0439031, 0.0428888, 0.0418383, 0.0407504, 0.0396238, 0.0384573, 0.0372492, 0.0359982, 0.0347026, 0.0333607, 0.0319705, 0.0305302, 0.0290377, 0.0274906, 0.0258866, 0.0242231, 0.0224973, 0.0207064, 0.018847, 0.0169158, 0.0149093, 0.0128233, 0.0106538, 0.00839618, 0.00604555, 0.00359666, 0.00104382, -0.00161907, -0.00439864, 0.270497, 0.267391, 0.264286, 0.261182, 0.258077, 0.254973, 0.251869, 0.248765, 0.245662, 0.242558, 0.239455, 0.236352, 0.23325, 0.230147, 0.227045, 0.223944, -0.0569569, -0.0598582, -0.0627605, -0.0656635, -0.0685669, -0.0714706, -0.0743745, -0.0772783, -0.0801822, -0.083086, -0.0859896, -0.0888932, -0.0917965, -0.0946997, -0.0976026, -0.100505, -0.103408, -0.10631, -0.109212, -0.112114, -0.115016, -0.117917, 0.15698, 0.153877, 0.150775, 0.147672, 0.14457, 0.141468, 0.138366, 0.135265, 0.132164, 0.129063, 0.125962, 0.122861, 0.119761, 0.116661, 0.113561, 0.110462, -0.170436, -0.173334, -0.176231, -0.179128, -0.182025, -0.184921, -0.187817, -0.190713, -0.193609, -0.196505, -0.1994, -0.202295, -0.20519, -0.208085, -0.210979, -0.213873, -0.216767, -0.219661, -0.222555, -0.225448, -0.228341, -0.231234, -0.234127, -0.237019, -0.239911, -0.242803, -0.245695, -0.248586, -0.251478, -0.254369, -0.25726, -0.26015, -0.263041, -0.265931, -0.268821, -0.27171, -0.2746, -0.277489, -0.280378, -0.283267, -0.286156, -0.289044, -0.291932, -0.29482, -0.297708, -0.300595, -0.303482, -0.306369, -0.309256, -0.312143, -0.315029, -0.317915, -0.320801, -0.323687, -0.326572, -0.329457, -0.332342, -0.335227, -0.338112, -0.340996, -0.34388, -0.346764, -0.349648, -0.352531, -0.355415, -0.358298, -0.361181, -0.364063, -0.366946, -0.369828, -0.37271, -0.375592, -0.378474, -0.381356, -0.384237, -0.387118, -0.389999, -0.39288, -0.395761, -0.398642, -0.401522, -0.404402, -0.407283, -0.410163, -0.413043, -0.415923, -0.418803, -0.421683, -0.424563, -0.427443, -0.430324, -0.433204, -0.436085, -0.438965, -0.441846, -0.444728, -0.447609, -0.450491, -0.453374, -0.456257, -0.459141, -0.462026, -0.464912, -0.467799, -0.470687, -0.473577, -0.476468, -0.479361, -0.482256, -0.485154, -0.488054, -0.490957, -0.493863, -0.496773, -0.499687, -0.502607, -0.505531, -0.508461, -0.511398, -0.514342, -0.517295, -0.520257, -0.523229, -0.526212, -0.529209, -0.532106, -0.534907, -0.537612, -0.540224, -0.542744, -0.545173, -0.547515, -0.54977, -0.551941, -0.55403, -0.55604, -0.557971, -0.559827, -0.561609, -0.56332, -0.564962, -0.566537, -0.568047, -0.569495, -0.570881, -0.57221, -0.573482, -0.5747, -0.575866, -0.576981, -0.578047, -0.579067, -0.580042, -0.580974, -0.581865, -0.582716, -0.583528, -0.584305, -0.585046, -0.585754, -0.586429, -0.587074, -0.587689, -0.588276, -0.588837, -0.589371, -0.589881, -0.590367, -0.59083, -0.591272, -0.591694, -0.592096, -0.592479, -0.592844, -0.593193, -0.593525, -0.593841, -0.594143, -0.59443, -0.594704, -0.594965, -0.595214, -0.595451, -0.595678, -0.595893, -0.596099, -0.596294, -0.596481, -0.596659, -0.596829, -0.596991, -0.597145, -0.597292, -0.597433, -0.597567, -0.597695, -0.597817, -0.597933, -0.598045, -0.598151, -0.598253, -0.59835, -0.598443, -0.598532, -0.598617, -0.598698, -0.598777, -0.598851, -0.598923, -0.598993, -0.599059, -0.599123, -0.599184, -0.599244, -0.599301, -0.599356, -0.59941, -0.599462, -0.599512, -0.599561, -0.599609, -0.599656, -0.599701, -0.599746, -0.59979, -0.599833, -0.599875, -0.599917, -0.599959, -0.6]}}}",
       "encoder": "text",
       "name": "Band",
       "version": 1
      }
     },
     "metadata": {
      "scrapbook": {
       "data": true,
       "display": false,
       "name": "Band"
      }
     },
     "output_type": "display_data"
    },
    {
     "ename": "KeyError",
     "evalue": "0",
     "output_type": "error",
     "traceback": [
      "\u001b[0;31m---------------------------------------------------------------------------\u001b[0m",
      "\u001b[0;31mKeyError\u001b[0m                                  Traceback (most recent call last)",
      "\u001b[0;32m<ipython-input-23-95bd8636f878>\u001b[0m in \u001b[0;36m<module>\u001b[0;34m\u001b[0m\n\u001b[1;32m      9\u001b[0m \u001b[0;34m\u001b[0m\u001b[0m\n\u001b[1;32m     10\u001b[0m \u001b[0;34m\u001b[0m\u001b[0m\n\u001b[0;32m---> 11\u001b[0;31m \u001b[0mIVdata_dict\u001b[0m \u001b[0;34m=\u001b[0m \u001b[0;34m{\u001b[0m\u001b[0;34m'x'\u001b[0m\u001b[0;34m:\u001b[0m \u001b[0mIVdata\u001b[0m\u001b[0;34m[\u001b[0m\u001b[0;36m0\u001b[0m\u001b[0;34m]\u001b[0m\u001b[0;34m,\u001b[0m \u001b[0;34m'y'\u001b[0m\u001b[0;34m:\u001b[0m \u001b[0mIVdata\u001b[0m\u001b[0;34m[\u001b[0m\u001b[0;36m1\u001b[0m\u001b[0;34m]\u001b[0m\u001b[0;34m}\u001b[0m \u001b[0;31m# Wont be used in final deployment\u001b[0m\u001b[0;34m\u001b[0m\u001b[0;34m\u001b[0m\u001b[0m\n\u001b[0m\u001b[1;32m     12\u001b[0m \u001b[0mdb\u001b[0m\u001b[0;34m.\u001b[0m\u001b[0msave\u001b[0m\u001b[0;34m(\u001b[0m\u001b[0;34m'IV'\u001b[0m\u001b[0;34m,\u001b[0m \u001b[0mIVdata\u001b[0m\u001b[0;34m)\u001b[0m\u001b[0;34m\u001b[0m\u001b[0;34m\u001b[0m\u001b[0m\n",
      "\u001b[0;31mKeyError\u001b[0m: 0"
     ]
    }
   ],
   "source": [
    "# This generates all the outputs and stores them to the data base\n",
    "# It uses the file names that will be generated by NEMO1D by default \n",
    "\n",
    "IVdata = read_data_from_json_file(IV_file)\n",
    "\n",
    "banddata = read_data_from_json_file(\"/home/toro0/NEMO1D-RTD/simtool/test_AlGaAs_TFQ_Cgam.nd_bnd\")\n",
    "\n",
    "db.save('Band', banddata)\n",
    "\n",
    "\n",
    "IVdata_dict = {'x': IVdata[0], 'y': IVdata[1]} # Wont be used in final deployment \n",
    "db.save('IV', IVdata)"
   ]
  },
  {
   "cell_type": "code",
   "execution_count": null,
   "id": "440e6084",
   "metadata": {
    "papermill": {
     "duration": null,
     "end_time": null,
     "exception": null,
     "start_time": null,
     "status": "pending"
    },
    "tags": []
   },
   "outputs": [],
   "source": [
    "# This cell is being used to test nothing will be transfered to final version \n",
    "\n",
    "import numpy as np\n",
    "import plotly.graph_objects as go\n",
    "from ipywidgets import widgets, VBox, HBox, Tab, Layout, Button, ButtonStyle\n",
    "from IPython.display import display, clear_output\n",
    "import copy\n",
    "\n",
    "# Template for the plots\n",
    "layout_template = {\n",
    "    'title': {\n",
    "        'font': {\n",
    "            'family': 'Courier New, monospace',\n",
    "            'size': 12,\n",
    "            'color': 'Black'\n",
    "        }      \n",
    "    },\n",
    "    'margin': {\n",
    "        't': 80,\n",
    "        'b': 80,\n",
    "        'r': 100,\n",
    "        'l': 100\n",
    "    },\n",
    "    'showlegend': True,\n",
    "    'font': {\n",
    "        'family': 'Courier New, monospace',\n",
    "        'size': 24,\n",
    "        'color': 'Black'\n",
    "    },\n",
    "    'yaxis': {   \n",
    "         'title': \"\"\n",
    "    },\n",
    "    'xaxis': {\n",
    "        'title': \"\"\n",
    "    },\n",
    "    'legend': {\n",
    "        'orientation': 'h',\n",
    "        'yanchor': 'bottom',\n",
    "        'y': 1.0,\n",
    "        'xanchor': 'right',\n",
    "        'x': 1\n",
    "    },\n",
    "    'template': 'presentation'\n",
    "}\n",
    "\n",
    "def update_plot(text_values):\n",
    "    \"\"\"Function to update the plot dynamically based on text box inputs.\"\"\"\n",
    "    x = [1, 2, 3]  # x-coordinates\n",
    "    y = [1, 2, 3]  # y-coordinates\n",
    "\n",
    "    # Clear previous output\n",
    "    clear_output(wait=True)\n",
    "\n",
    "    # Create the figure\n",
    "    fig = go.Figure()\n",
    "\n",
    "    # Add horizontal lines and text annotations based on text box values\n",
    "    for xi, yi, text in zip(x, y, text_values):\n",
    "        fig.add_trace(go.Scatter(\n",
    "            x=[xi - 0.5, xi + 0.5],\n",
    "            y=[yi, yi],\n",
    "            mode='lines',\n",
    "            line=dict(color='blue'),\n",
    "            name=f'Line at y={yi}'\n",
    "        ))\n",
    "        fig.add_trace(go.Scatter(\n",
    "            x=[xi],\n",
    "            y=[yi + 0.2],\n",
    "            mode='text',\n",
    "            text=[text],\n",
    "            textposition='top center',\n",
    "            showlegend=False\n",
    "        ))\n",
    "\n",
    "    # Update layout using the template\n",
    "    layout = copy.deepcopy(layout_template)\n",
    "    layout['title']['text'] = \"Discrete Horizontal Lines Plot\"\n",
    "    layout['xaxis']['title'] = \"X-axis\"\n",
    "    layout['yaxis']['title'] = \"Y-axis\"\n",
    "    layout['xaxis'].update(tickmode='array', tickvals=x, range=[0, 4])\n",
    "    layout['yaxis'].update(tickmode='array', tickvals=y, range=[0, 4])\n",
    "    \n",
    "    fig.update_layout(layout)\n",
    "    fig.show()\n",
    "\n",
    "    # Re-display widgets\n",
    "    create_widget()\n",
    "\n",
    "def create_widget():\n",
    "    \"\"\"Function to create widgets for the plot.\"\"\"\n",
    "    # Initial text values for annotations\n",
    "    initial_texts = [f'y={i}' for i in [1, 2, 3]]\n",
    "\n",
    "    # Create text boxes for each line\n",
    "    text_boxes = [widgets.Text(value=text, description=f'Line {i+1}:') for i, text in enumerate(initial_texts)]\n",
    "\n",
    "    # Button to update the plot\n",
    "    update_button = widgets.Button(description=\"Update Plot\")\n",
    "\n",
    "    # Event handler for the button\n",
    "    def on_update_button_click(b):\n",
    "        text_values = [tb.value for tb in text_boxes]\n",
    "        update_plot(text_values)\n",
    "\n",
    "    update_button.on_click(on_update_button_click)\n",
    "\n",
    "    # Arrange widgets in a vertical layout\n",
    "    widget_box = VBox(text_boxes + [update_button])\n",
    "    display(widget_box)\n",
    "\n",
    "# Simulate Button\n",
    "simulate_button = Button(\n",
    "    description=\"Simulate\",\n",
    "    tooltip='Run simulation',\n",
    "    icon='check',\n",
    "    style=ButtonStyle(button_color='lightblue'),\n",
    "    layout=Layout(width='150px')\n",
    ")\n",
    "\n",
    "# Top Tabs\n",
    "top_tabs = Tab(layout=Layout(width='100%', height='300px'))\n",
    "\n",
    "# Define contents of the top tabs\n",
    "basic_tab = VBox([widgets.Label(\"Basic Tab Content\")])\n",
    "multiscale_domains_tab = VBox([widgets.Label(\"Multiscale Domains Content\")])\n",
    "advanced_tab = VBox([widgets.Label(\"Advanced Content\")])\n",
    "resonance_finder_tab = VBox([widgets.Label(\"Resonance Finder Content\")])\n",
    "device_tab = VBox([widgets.Label(\"Device Content\")])\n",
    "\n",
    "top_tabs.children = [basic_tab, multiscale_domains_tab, advanced_tab, resonance_finder_tab, device_tab]\n",
    "top_tabs.set_title(0, \"Basic\")\n",
    "top_tabs.set_title(1, \"Multiscale Domains\")\n",
    "top_tabs.set_title(2, \"Advanced\")\n",
    "top_tabs.set_title(3, \"Resonance Finder\")\n",
    "top_tabs.set_title(4, \"Device\")\n",
    "\n",
    "# Bottom Tabs\n",
    "bottom_tabs = Tab(layout=Layout(width='100%', height='200px'))\n",
    "mole_tab = VBox([widgets.Label(\"Mole Tab Content\")])\n",
    "doping_tab = VBox([widgets.Label(\"Doping Tab Content\")])\n",
    "\n",
    "bottom_tabs.children = [mole_tab, doping_tab]\n",
    "bottom_tabs.set_title(0, \"Mole\")\n",
    "bottom_tabs.set_title(1, \"Doping\")\n",
    "\n",
    "# Main Layout\n",
    "layout = VBox([\n",
    "    simulate_button,\n",
    "    top_tabs,\n",
    "    bottom_tabs\n",
    "], layout=Layout(width='100%', height='700px'))\n",
    "\n",
    "# Display the final layout\n",
    "display(layout)\n",
    "\n",
    "# Initialize plot\n",
    "create_widget()\n",
    "update_plot([\"y=1\", \"y=2\", \"y=3\"])\n",
    "\n"
   ]
  }
 ],
 "metadata": {
  "kernelspec": {
   "display_name": "Python 3.8 (Anaconda 2021.05)",
   "language": "python",
   "name": "anaconda-2021.05-py38"
  },
  "language_info": {
   "codemirror_mode": {
    "name": "ipython",
    "version": 3
   },
   "file_extension": ".py",
   "mimetype": "text/x-python",
   "name": "python",
   "nbconvert_exporter": "python",
   "pygments_lexer": "ipython3",
   "version": "3.8.8"
  },
  "papermill": {
   "default_parameters": {},
   "duration": 6.597402,
   "end_time": "2024-12-18T05:13:46.164202",
   "environment_variables": {},
   "exception": true,
   "input_path": "/home/toro0/NEMO1D-RTD/simtool/nemo1dsim2l.ipynb",
   "output_path": "RUNS/cdd05cc9fdfc4724b35d6da69eca14a4/nemo1dsim2l.ipynb",
   "parameters": {
    "Carrier_Surface_Distrubution_Plot": false,
    "Decay_Length": 0,
    "Device": "2-Barrier-Device",
    "EQ_Region": 0,
    "Ending_Bias": 0,
    "Energy_Band_Model": "Effective Mass Model",
    "Lancos_Iteration_Limit": 0,
    "Lancos_Iteration_Step_Size": 0,
    "Lattice_Constant": 0,
    "Newton_Iteration_Step_Size": 0,
    "Newton_Solver_Convergence_Condition": 0,
    "No_Homogenous_Grid_Points": 0,
    "No_Points_per_EC_EF": 0,
    "No_Points_per_res": 0,
    "Not_Normalized_Current_Plot": false,
    "Potential_model": "Thomas-Fermi",
    "Quantum_charge": false,
    "Resivoir_Relaxation_Energy": 0,
    "Resivoir_Relaxation_Model": "Energy Independant",
    "Resonance_Finder": false,
    "SC_ChargeRegion": 0,
    "Scatter_Plot": false,
    "Starting_bias": 0.0,
    "TEMPERATURE": 300.0,
    "points": 6.0
   },
   "start_time": "2024-12-18T05:13:39.566800",
   "version": "2.6.0"
  },
  "toc": {
   "base_numbering": 1,
   "nav_menu": {},
   "number_sections": true,
   "sideBar": true,
   "skip_h1_title": false,
   "title_cell": "Table of Contents",
   "title_sidebar": "Contents",
   "toc_cell": false,
   "toc_position": {},
   "toc_section_display": true,
   "toc_window_display": false
  },
  "varInspector": {
   "cols": {
    "lenName": 16,
    "lenType": 16,
    "lenVar": 40
   },
   "kernels_config": {
    "python": {
     "delete_cmd_postfix": "",
     "delete_cmd_prefix": "del ",
     "library": "var_list.py",
     "varRefreshCmd": "print(var_dic_list())"
    },
    "r": {
     "delete_cmd_postfix": ") ",
     "delete_cmd_prefix": "rm(",
     "library": "var_list.r",
     "varRefreshCmd": "cat(var_dic_list()) "
    }
   },
   "types_to_exclude": [
    "module",
    "function",
    "builtin_function_or_method",
    "instance",
    "_Feature"
   ],
   "window_display": false
  }
 },
 "nbformat": 4,
 "nbformat_minor": 5
}