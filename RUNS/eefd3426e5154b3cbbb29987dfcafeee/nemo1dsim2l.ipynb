{
 "cells": [
  {
   "cell_type": "markdown",
   "id": "3bfcd077",
   "metadata": {
    "tags": [
     "papermill-error-cell-tag"
    ]
   },
   "source": [
    "<span style=\"color:red; font-family:Helvetica Neue, Helvetica, Arial, sans-serif; font-size:2em;\">An Exception was encountered at '<a href=\"#papermill-error-cell\">In [8]</a>'.</span>"
   ]
  },
  {
   "cell_type": "code",
   "execution_count": 1,
   "id": "971836d2",
   "metadata": {
    "ExecuteTime": {
     "end_time": "2024-12-04T23:03:28.299436Z",
     "start_time": "2024-12-04T23:03:28.297533Z"
    },
    "execution": {
     "iopub.execute_input": "2024-12-17T20:03:41.573421Z",
     "iopub.status.busy": "2024-12-17T20:03:41.573035Z",
     "iopub.status.idle": "2024-12-17T20:03:41.574751Z",
     "shell.execute_reply": "2024-12-17T20:03:41.574370Z"
    },
    "papermill": {
     "duration": 0.009963,
     "end_time": "2024-12-17T20:03:41.574871",
     "exception": false,
     "start_time": "2024-12-17T20:03:41.564908",
     "status": "completed"
    },
    "tags": []
   },
   "outputs": [],
   "source": [
    "################## This code is a sim2l designed to be used with NEMO1d ##################\n",
    "#\n",
    "#  Version 0.0\n"
   ]
  },
  {
   "cell_type": "code",
   "execution_count": 2,
   "id": "a9051b19",
   "metadata": {
    "ExecuteTime": {
     "end_time": "2024-12-04T23:03:28.712574Z",
     "start_time": "2024-12-04T23:03:28.706717Z"
    },
    "execution": {
     "iopub.execute_input": "2024-12-17T20:03:41.587959Z",
     "iopub.status.busy": "2024-12-17T20:03:41.587556Z",
     "iopub.status.idle": "2024-12-17T20:03:43.505326Z",
     "shell.execute_reply": "2024-12-17T20:03:43.504912Z"
    },
    "papermill": {
     "duration": 1.925751,
     "end_time": "2024-12-17T20:03:43.505432",
     "exception": false,
     "start_time": "2024-12-17T20:03:41.579681",
     "status": "completed"
    },
    "tags": []
   },
   "outputs": [
    {
     "name": "stderr",
     "output_type": "stream",
     "text": [
      "/apps/spack/negishi/apps/anaconda/2021.05-py38-gcc-8.5.0-rncymzu/lib/python3.8/site-packages/scipy/__init__.py:138: UserWarning: A NumPy version >=1.16.5 and <1.23.0 is required for this version of SciPy (detected version 1.24.4)\n",
      "  warnings.warn(f\"A NumPy version >={np_minversion} and <{np_maxversion} is required for this version of \"\n"
     ]
    }
   ],
   "source": [
    "import json\n",
    "from simtool import DB\n",
    "import math\n",
    "import simtool as st\n",
    "from hublib.cmd import runCommand  # type: ignore\n",
    "import uuid\n",
    "import os\n",
    "import shutil\n",
    "import nbformat # type: ignore \n",
    "import numpy as np # type: ignore\n",
    "import plotly.graph_objects as go # type: ignore\n",
    "import ipywidgets as w # type: ignore\n",
    "from ipywidgets import HBox, VBox, HTML, Image, Layout, Button, ButtonStyle, Tab, BoundedIntText, BoundedFloatText, Dropdown, ToggleButton, Output, Textarea, FloatLogSlider # type: ignore\n",
    "%load_ext yamlmagic"
   ]
  },
  {
   "cell_type": "code",
   "execution_count": 3,
   "id": "96a703a4",
   "metadata": {
    "execution": {
     "iopub.execute_input": "2024-12-17T20:03:43.516796Z",
     "iopub.status.busy": "2024-12-17T20:03:43.516417Z",
     "iopub.status.idle": "2024-12-17T20:03:43.518085Z",
     "shell.execute_reply": "2024-12-17T20:03:43.517726Z"
    },
    "papermill": {
     "duration": 0.00805,
     "end_time": "2024-12-17T20:03:43.518174",
     "exception": false,
     "start_time": "2024-12-17T20:03:43.510124",
     "status": "completed"
    },
    "tags": []
   },
   "outputs": [],
   "source": [
    "# Set debug mode: 1 to enable, 0 to disable\n",
    "# Debug mode will enable specific print statements and will only adjust the temperature input \n",
    "\n",
    "debug_mode = 1"
   ]
  },
  {
   "cell_type": "code",
   "execution_count": 4,
   "id": "bdb3501d",
   "metadata": {
    "ExecuteTime": {
     "end_time": "2024-12-04T23:07:46.413257Z",
     "start_time": "2024-12-04T23:07:46.396462Z"
    },
    "code_folding": [],
    "execution": {
     "iopub.execute_input": "2024-12-17T20:03:43.531346Z",
     "iopub.status.busy": "2024-12-17T20:03:43.530849Z",
     "iopub.status.idle": "2024-12-17T20:03:43.544512Z",
     "shell.execute_reply": "2024-12-17T20:03:43.544183Z"
    },
    "papermill": {
     "duration": 0.022365,
     "end_time": "2024-12-17T20:03:43.544602",
     "exception": false,
     "start_time": "2024-12-17T20:03:43.522237",
     "status": "completed"
    },
    "tags": []
   },
   "outputs": [
    {
     "data": {
      "application/javascript": "\n            require(\n                [\n                    \"notebook/js/codecell\",\n                    \"codemirror/mode/yaml/yaml\"\n                ],\n                function(cc){\n                    cc.CodeCell.options_default.highlight_modes.magic_yaml = {\n                        reg: [\"^%%yaml\"]\n                    }\n                }\n            );\n            ",
      "text/plain": [
       "<IPython.core.display.Javascript object>"
      ]
     },
     "metadata": {},
     "output_type": "display_data"
    }
   ],
   "source": [
    "%%yaml INPUTS\n",
    "Energy_Band_Model: # not needed\n",
    "    type: Choice\n",
    "    description: Energy Band Model\n",
    "    options: ['Effective Mass Model', 'Tight-Binding Sp3s* Model', 'Tight-Binding sp3d5s* Model']\n",
    "    value: Effective Mass Model\n",
    "\n",
    "Potential_model:\n",
    "    type: Choice\n",
    "    description: Potential Model\n",
    "    options: ['Thomas-Fermi', 'Hartree']\n",
    "    value: Thomas-Fermi\n",
    "\n",
    "Ending_Bias:\n",
    "    type: Number\n",
    "    description: Ending Bias\n",
    "    max: 1000\n",
    "    min: 0\n",
    "    value: 0\n",
    "\n",
    "Device:\n",
    "    type: Choice\n",
    "    description: Device Type\n",
    "    options: ['1-Barrier-Device', '2-Barrier-Device', '3-Barrier-Device', '6-Barrier-Device']\n",
    "    value: 2-Barrier-Device\n",
    "\n",
    "points:\n",
    "    type: Number\n",
    "    description: No. of Points\n",
    "    max: 100.0\n",
    "    min: 1.0\n",
    "    value: 6\n",
    "\n",
    "Starting_bias:\n",
    "    type: Number\n",
    "    description: Starting Bias\n",
    "    max: 100.0\n",
    "    min: 0.0\n",
    "    value: 0\n",
    "\n",
    "TEMPERATURE:\n",
    "    type: Number\n",
    "    description: Temperature\n",
    "    max: 500.0\n",
    "    min: 77.0\n",
    "\n",
    "\n",
    "SC_ChargeRegion: #min and max any place with regions\n",
    "    type: Number\n",
    "    description: Semiclassical Charge Region dSC (nm)\n",
    "    min: 0\n",
    "    value: 0\n",
    "\n",
    "EQ_Region:\n",
    "    type: Number\n",
    "    description: Equilibrium Region dEQ (nm)\n",
    "    min: 0\n",
    "    value: 0\n",
    "\n",
    "Quantum_charge:\n",
    "    type: Boolean\n",
    "    description: Quantum Charge\n",
    "    value: false\n",
    "\n",
    "Lattice_Constant:\n",
    "    type: Number\n",
    "    description: Lattice Constant (nm)\n",
    "    value: 0.283\n",
    "\n",
    "Not_Normalized_Current_Plot:\n",
    "    type: Boolean\n",
    "    description: Not-Normalized Current Plot\n",
    "    value: false\n",
    "\n",
    "Scatter_Plot:\n",
    "    type: Boolean\n",
    "    description: Scatter Plot\n",
    "    value: false\n",
    "\n",
    "Carrier_Surface_Distrubution_Plot:\n",
    "    type: Boolean\n",
    "    description: Carrier Surface Distribution Plot\n",
    "    value: false\n",
    "\n",
    "Resivoir_Relaxation_Model:\n",
    "    type: Choice\n",
    "    description: Reservoir Relaxation Model\n",
    "    options: ['Energy Independant', 'Exponentialy Damped', 'Lorentzian Damped']\n",
    "    value: Energy Independant\n",
    "\n",
    "Resivoir_Relaxation_Energy:\n",
    "    type: Number\n",
    "    description: Reservoir Relaxation Energy (meV)\n",
    "    min: 0\n",
    "    value: 0\n",
    "\n",
    "Decay_Length:\n",
    "    type: Number\n",
    "    description: Decay Length (meV)\n",
    "    min: 0\n",
    "    value: 0\n",
    "\n",
    "Resonance_Finder:\n",
    "    type: Boolean\n",
    "    description: Resonance Finder\n",
    "    value: false\n",
    "\n",
    "No_Homogenous_Grid_Points:\n",
    "    type: Number\n",
    "    description: No. Homogeneous Grid Points\n",
    "    min: 0\n",
    "    value: 0\n",
    "\n",
    "No_Points_per_res:\n",
    "    type: Number\n",
    "    description: No. Points Per Resonance\n",
    "    min: 0\n",
    "    value: 0\n",
    "\n",
    "No_Points_per_EC_EF:\n",
    "    type: Number\n",
    "    description: No. Points Per EC EF\n",
    "    min: 0\n",
    "    value: 0\n",
    "\n",
    "Lancos_Iteration_Step_Size:\n",
    "    type: Number\n",
    "    description: Lanczos Iteration Step Size (eV)\n",
    "    min: 0\n",
    "    value: 0\n",
    "\n",
    "Lancos_Iteration_Limit:\n",
    "    type: Number\n",
    "    description: Lanczos Iteration Limit\n",
    "    min: 0\n",
    "    value: 0\n",
    "\n",
    "Newton_Iteration_Step_Size:\n",
    "    type: Number\n",
    "    description: Newton Iteration Step Size (eV)\n",
    "    min: 0\n",
    "    value: 0\n",
    "\n",
    "Newton_Solver_Convergence_Condition:\n",
    "    type: Number\n",
    "    description: Newton Solver Convergence Condition (eV)\n",
    "    value: 0\n"
   ]
  },
  {
   "cell_type": "code",
   "execution_count": 5,
   "id": "f1c373e0",
   "metadata": {
    "ExecuteTime": {
     "end_time": "2024-12-04T23:07:47.445380Z",
     "start_time": "2024-12-04T23:07:47.440676Z"
    },
    "code_folding": [],
    "execution": {
     "iopub.execute_input": "2024-12-17T20:03:43.555420Z",
     "iopub.status.busy": "2024-12-17T20:03:43.555054Z",
     "iopub.status.idle": "2024-12-17T20:03:43.556340Z",
     "shell.execute_reply": "2024-12-17T20:03:43.556643Z"
    },
    "papermill": {
     "duration": 0.008039,
     "end_time": "2024-12-17T20:03:43.556743",
     "exception": false,
     "start_time": "2024-12-17T20:03:43.548704",
     "status": "completed"
    },
    "scrolled": true,
    "tags": [
     "parameters"
    ]
   },
   "outputs": [],
   "source": [
    "# From the sim2l library \n",
    "# Ensures that the values passed are within specified range \n",
    "# Uses the default inputs if nothing is passed\n",
    "\n",
    "\n",
    "\n",
    "parameters = st.utils.getValidatedInputs(INPUTS)  #type= ignore \n",
    "\n",
    "\n",
    "if parameters:\n",
    "    globals().update(parameters)\n",
    "\n",
    "#print(parameters)\n",
    "    "
   ]
  },
  {
   "cell_type": "code",
   "execution_count": 6,
   "id": "881cdbd3",
   "metadata": {
    "execution": {
     "iopub.execute_input": "2024-12-17T20:03:43.568521Z",
     "iopub.status.busy": "2024-12-17T20:03:43.568064Z",
     "iopub.status.idle": "2024-12-17T20:03:43.569306Z",
     "shell.execute_reply": "2024-12-17T20:03:43.569625Z"
    },
    "papermill": {
     "duration": 0.008954,
     "end_time": "2024-12-17T20:03:43.569725",
     "exception": false,
     "start_time": "2024-12-17T20:03:43.560771",
     "status": "completed"
    },
    "tags": [
     "injected-parameters"
    ]
   },
   "outputs": [],
   "source": [
    "# Parameters\n",
    "Energy_Band_Model = \"Effective Mass Model\"\n",
    "Potential_model = \"Thomas-Fermi\"\n",
    "Ending_Bias = 0\n",
    "Device = \"2-Barrier-Device\"\n",
    "points = 6.0\n",
    "Starting_bias = 0.0\n",
    "TEMPERATURE = 300.0\n",
    "SC_ChargeRegion = 0\n",
    "EQ_Region = 0\n",
    "Quantum_charge = False\n",
    "Lattice_Constant = 0\n",
    "Not_Normalized_Current_Plot = False\n",
    "Scatter_Plot = False\n",
    "Carrier_Surface_Distrubution_Plot = False\n",
    "Resivoir_Relaxation_Model = \"Energy Independant\"\n",
    "Resivoir_Relaxation_Energy = 0\n",
    "Decay_Length = 0\n",
    "Resonance_Finder = False\n",
    "No_Homogenous_Grid_Points = 0\n",
    "No_Points_per_res = 0\n",
    "No_Points_per_EC_EF = 0\n",
    "Lancos_Iteration_Step_Size = 0\n",
    "Lancos_Iteration_Limit = 0\n",
    "Newton_Iteration_Step_Size = 0\n",
    "Newton_Solver_Convergence_Condition = 0\n"
   ]
  },
  {
   "cell_type": "code",
   "execution_count": null,
   "id": "07bfb72f",
   "metadata": {
    "papermill": {
     "duration": 0.004096,
     "end_time": "2024-12-17T20:03:43.577911",
     "exception": false,
     "start_time": "2024-12-17T20:03:43.573815",
     "status": "completed"
    },
    "tags": []
   },
   "outputs": [],
   "source": []
  },
  {
   "cell_type": "code",
   "execution_count": null,
   "id": "61b5cb3b",
   "metadata": {
    "papermill": {
     "duration": 0.004002,
     "end_time": "2024-12-17T20:03:43.585911",
     "exception": false,
     "start_time": "2024-12-17T20:03:43.581909",
     "status": "completed"
    },
    "tags": []
   },
   "outputs": [],
   "source": [
    "\n",
    "\n"
   ]
  },
  {
   "cell_type": "code",
   "execution_count": 7,
   "id": "51464ce9",
   "metadata": {
    "execution": {
     "iopub.execute_input": "2024-12-17T20:03:43.599354Z",
     "iopub.status.busy": "2024-12-17T20:03:43.598966Z",
     "iopub.status.idle": "2024-12-17T20:03:43.632221Z",
     "shell.execute_reply": "2024-12-17T20:03:43.631826Z"
    },
    "papermill": {
     "duration": 0.042368,
     "end_time": "2024-12-17T20:03:43.632310",
     "exception": false,
     "start_time": "2024-12-17T20:03:43.589942",
     "status": "completed"
    },
    "tags": []
   },
   "outputs": [
    {
     "name": "stdout",
     "output_type": "stream",
     "text": [
      "Found cell with tag 'injected-parameters':\n",
      "# Parameters\n",
      "Energy_Band_Model = \"Effective Mass Model\"\n",
      "Potential_model = \"Thomas-Fermi\"\n",
      "Ending_Bias = 0\n",
      "Device = \"2-Barrier-Device\"\n",
      "points = 6.0\n",
      "Starting_bias = 0.0\n",
      "TEMPERATURE = 300.0\n",
      "SC_ChargeRegion = 0\n",
      "EQ_Region = 0\n",
      "Quantum_charge = False\n",
      "Lattice_Constant = 0\n",
      "Not_Normalized_Current_Plot = False\n",
      "Scatter_Plot = False\n",
      "Carrier_Surface_Distrubution_Plot = False\n",
      "Resivoir_Relaxation_Model = \"Energy Independant\"\n",
      "Resivoir_Relaxation_Energy = 0\n",
      "Decay_Length = 0\n",
      "Resonance_Finder = False\n",
      "No_Homogenous_Grid_Points = 0\n",
      "No_Points_per_res = 0\n",
      "No_Points_per_EC_EF = 0\n",
      "Lancos_Iteration_Step_Size = 0\n",
      "Lancos_Iteration_Limit = 0\n",
      "Newton_Iteration_Step_Size = 0\n",
      "Newton_Solver_Convergence_Condition = 0\n",
      "\n"
     ]
    }
   ],
   "source": [
    "# Takes injected parameters and converts it to a dictionary \n",
    "# looks through the notebook for a cell with tag injected-paramaters\n",
    "# Once found it converts the injected parameters to a dictionary and updates the parameters dictionary\n",
    "\n",
    "def convert_parameters_to_dict(tag):\n",
    "    # Get the current directory\n",
    "    current_directory = os.getcwd()\n",
    "    \n",
    "    # Define the notebook file name\n",
    "    notebook_file = os.path.join(current_directory, 'nemo1dsim2l.ipynb')\n",
    "\n",
    "    # Read the notebook file using nbformat \n",
    "    try:\n",
    "        with open(notebook_file, 'r', encoding='utf-8') as f:\n",
    "            notebook = nbformat.read(f, as_version=4)\n",
    "    except Exception as e:\n",
    "        print(f\"Error reading notebook file: {e}\")\n",
    "        return {}\n",
    "\n",
    "    # Initialize an empty dictionary to hold the parameters\n",
    "    parameters = {}\n",
    "\n",
    "    # Loop through each cell in the notebook\n",
    "    for cell in notebook.cells:\n",
    "        # Check if the cell has metadata and tags field\n",
    "        if 'metadata' in cell and 'tags' in cell.metadata:\n",
    "            # If the tag is in the cell's metadata, process the content\n",
    "            if tag in cell.metadata['tags']:\n",
    "                print(f\"Found cell with tag '{tag}':\")\n",
    "                print(cell.source)  # Print the content of the cell for debugging\n",
    "                \n",
    "                # Extract the content of the cell\n",
    "                cell_content = cell.source\n",
    "                \n",
    "                # Split the content into lines and parse each line\n",
    "                for line in cell_content.split('\\n'):\n",
    "                    if '=' in line:\n",
    "                        # Split each line into variable name and value\n",
    "                        var_name, var_value = line.split('=', 1)\n",
    "                        var_name = var_name.strip()\n",
    "                        var_value = var_value.strip()\n",
    "                        \n",
    "                        # Attempt to parse the value as an integer, float, or boolean\n",
    "                        if var_value.lower() in ['true', 'false']:\n",
    "                            parameters[var_name] = var_value.lower() == 'true'\n",
    "                        elif var_value.replace('.', '', 1).isdigit():  # Check if it's a float\n",
    "                            parameters[var_name] = float(var_value)\n",
    "                        else:\n",
    "                            parameters[var_name] = var_value.strip('\"')  # Remove quotes for strings\n",
    "\n",
    "    return parameters\n",
    "parameters = convert_parameters_to_dict('injected-parameters')\n"
   ]
  },
  {
   "cell_type": "markdown",
   "id": "a8ef9648",
   "metadata": {
    "tags": [
     "papermill-error-cell-tag"
    ]
   },
   "source": [
    "<span id=\"papermill-error-cell\" style=\"color:red; font-family:Helvetica Neue, Helvetica, Arial, sans-serif; font-size:2em;\">Execution using papermill encountered an exception here and stopped:</span>"
   ]
  },
  {
   "cell_type": "code",
   "execution_count": 8,
   "id": "4330f342",
   "metadata": {
    "ExecuteTime": {
     "end_time": "2024-12-04T23:07:47.850046Z",
     "start_time": "2024-12-04T23:07:47.843911Z"
    },
    "execution": {
     "iopub.execute_input": "2024-12-17T20:03:43.645078Z",
     "iopub.status.busy": "2024-12-17T20:03:43.644705Z",
     "iopub.status.idle": "2024-12-17T20:03:43.646922Z",
     "shell.execute_reply": "2024-12-17T20:03:43.646283Z"
    },
    "papermill": {
     "duration": 0.009934,
     "end_time": "2024-12-17T20:03:43.647089",
     "exception": true,
     "start_time": "2024-12-17T20:03:43.637155",
     "status": "failed"
    },
    "tags": []
   },
   "outputs": [
    {
     "ename": "SyntaxError",
     "evalue": "invalid syntax (<ipython-input-8-d23ae6903b53>, line 5)",
     "output_type": "error",
     "traceback": [
      "\u001b[0;36m  File \u001b[0;32m\"<ipython-input-8-d23ae6903b53>\"\u001b[0;36m, line \u001b[0;32m5\u001b[0m\n\u001b[0;31m    NEMO1D Input Deck:\u001b[0m\n\u001b[0m           ^\u001b[0m\n\u001b[0;31mSyntaxError\u001b[0m\u001b[0;31m:\u001b[0m invalid syntax\n"
     ]
    }
   ],
   "source": [
    "\n",
    "\n",
    "%%yaml OUTPUTS\n",
    "\n",
    "NEMO1D Input Deck:\n",
    "    type: File    \n",
    "    description : NEMO1D Input Deck\n",
    "IV:\n",
    "    type : Dict\n",
    "    description : IV output file\n",
    "Band:\n",
    "    type: Dict\n",
    "    description: Test\n",
    "    "
   ]
  },
  {
   "cell_type": "code",
   "execution_count": null,
   "id": "fa44ea23",
   "metadata": {
    "ExecuteTime": {
     "end_time": "2024-12-04T23:07:48.211596Z",
     "start_time": "2024-12-04T23:07:48.204095Z"
    },
    "papermill": {
     "duration": null,
     "end_time": null,
     "exception": null,
     "start_time": null,
     "status": "pending"
    },
    "tags": []
   },
   "outputs": [],
   "source": [
    "# Creates the data base for the outputs \n",
    "# Creates a unique identifer for each newinput deck\n",
    "\n",
    "db = DB(OUTPUTS)  #type: ignore\n",
    "\n",
    "\n",
    "Newinputdeck= str(uuid.uuid4().hex)"
   ]
  },
  {
   "cell_type": "code",
   "execution_count": null,
   "id": "3ab0fa0d",
   "metadata": {
    "papermill": {
     "duration": null,
     "end_time": null,
     "exception": null,
     "start_time": null,
     "status": "pending"
    },
    "tags": []
   },
   "outputs": [],
   "source": [
    "# Path to Material File and Input Deck\n",
    "# Needed for current implementation\n",
    "# In the future may need to have these in a local directory where the tool is hosted\n",
    "\n",
    "testfile = '/home/toro0/NEMO1D-RTD/simtool/test.nem'\n",
    "material_file = '/home/toro0/NEMO1D-RTD/simtool/GaAs.mat'\n",
    "band_file =  '/home/toro0/NEMO1D-RTD/simtool/test_AlGaAs_TFQ_Cgam.nd_bnd'\n",
    "\n",
    "\n",
    "if debug_mode == 1:\n",
    "    print(\"Debug Mode Active\")\n",
    "\n",
    "print(\"Parameters before input deck creation:\", parameters)"
   ]
  },
  {
   "cell_type": "code",
   "execution_count": null,
   "id": "59fa5715",
   "metadata": {
    "papermill": {
     "duration": null,
     "end_time": null,
     "exception": null,
     "start_time": null,
     "status": "pending"
    },
    "tags": []
   },
   "outputs": [],
   "source": [
    "def copy_Band_file(destination_dir): ### Remove in final iteration\n",
    "  \n",
    "    dest_material_file = os.path.join(destination_dir, os.path.basename(band_file))\n",
    "  \n",
    "    if not os.path.exists(dest_material_file):\n",
    "        shutil.copy2(band_file, dest_material_file)\n",
    "        print(f\"Copied {band_file} to {destination_dir}\")\n",
    "  \n",
    "    else:\n",
    "        print(f\"{band_file} already exists in {destination_dir}\")\n",
    "current_dir = os.getcwd()\n",
    "copy_Band_file(current_dir)"
   ]
  },
  {
   "cell_type": "code",
   "execution_count": null,
   "id": "aadf4fff",
   "metadata": {
    "papermill": {
     "duration": null,
     "end_time": null,
     "exception": null,
     "start_time": null,
     "status": "pending"
    },
    "tags": []
   },
   "outputs": [],
   "source": [
    "# Copies the desired material file to the Directory where the sim2l is run\n",
    "# Takes the destination directory as an input \n",
    "# The material file is defined as a global variable above\n",
    "\n",
    "def copy_material_file(destination_dir):\n",
    "  \n",
    "    dest_material_file = os.path.join(destination_dir, os.path.basename(material_file))\n",
    "  \n",
    "    if not os.path.exists(dest_material_file):\n",
    "        shutil.copy2(material_file, dest_material_file)\n",
    "        print(f\"Copied {material_file} to {destination_dir}\")\n",
    "  \n",
    "    else:\n",
    "        print(f\"{material_file} already exists in {destination_dir}\")"
   ]
  },
  {
   "cell_type": "code",
   "execution_count": null,
   "id": "5531ccb5",
   "metadata": {
    "papermill": {
     "duration": null,
     "end_time": null,
     "exception": null,
     "start_time": null,
     "status": "pending"
    },
    "tags": []
   },
   "outputs": [],
   "source": [
    "# Reads the input deck file given in the argument and reads it \n",
    "\n",
    "def read_input_deck(filepath):\n",
    "    \n",
    "    with open(filepath, 'r') as file:\n",
    "        return file.read()"
   ]
  },
  {
   "cell_type": "code",
   "execution_count": null,
   "id": "5e43fb6f",
   "metadata": {
    "papermill": {
     "duration": null,
     "end_time": null,
     "exception": null,
     "start_time": null,
     "status": "pending"
    },
    "tags": []
   },
   "outputs": [],
   "source": [
    "# Replaces the values from parameters and puts them in the new input deck\n",
    "# Debug mode makes it to wher only temperature is changed \n",
    "# To change the value affected change the key variable\n",
    "\n",
    "debug_mode == 1\n",
    "print(debug_mode)\n",
    "def replace_placeholders(content, parameters):\n",
    "    \"\"\n",
    "    if debug_mode == 1:\n",
    "        # Only replace the TEMPERATURE placeholder\n",
    "        key = \"TEMPERATURE\"\n",
    "        if key in parameters:\n",
    "            content = content.replace(key, str(parameters[key]))\n",
    "            print(f\"Replacing {key} with {parameters[key]}\")\n",
    "    else:\n",
    "        # Replace all placeholders\n",
    "        for key, value in parameters.items():\n",
    "            content = content.replace(key, str(value))\n",
    "            print(f\"Replacing {key} with {value}\")\n",
    "    return content"
   ]
  },
  {
   "cell_type": "code",
   "execution_count": null,
   "id": "19fe286f",
   "metadata": {
    "papermill": {
     "duration": null,
     "end_time": null,
     "exception": null,
     "start_time": null,
     "status": "pending"
    },
    "tags": []
   },
   "outputs": [],
   "source": [
    "# Writes the new input deck with the values from the dictionary\n",
    "# Takes the new paraamters new_content and output file name as arguments \n",
    "# Returns the input deck with injected parameters\n",
    "\n",
    "def write_new_input_deck(new_content, output_filename):\n",
    "    with open(output_filename, 'w') as file:\n",
    "        file.write(new_content)\n",
    "    print(f\"New input deck written to {output_filename}\")\n",
    "    return output_filename"
   ]
  },
  {
   "cell_type": "code",
   "execution_count": null,
   "id": "4d8d39d0",
   "metadata": {
    "papermill": {
     "duration": null,
     "end_time": null,
     "exception": null,
     "start_time": null,
     "status": "pending"
    },
    "tags": []
   },
   "outputs": [],
   "source": [
    "# Copies all the required files and returns a new input deck \n",
    "# This function combines other functions to generate a new input deck based on the injected parameters\n",
    "# Returns the new input deck\n",
    "\n",
    "def inputdeckCreator():\n",
    " \n",
    "    current_dir = os.getcwd()\n",
    "\n",
    "    copy_material_file(current_dir)\n",
    "\n",
    "    content = read_input_deck(testfile)\n",
    "\n",
    "    updated_content = replace_placeholders(content, parameters)\n",
    "    \n",
    "    new_input_deck_filename = 'new_input_deck.nem'\n",
    "\n",
    "    write_new_input_deck(updated_content, new_input_deck_filename)\n",
    "\n",
    "    if debug_mode == 1:\n",
    "        print(f\"Debug mode: Simulating with input deck {new_input_deck_filename}\")\n",
    "\n",
    "    return new_input_deck_filename\n"
   ]
  },
  {
   "cell_type": "code",
   "execution_count": null,
   "id": "40d6588d",
   "metadata": {
    "papermill": {
     "duration": null,
     "end_time": null,
     "exception": null,
     "start_time": null,
     "status": "pending"
    },
    "tags": []
   },
   "outputs": [],
   "source": [
    "# Delete later this is a test\n",
    "# \n",
    "\n",
    "\n",
    "def generate_bjt_bandstructure_with_bands(filename):\n",
    "    # Generate synthetic data for BJT bandstructure\n",
    "    # x_values could represent the wave vector (k) ranging from -pi to pi\n",
    "    x_values = np.linspace(-np.pi, np.pi, 100)\n",
    "    \n",
    "    # Valence band (parabolic, lower energy)\n",
    "    y_values_valence = -0.1 * x_values**2 + 0.5  # Example for valence band (negative curvature)\n",
    "    \n",
    "    # Conduction band (parabolic, higher energy)\n",
    "    y_values_conduction = 0.1 * x_values**2 + 2.0  # Example for conduction band (positive curvature)\n",
    "    \n",
    "    # Fermi level (constant)\n",
    "    fermi_level = 1.5\n",
    "    \n",
    "    # Save the data to a file\n",
    "    with open(filename, 'w') as file:\n",
    "        # Write valence band data\n",
    "        for x, y in zip(x_values, y_values_valence):\n",
    "            file.write(f\"{x} {y} {fermi_level}\\n\")  # Add Fermi level for each point\n",
    "        \n",
    "        # Write conduction band data\n",
    "        for x, y in zip(x_values, y_values_conduction):\n",
    "            file.write(f\"{x} {y} {fermi_level}\\n\")  # Add Fermi level for each point\n",
    "\n",
    "    print(f\"Data saved to {filename}\")"
   ]
  },
  {
   "cell_type": "code",
   "execution_count": null,
   "id": "b730172a",
   "metadata": {
    "papermill": {
     "duration": null,
     "end_time": null,
     "exception": null,
     "start_time": null,
     "status": "pending"
    },
    "tags": []
   },
   "outputs": [],
   "source": [
    "\n",
    "# Reads a JSON File output from NEMO1D\n",
    "# Returns a Dictionary containing the data\n",
    "\n",
    "def read_data_from_json_file(filename):\n",
    " \n",
    "\n",
    "    with open(filename, 'r') as file:\n",
    "        # Read the entire content of the file\n",
    "        content = file.read()\n",
    "    \n",
    "    # Parse the content using json.loads (expects valid JSON format)\n",
    "    try:\n",
    "        data = json.loads(content)\n",
    "        print(type(data))\n",
    "        return data\n",
    "    except json.JSONDecodeError as e:\n",
    "        print(f\"Error parsing JSON file: {e}\")\n",
    "        return None"
   ]
  },
  {
   "cell_type": "code",
   "execution_count": null,
   "id": "09d65747",
   "metadata": {
    "papermill": {
     "duration": null,
     "end_time": null,
     "exception": null,
     "start_time": null,
     "status": "pending"
    },
    "tags": []
   },
   "outputs": [],
   "source": [
    "# Reads the data for the IV file will potentialy need to be renamed \n",
    "# Will be removed in final deployment \n",
    "# Use the read from JSON function instead\n",
    "\n",
    "def read_data_from_file(filename):\n",
    "    # Initialize lists to store X and Y values\n",
    "    x_values = []\n",
    "    y_values = []\n",
    "\n",
    "    # Read the file line by line\n",
    "    with open(filename, 'r') as file:\n",
    "        for line in file:\n",
    "            # Split each line into X and Y values based on space\n",
    "            parts = line.split()\n",
    "            if len(parts) == 2:\n",
    "                # Convert to float and store in the lists\n",
    "                x_values.append(float(parts[0]))\n",
    "                y_values.append(float(parts[1]))\n",
    "\n",
    "    return tuple(x_values), tuple(y_values)\n"
   ]
  },
  {
   "cell_type": "code",
   "execution_count": null,
   "id": "a941b175",
   "metadata": {
    "papermill": {
     "duration": null,
     "end_time": null,
     "exception": null,
     "start_time": null,
     "status": "pending"
    },
    "tags": []
   },
   "outputs": [],
   "source": [
    "# Delete later\n",
    "# Test that will not be used in final deployment\n",
    "\n",
    "def read_data_from_bjtfile(filename):\n",
    "   \n",
    "    data_dict = {\n",
    "        'x_values': [],\n",
    "        'valence_band': [],\n",
    "        'conduction_band': [],\n",
    "        'fermi_level': []\n",
    "    }\n",
    "\n",
    "    # Read the file line by line\n",
    "    with open(filename, 'r') as file:\n",
    "        for line in file:\n",
    "            # Split each line into X, Y (energy), and Fermi level\n",
    "            parts = line.split()\n",
    "            if len(parts) == 3:\n",
    "                # Append data to the dictionary lists\n",
    "                data_dict['x_values'].append(float(parts[0]))\n",
    "                data_dict['valence_band'].append(float(parts[1]))\n",
    "                data_dict['conduction_band'].append(float(parts[2]))  # Fermi level\n",
    "                data_dict['fermi_level'].append(float(parts[2]))  # Same for both bands\n",
    "    \n",
    "    return data_dict"
   ]
  },
  {
   "cell_type": "code",
   "execution_count": null,
   "id": "dde724ff",
   "metadata": {
    "papermill": {
     "duration": null,
     "end_time": null,
     "exception": null,
     "start_time": null,
     "status": "pending"
    },
    "tags": []
   },
   "outputs": [],
   "source": [
    "# Calls the input deck creator to create the new input deck \n",
    "# Stores the input deck to the database\n",
    "\n",
    "inputdeckCreator()\n",
    "db.save(\"NEMO1D Input Deck\", file='new_input_deck.nem') "
   ]
  },
  {
   "cell_type": "code",
   "execution_count": null,
   "id": "95c1925f",
   "metadata": {
    "papermill": {
     "duration": null,
     "end_time": null,
     "exception": null,
     "start_time": null,
     "status": "pending"
    },
    "tags": []
   },
   "outputs": [],
   "source": [
    "# Runs the simulation Engine  with the new input deck \n",
    "# Will need to replace path wiht directory of binary in final deployment\n",
    "\n",
    "runCommand('/home/toro0/NEMO1D-RTD/simtool/negf new_input_deck.nem')\n"
   ]
  },
  {
   "cell_type": "code",
   "execution_count": null,
   "id": "aeee2d80",
   "metadata": {
    "papermill": {
     "duration": null,
     "end_time": null,
     "exception": null,
     "start_time": null,
     "status": "pending"
    },
    "tags": []
   },
   "outputs": [],
   "source": []
  },
  {
   "cell_type": "code",
   "execution_count": null,
   "id": "d09ebe9f",
   "metadata": {
    "papermill": {
     "duration": null,
     "end_time": null,
     "exception": null,
     "start_time": null,
     "status": "pending"
    },
    "tags": []
   },
   "outputs": [],
   "source": [
    "# This generates all the outputs and stores them to the data base\n",
    "# It uses the file names that will be generated by NEMO1D by default \n",
    "\n",
    "\n",
    "IVdata = read_data_from_json_file(IV_file)\n",
    "banddata = read_data_from_json_file(\"/home/toro0/NEMO1D-RTD/simtool/test_AlGaAs_TFQ_Cgam.nd_bnd\")\n",
    "\n",
    "db.save('Band', banddata)\n",
    "\n",
    "\n",
    "IVdata_dict = {'x': IVdata[0], 'y': IVdata[1]} # Wont be used in final deployment \n",
    "db.save('IV', IVdata)"
   ]
  },
  {
   "cell_type": "code",
   "execution_count": null,
   "id": "440e6084",
   "metadata": {
    "papermill": {
     "duration": null,
     "end_time": null,
     "exception": null,
     "start_time": null,
     "status": "pending"
    },
    "tags": []
   },
   "outputs": [],
   "source": [
    "# This cell is being used to test nothing will be transfered to final version \n",
    "\n",
    "import numpy as np\n",
    "import plotly.graph_objects as go\n",
    "from ipywidgets import widgets, VBox, HBox, Tab, Layout, Button, ButtonStyle\n",
    "from IPython.display import display, clear_output\n",
    "import copy\n",
    "\n",
    "# Template for the plots\n",
    "layout_template = {\n",
    "    'title': {\n",
    "        'font': {\n",
    "            'family': 'Courier New, monospace',\n",
    "            'size': 12,\n",
    "            'color': 'Black'\n",
    "        }      \n",
    "    },\n",
    "    'margin': {\n",
    "        't': 80,\n",
    "        'b': 80,\n",
    "        'r': 100,\n",
    "        'l': 100\n",
    "    },\n",
    "    'showlegend': True,\n",
    "    'font': {\n",
    "        'family': 'Courier New, monospace',\n",
    "        'size': 24,\n",
    "        'color': 'Black'\n",
    "    },\n",
    "    'yaxis': {   \n",
    "         'title': \"\"\n",
    "    },\n",
    "    'xaxis': {\n",
    "        'title': \"\"\n",
    "    },\n",
    "    'legend': {\n",
    "        'orientation': 'h',\n",
    "        'yanchor': 'bottom',\n",
    "        'y': 1.0,\n",
    "        'xanchor': 'right',\n",
    "        'x': 1\n",
    "    },\n",
    "    'template': 'presentation'\n",
    "}\n",
    "\n",
    "def update_plot(text_values):\n",
    "    \"\"\"Function to update the plot dynamically based on text box inputs.\"\"\"\n",
    "    x = [1, 2, 3]  # x-coordinates\n",
    "    y = [1, 2, 3]  # y-coordinates\n",
    "\n",
    "    # Clear previous output\n",
    "    clear_output(wait=True)\n",
    "\n",
    "    # Create the figure\n",
    "    fig = go.Figure()\n",
    "\n",
    "    # Add horizontal lines and text annotations based on text box values\n",
    "    for xi, yi, text in zip(x, y, text_values):\n",
    "        fig.add_trace(go.Scatter(\n",
    "            x=[xi - 0.5, xi + 0.5],\n",
    "            y=[yi, yi],\n",
    "            mode='lines',\n",
    "            line=dict(color='blue'),\n",
    "            name=f'Line at y={yi}'\n",
    "        ))\n",
    "        fig.add_trace(go.Scatter(\n",
    "            x=[xi],\n",
    "            y=[yi + 0.2],\n",
    "            mode='text',\n",
    "            text=[text],\n",
    "            textposition='top center',\n",
    "            showlegend=False\n",
    "        ))\n",
    "\n",
    "    # Update layout using the template\n",
    "    layout = copy.deepcopy(layout_template)\n",
    "    layout['title']['text'] = \"Discrete Horizontal Lines Plot\"\n",
    "    layout['xaxis']['title'] = \"X-axis\"\n",
    "    layout['yaxis']['title'] = \"Y-axis\"\n",
    "    layout['xaxis'].update(tickmode='array', tickvals=x, range=[0, 4])\n",
    "    layout['yaxis'].update(tickmode='array', tickvals=y, range=[0, 4])\n",
    "    \n",
    "    fig.update_layout(layout)\n",
    "    fig.show()\n",
    "\n",
    "    # Re-display widgets\n",
    "    create_widget()\n",
    "\n",
    "def create_widget():\n",
    "    \"\"\"Function to create widgets for the plot.\"\"\"\n",
    "    # Initial text values for annotations\n",
    "    initial_texts = [f'y={i}' for i in [1, 2, 3]]\n",
    "\n",
    "    # Create text boxes for each line\n",
    "    text_boxes = [widgets.Text(value=text, description=f'Line {i+1}:') for i, text in enumerate(initial_texts)]\n",
    "\n",
    "    # Button to update the plot\n",
    "    update_button = widgets.Button(description=\"Update Plot\")\n",
    "\n",
    "    # Event handler for the button\n",
    "    def on_update_button_click(b):\n",
    "        text_values = [tb.value for tb in text_boxes]\n",
    "        update_plot(text_values)\n",
    "\n",
    "    update_button.on_click(on_update_button_click)\n",
    "\n",
    "    # Arrange widgets in a vertical layout\n",
    "    widget_box = VBox(text_boxes + [update_button])\n",
    "    display(widget_box)\n",
    "\n",
    "# Simulate Button\n",
    "simulate_button = Button(\n",
    "    description=\"Simulate\",\n",
    "    tooltip='Run simulation',\n",
    "    icon='check',\n",
    "    style=ButtonStyle(button_color='lightblue'),\n",
    "    layout=Layout(width='150px')\n",
    ")\n",
    "\n",
    "# Top Tabs\n",
    "top_tabs = Tab(layout=Layout(width='100%', height='300px'))\n",
    "\n",
    "# Define contents of the top tabs\n",
    "basic_tab = VBox([widgets.Label(\"Basic Tab Content\")])\n",
    "multiscale_domains_tab = VBox([widgets.Label(\"Multiscale Domains Content\")])\n",
    "advanced_tab = VBox([widgets.Label(\"Advanced Content\")])\n",
    "resonance_finder_tab = VBox([widgets.Label(\"Resonance Finder Content\")])\n",
    "device_tab = VBox([widgets.Label(\"Device Content\")])\n",
    "\n",
    "top_tabs.children = [basic_tab, multiscale_domains_tab, advanced_tab, resonance_finder_tab, device_tab]\n",
    "top_tabs.set_title(0, \"Basic\")\n",
    "top_tabs.set_title(1, \"Multiscale Domains\")\n",
    "top_tabs.set_title(2, \"Advanced\")\n",
    "top_tabs.set_title(3, \"Resonance Finder\")\n",
    "top_tabs.set_title(4, \"Device\")\n",
    "\n",
    "# Bottom Tabs\n",
    "bottom_tabs = Tab(layout=Layout(width='100%', height='200px'))\n",
    "mole_tab = VBox([widgets.Label(\"Mole Tab Content\")])\n",
    "doping_tab = VBox([widgets.Label(\"Doping Tab Content\")])\n",
    "\n",
    "bottom_tabs.children = [mole_tab, doping_tab]\n",
    "bottom_tabs.set_title(0, \"Mole\")\n",
    "bottom_tabs.set_title(1, \"Doping\")\n",
    "\n",
    "# Main Layout\n",
    "layout = VBox([\n",
    "    simulate_button,\n",
    "    top_tabs,\n",
    "    bottom_tabs\n",
    "], layout=Layout(width='100%', height='700px'))\n",
    "\n",
    "# Display the final layout\n",
    "display(layout)\n",
    "\n",
    "# Initialize plot\n",
    "create_widget()\n",
    "update_plot([\"y=1\", \"y=2\", \"y=3\"])\n",
    "\n"
   ]
  }
 ],
 "metadata": {
  "kernelspec": {
   "display_name": "Python 3.8 (Anaconda 2021.05)",
   "language": "python",
   "name": "anaconda-2021.05-py38"
  },
  "language_info": {
   "codemirror_mode": {
    "name": "ipython",
    "version": 3
   },
   "file_extension": ".py",
   "mimetype": "text/x-python",
   "name": "python",
   "nbconvert_exporter": "python",
   "pygments_lexer": "ipython3",
   "version": "3.8.8"
  },
  "papermill": {
   "default_parameters": {},
   "duration": 3.651426,
   "end_time": "2024-12-17T20:03:44.052177",
   "environment_variables": {},
   "exception": true,
   "input_path": "/home/toro0/NEMO1D-RTD/simtool/nemo1dsim2l.ipynb",
   "output_path": "RUNS/eefd3426e5154b3cbbb29987dfcafeee/nemo1dsim2l.ipynb",
   "parameters": {
    "Carrier_Surface_Distrubution_Plot": false,
    "Decay_Length": 0,
    "Device": "2-Barrier-Device",
    "EQ_Region": 0,
    "Ending_Bias": 0,
    "Energy_Band_Model": "Effective Mass Model",
    "Lancos_Iteration_Limit": 0,
    "Lancos_Iteration_Step_Size": 0,
    "Lattice_Constant": 0,
    "Newton_Iteration_Step_Size": 0,
    "Newton_Solver_Convergence_Condition": 0,
    "No_Homogenous_Grid_Points": 0,
    "No_Points_per_EC_EF": 0,
    "No_Points_per_res": 0,
    "Not_Normalized_Current_Plot": false,
    "Potential_model": "Thomas-Fermi",
    "Quantum_charge": false,
    "Resivoir_Relaxation_Energy": 0,
    "Resivoir_Relaxation_Model": "Energy Independant",
    "Resonance_Finder": false,
    "SC_ChargeRegion": 0,
    "Scatter_Plot": false,
    "Starting_bias": 0,
    "TEMPERATURE": 300,
    "points": 6
   },
   "start_time": "2024-12-17T20:03:40.400751",
   "version": "2.6.0"
  },
  "toc": {
   "base_numbering": 1,
   "nav_menu": {},
   "number_sections": true,
   "sideBar": true,
   "skip_h1_title": false,
   "title_cell": "Table of Contents",
   "title_sidebar": "Contents",
   "toc_cell": false,
   "toc_position": {},
   "toc_section_display": true,
   "toc_window_display": false
  },
  "varInspector": {
   "cols": {
    "lenName": 16,
    "lenType": 16,
    "lenVar": 40
   },
   "kernels_config": {
    "python": {
     "delete_cmd_postfix": "",
     "delete_cmd_prefix": "del ",
     "library": "var_list.py",
     "varRefreshCmd": "print(var_dic_list())"
    },
    "r": {
     "delete_cmd_postfix": ") ",
     "delete_cmd_prefix": "rm(",
     "library": "var_list.r",
     "varRefreshCmd": "cat(var_dic_list()) "
    }
   },
   "types_to_exclude": [
    "module",
    "function",
    "builtin_function_or_method",
    "instance",
    "_Feature"
   ],
   "window_display": false
  }
 },
 "nbformat": 4,
 "nbformat_minor": 5
}
